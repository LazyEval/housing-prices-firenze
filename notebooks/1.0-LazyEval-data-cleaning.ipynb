{
 "cells": [
  {
   "cell_type": "code",
   "execution_count": 1,
   "metadata": {},
   "outputs": [],
   "source": [
    "import re\n",
    "import numpy as np\n",
    "import pandas as pd\n",
    "import matplotlib.pyplot as plt\n",
    "import seaborn as sns\n",
    "\n",
    "from sklearn.preprocessing import OrdinalEncoder, StandardScaler\n",
    "from sklearn.impute import KNNImputer\n",
    "\n",
    "pd.set_option('display.max_columns', None)"
   ]
  },
  {
   "cell_type": "code",
   "execution_count": 2,
   "metadata": {},
   "outputs": [],
   "source": [
    "path_interim = '/home/matteo@COPPET/Documents/data_science/projects/housing_prices_firenze/data/interim/'\n",
    "\n",
    "caratteristiche = pd.read_excel(path_interim+'caratteristiche.xlsx')\n",
    "costi = pd.read_excel(path_interim+'costi.xlsx')\n",
    "efficienza_energetica = pd.read_excel(path_interim+'efficienza_energetica.xlsx')"
   ]
  },
  {
   "cell_type": "code",
   "execution_count": 3,
   "metadata": {},
   "outputs": [
    {
     "name": "stdout",
     "output_type": "stream",
     "text": [
      "<class 'pandas.core.frame.DataFrame'>\n",
      "RangeIndex: 9065 entries, 0 to 9064\n",
      "Data columns (total 17 columns):\n",
      " #   Column                                        Non-Null Count  Dtype  \n",
      "---  ------                                        --------------  -----  \n",
      " 0   immobile garantito                            3821 non-null   object \n",
      " 1   riferimento e Data annuncio                   9065 non-null   object \n",
      " 2   contratto                                     9065 non-null   object \n",
      " 3   tipologia                                     9065 non-null   object \n",
      " 4   superficie                                    9057 non-null   object \n",
      " 5   locali                                        9049 non-null   object \n",
      " 6   piano                                         8862 non-null   object \n",
      " 7   totale piani edificio                         8359 non-null   object \n",
      " 8   disponibilità                                 8081 non-null   object \n",
      " 9   Tipo proprietà                                8583 non-null   object \n",
      " 10  altre caratteristiche                         8488 non-null   object \n",
      " 11  Posti Auto                                    2274 non-null   object \n",
      " 12  unità                                         0 non-null      float64\n",
      " 13  Data di inizio lavori e di consegna prevista  0 non-null      float64\n",
      " 14  Dati catastali                                0 non-null      float64\n",
      " 15  indirizzo                                     9065 non-null   object \n",
      " 16  zona                                          9001 non-null   object \n",
      "dtypes: float64(3), object(14)\n",
      "memory usage: 1.2+ MB\n"
     ]
    }
   ],
   "source": [
    "caratteristiche.info()"
   ]
  },
  {
   "cell_type": "code",
   "execution_count": 4,
   "metadata": {},
   "outputs": [
    {
     "name": "stdout",
     "output_type": "stream",
     "text": [
      "<class 'pandas.core.frame.DataFrame'>\n",
      "RangeIndex: 9065 entries, 0 to 9064\n",
      "Data columns (total 13 columns):\n",
      " #   Column                                 Non-Null Count  Dtype  \n",
      "---  ------                                 --------------  -----  \n",
      " 0   prezzo                                 9065 non-null   object \n",
      " 1   informazioni catastali                 5805 non-null   object \n",
      " 2   spese condominio                       5248 non-null   object \n",
      " 3   stato                                  0 non-null      float64\n",
      " 4   certificazione energetica              0 non-null      float64\n",
      " 5   Efficienza energetica                  0 non-null      float64\n",
      " 6   Tipo vendita                           0 non-null      float64\n",
      " 7   data vendita                           0 non-null      float64\n",
      " 8   riscaldamento                          0 non-null      float64\n",
      " 9   anno di costruzione                    0 non-null      float64\n",
      " 10  Prestazione energetica del fabbricato  0 non-null      float64\n",
      " 11  Climatizzazione                        0 non-null      float64\n",
      " 12  Indice prest. energetica rinnovabile   0 non-null      float64\n",
      "dtypes: float64(10), object(3)\n",
      "memory usage: 920.8+ KB\n"
     ]
    }
   ],
   "source": [
    "costi.info()"
   ]
  },
  {
   "cell_type": "code",
   "execution_count": 5,
   "metadata": {},
   "outputs": [
    {
     "name": "stdout",
     "output_type": "stream",
     "text": [
      "<class 'pandas.core.frame.DataFrame'>\n",
      "RangeIndex: 9065 entries, 0 to 9064\n",
      "Data columns (total 15 columns):\n",
      " #   Column                                 Non-Null Count  Dtype  \n",
      "---  ------                                 --------------  -----  \n",
      " 0   anno di costruzione                    6557 non-null   float64\n",
      " 1   stato                                  8803 non-null   object \n",
      " 2   riscaldamento                          8645 non-null   object \n",
      " 3   Climatizzazione                        4950 non-null   object \n",
      " 4   Indice prest. energetica rinnovabile   287 non-null    object \n",
      " 5   Prestazione energetica del fabbricato  594 non-null    object \n",
      " 6   Efficienza energetica                  7809 non-null   object \n",
      " 7   certificazione energetica              1370 non-null   object \n",
      " 8   numero immobili                        0 non-null      float64\n",
      " 9   offerta minima                         0 non-null      float64\n",
      " 10  rialzo minimo                          0 non-null      float64\n",
      " 11  Spesa prenota debito                   0 non-null      float64\n",
      " 12  Contributo non dovuto                  0 non-null      float64\n",
      " 13  Tipo vendita                           0 non-null      float64\n",
      " 14  data vendita                           0 non-null      float64\n",
      "dtypes: float64(8), object(7)\n",
      "memory usage: 1.0+ MB\n"
     ]
    }
   ],
   "source": [
    "efficienza_energetica.info()"
   ]
  },
  {
   "cell_type": "code",
   "execution_count": 6,
   "metadata": {},
   "outputs": [],
   "source": [
    "# Drop NaN columns (based on info above, possible error in scraping)\n",
    "nan_cols = ['unità', 'Data di inizio lavori e di consegna prevista', 'Dati catastali']\n",
    "caratteristiche = caratteristiche.drop(columns=nan_cols)\n",
    "costi = costi.iloc[:, :3]\n",
    "efficienza_energetica = efficienza_energetica.iloc[:, :8]"
   ]
  },
  {
   "cell_type": "markdown",
   "metadata": {},
   "source": [
    "## 1. Data cleaning"
   ]
  },
  {
   "cell_type": "markdown",
   "metadata": {},
   "source": [
    "#### Join all three tables and start looking into the data"
   ]
  },
  {
   "cell_type": "code",
   "execution_count": 7,
   "metadata": {},
   "outputs": [],
   "source": [
    "# Join tables\n",
    "df = caratteristiche.join(costi).join(efficienza_energetica)"
   ]
  },
  {
   "cell_type": "code",
   "execution_count": 8,
   "metadata": {},
   "outputs": [
    {
     "name": "stdout",
     "output_type": "stream",
     "text": [
      "<class 'pandas.core.frame.DataFrame'>\n",
      "RangeIndex: 9065 entries, 0 to 9064\n",
      "Data columns (total 25 columns):\n",
      " #   Column                                 Non-Null Count  Dtype  \n",
      "---  ------                                 --------------  -----  \n",
      " 0   immobile garantito                     3821 non-null   object \n",
      " 1   riferimento e Data annuncio            9065 non-null   object \n",
      " 2   contratto                              9065 non-null   object \n",
      " 3   tipologia                              9065 non-null   object \n",
      " 4   superficie                             9057 non-null   object \n",
      " 5   locali                                 9049 non-null   object \n",
      " 6   piano                                  8862 non-null   object \n",
      " 7   totale piani edificio                  8359 non-null   object \n",
      " 8   disponibilità                          8081 non-null   object \n",
      " 9   Tipo proprietà                         8583 non-null   object \n",
      " 10  altre caratteristiche                  8488 non-null   object \n",
      " 11  Posti Auto                             2274 non-null   object \n",
      " 12  indirizzo                              9065 non-null   object \n",
      " 13  zona                                   9001 non-null   object \n",
      " 14  prezzo                                 9065 non-null   object \n",
      " 15  informazioni catastali                 5805 non-null   object \n",
      " 16  spese condominio                       5248 non-null   object \n",
      " 17  anno di costruzione                    6557 non-null   float64\n",
      " 18  stato                                  8803 non-null   object \n",
      " 19  riscaldamento                          8645 non-null   object \n",
      " 20  Climatizzazione                        4950 non-null   object \n",
      " 21  Indice prest. energetica rinnovabile   287 non-null    object \n",
      " 22  Prestazione energetica del fabbricato  594 non-null    object \n",
      " 23  Efficienza energetica                  7809 non-null   object \n",
      " 24  certificazione energetica              1370 non-null   object \n",
      "dtypes: float64(1), object(24)\n",
      "memory usage: 1.7+ MB\n"
     ]
    }
   ],
   "source": [
    "df.info()"
   ]
  },
  {
   "cell_type": "code",
   "execution_count": 9,
   "metadata": {},
   "outputs": [
    {
     "data": {
      "text/plain": [
       "immobile garantito                       5244\n",
       "riferimento e Data annuncio                 0\n",
       "contratto                                   0\n",
       "tipologia                                   0\n",
       "superficie                                  8\n",
       "locali                                     16\n",
       "piano                                     203\n",
       "totale piani edificio                     706\n",
       "disponibilità                             984\n",
       "Tipo proprietà                            482\n",
       "altre caratteristiche                     577\n",
       "Posti Auto                               6791\n",
       "indirizzo                                   0\n",
       "zona                                       64\n",
       "prezzo                                      0\n",
       "informazioni catastali                   3260\n",
       "spese condominio                         3817\n",
       "anno di costruzione                      2508\n",
       "stato                                     262\n",
       "riscaldamento                             420\n",
       "Climatizzazione                          4115\n",
       "Indice prest. energetica rinnovabile     8778\n",
       "Prestazione energetica del fabbricato    8471\n",
       "Efficienza energetica                    1256\n",
       "certificazione energetica                7695\n",
       "dtype: int64"
      ]
     },
     "execution_count": 9,
     "metadata": {},
     "output_type": "execute_result"
    }
   ],
   "source": [
    "df.isna().sum()"
   ]
  },
  {
   "cell_type": "code",
   "execution_count": 10,
   "metadata": {},
   "outputs": [
    {
     "data": {
      "text/html": [
       "<div>\n",
       "<style scoped>\n",
       "    .dataframe tbody tr th:only-of-type {\n",
       "        vertical-align: middle;\n",
       "    }\n",
       "\n",
       "    .dataframe tbody tr th {\n",
       "        vertical-align: top;\n",
       "    }\n",
       "\n",
       "    .dataframe thead th {\n",
       "        text-align: right;\n",
       "    }\n",
       "</style>\n",
       "<table border=\"1\" class=\"dataframe\">\n",
       "  <thead>\n",
       "    <tr style=\"text-align: right;\">\n",
       "      <th></th>\n",
       "      <th>immobile garantito</th>\n",
       "      <th>riferimento e Data annuncio</th>\n",
       "      <th>contratto</th>\n",
       "      <th>tipologia</th>\n",
       "      <th>superficie</th>\n",
       "      <th>locali</th>\n",
       "      <th>piano</th>\n",
       "      <th>totale piani edificio</th>\n",
       "      <th>disponibilità</th>\n",
       "      <th>Tipo proprietà</th>\n",
       "      <th>altre caratteristiche</th>\n",
       "      <th>Posti Auto</th>\n",
       "      <th>indirizzo</th>\n",
       "      <th>zona</th>\n",
       "      <th>prezzo</th>\n",
       "      <th>informazioni catastali</th>\n",
       "      <th>spese condominio</th>\n",
       "      <th>anno di costruzione</th>\n",
       "      <th>stato</th>\n",
       "      <th>riscaldamento</th>\n",
       "      <th>Climatizzazione</th>\n",
       "      <th>Indice prest. energetica rinnovabile</th>\n",
       "      <th>Prestazione energetica del fabbricato</th>\n",
       "      <th>Efficienza energetica</th>\n",
       "      <th>certificazione energetica</th>\n",
       "    </tr>\n",
       "  </thead>\n",
       "  <tbody>\n",
       "    <tr>\n",
       "      <th>9060</th>\n",
       "      <td>NaN</td>\n",
       "      <td>165/25 - 10/06/2020</td>\n",
       "      <td>Vendita</td>\n",
       "      <td>Villa plurifamiliare</td>\n",
       "      <td>600 m²</td>\n",
       "      <td>5+ (4 camere da letto, 3 altri), 3+ bagni, cuc...</td>\n",
       "      <td>Piano terra</td>\n",
       "      <td>3 piani</td>\n",
       "      <td>Libero</td>\n",
       "      <td>Intera proprietà, immobile di lusso</td>\n",
       "      <td>Cancello elettrico\\n                \\n\\n      ...</td>\n",
       "      <td>1 in garage/box, 5 all'esterno</td>\n",
       "      <td>['Firenze', 'Salviatino - San Domenico']</td>\n",
       "      <td>zona-bolognese-le-cure/</td>\n",
       "      <td>Prezzo su richiesta</td>\n",
       "      <td>Classe A/5</td>\n",
       "      <td>NaN</td>\n",
       "      <td>1900.0</td>\n",
       "      <td>Buono / Abitabile</td>\n",
       "      <td>Autonomo, a radiatori</td>\n",
       "      <td>NaN</td>\n",
       "      <td>NaN</td>\n",
       "      <td>invernale  estivo</td>\n",
       "      <td>G ≥ 3,51 kWh/m² anno</td>\n",
       "      <td>NaN</td>\n",
       "    </tr>\n",
       "    <tr>\n",
       "      <th>9061</th>\n",
       "      <td>NaN</td>\n",
       "      <td>fi10 - 20/05/2020</td>\n",
       "      <td>Vendita</td>\n",
       "      <td>Villa unifamiliare</td>\n",
       "      <td>1.559 m²                 - Vedi dettaglio</td>\n",
       "      <td>5+ (10 camere da letto, 10 altri), 3+ bagni, c...</td>\n",
       "      <td>da piano terra a 1°</td>\n",
       "      <td>3 piani</td>\n",
       "      <td>Libero</td>\n",
       "      <td>Immobile di lusso</td>\n",
       "      <td>Idromassaggio\\n                \\n\\n           ...</td>\n",
       "      <td>2 in garage/box, 10 all'esterno</td>\n",
       "      <td>['Firenze']</td>\n",
       "      <td>NaN</td>\n",
       "      <td>€ 6.000.000</td>\n",
       "      <td>Classe A/8</td>\n",
       "      <td>NaN</td>\n",
       "      <td>1400.0</td>\n",
       "      <td>Ottimo / Ristrutturato</td>\n",
       "      <td>Autonomo, a radiatori, alimentato a gpl</td>\n",
       "      <td>Autonomo, freddo/caldo</td>\n",
       "      <td>NaN</td>\n",
       "      <td>NaN</td>\n",
       "      <td>G ≥ 175 kWh/m² anno</td>\n",
       "      <td>NaN</td>\n",
       "    </tr>\n",
       "    <tr>\n",
       "      <th>9062</th>\n",
       "      <td>NaN</td>\n",
       "      <td>sci6 - 28/05/2020</td>\n",
       "      <td>Vendita</td>\n",
       "      <td>Appartamento</td>\n",
       "      <td>140 m²</td>\n",
       "      <td>5+ (2 camere da letto, 4 altri), 2 bagni, cuci...</td>\n",
       "      <td>4° piano, con ascensore</td>\n",
       "      <td>5 piani</td>\n",
       "      <td>NaN</td>\n",
       "      <td>NaN</td>\n",
       "      <td>Idromassaggio\\n                \\n\\n           ...</td>\n",
       "      <td>NaN</td>\n",
       "      <td>['Firenze', 'Via Scipione Ammirato', 'Beccaria...</td>\n",
       "      <td>campo-di-marte-liberta/</td>\n",
       "      <td>€ 575.000</td>\n",
       "      <td>NaN</td>\n",
       "      <td>€ 60/mese</td>\n",
       "      <td>1960.0</td>\n",
       "      <td>Ottimo / Ristrutturato</td>\n",
       "      <td>Autonomo, a radiatori, alimentato a gas</td>\n",
       "      <td>Autonomo</td>\n",
       "      <td>NaN</td>\n",
       "      <td>NaN</td>\n",
       "      <td>G 847,70 kWh/m² anno</td>\n",
       "      <td>NaN</td>\n",
       "    </tr>\n",
       "    <tr>\n",
       "      <th>9063</th>\n",
       "      <td>NaN</td>\n",
       "      <td>V93 - 13/04/2019</td>\n",
       "      <td>Vendita</td>\n",
       "      <td>Appartamento</td>\n",
       "      <td>300 m²</td>\n",
       "      <td>5 (4 camere da letto, 1 altro), 3 bagni, cucin...</td>\n",
       "      <td>Ultimo piano, con ascensore</td>\n",
       "      <td>3 piani</td>\n",
       "      <td>Libero</td>\n",
       "      <td>Intera proprietà</td>\n",
       "      <td>Idromassaggio\\n                \\n\\n           ...</td>\n",
       "      <td>NaN</td>\n",
       "      <td>['Firenze', 'San Niccolò']</td>\n",
       "      <td>oltrarno/</td>\n",
       "      <td>Prezzo su richiesta</td>\n",
       "      <td>NaN</td>\n",
       "      <td>NaN</td>\n",
       "      <td>1900.0</td>\n",
       "      <td>Ottimo / Ristrutturato</td>\n",
       "      <td>Autonomo, a radiatori, alimentato a metano</td>\n",
       "      <td>Autonomo, freddo/caldo</td>\n",
       "      <td>NaN</td>\n",
       "      <td>NaN</td>\n",
       "      <td>G 175,00 kWh/m² anno</td>\n",
       "      <td>NaN</td>\n",
       "    </tr>\n",
       "    <tr>\n",
       "      <th>9064</th>\n",
       "      <td>NaN</td>\n",
       "      <td>marignolle - 30/01/2019</td>\n",
       "      <td>Vendita</td>\n",
       "      <td>Appartamento</td>\n",
       "      <td>300 m²</td>\n",
       "      <td>5+ (4 camere da letto, 5 altri), 3+ bagni, cuc...</td>\n",
       "      <td>Ultimo piano, con ascensore</td>\n",
       "      <td>3 piani</td>\n",
       "      <td>Libero</td>\n",
       "      <td>Intera proprietà, classe immobile signorile</td>\n",
       "      <td>Cancello elettrico\\n                \\n\\n      ...</td>\n",
       "      <td>2 all'esterno</td>\n",
       "      <td>['Firenze', 'Marignolle - Bellosguardo', 'Via ...</td>\n",
       "      <td>bellosguardo-galluzzo/</td>\n",
       "      <td>Prezzo su richiesta</td>\n",
       "      <td>Rendita € 1</td>\n",
       "      <td>€ 1/mese</td>\n",
       "      <td>1700.0</td>\n",
       "      <td>Ottimo / Ristrutturato</td>\n",
       "      <td>Autonomo, a radiatori, alimentato a metano</td>\n",
       "      <td>Autonomo, freddo</td>\n",
       "      <td>NaN</td>\n",
       "      <td>NaN</td>\n",
       "      <td>G ≥ 175 kWh/m² anno</td>\n",
       "      <td>NaN</td>\n",
       "    </tr>\n",
       "  </tbody>\n",
       "</table>\n",
       "</div>"
      ],
      "text/plain": [
       "     immobile garantito riferimento e Data annuncio contratto  \\\n",
       "9060                NaN         165/25 - 10/06/2020   Vendita   \n",
       "9061                NaN           fi10 - 20/05/2020   Vendita   \n",
       "9062                NaN           sci6 - 28/05/2020   Vendita   \n",
       "9063                NaN            V93 - 13/04/2019   Vendita   \n",
       "9064                NaN     marignolle - 30/01/2019   Vendita   \n",
       "\n",
       "                 tipologia                                 superficie  \\\n",
       "9060  Villa plurifamiliare                                     600 m²   \n",
       "9061    Villa unifamiliare  1.559 m²                 - Vedi dettaglio   \n",
       "9062          Appartamento                                     140 m²   \n",
       "9063          Appartamento                                     300 m²   \n",
       "9064          Appartamento                                     300 m²   \n",
       "\n",
       "                                                 locali  \\\n",
       "9060  5+ (4 camere da letto, 3 altri), 3+ bagni, cuc...   \n",
       "9061  5+ (10 camere da letto, 10 altri), 3+ bagni, c...   \n",
       "9062  5+ (2 camere da letto, 4 altri), 2 bagni, cuci...   \n",
       "9063  5 (4 camere da letto, 1 altro), 3 bagni, cucin...   \n",
       "9064  5+ (4 camere da letto, 5 altri), 3+ bagni, cuc...   \n",
       "\n",
       "                            piano totale piani edificio disponibilità  \\\n",
       "9060                  Piano terra               3 piani        Libero   \n",
       "9061          da piano terra a 1°               3 piani        Libero   \n",
       "9062      4° piano, con ascensore               5 piani           NaN   \n",
       "9063  Ultimo piano, con ascensore               3 piani        Libero   \n",
       "9064  Ultimo piano, con ascensore               3 piani        Libero   \n",
       "\n",
       "                                   Tipo proprietà  \\\n",
       "9060          Intera proprietà, immobile di lusso   \n",
       "9061                            Immobile di lusso   \n",
       "9062                                          NaN   \n",
       "9063                             Intera proprietà   \n",
       "9064  Intera proprietà, classe immobile signorile   \n",
       "\n",
       "                                  altre caratteristiche  \\\n",
       "9060  Cancello elettrico\\n                \\n\\n      ...   \n",
       "9061  Idromassaggio\\n                \\n\\n           ...   \n",
       "9062  Idromassaggio\\n                \\n\\n           ...   \n",
       "9063  Idromassaggio\\n                \\n\\n           ...   \n",
       "9064  Cancello elettrico\\n                \\n\\n      ...   \n",
       "\n",
       "                           Posti Auto  \\\n",
       "9060   1 in garage/box, 5 all'esterno   \n",
       "9061  2 in garage/box, 10 all'esterno   \n",
       "9062                              NaN   \n",
       "9063                              NaN   \n",
       "9064                    2 all'esterno   \n",
       "\n",
       "                                              indirizzo  \\\n",
       "9060           ['Firenze', 'Salviatino - San Domenico']   \n",
       "9061                                        ['Firenze']   \n",
       "9062  ['Firenze', 'Via Scipione Ammirato', 'Beccaria...   \n",
       "9063                         ['Firenze', 'San Niccolò']   \n",
       "9064  ['Firenze', 'Marignolle - Bellosguardo', 'Via ...   \n",
       "\n",
       "                         zona               prezzo informazioni catastali  \\\n",
       "9060  zona-bolognese-le-cure/  Prezzo su richiesta             Classe A/5   \n",
       "9061                      NaN          € 6.000.000             Classe A/8   \n",
       "9062  campo-di-marte-liberta/            € 575.000                    NaN   \n",
       "9063                oltrarno/  Prezzo su richiesta                    NaN   \n",
       "9064   bellosguardo-galluzzo/  Prezzo su richiesta            Rendita € 1   \n",
       "\n",
       "     spese condominio  anno di costruzione                   stato  \\\n",
       "9060              NaN               1900.0       Buono / Abitabile   \n",
       "9061              NaN               1400.0  Ottimo / Ristrutturato   \n",
       "9062        € 60/mese               1960.0  Ottimo / Ristrutturato   \n",
       "9063              NaN               1900.0  Ottimo / Ristrutturato   \n",
       "9064         € 1/mese               1700.0  Ottimo / Ristrutturato   \n",
       "\n",
       "                                   riscaldamento         Climatizzazione  \\\n",
       "9060                       Autonomo, a radiatori                     NaN   \n",
       "9061     Autonomo, a radiatori, alimentato a gpl  Autonomo, freddo/caldo   \n",
       "9062     Autonomo, a radiatori, alimentato a gas                Autonomo   \n",
       "9063  Autonomo, a radiatori, alimentato a metano  Autonomo, freddo/caldo   \n",
       "9064  Autonomo, a radiatori, alimentato a metano        Autonomo, freddo   \n",
       "\n",
       "     Indice prest. energetica rinnovabile  \\\n",
       "9060                                  NaN   \n",
       "9061                                  NaN   \n",
       "9062                                  NaN   \n",
       "9063                                  NaN   \n",
       "9064                                  NaN   \n",
       "\n",
       "     Prestazione energetica del fabbricato Efficienza energetica  \\\n",
       "9060                     invernale  estivo  G ≥ 3,51 kWh/m² anno   \n",
       "9061                                   NaN   G ≥ 175 kWh/m² anno   \n",
       "9062                                   NaN  G 847,70 kWh/m² anno   \n",
       "9063                                   NaN  G 175,00 kWh/m² anno   \n",
       "9064                                   NaN   G ≥ 175 kWh/m² anno   \n",
       "\n",
       "     certificazione energetica  \n",
       "9060                       NaN  \n",
       "9061                       NaN  \n",
       "9062                       NaN  \n",
       "9063                       NaN  \n",
       "9064                       NaN  "
      ]
     },
     "execution_count": 10,
     "metadata": {},
     "output_type": "execute_result"
    }
   ],
   "source": [
    "df.tail()"
   ]
  },
  {
   "cell_type": "markdown",
   "metadata": {},
   "source": [
    "#### Preliminary cleaning"
   ]
  },
  {
   "cell_type": "code",
   "execution_count": 11,
   "metadata": {},
   "outputs": [],
   "source": [
    "# Rename columns\n",
    "df.columns = map(str.capitalize, df.columns)\n",
    "\n",
    "# Remove rentals\n",
    "df = df.loc[df['Contratto'] != 'Affitto', :]\n",
    "\n",
    "# Check for and remove duplicates\n",
    "df.duplicated().sum()\n",
    "df = df.drop_duplicates()\n",
    "\n",
    "# Not in Firenze or bad data\n",
    "df = df.drop([1279, 4985, 9049]).reset_index(drop=True)"
   ]
  },
  {
   "cell_type": "markdown",
   "metadata": {},
   "source": [
    "#### Address"
   ]
  },
  {
   "cell_type": "code",
   "execution_count": 12,
   "metadata": {},
   "outputs": [
    {
     "data": {
      "text/plain": [
       "0                   Firenze, Via del Podestà, Galluzzo\n",
       "1    Firenze, Viale Giovanni Verga, Coverciano, Via...\n",
       "2     Firenze, Novoli, Via di Novoli, Via di Novoli, 5\n",
       "3     Firenze, Novoli, Via di Novoli, Via di Novoli, 5\n",
       "4    Firenze, Mazzini - Oberdan, Viale Giuseppe Maz...\n",
       "Name: Indirizzo, dtype: object"
      ]
     },
     "execution_count": 12,
     "metadata": {},
     "output_type": "execute_result"
    }
   ],
   "source": [
    "df['Indirizzo'] = df['Indirizzo'].str.replace(\"[\",'').str.replace(\"]\",'').str.replace('\\'', '')\n",
    "df['Indirizzo'].head()"
   ]
  },
  {
   "cell_type": "markdown",
   "metadata": {},
   "source": [
    "#### District"
   ]
  },
  {
   "cell_type": "code",
   "execution_count": 13,
   "metadata": {},
   "outputs": [
    {
     "data": {
      "text/plain": [
       "31"
      ]
     },
     "execution_count": 13,
     "metadata": {},
     "output_type": "execute_result"
    }
   ],
   "source": [
    "# Manually impute missing \"Zona\"\n",
    "df.loc[df['Indirizzo'] == 'Firenze, via vittorio emanuele orlando', 'Zona'] = 'Coverciano Bellariva'\n",
    "df.loc[df['Indirizzo'] == 'Firenze, via borgo la noce', 'Zona'] = 'Centro'\n",
    "df.loc[df['Indirizzo'] == 'Firenze, via Cigoli 31', 'Zona'] = 'L Isolotto'\n",
    "df.loc[df['Indirizzo'] == 'Firenze, via impruneta per mezzomonte', 'Zona'] = 'Bellosguardo Galluzzo'\n",
    "df.loc[df['Indirizzo'] == 'Firenze, via gioberti', 'Zona'] = 'Campo Di Marte Liberta'\n",
    "df.loc[df['Indirizzo'] == 'Firenze, via dei cioli 50', 'Zona'] = 'Settignano Rovezzano'\n",
    "df.loc[df['Indirizzo'] == 'Firenze, via spinucci 1', 'Zona'] = 'Serpiolle Careggi'\n",
    "df.loc[df['Indirizzo'] == 'Firenze, \"via lungo laffrico 50\"', 'Zona'] = 'Coverciano Bellariva'\n",
    "df.loc[df['Indirizzo'] == 'Firenze, via lippi', 'Zona'] = 'Legnaia Soffiano'\n",
    "df.loc[df['Indirizzo'] == 'Firenze, cairoli', 'Zona'] = 'Campo Di Marte Liberta'\n",
    "df.loc[df['Indirizzo'] == 'Firenze, via aretina', 'Zona'] = 'Coverciano Bellariva'\n",
    "df.loc[df['Indirizzo'] == 'Firenze, via Fra Bartolommeo  40', 'Zona'] = 'Campo Di Marte Liberta'\n",
    "df.loc[df['Indirizzo'] == 'Firenze, viale don minzoni 1', 'Zona'] = 'Campo Di Marte Liberta'\n",
    "df.loc[df['Indirizzo'] == 'Firenze, viale don minzoni  1', 'Zona'] = 'Campo Di Marte Liberta'\n",
    "df.loc[df['Indirizzo'] == 'Firenze, piazza beccaria', 'Zona'] = 'Campo Di Marte Liberta'\n",
    "df.loc[df['Indirizzo'] == 'Firenze, via san zanobi', 'Zona'] = 'Centro'\n",
    "df.loc[df['Indirizzo'] == 'Firenze, Piazzale Michelangelo', 'Zona'] = 'Michelangelo Porta Romana'\n",
    "df.loc[df['Indirizzo'] == 'Firenze, Via del Paradiso', 'Zona'] = 'Zona Firenze Sud'\n",
    "df.loc[df['Indirizzo'] == 'Firenze, via di Canonica', 'Zona'] = 'Centro'\n",
    "df.loc[df['Indirizzo'] == 'Firenze, Via di Canonica', 'Zona'] = 'Centro'\n",
    "df.loc[df['Indirizzo'] == 'Firenze, Via Frusa', 'Zona'] = 'Campo Di Marte Liberta'\n",
    "df.loc[df['Indirizzo'] == 'Firenze, Via Vespucci', 'Zona'] = 'Firenze Nord'\n",
    "df.loc[df['Indirizzo'] == 'Firenze, via baracca  148', 'Zona'] = 'Firenze Nord'\n",
    "df.loc[df['Indirizzo'] == 'Firenze, via dei Tavolini 1', 'Zona'] = 'Centro'\n",
    "df.loc[df['Indirizzo'] == 'Firenze, via Pisana 980', 'Zona'] = 'Ugnano Mantignano'\n",
    "df.loc[df['Indirizzo'] == 'Firenze, VIA SENESE', 'Zona'] = 'Bellosguardo Galluzzo'\n",
    "df.loc[df['Indirizzo'] == 'Firenze, \"piazza dAzeglio\"', 'Zona'] = 'Centro'\n",
    "df.loc[df['Indirizzo'] == 'Firenze, \"Piazza dazeglio\"', 'Zona'] = 'Centro'\n",
    "\n",
    "df['Zona'].isna().sum()"
   ]
  },
  {
   "cell_type": "code",
   "execution_count": 14,
   "metadata": {},
   "outputs": [
    {
     "data": {
      "text/plain": [
       "Centro                       1743\n",
       "Campo Di Marte Liberta       1367\n",
       "Leopoldo Porta Al Prato       903\n",
       "Firenze Nord                  880\n",
       "Serpiolle Careggi             620\n",
       "Oltrarno                      591\n",
       "Coverciano Bellariva          562\n",
       "Zona Bolognese Le Cure        482\n",
       "Zona Firenze Sud              444\n",
       "Legnaia Soffiano              396\n",
       "Bellosguardo Galluzzo         299\n",
       "Settignano Rovezzano          255\n",
       "L'Isolotto                    238\n",
       "Michelangelo Porta Romana     192\n",
       "Ugnano Mantignano              33\n",
       "Name: Zona, dtype: int64"
      ]
     },
     "execution_count": 14,
     "metadata": {},
     "output_type": "execute_result"
    }
   ],
   "source": [
    "# Drop rows with missing \"Zona\"\n",
    "df = df.dropna(subset=['Zona'])\n",
    "\n",
    "df['Zona'] = (df['Zona']\n",
    "              .str.replace('-', ' ')\n",
    "              .str.replace('/', '')\n",
    "              .str.title()\n",
    "              .replace({'L Isolotto': 'L\\'Isolotto'}))\n",
    "\n",
    "df['Zona'].value_counts()"
   ]
  },
  {
   "cell_type": "code",
   "execution_count": 15,
   "metadata": {},
   "outputs": [],
   "source": [
    "df = df.drop(columns=['Indirizzo'])"
   ]
  },
  {
   "cell_type": "markdown",
   "metadata": {},
   "source": [
    "#### Price"
   ]
  },
  {
   "cell_type": "code",
   "execution_count": 16,
   "metadata": {},
   "outputs": [
    {
     "data": {
      "text/plain": [
       "(285, 24)"
      ]
     },
     "execution_count": 16,
     "metadata": {},
     "output_type": "execute_result"
    }
   ],
   "source": [
    "# Missing labels\n",
    "df.loc[df['Prezzo'] == 'Prezzo su richiesta', :].shape"
   ]
  },
  {
   "cell_type": "code",
   "execution_count": 17,
   "metadata": {},
   "outputs": [],
   "source": [
    "# Drop rows with missing labels\n",
    "df = df.loc[df['Prezzo'] != 'Prezzo su richiesta', :]"
   ]
  },
  {
   "cell_type": "code",
   "execution_count": 18,
   "metadata": {},
   "outputs": [],
   "source": [
    "df['Prezzo_EUR'] = (df['Prezzo']\n",
    "                    .str.split('€')\n",
    "                    .str[1]\n",
    "                    .str.replace('.', '')\n",
    "                    .astype('float'))"
   ]
  },
  {
   "cell_type": "code",
   "execution_count": 19,
   "metadata": {},
   "outputs": [],
   "source": [
    "df = df.drop(columns=['Prezzo'])"
   ]
  },
  {
   "cell_type": "markdown",
   "metadata": {},
   "source": [
    "#### Square meters"
   ]
  },
  {
   "cell_type": "code",
   "execution_count": 20,
   "metadata": {},
   "outputs": [
    {
     "data": {
      "text/plain": [
       "6"
      ]
     },
     "execution_count": 20,
     "metadata": {},
     "output_type": "execute_result"
    }
   ],
   "source": [
    "df['Superficie'].isna().sum()"
   ]
  },
  {
   "cell_type": "code",
   "execution_count": 21,
   "metadata": {},
   "outputs": [],
   "source": [
    "# Drop rows with missing area as it is an important feature\n",
    "df = df.dropna(subset=['Superficie']).reset_index(drop=True)"
   ]
  },
  {
   "cell_type": "code",
   "execution_count": 22,
   "metadata": {},
   "outputs": [
    {
     "data": {
      "text/plain": [
       "50 m²                                                           338\n",
       "100 m²                                                          329\n",
       "80 m²                                                           323\n",
       "90 m²                                                           308\n",
       "70 m²                                                           275\n",
       "                                                               ... \n",
       "270 m²                 - Vedi dettaglio                           1\n",
       "122 m² | commerciale 259 m²                 - Vedi dettaglio      1\n",
       "110 m² | commerciale 149 m²                 - Vedi dettaglio      1\n",
       "93 m² | commerciale 94 m²                 - Vedi dettaglio        1\n",
       "180 m² | commerciale 220 m²                 - Vedi dettaglio      1\n",
       "Name: Superficie, Length: 1192, dtype: int64"
      ]
     },
     "execution_count": 22,
     "metadata": {},
     "output_type": "execute_result"
    }
   ],
   "source": [
    "df['Superficie'].value_counts()"
   ]
  },
  {
   "cell_type": "code",
   "execution_count": 23,
   "metadata": {},
   "outputs": [],
   "source": [
    "mask = df['Superficie'].str.contains('\\|', na=False)\n",
    "\n",
    "df.loc[mask, 'Superficie_m2'] = (df.loc[mask, 'Superficie']\n",
    "                                 .str.extract(r'commerciale (\\d+\\.?\\d*)')[0]\n",
    "                                 .str.replace('.', ''))\n",
    "\n",
    "df.loc[~mask, 'Superficie_m2'] = (df.loc[~mask, 'Superficie']\n",
    "                                  .str.extract(r'(\\d+\\.?\\d*)')[0]\n",
    "                                  .str.replace('.', ''))\n",
    "\n",
    "df['Superficie_m2'] = df['Superficie_m2'].astype('float')"
   ]
  },
  {
   "cell_type": "code",
   "execution_count": 24,
   "metadata": {},
   "outputs": [
    {
     "data": {
      "text/plain": [
       "8548    240018.0\n",
       "180      11350.0\n",
       "7300      8150.0\n",
       "4554      6437.0\n",
       "8155      5000.0\n",
       "8154      4760.0\n",
       "5781      4471.0\n",
       "5025      4270.0\n",
       "4892      3500.0\n",
       "2138      2958.0\n",
       "Name: Superficie_m2, dtype: float64"
      ]
     },
     "execution_count": 24,
     "metadata": {},
     "output_type": "execute_result"
    }
   ],
   "source": [
    "# Outliers\n",
    "df['Superficie_m2'].sort_values(ascending=False).head(10)"
   ]
  },
  {
   "cell_type": "code",
   "execution_count": 25,
   "metadata": {},
   "outputs": [],
   "source": [
    "df.loc[df['Superficie_m2'] == 240018.0, 'Superficie_m2'] = 240\n",
    "df.loc[df['Superficie_m2'] == 11350.0, 'Superficie_m2'] = 1135\n",
    "df.loc[df['Superficie_m2'] == 6437.0, 'Superficie_m2'] = 64"
   ]
  },
  {
   "cell_type": "code",
   "execution_count": 26,
   "metadata": {},
   "outputs": [],
   "source": [
    "df = df.drop(columns=['Superficie'])"
   ]
  },
  {
   "cell_type": "markdown",
   "metadata": {},
   "source": [
    "#### Price per m2"
   ]
  },
  {
   "cell_type": "code",
   "execution_count": 27,
   "metadata": {},
   "outputs": [],
   "source": [
    "# Create a price/m2 feature\n",
    "df['Prezzo_per_m2'] = df['Prezzo_EUR'] / df['Superficie_m2']"
   ]
  },
  {
   "cell_type": "markdown",
   "metadata": {},
   "source": [
    "#### Type of property"
   ]
  },
  {
   "cell_type": "code",
   "execution_count": 28,
   "metadata": {},
   "outputs": [
    {
     "data": {
      "text/plain": [
       "437"
      ]
     },
     "execution_count": 28,
     "metadata": {},
     "output_type": "execute_result"
    }
   ],
   "source": [
    "df['Tipo proprietà'].isna().sum()"
   ]
  },
  {
   "cell_type": "code",
   "execution_count": 29,
   "metadata": {},
   "outputs": [
    {
     "data": {
      "text/plain": [
       "Intera proprietà, classe immobile media        3037\n",
       "Intera proprietà, classe immobile signorile    2986\n",
       "Intera proprietà                                745\n",
       "Intera proprietà, classe immobile economica     462\n",
       "Intera proprietà, immobile di lusso             347\n",
       "Classe immobile signorile                       312\n",
       "Classe immobile media                           156\n",
       "Classe immobile economica                       127\n",
       "Nuda proprietà, classe immobile media            49\n",
       "Nuda proprietà, classe immobile signorile        26\n",
       "Nuda proprietà, classe immobile economica        12\n",
       "Immobile di lusso                                11\n",
       "Nuda proprietà                                    4\n",
       "Nuda proprietà, immobile di lusso                 2\n",
       "Multiproprietà, classe immobile media             1\n",
       "Name: Tipo proprietà, dtype: int64"
      ]
     },
     "execution_count": 29,
     "metadata": {},
     "output_type": "execute_result"
    }
   ],
   "source": [
    "df['Tipo proprietà'].value_counts()"
   ]
  },
  {
   "cell_type": "code",
   "execution_count": 30,
   "metadata": {},
   "outputs": [
    {
     "data": {
      "image/png": "[encoded data removed]",
      "text/plain": [
       "<Figure size 576x576 with 1 Axes>"
      ]
     },
     "metadata": {
      "needs_background": "light"
     },
     "output_type": "display_data"
    }
   ],
   "source": [
    "gb_ordered = (df.groupby('Tipo proprietà')\n",
    "              .agg({'Prezzo_per_m2': 'mean'})\n",
    "              .sort_values('Prezzo_per_m2', ascending=False))\n",
    "\n",
    "fig = plt.figure(figsize=(8, 8))\n",
    "sns.barplot(gb_ordered['Prezzo_per_m2'], y=gb_ordered.index, ci=None)\n",
    "plt.show()"
   ]
  },
  {
   "cell_type": "markdown",
   "metadata": {},
   "source": [
    "#### State"
   ]
  },
  {
   "cell_type": "code",
   "execution_count": 31,
   "metadata": {},
   "outputs": [
    {
     "data": {
      "text/plain": [
       "231"
      ]
     },
     "execution_count": 31,
     "metadata": {},
     "output_type": "execute_result"
    }
   ],
   "source": [
    "df['Stato'].isna().sum()"
   ]
  },
  {
   "cell_type": "code",
   "execution_count": 32,
   "metadata": {},
   "outputs": [
    {
     "data": {
      "image/png": "[encoded data removed]",
      "text/plain": [
       "<Figure size 432x432 with 1 Axes>"
      ]
     },
     "metadata": {
      "needs_background": "light"
     },
     "output_type": "display_data"
    }
   ],
   "source": [
    "fig = plt.figure(figsize=(6, 6))\n",
    "sns.barplot(x=df['Stato'], y=df['Prezzo_per_m2'])\n",
    "plt.xticks(rotation=45)\n",
    "plt.show()"
   ]
  },
  {
   "cell_type": "code",
   "execution_count": 33,
   "metadata": {},
   "outputs": [
    {
     "data": {
      "text/plain": [
       "Ottimo / Ristrutturato    4514\n",
       "Buono / Abitabile         2399\n",
       "Nuovo / In costruzione     893\n",
       "Da ristrutturare           677\n",
       "Name: Stato, dtype: int64"
      ]
     },
     "execution_count": 33,
     "metadata": {},
     "output_type": "execute_result"
    }
   ],
   "source": [
    "df['Stato'].value_counts()"
   ]
  },
  {
   "cell_type": "code",
   "execution_count": 34,
   "metadata": {},
   "outputs": [],
   "source": [
    "# Imputing \"Stato\" by most frequent as it does not seem to influence price much\n",
    "#df['Stato'] = df['Stato'].fillna(df['Stato'].value_counts().index[0])"
   ]
  },
  {
   "cell_type": "markdown",
   "metadata": {},
   "source": [
    "#### Impute type of property and state using KNN"
   ]
  },
  {
   "cell_type": "code",
   "execution_count": 35,
   "metadata": {},
   "outputs": [],
   "source": [
    "def encode(data):\n",
    "    '''Function to encode non-null data and replace it in the original data'''\n",
    "    \n",
    "    # Retain only non-null values\n",
    "    data = data.copy()\n",
    "    non_nulls = np.array(data.dropna())\n",
    "    \n",
    "    # Reshape data for encoding\n",
    "    impute_reshape = non_nulls.reshape(-1,1)\n",
    "    \n",
    "    # Encode data\n",
    "    impute_ordinal = encoder.fit_transform(impute_reshape)\n",
    "    \n",
    "    # Assign back encoded values to non-null values\n",
    "    data.loc[data.notnull()] = np.squeeze(impute_ordinal)\n",
    "    \n",
    "    return data"
   ]
  },
  {
   "cell_type": "code",
   "execution_count": 36,
   "metadata": {},
   "outputs": [],
   "source": [
    "# Selecting features for KNN imputation\n",
    "impute_cols = ['Prezzo_per_m2', 'Tipo proprietà', 'Stato']\n",
    "\n",
    "df_impute = df[impute_cols].copy()\n",
    "\n",
    "# Scaling continous feature used to impute\n",
    "scaler = StandardScaler()\n",
    "\n",
    "scale_cols = ['Prezzo_per_m2']\n",
    "df_impute[scale_cols] = scaler.fit_transform(df_impute[scale_cols])\n",
    "\n",
    "# Encoding and imputing\n",
    "encoder = OrdinalEncoder()\n",
    "imputer = KNNImputer(n_neighbors=5)\n",
    "\n",
    "cat_cols = ['Tipo proprietà', 'Stato']\n",
    "\n",
    "for col in cat_cols:\n",
    "    # Encode categorical feature to impute\n",
    "    df_impute[col] = encode(df_impute[col]).astype('float')\n",
    "    \n",
    "    # Impute using KNN\n",
    "    df_impute[scale_cols+[col]] = np.round(imputer.fit_transform(df_impute[scale_cols+[col]]))\n",
    "\n",
    "    # Inverse transform to get original labels back (for EDA later)\n",
    "    df_impute[col] = encoder.inverse_transform(df_impute[col].to_numpy().reshape(-1,1))\n",
    "    \n",
    "df['Tipo_proprietà'] = df_impute['Tipo proprietà']\n",
    "df['Stato'] = df_impute['Stato']"
   ]
  },
  {
   "cell_type": "code",
   "execution_count": 37,
   "metadata": {},
   "outputs": [],
   "source": [
    "df = df.drop(columns=['Tipo proprietà'])"
   ]
  },
  {
   "cell_type": "markdown",
   "metadata": {},
   "source": [
    "#### Contract"
   ]
  },
  {
   "cell_type": "code",
   "execution_count": 38,
   "metadata": {},
   "outputs": [
    {
     "data": {
      "text/plain": [
       "Contratto\n",
       "Vendita                         4137.211400\n",
       "Vendita | Immobile a reddito    4668.302767\n",
       "Name: Prezzo_per_m2, dtype: float64"
      ]
     },
     "execution_count": 38,
     "metadata": {},
     "output_type": "execute_result"
    }
   ],
   "source": [
    "# Looking into \"Contratto\": does it affect price?\n",
    "gb = df['Prezzo_per_m2'].groupby(df['Contratto']).agg('mean')\n",
    "gb"
   ]
  },
  {
   "cell_type": "markdown",
   "metadata": {},
   "source": [
    "#### Dropping features"
   ]
  },
  {
   "cell_type": "code",
   "execution_count": 39,
   "metadata": {},
   "outputs": [
    {
     "data": {
      "text/plain": [
       "Immobile garantito                       4999\n",
       "Indice prest. energetica rinnovabile     8439\n",
       "Prestazione energetica del fabbricato    8144\n",
       "Certificazione energetica                7416\n",
       "Disponibilità                             940\n",
       "Contratto                                   0\n",
       "Informazioni catastali                   3086\n",
       "Spese condominio                         3595\n",
       "dtype: int64"
      ]
     },
     "execution_count": 39,
     "metadata": {},
     "output_type": "execute_result"
    }
   ],
   "source": [
    "# Drop columns that have almost no entries\n",
    "# Dropping \"Disponibilità\" and \"Contratto\" because they do not have relevant information\n",
    "drop_cols = ['Immobile garantito', 'Indice prest. energetica rinnovabile', 'Prestazione energetica del fabbricato',\n",
    "             'Certificazione energetica', 'Disponibilità', 'Contratto', 'Informazioni catastali',\n",
    "             'Spese condominio']\n",
    "\n",
    "df[drop_cols].isna().sum()"
   ]
  },
  {
   "cell_type": "code",
   "execution_count": 40,
   "metadata": {},
   "outputs": [],
   "source": [
    "df = df.drop(columns=drop_cols)"
   ]
  },
  {
   "cell_type": "code",
   "execution_count": 41,
   "metadata": {},
   "outputs": [
    {
     "name": "stdout",
     "output_type": "stream",
     "text": [
      "<class 'pandas.core.frame.DataFrame'>\n",
      "RangeIndex: 8714 entries, 0 to 8713\n",
      "Data columns (total 17 columns):\n",
      " #   Column                       Non-Null Count  Dtype  \n",
      "---  ------                       --------------  -----  \n",
      " 0   Riferimento e data annuncio  8714 non-null   object \n",
      " 1   Tipologia                    8714 non-null   object \n",
      " 2   Locali                       8701 non-null   object \n",
      " 3   Piano                        8560 non-null   object \n",
      " 4   Totale piani edificio        8082 non-null   object \n",
      " 5   Altre caratteristiche        8163 non-null   object \n",
      " 6   Posti auto                   2142 non-null   object \n",
      " 7   Zona                         8714 non-null   object \n",
      " 8   Anno di costruzione          6334 non-null   float64\n",
      " 9   Stato                        8714 non-null   object \n",
      " 10  Riscaldamento                8320 non-null   object \n",
      " 11  Climatizzazione              4749 non-null   object \n",
      " 12  Efficienza energetica        7519 non-null   object \n",
      " 13  Prezzo_EUR                   8714 non-null   float64\n",
      " 14  Superficie_m2                8714 non-null   float64\n",
      " 15  Prezzo_per_m2                8714 non-null   float64\n",
      " 16  Tipo_proprietà               8714 non-null   object \n",
      "dtypes: float64(4), object(13)\n",
      "memory usage: 1.1+ MB\n"
     ]
    }
   ],
   "source": [
    "df.info()"
   ]
  },
  {
   "cell_type": "markdown",
   "metadata": {},
   "source": [
    "## 2. Feature engineering"
   ]
  },
  {
   "cell_type": "markdown",
   "metadata": {},
   "source": [
    "#### Heating"
   ]
  },
  {
   "cell_type": "code",
   "execution_count": 42,
   "metadata": {},
   "outputs": [
    {
     "data": {
      "text/plain": [
       "394"
      ]
     },
     "execution_count": 42,
     "metadata": {},
     "output_type": "execute_result"
    }
   ],
   "source": [
    "df['Riscaldamento'].isna().sum()"
   ]
  },
  {
   "cell_type": "code",
   "execution_count": 43,
   "metadata": {
    "scrolled": true
   },
   "outputs": [
    {
     "data": {
      "text/plain": [
       "array(['Autonomo, a radiatori, alimentato a metano',\n",
       "       'Centralizzato, a radiatori, alimentato a metano',\n",
       "       'Centralizzato, a radiatori, alimentato a gas',\n",
       "       'Autonomo, a radiatori, alimentato a gas',\n",
       "       'Centralizzato, a radiatori, alimentato a gasolio', 'Autonomo',\n",
       "       'Centralizzato', 'Centralizzato, a radiatori', nan,\n",
       "       'Autonomo, ad aria, alimentato a pompa di calore',\n",
       "       'Autonomo, ad aria, alimentato a gas', 'Autonomo, a stufa',\n",
       "       'Autonomo, a radiatori, alimentazione elettrica',\n",
       "       'Autonomo, a radiatori', 'Autonomo, alimentato a gas',\n",
       "       'Centralizzato, a pavimento, alimentato a fotovoltaico',\n",
       "       'Centralizzato, a pavimento, alimentato a gas',\n",
       "       'Centralizzato, a pavimento', 'Centralizzato, alimentato a metano',\n",
       "       'Autonomo, ad aria',\n",
       "       'Centralizzato, a pavimento, alimentato a metano',\n",
       "       'Autonomo, a pavimento, alimentato a gas',\n",
       "       'Centralizzato, a pavimento, alimentato a pompa di calore',\n",
       "       'Autonomo, a pavimento, alimentazione elettrica',\n",
       "       'Autonomo, a pavimento, alimentato a metano',\n",
       "       'Autonomo, a radiatori, alimentato a fotovoltaico',\n",
       "       'Autonomo, ad aria, alimentazione elettrica',\n",
       "       'Autonomo, a radiatori, alimentato a pellet',\n",
       "       'Centralizzato, ad aria, alimentato a metano',\n",
       "       'Autonomo, a pavimento',\n",
       "       'Centralizzato, a radiatori, alimentato a fotovoltaico',\n",
       "       'Centralizzato, a pavimento, alimentazione elettrica',\n",
       "       'Autonomo, a radiatori, alimentato a gasolio',\n",
       "       'Autonomo, alimentato a metano',\n",
       "       'Centralizzato, ad aria, alimentato a fotovoltaico',\n",
       "       'Autonomo, a radiatori, alimentato a gpl',\n",
       "       'Centralizzato, ad aria, alimentato a pompa di calore',\n",
       "       'Centralizzato, ad aria', 'Autonomo, a stufa, alimentato a metano',\n",
       "       'Centralizzato, a radiatori, alimentato a gpl',\n",
       "       'Autonomo, ad aria, alimentato a metano',\n",
       "       'Autonomo, a pavimento, alimentato a pompa di calore',\n",
       "       'Centralizzato, a radiatori, alimentato a solare',\n",
       "       'Autonomo, a radiatori, alimentato a pompa di calore',\n",
       "       'Autonomo, a stufa, alimentato a gas',\n",
       "       'Autonomo, a pavimento, alimentato a solare',\n",
       "       'Autonomo, a stufa, alimentato a pellet',\n",
       "       'Autonomo, a pavimento, alimentato a fotovoltaico',\n",
       "       'Centralizzato, a pavimento, alimentato a gasolio',\n",
       "       'Autonomo, alimentato a pompa di calore',\n",
       "       'Centralizzato, ad aria, alimentato a gas',\n",
       "       'Centralizzato, ad aria, alimentazione elettrica',\n",
       "       'Centralizzato, a radiatori, alimentazione elettrica',\n",
       "       'Autonomo, a stufa, alimentato a pompa di calore',\n",
       "       'Autonomo, a stufa, alimentazione elettrica',\n",
       "       'Autonomo, ad aria, alimentato a fotovoltaico',\n",
       "       'Centralizzato, alimentato a solare',\n",
       "       'Autonomo, alimentato a gasolio',\n",
       "       'Centralizzato, a radiatori, alimentato a pompa di calore',\n",
       "       'Autonomo, a radiatori, alimentato a solare',\n",
       "       'Centralizzato, alimentato a gas',\n",
       "       'Autonomo, ad aria, alimentato a gasolio',\n",
       "       'Autonomo, a pavimento, alimentato a gpl',\n",
       "       'Centralizzato, ad aria, alimentato a gpl'], dtype=object)"
      ]
     },
     "execution_count": 43,
     "metadata": {},
     "output_type": "execute_result"
    }
   ],
   "source": [
    "df['Riscaldamento'].unique()"
   ]
  },
  {
   "cell_type": "code",
   "execution_count": 44,
   "metadata": {},
   "outputs": [],
   "source": [
    "# Create autonomous/centralized heating feature\n",
    "df['Riscaldamento_A_C'] = df['Riscaldamento'].str.split(',').str[0]"
   ]
  },
  {
   "cell_type": "code",
   "execution_count": 45,
   "metadata": {},
   "outputs": [
    {
     "data": {
      "image/png": "[encoded data removed]",
      "text/plain": [
       "<Figure size 432x432 with 1 Axes>"
      ]
     },
     "metadata": {
      "needs_background": "light"
     },
     "output_type": "display_data"
    }
   ],
   "source": [
    "fig = plt.figure(figsize=(6, 6))\n",
    "sns.barplot(x=df['Riscaldamento_A_C'], y=df['Prezzo_per_m2'])\n",
    "plt.show()"
   ]
  },
  {
   "cell_type": "code",
   "execution_count": 46,
   "metadata": {},
   "outputs": [
    {
     "data": {
      "text/plain": [
       "Autonomo         6488\n",
       "Centralizzato    1832\n",
       "Name: Riscaldamento_A_C, dtype: int64"
      ]
     },
     "execution_count": 46,
     "metadata": {},
     "output_type": "execute_result"
    }
   ],
   "source": [
    "df['Riscaldamento_A_C'].value_counts()"
   ]
  },
  {
   "cell_type": "code",
   "execution_count": 47,
   "metadata": {},
   "outputs": [],
   "source": [
    "# Filling heating NaNs with centralized because when not specified it is probably centralized\n",
    "df['Riscaldamento_A_C'] = df['Riscaldamento_A_C'].fillna('Centralizzato')"
   ]
  },
  {
   "cell_type": "code",
   "execution_count": 48,
   "metadata": {},
   "outputs": [
    {
     "data": {
      "text/plain": [
       "radiatori    7931\n",
       "aria          409\n",
       "pavimento     355\n",
       "stufa          19\n",
       "Name: Tipo_riscaldamento, dtype: int64"
      ]
     },
     "execution_count": 48,
     "metadata": {},
     "output_type": "execute_result"
    }
   ],
   "source": [
    "# Create type of heating feature; clearly either radiatori, aria, pavimento and stufa\n",
    "df['Tipo_riscaldamento'] = df['Riscaldamento'].str.extract(r'(radiatori|aria|pavimento|stufa)')\n",
    "\n",
    "# Impute by most frequent\n",
    "df['Tipo_riscaldamento'] = df['Tipo_riscaldamento'].fillna(df['Tipo_riscaldamento'].value_counts().index[0])\n",
    "df['Tipo_riscaldamento'].value_counts()"
   ]
  },
  {
   "cell_type": "code",
   "execution_count": 49,
   "metadata": {},
   "outputs": [
    {
     "data": {
      "text/plain": [
       "metano             6700\n",
       "gas                1581\n",
       "pompa di calore     273\n",
       "elettrica            81\n",
       "gpl                  36\n",
       "fotovoltaico         33\n",
       "solare                7\n",
       "pellet                3\n",
       "Name: Alimentazione_riscaldamento, dtype: int64"
      ]
     },
     "execution_count": 49,
     "metadata": {},
     "output_type": "execute_result"
    }
   ],
   "source": [
    "df['Alimentazione_riscaldamento'] = df['Riscaldamento'].str.extract(r'(metano|gas|gasolio|pompa di calore'\n",
    "                                                                    '|elettrica|fotovoltaico|pellet|gpl|solare)')\n",
    "\n",
    "# Impute by most frequent\n",
    "df['Alimentazione_riscaldamento'] = (df['Alimentazione_riscaldamento']\n",
    "                                     .fillna(df['Alimentazione_riscaldamento'].value_counts().index[0]))\n",
    "\n",
    "df['Alimentazione_riscaldamento'].value_counts()"
   ]
  },
  {
   "cell_type": "code",
   "execution_count": 50,
   "metadata": {},
   "outputs": [],
   "source": [
    "df = df.drop(columns=['Riscaldamento'])"
   ]
  },
  {
   "cell_type": "markdown",
   "metadata": {},
   "source": [
    "#### Air conditioning "
   ]
  },
  {
   "cell_type": "code",
   "execution_count": 51,
   "metadata": {},
   "outputs": [
    {
     "data": {
      "text/plain": [
       "Autonomo, freddo/caldo                    2151\n",
       "Predisposizione impianto                  1031\n",
       "Autonomo, freddo                           922\n",
       "Autonomo                                   417\n",
       "Centralizzato, freddo/caldo                 88\n",
       "Predisposizione impianto, freddo            74\n",
       "Centralizzato, freddo                       21\n",
       "Predisposizione impianto, freddo/caldo      19\n",
       "Centralizzato                               17\n",
       "Autonomo, caldo                              9\n",
       "Name: Climatizzazione, dtype: int64"
      ]
     },
     "execution_count": 51,
     "metadata": {},
     "output_type": "execute_result"
    }
   ],
   "source": [
    "df['Climatizzazione'].value_counts()"
   ]
  },
  {
   "cell_type": "code",
   "execution_count": 52,
   "metadata": {},
   "outputs": [
    {
     "data": {
      "text/plain": [
       "3965"
      ]
     },
     "execution_count": 52,
     "metadata": {},
     "output_type": "execute_result"
    }
   ],
   "source": [
    "# Too many missing values, going to drop from analysis\n",
    "df['Climatizzazione'].isna().sum()"
   ]
  },
  {
   "cell_type": "code",
   "execution_count": 53,
   "metadata": {},
   "outputs": [],
   "source": [
    "df = df.drop(columns=['Climatizzazione'])"
   ]
  },
  {
   "cell_type": "markdown",
   "metadata": {},
   "source": [
    "#### Energy efficiency"
   ]
  },
  {
   "cell_type": "code",
   "execution_count": 54,
   "metadata": {},
   "outputs": [
    {
     "data": {
      "text/plain": [
       "1195"
      ]
     },
     "execution_count": 54,
     "metadata": {},
     "output_type": "execute_result"
    }
   ],
   "source": [
    "df['Efficienza energetica'].isna().sum()"
   ]
  },
  {
   "cell_type": "code",
   "execution_count": 55,
   "metadata": {
    "scrolled": true
   },
   "outputs": [
    {
     "data": {
      "text/plain": [
       "G ≥ 175 kWh/m² anno     2596\n",
       "G 175,00 kWh/m² anno     606\n",
       "G                        508\n",
       "F ≥ 175 kWh/m² anno      302\n",
       "G ≥ 3,51 kWh/m² anno     186\n",
       "                        ... \n",
       "G 395,00 kWh/m² anno       1\n",
       "F 152,00 kWh/m² anno       1\n",
       "G 238,26 kWh/m² anno       1\n",
       "F 119,00 kWh/m² anno       1\n",
       "E 124,41 kWh/m² anno       1\n",
       "Name: Efficienza energetica, Length: 1441, dtype: int64"
      ]
     },
     "execution_count": 55,
     "metadata": {},
     "output_type": "execute_result"
    }
   ],
   "source": [
    "df['Efficienza energetica'].value_counts()"
   ]
  },
  {
   "cell_type": "code",
   "execution_count": 56,
   "metadata": {},
   "outputs": [
    {
     "data": {
      "text/plain": [
       "G     5542\n",
       "F      785\n",
       "E      331\n",
       "A      201\n",
       "B      176\n",
       "D      160\n",
       "C      125\n",
       "A4     115\n",
       "A1      34\n",
       "A2      23\n",
       "A3      13\n",
       "Name: Classe_energetica, dtype: int64"
      ]
     },
     "execution_count": 56,
     "metadata": {},
     "output_type": "execute_result"
    }
   ],
   "source": [
    "# Map to letter categories of energy efficiency\n",
    "df['Classe_energetica'] = df['Efficienza energetica'].str.extract(r'([A-G]\\d?)')\n",
    "df['Classe_energetica'].value_counts()"
   ]
  },
  {
   "cell_type": "code",
   "execution_count": 57,
   "metadata": {},
   "outputs": [
    {
     "data": {
      "text/html": [
       "<div>\n",
       "<style scoped>\n",
       "    .dataframe tbody tr th:only-of-type {\n",
       "        vertical-align: middle;\n",
       "    }\n",
       "\n",
       "    .dataframe tbody tr th {\n",
       "        vertical-align: top;\n",
       "    }\n",
       "\n",
       "    .dataframe thead th {\n",
       "        text-align: right;\n",
       "    }\n",
       "</style>\n",
       "<table border=\"1\" class=\"dataframe\">\n",
       "  <thead>\n",
       "    <tr style=\"text-align: right;\">\n",
       "      <th>Classe_energetica</th>\n",
       "      <th>A</th>\n",
       "      <th>A1</th>\n",
       "      <th>A2</th>\n",
       "      <th>A3</th>\n",
       "      <th>A4</th>\n",
       "      <th>B</th>\n",
       "      <th>C</th>\n",
       "      <th>D</th>\n",
       "      <th>E</th>\n",
       "      <th>F</th>\n",
       "      <th>G</th>\n",
       "    </tr>\n",
       "    <tr>\n",
       "      <th>Alimentazione_riscaldamento</th>\n",
       "      <th></th>\n",
       "      <th></th>\n",
       "      <th></th>\n",
       "      <th></th>\n",
       "      <th></th>\n",
       "      <th></th>\n",
       "      <th></th>\n",
       "      <th></th>\n",
       "      <th></th>\n",
       "      <th></th>\n",
       "      <th></th>\n",
       "    </tr>\n",
       "  </thead>\n",
       "  <tbody>\n",
       "    <tr>\n",
       "      <th>elettrica</th>\n",
       "      <td>5.333333</td>\n",
       "      <td>NaN</td>\n",
       "      <td>NaN</td>\n",
       "      <td>NaN</td>\n",
       "      <td>30.666667</td>\n",
       "      <td>10.666667</td>\n",
       "      <td>2.666667</td>\n",
       "      <td>6.666667</td>\n",
       "      <td>2.666667</td>\n",
       "      <td>10.666667</td>\n",
       "      <td>30.666667</td>\n",
       "    </tr>\n",
       "    <tr>\n",
       "      <th>fotovoltaico</th>\n",
       "      <td>32.142857</td>\n",
       "      <td>NaN</td>\n",
       "      <td>NaN</td>\n",
       "      <td>3.571429</td>\n",
       "      <td>57.142857</td>\n",
       "      <td>3.571429</td>\n",
       "      <td>3.571429</td>\n",
       "      <td>NaN</td>\n",
       "      <td>NaN</td>\n",
       "      <td>NaN</td>\n",
       "      <td>NaN</td>\n",
       "    </tr>\n",
       "    <tr>\n",
       "      <th>gas</th>\n",
       "      <td>1.438849</td>\n",
       "      <td>NaN</td>\n",
       "      <td>0.143885</td>\n",
       "      <td>0.071942</td>\n",
       "      <td>0.647482</td>\n",
       "      <td>1.726619</td>\n",
       "      <td>1.582734</td>\n",
       "      <td>1.438849</td>\n",
       "      <td>2.949640</td>\n",
       "      <td>9.424460</td>\n",
       "      <td>80.575540</td>\n",
       "    </tr>\n",
       "    <tr>\n",
       "      <th>gpl</th>\n",
       "      <td>NaN</td>\n",
       "      <td>NaN</td>\n",
       "      <td>NaN</td>\n",
       "      <td>NaN</td>\n",
       "      <td>NaN</td>\n",
       "      <td>5.714286</td>\n",
       "      <td>NaN</td>\n",
       "      <td>34.285714</td>\n",
       "      <td>2.857143</td>\n",
       "      <td>NaN</td>\n",
       "      <td>57.142857</td>\n",
       "    </tr>\n",
       "    <tr>\n",
       "      <th>metano</th>\n",
       "      <td>2.719665</td>\n",
       "      <td>0.557880</td>\n",
       "      <td>0.331241</td>\n",
       "      <td>0.174338</td>\n",
       "      <td>0.958856</td>\n",
       "      <td>2.039749</td>\n",
       "      <td>1.481869</td>\n",
       "      <td>1.970014</td>\n",
       "      <td>4.811715</td>\n",
       "      <td>10.896095</td>\n",
       "      <td>74.058577</td>\n",
       "    </tr>\n",
       "    <tr>\n",
       "      <th>pellet</th>\n",
       "      <td>NaN</td>\n",
       "      <td>NaN</td>\n",
       "      <td>NaN</td>\n",
       "      <td>NaN</td>\n",
       "      <td>NaN</td>\n",
       "      <td>NaN</td>\n",
       "      <td>NaN</td>\n",
       "      <td>NaN</td>\n",
       "      <td>NaN</td>\n",
       "      <td>50.000000</td>\n",
       "      <td>50.000000</td>\n",
       "    </tr>\n",
       "    <tr>\n",
       "      <th>pompa di calore</th>\n",
       "      <td>5.106383</td>\n",
       "      <td>0.851064</td>\n",
       "      <td>0.851064</td>\n",
       "      <td>0.425532</td>\n",
       "      <td>5.106383</td>\n",
       "      <td>9.361702</td>\n",
       "      <td>6.382979</td>\n",
       "      <td>4.255319</td>\n",
       "      <td>4.255319</td>\n",
       "      <td>8.510638</td>\n",
       "      <td>54.893617</td>\n",
       "    </tr>\n",
       "    <tr>\n",
       "      <th>solare</th>\n",
       "      <td>NaN</td>\n",
       "      <td>NaN</td>\n",
       "      <td>NaN</td>\n",
       "      <td>NaN</td>\n",
       "      <td>NaN</td>\n",
       "      <td>50.000000</td>\n",
       "      <td>NaN</td>\n",
       "      <td>NaN</td>\n",
       "      <td>25.000000</td>\n",
       "      <td>NaN</td>\n",
       "      <td>25.000000</td>\n",
       "    </tr>\n",
       "  </tbody>\n",
       "</table>\n",
       "</div>"
      ],
      "text/plain": [
       "Classe_energetica                    A        A1        A2        A3  \\\n",
       "Alimentazione_riscaldamento                                            \n",
       "elettrica                     5.333333       NaN       NaN       NaN   \n",
       "fotovoltaico                 32.142857       NaN       NaN  3.571429   \n",
       "gas                           1.438849       NaN  0.143885  0.071942   \n",
       "gpl                                NaN       NaN       NaN       NaN   \n",
       "metano                        2.719665  0.557880  0.331241  0.174338   \n",
       "pellet                             NaN       NaN       NaN       NaN   \n",
       "pompa di calore               5.106383  0.851064  0.851064  0.425532   \n",
       "solare                             NaN       NaN       NaN       NaN   \n",
       "\n",
       "Classe_energetica                   A4          B         C          D  \\\n",
       "Alimentazione_riscaldamento                                              \n",
       "elettrica                    30.666667  10.666667  2.666667   6.666667   \n",
       "fotovoltaico                 57.142857   3.571429  3.571429        NaN   \n",
       "gas                           0.647482   1.726619  1.582734   1.438849   \n",
       "gpl                                NaN   5.714286       NaN  34.285714   \n",
       "metano                        0.958856   2.039749  1.481869   1.970014   \n",
       "pellet                             NaN        NaN       NaN        NaN   \n",
       "pompa di calore               5.106383   9.361702  6.382979   4.255319   \n",
       "solare                             NaN  50.000000       NaN        NaN   \n",
       "\n",
       "Classe_energetica                    E          F          G  \n",
       "Alimentazione_riscaldamento                                   \n",
       "elettrica                     2.666667  10.666667  30.666667  \n",
       "fotovoltaico                       NaN        NaN        NaN  \n",
       "gas                           2.949640   9.424460  80.575540  \n",
       "gpl                           2.857143        NaN  57.142857  \n",
       "metano                        4.811715  10.896095  74.058577  \n",
       "pellet                             NaN  50.000000  50.000000  \n",
       "pompa di calore               4.255319   8.510638  54.893617  \n",
       "solare                       25.000000        NaN  25.000000  "
      ]
     },
     "execution_count": 57,
     "metadata": {},
     "output_type": "execute_result"
    }
   ],
   "source": [
    "(df.groupby('Alimentazione_riscaldamento')['Classe_energetica']\n",
    " .value_counts()\n",
    " .unstack()\n",
    " .apply(lambda x: x/x.sum()*100, axis=1))"
   ]
  },
  {
   "cell_type": "code",
   "execution_count": 58,
   "metadata": {},
   "outputs": [
    {
     "data": {
      "text/plain": [
       "G     6751\n",
       "F      785\n",
       "E      331\n",
       "A      201\n",
       "B      176\n",
       "D      160\n",
       "C      125\n",
       "A4     115\n",
       "A1      34\n",
       "A2      23\n",
       "A3      13\n",
       "Name: Classe_energetica, dtype: int64"
      ]
     },
     "execution_count": 58,
     "metadata": {},
     "output_type": "execute_result"
    }
   ],
   "source": [
    "# Impute by most frequent\n",
    "df['Classe_energetica'] = df['Classe_energetica'].fillna(df['Classe_energetica'].value_counts().index[0])\n",
    "\n",
    "df['Classe_energetica'].value_counts()"
   ]
  },
  {
   "cell_type": "code",
   "execution_count": 59,
   "metadata": {},
   "outputs": [],
   "source": [
    "df = df.drop(columns=['Efficienza energetica'])"
   ]
  },
  {
   "cell_type": "markdown",
   "metadata": {},
   "source": [
    "#### Listing date"
   ]
  },
  {
   "cell_type": "code",
   "execution_count": 60,
   "metadata": {},
   "outputs": [
    {
     "data": {
      "text/plain": [
       "0       A0049 - 05/10/2020\n",
       "1      alv275 - 05/10/2020\n",
       "2    Novoli B - 05/10/2020\n",
       "3    Novoli A - 05/10/2020\n",
       "4     MAZZ328 - 05/10/2020\n",
       "Name: Riferimento e data annuncio, dtype: object"
      ]
     },
     "execution_count": 60,
     "metadata": {},
     "output_type": "execute_result"
    }
   ],
   "source": [
    "df['Riferimento e data annuncio'].head()"
   ]
  },
  {
   "cell_type": "code",
   "execution_count": 61,
   "metadata": {},
   "outputs": [],
   "source": [
    "df['Data_annuncio'] = (df['Riferimento e data annuncio']\n",
    "                       .str.split('-')\n",
    "                       .str[-1]\n",
    "                       .str.strip()\n",
    "                       .astype('datetime64[D]'))"
   ]
  },
  {
   "cell_type": "code",
   "execution_count": 62,
   "metadata": {},
   "outputs": [],
   "source": [
    "df = df.drop(columns=['Riferimento e data annuncio'])"
   ]
  },
  {
   "cell_type": "markdown",
   "metadata": {},
   "source": [
    "#### Floor"
   ]
  },
  {
   "cell_type": "code",
   "execution_count": 63,
   "metadata": {
    "scrolled": true
   },
   "outputs": [
    {
     "data": {
      "text/plain": [
       "array(['1° piano', '3° piano, con ascensore', '5° piano, con ascensore',\n",
       "       'da seminterrato a 1°, con ascensore',\n",
       "       'da seminterrato a piano terra, con ascensore, con accesso disabili',\n",
       "       '3° piano', '2° piano', 'Piano terra', '1° piano, con ascensore',\n",
       "       'Piano terra, con ascensore', 'Piano rialzato',\n",
       "       'da 4° a 5°, con ascensore', '4° piano, con ascensore',\n",
       "       'Piano rialzato, con ascensore', '6° piano, con ascensore',\n",
       "       '2° piano, con ascensore, con accesso disabili', 'Seminterrato',\n",
       "       'da piano terra a piano rialzato', '2° piano, con ascensore',\n",
       "       'Piano rialzato, con ascensore, con accesso disabili',\n",
       "       '1° piano, con ascensore, con accesso disabili',\n",
       "       'Piano terra, con accesso disabili', '4° piano',\n",
       "       '3° piano, con ascensore, con accesso disabili',\n",
       "       'da 5° a 6°, con ascensore',\n",
       "       '5° piano, con ascensore, con accesso disabili',\n",
       "       '7° piano, con ascensore',\n",
       "       '4°, con ascensore, con accesso disabili',\n",
       "       'da seminterrato a 5°, con ascensore',\n",
       "       'Piano terra, con ascensore, con accesso disabili',\n",
       "       'Piano rialzato, con accesso disabili', 'da piano terra a 2°',\n",
       "       'da piano terra a 1°', 'da 1° a 2°', '1°',\n",
       "       'da interrato a 1°, con ascensore, con accesso disabili',\n",
       "       'da seminterrato a 1°, con ascensore, con accesso disabili',\n",
       "       'da seminterrato a 4°, con ascensore, con accesso disabili',\n",
       "       'da seminterrato a 2°, con ascensore, con accesso disabili',\n",
       "       'da seminterrato a piano terra', 'da 1° a 2°, con ascensore',\n",
       "       '6°, con ascensore', '6°, con ascensore, con accesso disabili',\n",
       "       '2°', '1° piano, con accesso disabili', '5° piano',\n",
       "       '1°, con ascensore, con accesso disabili',\n",
       "       'da 6° a 7°, con ascensore',\n",
       "       '4° piano, con ascensore, con accesso disabili',\n",
       "       'da interrato a 1°, con ascensore', nan,\n",
       "       'da interrato a piano rialzato, con accesso disabili',\n",
       "       '5°, con ascensore, con accesso disabili', '2°, con ascensore',\n",
       "       '3°, con ascensore',\n",
       "       '6° piano, con ascensore, con accesso disabili',\n",
       "       'Su più livelli, con ascensore', '1°, con ascensore',\n",
       "       'da seminterrato a 3°, con ascensore, con accesso disabili',\n",
       "       'Ammezzato', 'Su più livelli', '5°, con ascensore',\n",
       "       '2°, con ascensore, con accesso disabili',\n",
       "       'da 2° a 3°, con ascensore', 'da seminterrato a 1°',\n",
       "       'da seminterrato a 4°, con ascensore',\n",
       "       'Seminterrato, con ascensore, con accesso disabili', '2°, 4°',\n",
       "       'da seminterrato a piano rialzato, con ascensore',\n",
       "       '4°, con ascensore', 'da 2° a 3°', '7°, con ascensore',\n",
       "       'da seminterrato a 2°, con ascensore',\n",
       "       'da piano terra a 5°, con ascensore',\n",
       "       '3°, con ascensore, con accesso disabili',\n",
       "       '8° piano, con ascensore', '3°',\n",
       "       'da piano terra a 4°, con ascensore',\n",
       "       'da piano terra a piano rialzato, con ascensore',\n",
       "       '8°, con ascensore, con accesso disabili',\n",
       "       'da seminterrato a piano rialzato, con ascensore, con accesso disabili',\n",
       "       'da seminterrato a 2°', 'da seminterrato a 3°, con ascensore',\n",
       "       'da piano terra a 3°, con ascensore, con accesso disabili',\n",
       "       'da piano terra a 5°, con ascensore, con accesso disabili',\n",
       "       'da piano terra a 1°, con ascensore, con accesso disabili',\n",
       "       '6° piano', 'Seminterrato, con ascensore',\n",
       "       'da piano terra a 1°, con accesso disabili',\n",
       "       'Interrato, con ascensore', 'da ammezzato a 3°',\n",
       "       'da piano terra a 3°', 'da 3° a 4°', 'da ammezzato a 1°',\n",
       "       'da interrato a 1°, con accesso disabili', '4°',\n",
       "       'da interrato a piano rialzato, con ascensore',\n",
       "       'Seminterrato, con accesso disabili',\n",
       "       'da interrato a 5°, con ascensore, con accesso disabili',\n",
       "       'Interrato (-2), con ascensore', 'da interrato a 2°',\n",
       "       'da interrato a piano terra', 'da 1° a 3°',\n",
       "       'da piano terra a 1°, con ascensore',\n",
       "       'da seminterrato a ammezzato',\n",
       "       'da interrato a 4°, con ascensore, con accesso disabili',\n",
       "       'da seminterrato a 2°, con accesso disabili',\n",
       "       'da piano terra a 2°, con ascensore', '1°, con accesso disabili',\n",
       "       '8° piano, con ascensore, con accesso disabili',\n",
       "       'da seminterrato a 5°, con ascensore, con accesso disabili',\n",
       "       '7° piano, con ascensore, con accesso disabili',\n",
       "       'da piano terra a 2°, con ascensore, con accesso disabili',\n",
       "       '3°, 7°, con ascensore, con accesso disabili',\n",
       "       'da interrato a piano rialzato',\n",
       "       'da 6° a 7°, con ascensore, con accesso disabili',\n",
       "       'da interrato a 2°, con ascensore', 'Ammezzato, con ascensore',\n",
       "       'da piano terra a su più livelli', 'da seminterrato a 3°',\n",
       "       '1°, Ultimo, con ascensore, con accesso disabili',\n",
       "       'da piano terra a ultimo', 'Ultimo piano, con ascensore',\n",
       "       'da seminterrato a 4°',\n",
       "       'Ultimo piano, con ascensore, con accesso disabili',\n",
       "       'Ultimo piano',\n",
       "       'da seminterrato a 7°, con ascensore, con accesso disabili',\n",
       "       'da piano rialzato a 1°, con ascensore, con accesso disabili',\n",
       "       '1°, Ultimo, con ascensore', 'Ultimo',\n",
       "       'Ultimo, con ascensore, con accesso disabili', '7°',\n",
       "       'da interrato a 4°, con ascensore', '8°, con ascensore',\n",
       "       'Scantinato, 1°, >10',\n",
       "       'da seminterrato a 1°, con accesso disabili',\n",
       "       'da piano terra a piano rialzato, con accesso disabili',\n",
       "       'Interrato', '2°, con accesso disabili',\n",
       "       'da interrato a 3°, con ascensore',\n",
       "       'da seminterrato a piano terra, con accesso disabili',\n",
       "       'da 3° a 4°, con ascensore, con accesso disabili',\n",
       "       'da seminterrato a piano terra, con ascensore',\n",
       "       'da 3° a 4°, con ascensore',\n",
       "       'da piano terra a ultimo, con ascensore, con accesso disabili',\n",
       "       'da piano rialzato a 2°, con ascensore', 'da interrato a 3°',\n",
       "       'da interrato a 3°, con ascensore, con accesso disabili',\n",
       "       'da interrato a ultimo', 'Scantinato, da piano terra a 1°, Ultimo',\n",
       "       'da 1° a 2°, con ascensore, con accesso disabili',\n",
       "       '2° piano, con accesso disabili', '1°, Ultimo',\n",
       "       'da interrato a piano terra, con ascensore',\n",
       "       'da seminterrato a ultimo', 'da seminterrato a 6°, con ascensore',\n",
       "       'da 4° a 5°', 'da piano terra a 2°, con accesso disabili',\n",
       "       'da interrato a 2°, con ascensore, con accesso disabili',\n",
       "       'da seminterrato a piano rialzato',\n",
       "       'da interrato a 2°, con accesso disabili',\n",
       "       'da piano terra a 7°, con ascensore, con accesso disabili',\n",
       "       '3°, 6°, con ascensore', 'da piano rialzato a 1°',\n",
       "       '2°, 5°, con ascensore',\n",
       "       'da piano terra a 4°, con ascensore, con accesso disabili',\n",
       "       '2°, Ultimo', '8°, Ultimo, con ascensore',\n",
       "       'da 1° a 2°, Ultimo, con accesso disabili',\n",
       "       'da piano terra a 3°, con accesso disabili',\n",
       "       '7°, con ascensore, con accesso disabili', 'da interrato a 1°',\n",
       "       '7° piano', 'da 5° a 6°, con ascensore, con accesso disabili',\n",
       "       '3°, Ultimo, con ascensore, con accesso disabili',\n",
       "       'Ultimo piano, con accesso disabili',\n",
       "       'da seminterrato a piano rialzato, con accesso disabili',\n",
       "       'da interrato a 6°, con ascensore',\n",
       "       '9°, con ascensore, con accesso disabili',\n",
       "       'da piano terra a 4°, Ultimo, con ascensore, con accesso disabili',\n",
       "       'Oltre il decimo piano, con ascensore, con accesso disabili',\n",
       "       'da piano terra a ammezzato',\n",
       "       'da piano terra a 1°, Ultimo, con ascensore, con accesso disabili',\n",
       "       'da piano terra a ammezzato, con ascensore',\n",
       "       'Oltre il decimo piano, con ascensore',\n",
       "       'da piano terra a 3°, con ascensore', 'Ultimo, con ascensore',\n",
       "       '10° piano, con ascensore', 'da piano terra a 7°, con ascensore',\n",
       "       '9° piano, con ascensore', 'da piano terra a 1°, Ultimo',\n",
       "       'da piano terra a 1°, Ultimo, con accesso disabili',\n",
       "       '4° piano, con accesso disabili',\n",
       "       'Scantinato, Piano terra, con ascensore',\n",
       "       'da interrato a su più livelli, con ascensore',\n",
       "       '4°, 6°, con ascensore',\n",
       "       'da piano terra a 1°, Ultimo, con ascensore',\n",
       "       '2°, 4°, con ascensore'], dtype=object)"
      ]
     },
     "execution_count": 63,
     "metadata": {},
     "output_type": "execute_result"
    }
   ],
   "source": [
    "df['Piano'].unique()"
   ]
  },
  {
   "cell_type": "code",
   "execution_count": 64,
   "metadata": {},
   "outputs": [
    {
     "data": {
      "text/plain": [
       "1° piano                                            1097\n",
       "Piano terra                                          995\n",
       "1° piano, con ascensore                              673\n",
       "2° piano                                             635\n",
       "3° piano                                             492\n",
       "2° piano, con ascensore                              471\n",
       "3° piano, con ascensore                              424\n",
       "4° piano, con ascensore                              361\n",
       "Piano terra, con accesso disabili                    273\n",
       "Piano rialzato                                       254\n",
       "Piano terra, con ascensore                           225\n",
       "1° piano, con ascensore, con accesso disabili        194\n",
       "Piano rialzato, con ascensore                        150\n",
       "5° piano, con ascensore                              144\n",
       "Ultimo piano                                         139\n",
       "2° piano, con ascensore, con accesso disabili        125\n",
       "4° piano                                             113\n",
       "3° piano, con ascensore, con accesso disabili        112\n",
       "Piano terra, con ascensore, con accesso disabili     104\n",
       "Seminterrato                                          86\n",
       "4° piano, con ascensore, con accesso disabili         84\n",
       "da piano terra a 1°                                   83\n",
       "Piano rialzato, con accesso disabili                  72\n",
       "Ultimo piano, con ascensore                           71\n",
       "7° piano, con ascensore                               69\n",
       "6° piano, con ascensore                               51\n",
       "1°                                                    51\n",
       "Name: Piano, dtype: int64"
      ]
     },
     "execution_count": 64,
     "metadata": {},
     "output_type": "execute_result"
    }
   ],
   "source": [
    "df['Piano'].value_counts().loc[df['Piano'].value_counts() > 50]"
   ]
  },
  {
   "cell_type": "code",
   "execution_count": 65,
   "metadata": {},
   "outputs": [],
   "source": [
    "# Create elevator feature\n",
    "mask = df['Piano'].str.match(r'.*ascensore.*')\n",
    "\n",
    "df['Ascensore'] = mask.astype('float')\n",
    "df['Ascensore'] = df['Ascensore'].fillna(df['Ascensore'].value_counts().index[0])"
   ]
  },
  {
   "cell_type": "code",
   "execution_count": 66,
   "metadata": {
    "scrolled": true
   },
   "outputs": [
    {
     "data": {
      "text/html": [
       "<div>\n",
       "<style scoped>\n",
       "    .dataframe tbody tr th:only-of-type {\n",
       "        vertical-align: middle;\n",
       "    }\n",
       "\n",
       "    .dataframe tbody tr th {\n",
       "        vertical-align: top;\n",
       "    }\n",
       "\n",
       "    .dataframe thead th {\n",
       "        text-align: right;\n",
       "    }\n",
       "</style>\n",
       "<table border=\"1\" class=\"dataframe\">\n",
       "  <thead>\n",
       "    <tr style=\"text-align: right;\">\n",
       "      <th></th>\n",
       "      <th>Tipologia</th>\n",
       "      <th>Locali</th>\n",
       "      <th>Piano</th>\n",
       "      <th>Totale piani edificio</th>\n",
       "      <th>Altre caratteristiche</th>\n",
       "      <th>Posti auto</th>\n",
       "      <th>Zona</th>\n",
       "      <th>Anno di costruzione</th>\n",
       "      <th>Stato</th>\n",
       "      <th>Prezzo_EUR</th>\n",
       "      <th>Superficie_m2</th>\n",
       "      <th>Prezzo_per_m2</th>\n",
       "      <th>Tipo_proprietà</th>\n",
       "      <th>Riscaldamento_A_C</th>\n",
       "      <th>Tipo_riscaldamento</th>\n",
       "      <th>Alimentazione_riscaldamento</th>\n",
       "      <th>Classe_energetica</th>\n",
       "      <th>Data_annuncio</th>\n",
       "      <th>Ascensore</th>\n",
       "    </tr>\n",
       "  </thead>\n",
       "  <tbody>\n",
       "    <tr>\n",
       "      <th>313</th>\n",
       "      <td>Terratetto unifamiliare</td>\n",
       "      <td>5+ (3 camere da letto, 7 altri), 3 bagni, cuci...</td>\n",
       "      <td>NaN</td>\n",
       "      <td>NaN</td>\n",
       "      <td>Terrazza\\n                \\n\\n                ...</td>\n",
       "      <td>NaN</td>\n",
       "      <td>Zona Bolognese Le Cure</td>\n",
       "      <td>NaN</td>\n",
       "      <td>Da ristrutturare</td>\n",
       "      <td>1095000.0</td>\n",
       "      <td>250.0</td>\n",
       "      <td>4380.000000</td>\n",
       "      <td>Classe immobile signorile</td>\n",
       "      <td>Autonomo</td>\n",
       "      <td>radiatori</td>\n",
       "      <td>metano</td>\n",
       "      <td>G</td>\n",
       "      <td>2020-02-10</td>\n",
       "      <td>0.0</td>\n",
       "    </tr>\n",
       "    <tr>\n",
       "      <th>321</th>\n",
       "      <td>Rustico</td>\n",
       "      <td>5 locali</td>\n",
       "      <td>NaN</td>\n",
       "      <td>NaN</td>\n",
       "      <td>NaN</td>\n",
       "      <td>NaN</td>\n",
       "      <td>Zona Firenze Sud</td>\n",
       "      <td>NaN</td>\n",
       "      <td>Buono / Abitabile</td>\n",
       "      <td>950000.0</td>\n",
       "      <td>250.0</td>\n",
       "      <td>3800.000000</td>\n",
       "      <td>Intera proprietà, classe immobile economica</td>\n",
       "      <td>Centralizzato</td>\n",
       "      <td>radiatori</td>\n",
       "      <td>metano</td>\n",
       "      <td>G</td>\n",
       "      <td>2020-02-10</td>\n",
       "      <td>0.0</td>\n",
       "    </tr>\n",
       "    <tr>\n",
       "      <th>411</th>\n",
       "      <td>Appartamento</td>\n",
       "      <td>4 (2 camere da letto, 2 altri), 1 bagno, cucin...</td>\n",
       "      <td>NaN</td>\n",
       "      <td>3 piani</td>\n",
       "      <td>NaN</td>\n",
       "      <td>NaN</td>\n",
       "      <td>Zona Firenze Sud</td>\n",
       "      <td>NaN</td>\n",
       "      <td>Buono / Abitabile</td>\n",
       "      <td>250000.0</td>\n",
       "      <td>70.0</td>\n",
       "      <td>3571.428571</td>\n",
       "      <td>Intera proprietà, classe immobile economica</td>\n",
       "      <td>Centralizzato</td>\n",
       "      <td>radiatori</td>\n",
       "      <td>metano</td>\n",
       "      <td>G</td>\n",
       "      <td>2020-09-29</td>\n",
       "      <td>0.0</td>\n",
       "    </tr>\n",
       "    <tr>\n",
       "      <th>530</th>\n",
       "      <td>Appartamento</td>\n",
       "      <td>2 (1 camera da letto, 1 altro), 1 bagno, cucin...</td>\n",
       "      <td>NaN</td>\n",
       "      <td>2 piani</td>\n",
       "      <td>Balcone</td>\n",
       "      <td>NaN</td>\n",
       "      <td>Leopoldo Porta Al Prato</td>\n",
       "      <td>NaN</td>\n",
       "      <td>Ottimo / Ristrutturato</td>\n",
       "      <td>185000.0</td>\n",
       "      <td>48.0</td>\n",
       "      <td>3854.166667</td>\n",
       "      <td>Intera proprietà, classe immobile media</td>\n",
       "      <td>Autonomo</td>\n",
       "      <td>radiatori</td>\n",
       "      <td>metano</td>\n",
       "      <td>G</td>\n",
       "      <td>2020-02-10</td>\n",
       "      <td>0.0</td>\n",
       "    </tr>\n",
       "    <tr>\n",
       "      <th>533</th>\n",
       "      <td>Appartamento</td>\n",
       "      <td>2 (1 camera da letto, 1 altro), 1 bagno, cucin...</td>\n",
       "      <td>NaN</td>\n",
       "      <td>2 piani</td>\n",
       "      <td>Balcone</td>\n",
       "      <td>NaN</td>\n",
       "      <td>Leopoldo Porta Al Prato</td>\n",
       "      <td>NaN</td>\n",
       "      <td>Ottimo / Ristrutturato</td>\n",
       "      <td>215000.0</td>\n",
       "      <td>52.0</td>\n",
       "      <td>4134.615385</td>\n",
       "      <td>Intera proprietà, classe immobile media</td>\n",
       "      <td>Autonomo</td>\n",
       "      <td>radiatori</td>\n",
       "      <td>metano</td>\n",
       "      <td>G</td>\n",
       "      <td>2020-03-10</td>\n",
       "      <td>0.0</td>\n",
       "    </tr>\n",
       "    <tr>\n",
       "      <th>...</th>\n",
       "      <td>...</td>\n",
       "      <td>...</td>\n",
       "      <td>...</td>\n",
       "      <td>...</td>\n",
       "      <td>...</td>\n",
       "      <td>...</td>\n",
       "      <td>...</td>\n",
       "      <td>...</td>\n",
       "      <td>...</td>\n",
       "      <td>...</td>\n",
       "      <td>...</td>\n",
       "      <td>...</td>\n",
       "      <td>...</td>\n",
       "      <td>...</td>\n",
       "      <td>...</td>\n",
       "      <td>...</td>\n",
       "      <td>...</td>\n",
       "      <td>...</td>\n",
       "      <td>...</td>\n",
       "    </tr>\n",
       "    <tr>\n",
       "      <th>8493</th>\n",
       "      <td>Appartamento</td>\n",
       "      <td>5+ (6 camere da letto, 6 altri), 3+ bagni, cuc...</td>\n",
       "      <td>NaN</td>\n",
       "      <td>NaN</td>\n",
       "      <td>Arredato</td>\n",
       "      <td>NaN</td>\n",
       "      <td>Centro</td>\n",
       "      <td>NaN</td>\n",
       "      <td>Ottimo / Ristrutturato</td>\n",
       "      <td>1400000.0</td>\n",
       "      <td>300.0</td>\n",
       "      <td>4666.666667</td>\n",
       "      <td>Intera proprietà, classe immobile media</td>\n",
       "      <td>Autonomo</td>\n",
       "      <td>radiatori</td>\n",
       "      <td>metano</td>\n",
       "      <td>G</td>\n",
       "      <td>2018-01-29</td>\n",
       "      <td>0.0</td>\n",
       "    </tr>\n",
       "    <tr>\n",
       "      <th>8643</th>\n",
       "      <td>Appartamento</td>\n",
       "      <td>5 (4 camere da letto, 1 altro), 2 bagni, cucin...</td>\n",
       "      <td>NaN</td>\n",
       "      <td>3 piani</td>\n",
       "      <td>Giardino comune</td>\n",
       "      <td>NaN</td>\n",
       "      <td>Campo Di Marte Liberta</td>\n",
       "      <td>NaN</td>\n",
       "      <td>Nuovo / In costruzione</td>\n",
       "      <td>650000.0</td>\n",
       "      <td>110.0</td>\n",
       "      <td>5909.090909</td>\n",
       "      <td>Intera proprietà</td>\n",
       "      <td>Autonomo</td>\n",
       "      <td>radiatori</td>\n",
       "      <td>metano</td>\n",
       "      <td>A</td>\n",
       "      <td>2018-05-03</td>\n",
       "      <td>0.0</td>\n",
       "    </tr>\n",
       "    <tr>\n",
       "      <th>8651</th>\n",
       "      <td>Appartamento</td>\n",
       "      <td>4 (1 camera da letto, 3 altri), 2 bagni, cucin...</td>\n",
       "      <td>NaN</td>\n",
       "      <td>NaN</td>\n",
       "      <td>Giardino comune</td>\n",
       "      <td>NaN</td>\n",
       "      <td>Bellosguardo Galluzzo</td>\n",
       "      <td>NaN</td>\n",
       "      <td>Ottimo / Ristrutturato</td>\n",
       "      <td>1700000.0</td>\n",
       "      <td>200.0</td>\n",
       "      <td>8500.000000</td>\n",
       "      <td>Intera proprietà, immobile di lusso</td>\n",
       "      <td>Autonomo</td>\n",
       "      <td>radiatori</td>\n",
       "      <td>metano</td>\n",
       "      <td>G</td>\n",
       "      <td>2016-08-09</td>\n",
       "      <td>0.0</td>\n",
       "    </tr>\n",
       "    <tr>\n",
       "      <th>8705</th>\n",
       "      <td>Appartamento</td>\n",
       "      <td>5+ (4 camere da letto, 3 altri), 3+ bagni, cuc...</td>\n",
       "      <td>NaN</td>\n",
       "      <td>NaN</td>\n",
       "      <td>Cancello elettrico\\n                \\n\\n      ...</td>\n",
       "      <td>1 in garage/box, 5 all'esterno</td>\n",
       "      <td>Campo Di Marte Liberta</td>\n",
       "      <td>NaN</td>\n",
       "      <td>Nuovo / In costruzione</td>\n",
       "      <td>1700000.0</td>\n",
       "      <td>450.0</td>\n",
       "      <td>3777.777778</td>\n",
       "      <td>Intera proprietà, classe immobile signorile</td>\n",
       "      <td>Centralizzato</td>\n",
       "      <td>radiatori</td>\n",
       "      <td>metano</td>\n",
       "      <td>G</td>\n",
       "      <td>2015-02-23</td>\n",
       "      <td>0.0</td>\n",
       "    </tr>\n",
       "    <tr>\n",
       "      <th>8710</th>\n",
       "      <td>Villa unifamiliare</td>\n",
       "      <td>5 locali, 3+ bagni, cucina abitabile</td>\n",
       "      <td>NaN</td>\n",
       "      <td>NaN</td>\n",
       "      <td>Terrazza\\n                \\n\\n                ...</td>\n",
       "      <td>1 all'esterno</td>\n",
       "      <td>Zona Bolognese Le Cure</td>\n",
       "      <td>NaN</td>\n",
       "      <td>Buono / Abitabile</td>\n",
       "      <td>2500000.0</td>\n",
       "      <td>340.0</td>\n",
       "      <td>7352.941176</td>\n",
       "      <td>Intera proprietà, classe immobile economica</td>\n",
       "      <td>Autonomo</td>\n",
       "      <td>radiatori</td>\n",
       "      <td>metano</td>\n",
       "      <td>G</td>\n",
       "      <td>2016-08-24</td>\n",
       "      <td>0.0</td>\n",
       "    </tr>\n",
       "  </tbody>\n",
       "</table>\n",
       "<p>154 rows × 19 columns</p>\n",
       "</div>"
      ],
      "text/plain": [
       "                    Tipologia  \\\n",
       "313   Terratetto unifamiliare   \n",
       "321                   Rustico   \n",
       "411              Appartamento   \n",
       "530              Appartamento   \n",
       "533              Appartamento   \n",
       "...                       ...   \n",
       "8493             Appartamento   \n",
       "8643             Appartamento   \n",
       "8651             Appartamento   \n",
       "8705             Appartamento   \n",
       "8710       Villa unifamiliare   \n",
       "\n",
       "                                                 Locali Piano  \\\n",
       "313   5+ (3 camere da letto, 7 altri), 3 bagni, cuci...   NaN   \n",
       "321                                            5 locali   NaN   \n",
       "411   4 (2 camere da letto, 2 altri), 1 bagno, cucin...   NaN   \n",
       "530   2 (1 camera da letto, 1 altro), 1 bagno, cucin...   NaN   \n",
       "533   2 (1 camera da letto, 1 altro), 1 bagno, cucin...   NaN   \n",
       "...                                                 ...   ...   \n",
       "8493  5+ (6 camere da letto, 6 altri), 3+ bagni, cuc...   NaN   \n",
       "8643  5 (4 camere da letto, 1 altro), 2 bagni, cucin...   NaN   \n",
       "8651  4 (1 camera da letto, 3 altri), 2 bagni, cucin...   NaN   \n",
       "8705  5+ (4 camere da letto, 3 altri), 3+ bagni, cuc...   NaN   \n",
       "8710               5 locali, 3+ bagni, cucina abitabile   NaN   \n",
       "\n",
       "     Totale piani edificio                              Altre caratteristiche  \\\n",
       "313                    NaN  Terrazza\\n                \\n\\n                ...   \n",
       "321                    NaN                                                NaN   \n",
       "411                3 piani                                                NaN   \n",
       "530                2 piani                                            Balcone   \n",
       "533                2 piani                                            Balcone   \n",
       "...                    ...                                                ...   \n",
       "8493                   NaN                                           Arredato   \n",
       "8643               3 piani                                    Giardino comune   \n",
       "8651                   NaN                                    Giardino comune   \n",
       "8705                   NaN  Cancello elettrico\\n                \\n\\n      ...   \n",
       "8710                   NaN  Terrazza\\n                \\n\\n                ...   \n",
       "\n",
       "                          Posti auto                     Zona  \\\n",
       "313                              NaN   Zona Bolognese Le Cure   \n",
       "321                              NaN         Zona Firenze Sud   \n",
       "411                              NaN         Zona Firenze Sud   \n",
       "530                              NaN  Leopoldo Porta Al Prato   \n",
       "533                              NaN  Leopoldo Porta Al Prato   \n",
       "...                              ...                      ...   \n",
       "8493                             NaN                   Centro   \n",
       "8643                             NaN   Campo Di Marte Liberta   \n",
       "8651                             NaN    Bellosguardo Galluzzo   \n",
       "8705  1 in garage/box, 5 all'esterno   Campo Di Marte Liberta   \n",
       "8710                   1 all'esterno   Zona Bolognese Le Cure   \n",
       "\n",
       "      Anno di costruzione                   Stato  Prezzo_EUR  Superficie_m2  \\\n",
       "313                   NaN        Da ristrutturare   1095000.0          250.0   \n",
       "321                   NaN       Buono / Abitabile    950000.0          250.0   \n",
       "411                   NaN       Buono / Abitabile    250000.0           70.0   \n",
       "530                   NaN  Ottimo / Ristrutturato    185000.0           48.0   \n",
       "533                   NaN  Ottimo / Ristrutturato    215000.0           52.0   \n",
       "...                   ...                     ...         ...            ...   \n",
       "8493                  NaN  Ottimo / Ristrutturato   1400000.0          300.0   \n",
       "8643                  NaN  Nuovo / In costruzione    650000.0          110.0   \n",
       "8651                  NaN  Ottimo / Ristrutturato   1700000.0          200.0   \n",
       "8705                  NaN  Nuovo / In costruzione   1700000.0          450.0   \n",
       "8710                  NaN       Buono / Abitabile   2500000.0          340.0   \n",
       "\n",
       "      Prezzo_per_m2                               Tipo_proprietà  \\\n",
       "313     4380.000000                    Classe immobile signorile   \n",
       "321     3800.000000  Intera proprietà, classe immobile economica   \n",
       "411     3571.428571  Intera proprietà, classe immobile economica   \n",
       "530     3854.166667      Intera proprietà, classe immobile media   \n",
       "533     4134.615385      Intera proprietà, classe immobile media   \n",
       "...             ...                                          ...   \n",
       "8493    4666.666667      Intera proprietà, classe immobile media   \n",
       "8643    5909.090909                             Intera proprietà   \n",
       "8651    8500.000000          Intera proprietà, immobile di lusso   \n",
       "8705    3777.777778  Intera proprietà, classe immobile signorile   \n",
       "8710    7352.941176  Intera proprietà, classe immobile economica   \n",
       "\n",
       "     Riscaldamento_A_C Tipo_riscaldamento Alimentazione_riscaldamento  \\\n",
       "313           Autonomo          radiatori                      metano   \n",
       "321      Centralizzato          radiatori                      metano   \n",
       "411      Centralizzato          radiatori                      metano   \n",
       "530           Autonomo          radiatori                      metano   \n",
       "533           Autonomo          radiatori                      metano   \n",
       "...                ...                ...                         ...   \n",
       "8493          Autonomo          radiatori                      metano   \n",
       "8643          Autonomo          radiatori                      metano   \n",
       "8651          Autonomo          radiatori                      metano   \n",
       "8705     Centralizzato          radiatori                      metano   \n",
       "8710          Autonomo          radiatori                      metano   \n",
       "\n",
       "     Classe_energetica Data_annuncio  Ascensore  \n",
       "313                  G    2020-02-10        0.0  \n",
       "321                  G    2020-02-10        0.0  \n",
       "411                  G    2020-09-29        0.0  \n",
       "530                  G    2020-02-10        0.0  \n",
       "533                  G    2020-03-10        0.0  \n",
       "...                ...           ...        ...  \n",
       "8493                 G    2018-01-29        0.0  \n",
       "8643                 A    2018-05-03        0.0  \n",
       "8651                 G    2016-08-09        0.0  \n",
       "8705                 G    2015-02-23        0.0  \n",
       "8710                 G    2016-08-24        0.0  \n",
       "\n",
       "[154 rows x 19 columns]"
      ]
     },
     "execution_count": 66,
     "metadata": {},
     "output_type": "execute_result"
    }
   ],
   "source": [
    "df.loc[df['Piano'].isna(), :]"
   ]
  },
  {
   "cell_type": "code",
   "execution_count": 67,
   "metadata": {
    "scrolled": true
   },
   "outputs": [
    {
     "data": {
      "text/plain": [
       "0.0    7369\n",
       "1.0    1345\n",
       "Name: Accesso_disabili, dtype: int64"
      ]
     },
     "execution_count": 67,
     "metadata": {},
     "output_type": "execute_result"
    }
   ],
   "source": [
    "# Create access for disabled people feature\n",
    "mask = df['Piano'].str.match(r'.*accesso disabili.*')\n",
    "\n",
    "df['Accesso_disabili'] = mask.astype('float')\n",
    "df['Accesso_disabili'] = df['Accesso_disabili'].fillna(df['Accesso_disabili'].value_counts().index[0])\n",
    "\n",
    "df['Accesso_disabili'].value_counts()"
   ]
  },
  {
   "cell_type": "code",
   "execution_count": 68,
   "metadata": {},
   "outputs": [
    {
     "data": {
      "text/plain": [
       "1°                 2114\n",
       "terra              1598\n",
       "2°                 1302\n",
       "3°                 1086\n",
       "4°                  594\n",
       "più livelli         572\n",
       "rialzato            508\n",
       "ultimo              253\n",
       "5°                  202\n",
       "interrato           114\n",
       "7°                   86\n",
       "6°                   72\n",
       "8°                   31\n",
       "ammezzato            22\n",
       "9°                    3\n",
       "oltre il decimo       2\n",
       "10°                   1\n",
       "Name: Piani, dtype: int64"
      ]
     },
     "execution_count": 68,
     "metadata": {},
     "output_type": "execute_result"
    }
   ],
   "source": [
    "# Create multiple floors feature\n",
    "mask1 = df['Piano'].str.match(r'.*\\d+°.*').fillna(False)\n",
    "mask2 = df['Piano'].str.match(r'.*[pP]iano terra.*').fillna(False)\n",
    "mask3 = df['Piano'].str.match(r'[uU]ltimo.*').fillna(False)\n",
    "mask4 = df['Piano'].str.match(r'[pP]iano rialzato.*').fillna(False)\n",
    "mask5 = df['Piano'].str.match(r'.*[sS]eminterrato.*').fillna(False)\n",
    "mask6 = df['Piano'].str.match(r'.*[aA]mmezzato.*').fillna(False)\n",
    "mask7 = df['Piano'].str.match(r'.*[iI]nterrato.*').fillna(False)\n",
    "mask8 = df['Piano'].str.match(r'(.*da.*|.*più livelli.*)').fillna(False)\n",
    "mask9 = df['Piano'].str.match(r'.*Oltre il decimo piano.*').fillna(False)\n",
    "\n",
    "df.loc[mask1, 'Piani'] = df.loc[mask1, 'Piano'].str.extract(r'(\\d+°)').values\n",
    "df.loc[mask2, 'Piani'] = 'terra'\n",
    "df.loc[mask3, 'Piani'] = 'ultimo'\n",
    "df.loc[mask4, 'Piani'] = 'rialzato'\n",
    "df.loc[mask5, 'Piani'] = 'seminterrato'\n",
    "df.loc[mask6, 'Piani'] = 'ammezzato'\n",
    "df.loc[mask7, 'Piani'] = 'interrato'\n",
    "df.loc[mask8, 'Piani'] = 'più livelli'\n",
    "df.loc[mask9, 'Piani'] = 'oltre il decimo'\n",
    "\n",
    "#df['Piu_livelli'] = df['Piu_livelli'].fillna(df['Piu_livelli'].value_counts().index[0])\n",
    "\n",
    "df['Piani'].value_counts()"
   ]
  },
  {
   "cell_type": "code",
   "execution_count": 69,
   "metadata": {},
   "outputs": [
    {
     "data": {
      "text/html": [
       "<div>\n",
       "<style scoped>\n",
       "    .dataframe tbody tr th:only-of-type {\n",
       "        vertical-align: middle;\n",
       "    }\n",
       "\n",
       "    .dataframe tbody tr th {\n",
       "        vertical-align: top;\n",
       "    }\n",
       "\n",
       "    .dataframe thead th {\n",
       "        text-align: right;\n",
       "    }\n",
       "</style>\n",
       "<table border=\"1\" class=\"dataframe\">\n",
       "  <thead>\n",
       "    <tr style=\"text-align: right;\">\n",
       "      <th>Piani</th>\n",
       "      <th>10°</th>\n",
       "      <th>1°</th>\n",
       "      <th>2°</th>\n",
       "      <th>3°</th>\n",
       "      <th>4°</th>\n",
       "      <th>5°</th>\n",
       "      <th>6°</th>\n",
       "      <th>7°</th>\n",
       "      <th>8°</th>\n",
       "      <th>9°</th>\n",
       "      <th>ammezzato</th>\n",
       "      <th>interrato</th>\n",
       "      <th>oltre il decimo</th>\n",
       "      <th>più livelli</th>\n",
       "      <th>rialzato</th>\n",
       "      <th>terra</th>\n",
       "      <th>ultimo</th>\n",
       "    </tr>\n",
       "    <tr>\n",
       "      <th>Tipologia</th>\n",
       "      <th></th>\n",
       "      <th></th>\n",
       "      <th></th>\n",
       "      <th></th>\n",
       "      <th></th>\n",
       "      <th></th>\n",
       "      <th></th>\n",
       "      <th></th>\n",
       "      <th></th>\n",
       "      <th></th>\n",
       "      <th></th>\n",
       "      <th></th>\n",
       "      <th></th>\n",
       "      <th></th>\n",
       "      <th></th>\n",
       "      <th></th>\n",
       "      <th></th>\n",
       "    </tr>\n",
       "  </thead>\n",
       "  <tbody>\n",
       "    <tr>\n",
       "      <th>Appartamento</th>\n",
       "      <td>0.013371</td>\n",
       "      <td>27.156037</td>\n",
       "      <td>16.807060</td>\n",
       "      <td>13.825378</td>\n",
       "      <td>7.501003</td>\n",
       "      <td>2.032357</td>\n",
       "      <td>0.775505</td>\n",
       "      <td>0.909212</td>\n",
       "      <td>0.213932</td>\n",
       "      <td>0.026742</td>\n",
       "      <td>0.280786</td>\n",
       "      <td>1.350448</td>\n",
       "      <td>NaN</td>\n",
       "      <td>5.080893</td>\n",
       "      <td>5.802915</td>\n",
       "      <td>15.443241</td>\n",
       "      <td>2.781120</td>\n",
       "    </tr>\n",
       "    <tr>\n",
       "      <th>Appartamento in villa</th>\n",
       "      <td>NaN</td>\n",
       "      <td>44.827586</td>\n",
       "      <td>6.896552</td>\n",
       "      <td>NaN</td>\n",
       "      <td>NaN</td>\n",
       "      <td>NaN</td>\n",
       "      <td>NaN</td>\n",
       "      <td>NaN</td>\n",
       "      <td>NaN</td>\n",
       "      <td>NaN</td>\n",
       "      <td>NaN</td>\n",
       "      <td>NaN</td>\n",
       "      <td>NaN</td>\n",
       "      <td>34.482759</td>\n",
       "      <td>NaN</td>\n",
       "      <td>13.793103</td>\n",
       "      <td>NaN</td>\n",
       "    </tr>\n",
       "    <tr>\n",
       "      <th>Attico</th>\n",
       "      <td>NaN</td>\n",
       "      <td>4.744526</td>\n",
       "      <td>8.029197</td>\n",
       "      <td>15.693431</td>\n",
       "      <td>11.678832</td>\n",
       "      <td>17.883212</td>\n",
       "      <td>5.109489</td>\n",
       "      <td>6.204380</td>\n",
       "      <td>5.474453</td>\n",
       "      <td>NaN</td>\n",
       "      <td>NaN</td>\n",
       "      <td>NaN</td>\n",
       "      <td>NaN</td>\n",
       "      <td>11.313869</td>\n",
       "      <td>NaN</td>\n",
       "      <td>0.729927</td>\n",
       "      <td>13.138686</td>\n",
       "    </tr>\n",
       "    <tr>\n",
       "      <th>Bed &amp; Breakfast</th>\n",
       "      <td>NaN</td>\n",
       "      <td>NaN</td>\n",
       "      <td>NaN</td>\n",
       "      <td>NaN</td>\n",
       "      <td>NaN</td>\n",
       "      <td>NaN</td>\n",
       "      <td>NaN</td>\n",
       "      <td>NaN</td>\n",
       "      <td>NaN</td>\n",
       "      <td>NaN</td>\n",
       "      <td>NaN</td>\n",
       "      <td>NaN</td>\n",
       "      <td>NaN</td>\n",
       "      <td>NaN</td>\n",
       "      <td>NaN</td>\n",
       "      <td>NaN</td>\n",
       "      <td>100.000000</td>\n",
       "    </tr>\n",
       "    <tr>\n",
       "      <th>Casa colonica</th>\n",
       "      <td>NaN</td>\n",
       "      <td>NaN</td>\n",
       "      <td>NaN</td>\n",
       "      <td>NaN</td>\n",
       "      <td>NaN</td>\n",
       "      <td>NaN</td>\n",
       "      <td>NaN</td>\n",
       "      <td>NaN</td>\n",
       "      <td>NaN</td>\n",
       "      <td>NaN</td>\n",
       "      <td>NaN</td>\n",
       "      <td>NaN</td>\n",
       "      <td>NaN</td>\n",
       "      <td>30.000000</td>\n",
       "      <td>15.000000</td>\n",
       "      <td>55.000000</td>\n",
       "      <td>NaN</td>\n",
       "    </tr>\n",
       "    <tr>\n",
       "      <th>Casale</th>\n",
       "      <td>NaN</td>\n",
       "      <td>NaN</td>\n",
       "      <td>NaN</td>\n",
       "      <td>NaN</td>\n",
       "      <td>NaN</td>\n",
       "      <td>NaN</td>\n",
       "      <td>NaN</td>\n",
       "      <td>NaN</td>\n",
       "      <td>NaN</td>\n",
       "      <td>NaN</td>\n",
       "      <td>NaN</td>\n",
       "      <td>NaN</td>\n",
       "      <td>NaN</td>\n",
       "      <td>40.000000</td>\n",
       "      <td>20.000000</td>\n",
       "      <td>40.000000</td>\n",
       "      <td>NaN</td>\n",
       "    </tr>\n",
       "    <tr>\n",
       "      <th>Loft</th>\n",
       "      <td>NaN</td>\n",
       "      <td>29.090909</td>\n",
       "      <td>10.909091</td>\n",
       "      <td>NaN</td>\n",
       "      <td>NaN</td>\n",
       "      <td>NaN</td>\n",
       "      <td>NaN</td>\n",
       "      <td>NaN</td>\n",
       "      <td>NaN</td>\n",
       "      <td>NaN</td>\n",
       "      <td>NaN</td>\n",
       "      <td>3.636364</td>\n",
       "      <td>NaN</td>\n",
       "      <td>5.454545</td>\n",
       "      <td>5.454545</td>\n",
       "      <td>45.454545</td>\n",
       "      <td>NaN</td>\n",
       "    </tr>\n",
       "    <tr>\n",
       "      <th>Mansarda</th>\n",
       "      <td>NaN</td>\n",
       "      <td>NaN</td>\n",
       "      <td>20.000000</td>\n",
       "      <td>20.000000</td>\n",
       "      <td>NaN</td>\n",
       "      <td>NaN</td>\n",
       "      <td>NaN</td>\n",
       "      <td>10.000000</td>\n",
       "      <td>NaN</td>\n",
       "      <td>10.000000</td>\n",
       "      <td>NaN</td>\n",
       "      <td>NaN</td>\n",
       "      <td>NaN</td>\n",
       "      <td>10.000000</td>\n",
       "      <td>NaN</td>\n",
       "      <td>NaN</td>\n",
       "      <td>30.000000</td>\n",
       "    </tr>\n",
       "    <tr>\n",
       "      <th>Open space</th>\n",
       "      <td>NaN</td>\n",
       "      <td>12.500000</td>\n",
       "      <td>12.500000</td>\n",
       "      <td>8.333333</td>\n",
       "      <td>NaN</td>\n",
       "      <td>NaN</td>\n",
       "      <td>NaN</td>\n",
       "      <td>NaN</td>\n",
       "      <td>NaN</td>\n",
       "      <td>NaN</td>\n",
       "      <td>NaN</td>\n",
       "      <td>29.166667</td>\n",
       "      <td>NaN</td>\n",
       "      <td>4.166667</td>\n",
       "      <td>12.500000</td>\n",
       "      <td>16.666667</td>\n",
       "      <td>4.166667</td>\n",
       "    </tr>\n",
       "    <tr>\n",
       "      <th>Rustico</th>\n",
       "      <td>NaN</td>\n",
       "      <td>22.222222</td>\n",
       "      <td>NaN</td>\n",
       "      <td>NaN</td>\n",
       "      <td>NaN</td>\n",
       "      <td>NaN</td>\n",
       "      <td>NaN</td>\n",
       "      <td>NaN</td>\n",
       "      <td>NaN</td>\n",
       "      <td>NaN</td>\n",
       "      <td>NaN</td>\n",
       "      <td>11.111111</td>\n",
       "      <td>NaN</td>\n",
       "      <td>NaN</td>\n",
       "      <td>11.111111</td>\n",
       "      <td>55.555556</td>\n",
       "      <td>NaN</td>\n",
       "    </tr>\n",
       "    <tr>\n",
       "      <th>Terratetto plurifamiliare</th>\n",
       "      <td>NaN</td>\n",
       "      <td>12.727273</td>\n",
       "      <td>3.636364</td>\n",
       "      <td>NaN</td>\n",
       "      <td>NaN</td>\n",
       "      <td>NaN</td>\n",
       "      <td>NaN</td>\n",
       "      <td>NaN</td>\n",
       "      <td>NaN</td>\n",
       "      <td>NaN</td>\n",
       "      <td>NaN</td>\n",
       "      <td>NaN</td>\n",
       "      <td>NaN</td>\n",
       "      <td>23.636364</td>\n",
       "      <td>9.090909</td>\n",
       "      <td>49.090909</td>\n",
       "      <td>1.818182</td>\n",
       "    </tr>\n",
       "    <tr>\n",
       "      <th>Terratetto unifamiliare</th>\n",
       "      <td>NaN</td>\n",
       "      <td>4.848485</td>\n",
       "      <td>NaN</td>\n",
       "      <td>0.909091</td>\n",
       "      <td>NaN</td>\n",
       "      <td>0.303030</td>\n",
       "      <td>NaN</td>\n",
       "      <td>NaN</td>\n",
       "      <td>NaN</td>\n",
       "      <td>NaN</td>\n",
       "      <td>NaN</td>\n",
       "      <td>0.303030</td>\n",
       "      <td>NaN</td>\n",
       "      <td>16.666667</td>\n",
       "      <td>11.818182</td>\n",
       "      <td>64.848485</td>\n",
       "      <td>0.303030</td>\n",
       "    </tr>\n",
       "    <tr>\n",
       "      <th>Ufficio</th>\n",
       "      <td>NaN</td>\n",
       "      <td>50.000000</td>\n",
       "      <td>NaN</td>\n",
       "      <td>NaN</td>\n",
       "      <td>NaN</td>\n",
       "      <td>NaN</td>\n",
       "      <td>NaN</td>\n",
       "      <td>NaN</td>\n",
       "      <td>NaN</td>\n",
       "      <td>NaN</td>\n",
       "      <td>NaN</td>\n",
       "      <td>NaN</td>\n",
       "      <td>NaN</td>\n",
       "      <td>NaN</td>\n",
       "      <td>50.000000</td>\n",
       "      <td>NaN</td>\n",
       "      <td>NaN</td>\n",
       "    </tr>\n",
       "    <tr>\n",
       "      <th>Villa a schiera</th>\n",
       "      <td>NaN</td>\n",
       "      <td>NaN</td>\n",
       "      <td>NaN</td>\n",
       "      <td>7.692308</td>\n",
       "      <td>NaN</td>\n",
       "      <td>NaN</td>\n",
       "      <td>NaN</td>\n",
       "      <td>NaN</td>\n",
       "      <td>NaN</td>\n",
       "      <td>NaN</td>\n",
       "      <td>NaN</td>\n",
       "      <td>NaN</td>\n",
       "      <td>NaN</td>\n",
       "      <td>30.769231</td>\n",
       "      <td>3.846154</td>\n",
       "      <td>57.692308</td>\n",
       "      <td>NaN</td>\n",
       "    </tr>\n",
       "    <tr>\n",
       "      <th>Villa bifamiliare</th>\n",
       "      <td>NaN</td>\n",
       "      <td>NaN</td>\n",
       "      <td>6.896552</td>\n",
       "      <td>NaN</td>\n",
       "      <td>NaN</td>\n",
       "      <td>NaN</td>\n",
       "      <td>NaN</td>\n",
       "      <td>NaN</td>\n",
       "      <td>NaN</td>\n",
       "      <td>NaN</td>\n",
       "      <td>NaN</td>\n",
       "      <td>3.448276</td>\n",
       "      <td>NaN</td>\n",
       "      <td>34.482759</td>\n",
       "      <td>13.793103</td>\n",
       "      <td>41.379310</td>\n",
       "      <td>NaN</td>\n",
       "    </tr>\n",
       "    <tr>\n",
       "      <th>Villa plurifamiliare</th>\n",
       "      <td>NaN</td>\n",
       "      <td>15.384615</td>\n",
       "      <td>7.692308</td>\n",
       "      <td>NaN</td>\n",
       "      <td>7.692308</td>\n",
       "      <td>NaN</td>\n",
       "      <td>NaN</td>\n",
       "      <td>NaN</td>\n",
       "      <td>NaN</td>\n",
       "      <td>NaN</td>\n",
       "      <td>NaN</td>\n",
       "      <td>NaN</td>\n",
       "      <td>15.384615</td>\n",
       "      <td>15.384615</td>\n",
       "      <td>NaN</td>\n",
       "      <td>38.461538</td>\n",
       "      <td>NaN</td>\n",
       "    </tr>\n",
       "    <tr>\n",
       "      <th>Villa unifamiliare</th>\n",
       "      <td>NaN</td>\n",
       "      <td>5.025126</td>\n",
       "      <td>2.512563</td>\n",
       "      <td>NaN</td>\n",
       "      <td>NaN</td>\n",
       "      <td>NaN</td>\n",
       "      <td>NaN</td>\n",
       "      <td>NaN</td>\n",
       "      <td>NaN</td>\n",
       "      <td>NaN</td>\n",
       "      <td>0.502513</td>\n",
       "      <td>0.502513</td>\n",
       "      <td>NaN</td>\n",
       "      <td>25.125628</td>\n",
       "      <td>6.532663</td>\n",
       "      <td>58.793970</td>\n",
       "      <td>1.005025</td>\n",
       "    </tr>\n",
       "  </tbody>\n",
       "</table>\n",
       "</div>"
      ],
      "text/plain": [
       "Piani                           10°         1°         2°         3°  \\\n",
       "Tipologia                                                              \n",
       "Appartamento               0.013371  27.156037  16.807060  13.825378   \n",
       "Appartamento in villa           NaN  44.827586   6.896552        NaN   \n",
       "Attico                          NaN   4.744526   8.029197  15.693431   \n",
       "Bed & Breakfast                 NaN        NaN        NaN        NaN   \n",
       "Casa colonica                   NaN        NaN        NaN        NaN   \n",
       "Casale                          NaN        NaN        NaN        NaN   \n",
       "Loft                            NaN  29.090909  10.909091        NaN   \n",
       "Mansarda                        NaN        NaN  20.000000  20.000000   \n",
       "Open space                      NaN  12.500000  12.500000   8.333333   \n",
       "Rustico                         NaN  22.222222        NaN        NaN   \n",
       "Terratetto plurifamiliare       NaN  12.727273   3.636364        NaN   \n",
       "Terratetto unifamiliare         NaN   4.848485        NaN   0.909091   \n",
       "Ufficio                         NaN  50.000000        NaN        NaN   \n",
       "Villa a schiera                 NaN        NaN        NaN   7.692308   \n",
       "Villa bifamiliare               NaN        NaN   6.896552        NaN   \n",
       "Villa plurifamiliare            NaN  15.384615   7.692308        NaN   \n",
       "Villa unifamiliare              NaN   5.025126   2.512563        NaN   \n",
       "\n",
       "Piani                             4°         5°        6°         7°  \\\n",
       "Tipologia                                                              \n",
       "Appartamento                7.501003   2.032357  0.775505   0.909212   \n",
       "Appartamento in villa            NaN        NaN       NaN        NaN   \n",
       "Attico                     11.678832  17.883212  5.109489   6.204380   \n",
       "Bed & Breakfast                  NaN        NaN       NaN        NaN   \n",
       "Casa colonica                    NaN        NaN       NaN        NaN   \n",
       "Casale                           NaN        NaN       NaN        NaN   \n",
       "Loft                             NaN        NaN       NaN        NaN   \n",
       "Mansarda                         NaN        NaN       NaN  10.000000   \n",
       "Open space                       NaN        NaN       NaN        NaN   \n",
       "Rustico                          NaN        NaN       NaN        NaN   \n",
       "Terratetto plurifamiliare        NaN        NaN       NaN        NaN   \n",
       "Terratetto unifamiliare          NaN   0.303030       NaN        NaN   \n",
       "Ufficio                          NaN        NaN       NaN        NaN   \n",
       "Villa a schiera                  NaN        NaN       NaN        NaN   \n",
       "Villa bifamiliare                NaN        NaN       NaN        NaN   \n",
       "Villa plurifamiliare        7.692308        NaN       NaN        NaN   \n",
       "Villa unifamiliare               NaN        NaN       NaN        NaN   \n",
       "\n",
       "Piani                            8°         9°  ammezzato  interrato  \\\n",
       "Tipologia                                                              \n",
       "Appartamento               0.213932   0.026742   0.280786   1.350448   \n",
       "Appartamento in villa           NaN        NaN        NaN        NaN   \n",
       "Attico                     5.474453        NaN        NaN        NaN   \n",
       "Bed & Breakfast                 NaN        NaN        NaN        NaN   \n",
       "Casa colonica                   NaN        NaN        NaN        NaN   \n",
       "Casale                          NaN        NaN        NaN        NaN   \n",
       "Loft                            NaN        NaN        NaN   3.636364   \n",
       "Mansarda                        NaN  10.000000        NaN        NaN   \n",
       "Open space                      NaN        NaN        NaN  29.166667   \n",
       "Rustico                         NaN        NaN        NaN  11.111111   \n",
       "Terratetto plurifamiliare       NaN        NaN        NaN        NaN   \n",
       "Terratetto unifamiliare         NaN        NaN        NaN   0.303030   \n",
       "Ufficio                         NaN        NaN        NaN        NaN   \n",
       "Villa a schiera                 NaN        NaN        NaN        NaN   \n",
       "Villa bifamiliare               NaN        NaN        NaN   3.448276   \n",
       "Villa plurifamiliare            NaN        NaN        NaN        NaN   \n",
       "Villa unifamiliare              NaN        NaN   0.502513   0.502513   \n",
       "\n",
       "Piani                      oltre il decimo  più livelli   rialzato      terra  \\\n",
       "Tipologia                                                                       \n",
       "Appartamento                           NaN     5.080893   5.802915  15.443241   \n",
       "Appartamento in villa                  NaN    34.482759        NaN  13.793103   \n",
       "Attico                                 NaN    11.313869        NaN   0.729927   \n",
       "Bed & Breakfast                        NaN          NaN        NaN        NaN   \n",
       "Casa colonica                          NaN    30.000000  15.000000  55.000000   \n",
       "Casale                                 NaN    40.000000  20.000000  40.000000   \n",
       "Loft                                   NaN     5.454545   5.454545  45.454545   \n",
       "Mansarda                               NaN    10.000000        NaN        NaN   \n",
       "Open space                             NaN     4.166667  12.500000  16.666667   \n",
       "Rustico                                NaN          NaN  11.111111  55.555556   \n",
       "Terratetto plurifamiliare              NaN    23.636364   9.090909  49.090909   \n",
       "Terratetto unifamiliare                NaN    16.666667  11.818182  64.848485   \n",
       "Ufficio                                NaN          NaN  50.000000        NaN   \n",
       "Villa a schiera                        NaN    30.769231   3.846154  57.692308   \n",
       "Villa bifamiliare                      NaN    34.482759  13.793103  41.379310   \n",
       "Villa plurifamiliare             15.384615    15.384615        NaN  38.461538   \n",
       "Villa unifamiliare                     NaN    25.125628   6.532663  58.793970   \n",
       "\n",
       "Piani                          ultimo  \n",
       "Tipologia                              \n",
       "Appartamento                 2.781120  \n",
       "Appartamento in villa             NaN  \n",
       "Attico                      13.138686  \n",
       "Bed & Breakfast            100.000000  \n",
       "Casa colonica                     NaN  \n",
       "Casale                            NaN  \n",
       "Loft                              NaN  \n",
       "Mansarda                    30.000000  \n",
       "Open space                   4.166667  \n",
       "Rustico                           NaN  \n",
       "Terratetto plurifamiliare    1.818182  \n",
       "Terratetto unifamiliare      0.303030  \n",
       "Ufficio                           NaN  \n",
       "Villa a schiera                   NaN  \n",
       "Villa bifamiliare                 NaN  \n",
       "Villa plurifamiliare              NaN  \n",
       "Villa unifamiliare           1.005025  "
      ]
     },
     "execution_count": 69,
     "metadata": {},
     "output_type": "execute_result"
    }
   ],
   "source": [
    "df.groupby('Tipologia')['Piani'].value_counts().unstack().apply(lambda x: x/x.sum()*100, axis=1)"
   ]
  },
  {
   "cell_type": "code",
   "execution_count": 70,
   "metadata": {},
   "outputs": [
    {
     "data": {
      "image/png": "[encoded data removed]",
      "text/plain": [
       "<Figure size 576x576 with 1 Axes>"
      ]
     },
     "metadata": {
      "needs_background": "light"
     },
     "output_type": "display_data"
    }
   ],
   "source": [
    "fig = plt.figure(figsize=(8, 8))\n",
    "sns.barplot(x=df['Piani'].value_counts().index, y=df['Piani'].value_counts())\n",
    "plt.xticks(rotation=45)\n",
    "plt.show()"
   ]
  },
  {
   "cell_type": "code",
   "execution_count": 71,
   "metadata": {},
   "outputs": [
    {
     "data": {
      "text/plain": [
       "154"
      ]
     },
     "execution_count": 71,
     "metadata": {},
     "output_type": "execute_result"
    }
   ],
   "source": [
    "df['Piano'].isna().sum()"
   ]
  },
  {
   "cell_type": "code",
   "execution_count": 72,
   "metadata": {},
   "outputs": [],
   "source": [
    "# We will simply impute by the most frequent for now\n",
    "df['Piani'] = df['Piani'].fillna(df['Piani'].value_counts().index[0])"
   ]
  },
  {
   "cell_type": "code",
   "execution_count": 73,
   "metadata": {
    "scrolled": true
   },
   "outputs": [
    {
     "data": {
      "text/html": [
       "<div>\n",
       "<style scoped>\n",
       "    .dataframe tbody tr th:only-of-type {\n",
       "        vertical-align: middle;\n",
       "    }\n",
       "\n",
       "    .dataframe tbody tr th {\n",
       "        vertical-align: top;\n",
       "    }\n",
       "\n",
       "    .dataframe thead th {\n",
       "        text-align: right;\n",
       "    }\n",
       "</style>\n",
       "<table border=\"1\" class=\"dataframe\">\n",
       "  <thead>\n",
       "    <tr style=\"text-align: right;\">\n",
       "      <th></th>\n",
       "      <th>Tipologia</th>\n",
       "      <th>Locali</th>\n",
       "      <th>Piano</th>\n",
       "      <th>Totale piani edificio</th>\n",
       "      <th>Altre caratteristiche</th>\n",
       "      <th>Posti auto</th>\n",
       "      <th>Zona</th>\n",
       "      <th>Anno di costruzione</th>\n",
       "      <th>Stato</th>\n",
       "      <th>Prezzo_EUR</th>\n",
       "      <th>Superficie_m2</th>\n",
       "      <th>Prezzo_per_m2</th>\n",
       "      <th>Tipo_proprietà</th>\n",
       "      <th>Riscaldamento_A_C</th>\n",
       "      <th>Tipo_riscaldamento</th>\n",
       "      <th>Alimentazione_riscaldamento</th>\n",
       "      <th>Classe_energetica</th>\n",
       "      <th>Data_annuncio</th>\n",
       "      <th>Ascensore</th>\n",
       "      <th>Accesso_disabili</th>\n",
       "      <th>Piani</th>\n",
       "    </tr>\n",
       "  </thead>\n",
       "  <tbody>\n",
       "    <tr>\n",
       "      <th>10</th>\n",
       "      <td>Appartamento</td>\n",
       "      <td>3 (2 camere da letto, 1 altro), 1 bagno, cucin...</td>\n",
       "      <td>1° piano</td>\n",
       "      <td>NaN</td>\n",
       "      <td>NaN</td>\n",
       "      <td>NaN</td>\n",
       "      <td>Legnaia Soffiano</td>\n",
       "      <td>NaN</td>\n",
       "      <td>Ottimo / Ristrutturato</td>\n",
       "      <td>183000.0</td>\n",
       "      <td>60.0</td>\n",
       "      <td>3050.000000</td>\n",
       "      <td>Intera proprietà</td>\n",
       "      <td>Autonomo</td>\n",
       "      <td>radiatori</td>\n",
       "      <td>metano</td>\n",
       "      <td>D</td>\n",
       "      <td>2020-05-10</td>\n",
       "      <td>0.0</td>\n",
       "      <td>0.0</td>\n",
       "      <td>1°</td>\n",
       "    </tr>\n",
       "    <tr>\n",
       "      <th>46</th>\n",
       "      <td>Appartamento</td>\n",
       "      <td>3 (2 camere da letto, 1 altro), 2 bagni</td>\n",
       "      <td>4° piano, con ascensore</td>\n",
       "      <td>NaN</td>\n",
       "      <td>Cantina</td>\n",
       "      <td>NaN</td>\n",
       "      <td>Campo Di Marte Liberta</td>\n",
       "      <td>NaN</td>\n",
       "      <td>Ottimo / Ristrutturato</td>\n",
       "      <td>350000.0</td>\n",
       "      <td>85.0</td>\n",
       "      <td>4117.647059</td>\n",
       "      <td>Intera proprietà</td>\n",
       "      <td>Centralizzato</td>\n",
       "      <td>radiatori</td>\n",
       "      <td>metano</td>\n",
       "      <td>G</td>\n",
       "      <td>2020-05-10</td>\n",
       "      <td>1.0</td>\n",
       "      <td>0.0</td>\n",
       "      <td>4°</td>\n",
       "    </tr>\n",
       "    <tr>\n",
       "      <th>50</th>\n",
       "      <td>Appartamento</td>\n",
       "      <td>4 (3 camere da letto, 1 altro), 2 bagni, cucin...</td>\n",
       "      <td>1° piano, con ascensore</td>\n",
       "      <td>NaN</td>\n",
       "      <td>Cantina\\n                \\n\\n                 ...</td>\n",
       "      <td>1 all'esterno</td>\n",
       "      <td>Zona Firenze Sud</td>\n",
       "      <td>NaN</td>\n",
       "      <td>Buono / Abitabile</td>\n",
       "      <td>397000.0</td>\n",
       "      <td>120.0</td>\n",
       "      <td>3308.333333</td>\n",
       "      <td>Intera proprietà</td>\n",
       "      <td>Autonomo</td>\n",
       "      <td>radiatori</td>\n",
       "      <td>metano</td>\n",
       "      <td>G</td>\n",
       "      <td>2020-05-10</td>\n",
       "      <td>1.0</td>\n",
       "      <td>0.0</td>\n",
       "      <td>1°</td>\n",
       "    </tr>\n",
       "    <tr>\n",
       "      <th>59</th>\n",
       "      <td>Appartamento</td>\n",
       "      <td>3 locali, 1 bagno</td>\n",
       "      <td>1° piano</td>\n",
       "      <td>NaN</td>\n",
       "      <td>NaN</td>\n",
       "      <td>NaN</td>\n",
       "      <td>Zona Firenze Sud</td>\n",
       "      <td>NaN</td>\n",
       "      <td>Buono / Abitabile</td>\n",
       "      <td>265000.0</td>\n",
       "      <td>82.0</td>\n",
       "      <td>3231.707317</td>\n",
       "      <td>Intera proprietà</td>\n",
       "      <td>Centralizzato</td>\n",
       "      <td>radiatori</td>\n",
       "      <td>metano</td>\n",
       "      <td>G</td>\n",
       "      <td>2020-09-16</td>\n",
       "      <td>0.0</td>\n",
       "      <td>0.0</td>\n",
       "      <td>1°</td>\n",
       "    </tr>\n",
       "    <tr>\n",
       "      <th>60</th>\n",
       "      <td>Villa a schiera</td>\n",
       "      <td>5+ (5 camere da letto, 4 altri), 3 bagni, cuci...</td>\n",
       "      <td>Piano terra</td>\n",
       "      <td>NaN</td>\n",
       "      <td>Giardino privato</td>\n",
       "      <td>1 in garage/box</td>\n",
       "      <td>Leopoldo Porta Al Prato</td>\n",
       "      <td>NaN</td>\n",
       "      <td>Buono / Abitabile</td>\n",
       "      <td>650000.0</td>\n",
       "      <td>200.0</td>\n",
       "      <td>3250.000000</td>\n",
       "      <td>Intera proprietà</td>\n",
       "      <td>Autonomo</td>\n",
       "      <td>radiatori</td>\n",
       "      <td>metano</td>\n",
       "      <td>G</td>\n",
       "      <td>2020-05-10</td>\n",
       "      <td>0.0</td>\n",
       "      <td>0.0</td>\n",
       "      <td>terra</td>\n",
       "    </tr>\n",
       "    <tr>\n",
       "      <th>...</th>\n",
       "      <td>...</td>\n",
       "      <td>...</td>\n",
       "      <td>...</td>\n",
       "      <td>...</td>\n",
       "      <td>...</td>\n",
       "      <td>...</td>\n",
       "      <td>...</td>\n",
       "      <td>...</td>\n",
       "      <td>...</td>\n",
       "      <td>...</td>\n",
       "      <td>...</td>\n",
       "      <td>...</td>\n",
       "      <td>...</td>\n",
       "      <td>...</td>\n",
       "      <td>...</td>\n",
       "      <td>...</td>\n",
       "      <td>...</td>\n",
       "      <td>...</td>\n",
       "      <td>...</td>\n",
       "      <td>...</td>\n",
       "      <td>...</td>\n",
       "    </tr>\n",
       "    <tr>\n",
       "      <th>8697</th>\n",
       "      <td>Appartamento</td>\n",
       "      <td>NaN</td>\n",
       "      <td>1° piano</td>\n",
       "      <td>NaN</td>\n",
       "      <td>NaN</td>\n",
       "      <td>NaN</td>\n",
       "      <td>Centro</td>\n",
       "      <td>1900.0</td>\n",
       "      <td>Ottimo / Ristrutturato</td>\n",
       "      <td>1200000.0</td>\n",
       "      <td>200.0</td>\n",
       "      <td>6000.000000</td>\n",
       "      <td>Intera proprietà, classe immobile signorile</td>\n",
       "      <td>Centralizzato</td>\n",
       "      <td>radiatori</td>\n",
       "      <td>metano</td>\n",
       "      <td>G</td>\n",
       "      <td>2018-09-18</td>\n",
       "      <td>0.0</td>\n",
       "      <td>0.0</td>\n",
       "      <td>1°</td>\n",
       "    </tr>\n",
       "    <tr>\n",
       "      <th>8699</th>\n",
       "      <td>Appartamento</td>\n",
       "      <td>5+ (5 camere da letto, 1 altro), 3+ bagni, cuc...</td>\n",
       "      <td>Piano rialzato, con ascensore</td>\n",
       "      <td>NaN</td>\n",
       "      <td>Caminetto\\n                \\n\\n               ...</td>\n",
       "      <td>NaN</td>\n",
       "      <td>Campo Di Marte Liberta</td>\n",
       "      <td>NaN</td>\n",
       "      <td>Ottimo / Ristrutturato</td>\n",
       "      <td>690000.0</td>\n",
       "      <td>220.0</td>\n",
       "      <td>3136.363636</td>\n",
       "      <td>Intera proprietà, classe immobile signorile</td>\n",
       "      <td>Autonomo</td>\n",
       "      <td>radiatori</td>\n",
       "      <td>metano</td>\n",
       "      <td>E</td>\n",
       "      <td>2020-11-02</td>\n",
       "      <td>1.0</td>\n",
       "      <td>0.0</td>\n",
       "      <td>rialzato</td>\n",
       "    </tr>\n",
       "    <tr>\n",
       "      <th>8705</th>\n",
       "      <td>Appartamento</td>\n",
       "      <td>5+ (4 camere da letto, 3 altri), 3+ bagni, cuc...</td>\n",
       "      <td>NaN</td>\n",
       "      <td>NaN</td>\n",
       "      <td>Cancello elettrico\\n                \\n\\n      ...</td>\n",
       "      <td>1 in garage/box, 5 all'esterno</td>\n",
       "      <td>Campo Di Marte Liberta</td>\n",
       "      <td>NaN</td>\n",
       "      <td>Nuovo / In costruzione</td>\n",
       "      <td>1700000.0</td>\n",
       "      <td>450.0</td>\n",
       "      <td>3777.777778</td>\n",
       "      <td>Intera proprietà, classe immobile signorile</td>\n",
       "      <td>Centralizzato</td>\n",
       "      <td>radiatori</td>\n",
       "      <td>metano</td>\n",
       "      <td>G</td>\n",
       "      <td>2015-02-23</td>\n",
       "      <td>0.0</td>\n",
       "      <td>0.0</td>\n",
       "      <td>1°</td>\n",
       "    </tr>\n",
       "    <tr>\n",
       "      <th>8710</th>\n",
       "      <td>Villa unifamiliare</td>\n",
       "      <td>5 locali, 3+ bagni, cucina abitabile</td>\n",
       "      <td>NaN</td>\n",
       "      <td>NaN</td>\n",
       "      <td>Terrazza\\n                \\n\\n                ...</td>\n",
       "      <td>1 all'esterno</td>\n",
       "      <td>Zona Bolognese Le Cure</td>\n",
       "      <td>NaN</td>\n",
       "      <td>Buono / Abitabile</td>\n",
       "      <td>2500000.0</td>\n",
       "      <td>340.0</td>\n",
       "      <td>7352.941176</td>\n",
       "      <td>Intera proprietà, classe immobile economica</td>\n",
       "      <td>Autonomo</td>\n",
       "      <td>radiatori</td>\n",
       "      <td>metano</td>\n",
       "      <td>G</td>\n",
       "      <td>2016-08-24</td>\n",
       "      <td>0.0</td>\n",
       "      <td>0.0</td>\n",
       "      <td>1°</td>\n",
       "    </tr>\n",
       "    <tr>\n",
       "      <th>8712</th>\n",
       "      <td>Casa colonica</td>\n",
       "      <td>3+ bagni, cucina abitabile</td>\n",
       "      <td>Su più livelli</td>\n",
       "      <td>NaN</td>\n",
       "      <td>Cantina</td>\n",
       "      <td>NaN</td>\n",
       "      <td>Ugnano Mantignano</td>\n",
       "      <td>NaN</td>\n",
       "      <td>Ottimo / Ristrutturato</td>\n",
       "      <td>900000.0</td>\n",
       "      <td>340.0</td>\n",
       "      <td>2647.058824</td>\n",
       "      <td>Intera proprietà</td>\n",
       "      <td>Autonomo</td>\n",
       "      <td>radiatori</td>\n",
       "      <td>metano</td>\n",
       "      <td>G</td>\n",
       "      <td>2020-07-27</td>\n",
       "      <td>0.0</td>\n",
       "      <td>0.0</td>\n",
       "      <td>più livelli</td>\n",
       "    </tr>\n",
       "  </tbody>\n",
       "</table>\n",
       "<p>632 rows × 21 columns</p>\n",
       "</div>"
      ],
      "text/plain": [
       "               Tipologia                                             Locali  \\\n",
       "10          Appartamento  3 (2 camere da letto, 1 altro), 1 bagno, cucin...   \n",
       "46          Appartamento            3 (2 camere da letto, 1 altro), 2 bagni   \n",
       "50          Appartamento  4 (3 camere da letto, 1 altro), 2 bagni, cucin...   \n",
       "59          Appartamento                                  3 locali, 1 bagno   \n",
       "60       Villa a schiera  5+ (5 camere da letto, 4 altri), 3 bagni, cuci...   \n",
       "...                  ...                                                ...   \n",
       "8697        Appartamento                                                NaN   \n",
       "8699        Appartamento  5+ (5 camere da letto, 1 altro), 3+ bagni, cuc...   \n",
       "8705        Appartamento  5+ (4 camere da letto, 3 altri), 3+ bagni, cuc...   \n",
       "8710  Villa unifamiliare               5 locali, 3+ bagni, cucina abitabile   \n",
       "8712       Casa colonica                         3+ bagni, cucina abitabile   \n",
       "\n",
       "                              Piano Totale piani edificio  \\\n",
       "10                         1° piano                   NaN   \n",
       "46          4° piano, con ascensore                   NaN   \n",
       "50          1° piano, con ascensore                   NaN   \n",
       "59                         1° piano                   NaN   \n",
       "60                      Piano terra                   NaN   \n",
       "...                             ...                   ...   \n",
       "8697                       1° piano                   NaN   \n",
       "8699  Piano rialzato, con ascensore                   NaN   \n",
       "8705                            NaN                   NaN   \n",
       "8710                            NaN                   NaN   \n",
       "8712                 Su più livelli                   NaN   \n",
       "\n",
       "                                  Altre caratteristiche  \\\n",
       "10                                                  NaN   \n",
       "46                                              Cantina   \n",
       "50    Cantina\\n                \\n\\n                 ...   \n",
       "59                                                  NaN   \n",
       "60                                     Giardino privato   \n",
       "...                                                 ...   \n",
       "8697                                                NaN   \n",
       "8699  Caminetto\\n                \\n\\n               ...   \n",
       "8705  Cancello elettrico\\n                \\n\\n      ...   \n",
       "8710  Terrazza\\n                \\n\\n                ...   \n",
       "8712                                            Cantina   \n",
       "\n",
       "                          Posti auto                     Zona  \\\n",
       "10                               NaN         Legnaia Soffiano   \n",
       "46                               NaN   Campo Di Marte Liberta   \n",
       "50                     1 all'esterno         Zona Firenze Sud   \n",
       "59                               NaN         Zona Firenze Sud   \n",
       "60                   1 in garage/box  Leopoldo Porta Al Prato   \n",
       "...                              ...                      ...   \n",
       "8697                             NaN                   Centro   \n",
       "8699                             NaN   Campo Di Marte Liberta   \n",
       "8705  1 in garage/box, 5 all'esterno   Campo Di Marte Liberta   \n",
       "8710                   1 all'esterno   Zona Bolognese Le Cure   \n",
       "8712                             NaN        Ugnano Mantignano   \n",
       "\n",
       "      Anno di costruzione                   Stato  Prezzo_EUR  Superficie_m2  \\\n",
       "10                    NaN  Ottimo / Ristrutturato    183000.0           60.0   \n",
       "46                    NaN  Ottimo / Ristrutturato    350000.0           85.0   \n",
       "50                    NaN       Buono / Abitabile    397000.0          120.0   \n",
       "59                    NaN       Buono / Abitabile    265000.0           82.0   \n",
       "60                    NaN       Buono / Abitabile    650000.0          200.0   \n",
       "...                   ...                     ...         ...            ...   \n",
       "8697               1900.0  Ottimo / Ristrutturato   1200000.0          200.0   \n",
       "8699                  NaN  Ottimo / Ristrutturato    690000.0          220.0   \n",
       "8705                  NaN  Nuovo / In costruzione   1700000.0          450.0   \n",
       "8710                  NaN       Buono / Abitabile   2500000.0          340.0   \n",
       "8712                  NaN  Ottimo / Ristrutturato    900000.0          340.0   \n",
       "\n",
       "      Prezzo_per_m2                               Tipo_proprietà  \\\n",
       "10      3050.000000                             Intera proprietà   \n",
       "46      4117.647059                             Intera proprietà   \n",
       "50      3308.333333                             Intera proprietà   \n",
       "59      3231.707317                             Intera proprietà   \n",
       "60      3250.000000                             Intera proprietà   \n",
       "...             ...                                          ...   \n",
       "8697    6000.000000  Intera proprietà, classe immobile signorile   \n",
       "8699    3136.363636  Intera proprietà, classe immobile signorile   \n",
       "8705    3777.777778  Intera proprietà, classe immobile signorile   \n",
       "8710    7352.941176  Intera proprietà, classe immobile economica   \n",
       "8712    2647.058824                             Intera proprietà   \n",
       "\n",
       "     Riscaldamento_A_C Tipo_riscaldamento Alimentazione_riscaldamento  \\\n",
       "10            Autonomo          radiatori                      metano   \n",
       "46       Centralizzato          radiatori                      metano   \n",
       "50            Autonomo          radiatori                      metano   \n",
       "59       Centralizzato          radiatori                      metano   \n",
       "60            Autonomo          radiatori                      metano   \n",
       "...                ...                ...                         ...   \n",
       "8697     Centralizzato          radiatori                      metano   \n",
       "8699          Autonomo          radiatori                      metano   \n",
       "8705     Centralizzato          radiatori                      metano   \n",
       "8710          Autonomo          radiatori                      metano   \n",
       "8712          Autonomo          radiatori                      metano   \n",
       "\n",
       "     Classe_energetica Data_annuncio  Ascensore  Accesso_disabili        Piani  \n",
       "10                   D    2020-05-10        0.0               0.0           1°  \n",
       "46                   G    2020-05-10        1.0               0.0           4°  \n",
       "50                   G    2020-05-10        1.0               0.0           1°  \n",
       "59                   G    2020-09-16        0.0               0.0           1°  \n",
       "60                   G    2020-05-10        0.0               0.0        terra  \n",
       "...                ...           ...        ...               ...          ...  \n",
       "8697                 G    2018-09-18        0.0               0.0           1°  \n",
       "8699                 E    2020-11-02        1.0               0.0     rialzato  \n",
       "8705                 G    2015-02-23        0.0               0.0           1°  \n",
       "8710                 G    2016-08-24        0.0               0.0           1°  \n",
       "8712                 G    2020-07-27        0.0               0.0  più livelli  \n",
       "\n",
       "[632 rows x 21 columns]"
      ]
     },
     "execution_count": 73,
     "metadata": {},
     "output_type": "execute_result"
    }
   ],
   "source": [
    "# Based on missing values and assuming this is not an important feature, we will surely drop it later\n",
    "df.loc[df['Totale piani edificio'].isna(), :]"
   ]
  },
  {
   "cell_type": "code",
   "execution_count": 74,
   "metadata": {},
   "outputs": [],
   "source": [
    "df = df.drop(columns=['Piano', 'Totale piani edificio'])\n",
    "df = df.rename(columns={'Piani': 'Piano'})"
   ]
  },
  {
   "cell_type": "markdown",
   "metadata": {},
   "source": [
    "#### Car parking"
   ]
  },
  {
   "cell_type": "code",
   "execution_count": 75,
   "metadata": {},
   "outputs": [
    {
     "data": {
      "text/plain": [
       "array([nan, \"1 all'esterno\", \"2 all'esterno\", '1 in garage/box',\n",
       "       \"6 all'esterno\", \"3 all'esterno\", '2 in garage/box',\n",
       "       \"1 in garage/box, 1 all'esterno\", \"4 all'esterno\", \"5 all'esterno\",\n",
       "       \"2 in garage/box, 2 all'esterno\", \"2 in garage/box, 8 all'esterno\",\n",
       "       \"1 in garage/box, 2 all'esterno\", \"2 in garage/box, 1 all'esterno\",\n",
       "       \"10 all'esterno\", \"1 in garage/box, 3 all'esterno\",\n",
       "       \"176 all'esterno\", \"2 in garage/box, 10 all'esterno\",\n",
       "       \"2 in garage/box, 5 all'esterno\", \"2 in garage/box, 6 all'esterno\",\n",
       "       \"9 all'esterno\", \"1 in garage/box, 4 all'esterno\",\n",
       "       \"1 in garage/box, 6 all'esterno\", \"7 all'esterno\",\n",
       "       \"1 in garage/box, 5 all'esterno\", \"20 all'esterno\",\n",
       "       \"2 in garage/box, 20 all'esterno\",\n",
       "       \"2 in garage/box, 3 all'esterno\",\n",
       "       \"1 in garage/box, 14 all'esterno\",\n",
       "       \"2 in garage/box, 4 all'esterno\", \"1 in garage/box, 7 all'esterno\",\n",
       "       \"8 all'esterno\", \"2 in garage/box, 7 all'esterno\",\n",
       "       \"2 in garage/box, 18 all'esterno\",\n",
       "       \"1 in garage/box, 10 all'esterno\"], dtype=object)"
      ]
     },
     "execution_count": 75,
     "metadata": {},
     "output_type": "execute_result"
    }
   ],
   "source": [
    "df['Posti auto'].unique()"
   ]
  },
  {
   "cell_type": "code",
   "execution_count": 76,
   "metadata": {},
   "outputs": [
    {
     "data": {
      "text/plain": [
       "6572"
      ]
     },
     "execution_count": 76,
     "metadata": {},
     "output_type": "execute_result"
    }
   ],
   "source": [
    "# Consider NaNs as no parkings\n",
    "df['Posti auto'].isna().sum()"
   ]
  },
  {
   "cell_type": "code",
   "execution_count": 77,
   "metadata": {},
   "outputs": [
    {
     "data": {
      "text/plain": [
       "0.0    7830\n",
       "1.0     671\n",
       "2.0     213\n",
       "Name: Posti_garage, dtype: int64"
      ]
     },
     "execution_count": 77,
     "metadata": {},
     "output_type": "execute_result"
    }
   ],
   "source": [
    "# Garage car parking\n",
    "df['Posti_garage'] = df['Posti auto'].str.extract(r'(\\d).*garage\\/box').astype('float')\n",
    "\n",
    "df['Posti_garage'] = df['Posti_garage'].fillna(0)\n",
    "df['Posti_garage'].value_counts()"
   ]
  },
  {
   "cell_type": "code",
   "execution_count": 78,
   "metadata": {
    "scrolled": false
   },
   "outputs": [
    {
     "data": {
      "text/plain": [
       "0.0      7056\n",
       "1.0      1203\n",
       "2.0       347\n",
       "3.0        43\n",
       "4.0        27\n",
       "5.0        11\n",
       "10.0        9\n",
       "6.0         7\n",
       "8.0         4\n",
       "20.0        3\n",
       "7.0         2\n",
       "9.0         1\n",
       "176.0       1\n",
       "Name: Posti_esterni, dtype: int64"
      ]
     },
     "execution_count": 78,
     "metadata": {},
     "output_type": "execute_result"
    }
   ],
   "source": [
    "# External car parking\n",
    "df['Posti_esterni'] = df['Posti auto'].str.extract(r'(\\d+).*esterno').astype('float')\n",
    "\n",
    "df['Posti_esterni'] = df['Posti_esterni'].fillna(0)\n",
    "df['Posti_esterni'].value_counts()"
   ]
  },
  {
   "cell_type": "code",
   "execution_count": 79,
   "metadata": {},
   "outputs": [],
   "source": [
    "df = df.drop(columns=['Posti auto'])"
   ]
  },
  {
   "cell_type": "markdown",
   "metadata": {},
   "source": [
    "#### Number of toilets"
   ]
  },
  {
   "cell_type": "code",
   "execution_count": 80,
   "metadata": {},
   "outputs": [
    {
     "data": {
      "text/plain": [
       "1.0    4415\n",
       "2.0    2986\n",
       "3.0     772\n",
       "4.0     436\n",
       "0.0     105\n",
       "Name: Num_bagni, dtype: int64"
      ]
     },
     "execution_count": 80,
     "metadata": {},
     "output_type": "execute_result"
    }
   ],
   "source": [
    "# Toilets\n",
    "df['Num_bagni'] = df['Locali'].str.extract(r'(\\d\\+?) bagn\\w')\n",
    "df['Num_bagni'] = df['Num_bagni'].fillna(0)\n",
    "df.loc[df['Num_bagni'] == '3+', 'Num_bagni'] = 4 # Set 3+ toilets to 4\n",
    "df['Num_bagni'] = df['Num_bagni'].astype('float')\n",
    "\n",
    "df['Num_bagni'].value_counts()"
   ]
  },
  {
   "cell_type": "code",
   "execution_count": 81,
   "metadata": {},
   "outputs": [
    {
     "data": {
      "image/png": "[encoded data removed]",
      "text/plain": [
       "<Figure size 432x288 with 1 Axes>"
      ]
     },
     "metadata": {
      "needs_background": "light"
     },
     "output_type": "display_data"
    }
   ],
   "source": [
    "sns.barplot(x=df['Num_bagni'].value_counts().index, y=df['Num_bagni'].value_counts())\n",
    "plt.show()"
   ]
  },
  {
   "cell_type": "code",
   "execution_count": 82,
   "metadata": {
    "scrolled": true
   },
   "outputs": [
    {
     "data": {
      "text/plain": [
       "97      120.0\n",
       "117     500.0\n",
       "321     250.0\n",
       "401      95.0\n",
       "433     200.0\n",
       "        ...  \n",
       "8342    350.0\n",
       "8431     58.0\n",
       "8448     21.0\n",
       "8625    172.0\n",
       "8697    200.0\n",
       "Name: Superficie_m2, Length: 105, dtype: float64"
      ]
     },
     "execution_count": 82,
     "metadata": {},
     "output_type": "execute_result"
    }
   ],
   "source": [
    "df.loc[df['Num_bagni'] == 0, 'Superficie_m2']"
   ]
  },
  {
   "cell_type": "code",
   "execution_count": 83,
   "metadata": {},
   "outputs": [],
   "source": [
    "# Create area bins for imputing\n",
    "df['Superficie_bins'] = pd.cut(df['Superficie_m2'], bins=[0, 60, 80, 100, 120, 160, 200, 20000])"
   ]
  },
  {
   "cell_type": "code",
   "execution_count": 84,
   "metadata": {},
   "outputs": [
    {
     "data": {
      "image/png": "[encoded data removed]",
      "text/plain": [
       "<Figure size 432x432 with 1 Axes>"
      ]
     },
     "metadata": {
      "needs_background": "light"
     },
     "output_type": "display_data"
    }
   ],
   "source": [
    "fig = plt.figure(figsize=(6, 6))\n",
    "sns.barplot(x=df['Superficie_bins'], y=df['Num_bagni'])\n",
    "plt.xticks(rotation=45)\n",
    "plt.show()"
   ]
  },
  {
   "cell_type": "code",
   "execution_count": 85,
   "metadata": {},
   "outputs": [
    {
     "data": {
      "text/plain": [
       "Superficie_bins\n",
       "(0, 60]         1.0\n",
       "(60, 80]        1.0\n",
       "(80, 100]       1.0\n",
       "(100, 120]      2.0\n",
       "(120, 160]      2.0\n",
       "(160, 200]      2.0\n",
       "(200, 20000]    4.0\n",
       "Name: Num_bagni, dtype: float64"
      ]
     },
     "execution_count": 85,
     "metadata": {},
     "output_type": "execute_result"
    }
   ],
   "source": [
    "df.groupby('Superficie_bins')['Num_bagni'].agg(lambda x:x.value_counts().index[0])"
   ]
  },
  {
   "cell_type": "code",
   "execution_count": 86,
   "metadata": {},
   "outputs": [],
   "source": [
    "# Imputing number of toilets based on area bins\n",
    "for area in df['Superficie_bins'].unique():\n",
    "    mask = df['Superficie_bins'] == area\n",
    "    df.loc[mask & (df['Num_bagni'] == 0), 'Num_bagni'] = df.loc[mask, 'Num_bagni'].value_counts().index[0]"
   ]
  },
  {
   "cell_type": "markdown",
   "metadata": {},
   "source": [
    "#### Number of rooms"
   ]
  },
  {
   "cell_type": "code",
   "execution_count": 87,
   "metadata": {},
   "outputs": [],
   "source": [
    "# Other rooms\n",
    "df['Num_altri'] = df['Locali'].str.extract(r'(\\d+\\+?) altr\\w').astype('float')\n",
    "df['Num_altri'] = df['Num_altri'].fillna(0) # Set NaNs to 0 to be able to sum\n",
    "\n",
    "df['Num_camere_letto'] = df['Locali'].str.extract(r'(\\d+\\+?) camer\\w da letto').astype('float')\n",
    "df['Num_camere_letto'] = df['Num_camere_letto'].fillna(0)# Set NaNs to 0 to be able to sum\n",
    "\n",
    "df['Num_locali'] = df['Locali'].str.extract(r'(\\d+\\+?) local\\w').astype('float')\n",
    "df['Num_locali'] = df['Num_locali'].fillna(0) # Set NaNs to 0 to be able to sum\n",
    "\n",
    "# Total number of rooms\n",
    "df['Num_tot_locali'] = df['Num_locali'] + df['Num_camere_letto'] + df['Num_altri']"
   ]
  },
  {
   "cell_type": "code",
   "execution_count": 88,
   "metadata": {},
   "outputs": [
    {
     "data": {
      "text/plain": [
       "13"
      ]
     },
     "execution_count": 88,
     "metadata": {},
     "output_type": "execute_result"
    }
   ],
   "source": [
    "df['Locali'].isna().sum()"
   ]
  },
  {
   "cell_type": "code",
   "execution_count": 89,
   "metadata": {},
   "outputs": [
    {
     "data": {
      "image/png": "[encoded data removed]",
      "text/plain": [
       "<Figure size 432x432 with 1 Axes>"
      ]
     },
     "metadata": {
      "needs_background": "light"
     },
     "output_type": "display_data"
    }
   ],
   "source": [
    "fig = plt.figure(figsize=(6, 6))\n",
    "sns.barplot(x=df['Superficie_bins'], y=df['Num_tot_locali'])\n",
    "plt.xticks(rotation=45)\n",
    "plt.show()"
   ]
  },
  {
   "cell_type": "code",
   "execution_count": 90,
   "metadata": {},
   "outputs": [],
   "source": [
    "# Imputing total number of rooms based on area bins\n",
    "for area in df['Superficie_bins'].unique():\n",
    "    mask = df['Superficie_bins'] == area\n",
    "    df.loc[mask & (df['Num_tot_locali'] == 0), 'Num_tot_locali'] = df.loc[mask, 'Num_tot_locali'].value_counts().index[0]"
   ]
  },
  {
   "cell_type": "code",
   "execution_count": 91,
   "metadata": {},
   "outputs": [
    {
     "data": {
      "text/plain": [
       "0"
      ]
     },
     "execution_count": 91,
     "metadata": {},
     "output_type": "execute_result"
    }
   ],
   "source": [
    "df['Num_tot_locali'].isna().sum()"
   ]
  },
  {
   "cell_type": "code",
   "execution_count": 92,
   "metadata": {},
   "outputs": [],
   "source": [
    "df = df.drop(columns=['Locali', 'Num_altri', 'Num_camere_letto', 'Num_locali'])"
   ]
  },
  {
   "cell_type": "markdown",
   "metadata": {},
   "source": [
    "#### Year of construction"
   ]
  },
  {
   "cell_type": "code",
   "execution_count": 93,
   "metadata": {
    "scrolled": true
   },
   "outputs": [
    {
     "data": {
      "text/plain": [
       "1970.0    885\n",
       "1900.0    821\n",
       "1960.0    729\n",
       "1800.0    475\n",
       "1950.0    427\n",
       "Name: Anno di costruzione, dtype: int64"
      ]
     },
     "execution_count": 93,
     "metadata": {},
     "output_type": "execute_result"
    }
   ],
   "source": [
    "df['Anno di costruzione'].value_counts().head()"
   ]
  },
  {
   "cell_type": "code",
   "execution_count": 94,
   "metadata": {},
   "outputs": [],
   "source": [
    "test = pd.cut(df['Anno di costruzione'], bins=[0, 1900, 1950, 1980, 2000, 2010, 2020])"
   ]
  },
  {
   "cell_type": "code",
   "execution_count": 95,
   "metadata": {},
   "outputs": [
    {
     "data": {
      "text/plain": [
       "Ottimo / Ristrutturato    1399\n",
       "Buono / Abitabile          587\n",
       "Nuovo / In costruzione     246\n",
       "Da ristrutturare           148\n",
       "Name: Stato, dtype: int64"
      ]
     },
     "execution_count": 95,
     "metadata": {},
     "output_type": "execute_result"
    }
   ],
   "source": [
    "df.loc[df['Anno di costruzione'].isna(), 'Stato'].value_counts()"
   ]
  },
  {
   "cell_type": "code",
   "execution_count": 96,
   "metadata": {},
   "outputs": [
    {
     "data": {
      "text/plain": [
       "2380"
      ]
     },
     "execution_count": 96,
     "metadata": {},
     "output_type": "execute_result"
    }
   ],
   "source": [
    "df['Anno di costruzione'].isna().sum()"
   ]
  },
  {
   "cell_type": "code",
   "execution_count": 97,
   "metadata": {},
   "outputs": [
    {
     "data": {
      "image/png": "[encoded data removed]",
      "text/plain": [
       "<Figure size 576x576 with 1 Axes>"
      ]
     },
     "metadata": {
      "needs_background": "light"
     },
     "output_type": "display_data"
    }
   ],
   "source": [
    "fig = plt.figure(figsize=(8, 8))\n",
    "sns.barplot(x=test, y=df['Prezzo_per_m2'])\n",
    "plt.xticks(rotation=45)\n",
    "plt.show()"
   ]
  },
  {
   "cell_type": "code",
   "execution_count": 98,
   "metadata": {},
   "outputs": [
    {
     "data": {
      "text/plain": [
       "1970.0    899\n",
       "1900.0    834\n",
       "1960.0    741\n",
       "1800.0    479\n",
       "1950.0    453\n",
       "         ... \n",
       "1838.0      1\n",
       "1845.0      1\n",
       "1590.0      1\n",
       "1686.0      1\n",
       "1650.0      1\n",
       "Name: Anno_costruzione, Length: 331, dtype: int64"
      ]
     },
     "execution_count": 98,
     "metadata": {},
     "output_type": "execute_result"
    }
   ],
   "source": [
    "# Impute year of construction using KNN algorithm\n",
    "\n",
    "# Selecting features for KNN imputation\n",
    "impute_cols = ['Prezzo_per_m2', 'Anno di costruzione']\n",
    "\n",
    "df_impute = df[impute_cols].copy()\n",
    "\n",
    "# Scaling continous feature used to impute\n",
    "scaler = StandardScaler()\n",
    "\n",
    "df_impute[impute_cols] = scaler.fit_transform(df_impute[impute_cols])\n",
    "\n",
    "# Impute using KNN\n",
    "imputer = KNNImputer(n_neighbors=5)\n",
    "\n",
    "df_impute[impute_cols] = imputer.fit_transform(df_impute[impute_cols])\n",
    "\n",
    "# Inverse transform to get the year back\n",
    "df_impute[impute_cols] = np.floor(scaler.inverse_transform(df_impute[impute_cols]))\n",
    "df['Anno_costruzione'] = df_impute['Anno di costruzione']\n",
    "df['Anno_costruzione'].value_counts()"
   ]
  },
  {
   "cell_type": "code",
   "execution_count": 99,
   "metadata": {},
   "outputs": [],
   "source": [
    "df.loc[df['Anno_costruzione'] == 2021.0, 'Anno_costruzione'] = 2020\n",
    "df = df.drop(columns=['Anno di costruzione'])"
   ]
  },
  {
   "cell_type": "markdown",
   "metadata": {},
   "source": [
    "#### Other characteristics"
   ]
  },
  {
   "cell_type": "code",
   "execution_count": 100,
   "metadata": {},
   "outputs": [
    {
     "data": {
      "text/plain": [
       "array(['Fibra ottica\\n                \\n\\n                    VideoCitofono\\n                \\n\\n                    Porta blindata\\n                \\n\\n                    Impianto tv singolo\\n                \\n\\n                    Parzialmente Arredato\\n                \\n\\n                    Infissi esterni in vetro / legno\\n                \\n\\n                    Esposizione doppia',\n",
       "       'Fibra ottica\\n                \\n\\n                    Porta blindata\\n                \\n\\n                    Balcone\\n                \\n\\n                    Impianto tv centralizzato\\n                \\n\\n                    Infissi esterni in doppio vetro / PVC\\n                \\n\\n                    Esposizione doppia',\n",
       "       'Porta blindata\\n                \\n\\n                    Esposizione esterna\\n                \\n\\n                    Terrazza\\n                \\n\\n                    Impianto tv singolo\\n                \\n\\n                    Infissi esterni in doppio vetro / PVC',\n",
       "       ...,\n",
       "       'Fibra ottica\\n                \\n\\n                    VideoCitofono\\n                \\n\\n                    Porta blindata\\n                \\n\\n                    Balcone\\n                \\n\\n                    Impianto tv centralizzato\\n                \\n\\n                    Infissi esterni in doppio vetro / legno\\n                \\n\\n                    Esposizione doppia',\n",
       "       'Caminetto\\n                \\n\\n                    Mansarda\\n                \\n\\n                    Taverna\\n                \\n\\n                    Porta blindata\\n                \\n\\n                    Impianto tv singolo\\n                \\n\\n                    Cantina\\n                \\n\\n                    Infissi esterni in doppio vetro / legno\\n                \\n\\n                    Esposizione doppia',\n",
       "       'Idromassaggio\\n                \\n\\n                    Porta blindata\\n                \\n\\n                    Balcone\\n                \\n\\n                    Impianto tv singolo\\n                \\n\\n                    Cantina\\n                \\n\\n                    Infissi esterni in vetro / legno\\n                \\n\\n                    Esposizione doppia'],\n",
       "      dtype=object)"
      ]
     },
     "execution_count": 100,
     "metadata": {},
     "output_type": "execute_result"
    }
   ],
   "source": [
    "df['Altre caratteristiche'].unique()"
   ]
  },
  {
   "cell_type": "code",
   "execution_count": 101,
   "metadata": {},
   "outputs": [],
   "source": [
    "def string_parser(row):\n",
    "    if pd.notnull(row['Altre caratteristiche']):\n",
    "        string_list = row['Altre caratteristiche'].split('\\n')\n",
    "        row['Altre_caratteristiche'] = [string.strip() for string in string_list if string.strip() != '']\n",
    "    \n",
    "    else:\n",
    "        row['Altre_caratteristiche'] = []\n",
    "    \n",
    "    return row['Altre_caratteristiche']"
   ]
  },
  {
   "cell_type": "code",
   "execution_count": 102,
   "metadata": {},
   "outputs": [],
   "source": [
    "df['Altre_caratteristiche'] = df['Altre caratteristiche'].copy()\n",
    "df['Altre_caratteristiche'] = df.apply(string_parser, axis=1)"
   ]
  },
  {
   "cell_type": "code",
   "execution_count": 103,
   "metadata": {},
   "outputs": [],
   "source": [
    "# Determine all characteristics\n",
    "def unique(df):\n",
    "    unique_list = []\n",
    "\n",
    "    for idx, series in df.iterrows():\n",
    "        for characteristic in series.loc['Altre_caratteristiche']:\n",
    "            if characteristic not in unique_list:\n",
    "                unique_list.append(characteristic)\n",
    "        else:\n",
    "            continue\n",
    "   \n",
    "    return unique_list"
   ]
  },
  {
   "cell_type": "code",
   "execution_count": 104,
   "metadata": {
    "scrolled": true
   },
   "outputs": [
    {
     "data": {
      "text/plain": [
       "['Fibra ottica',\n",
       " 'VideoCitofono',\n",
       " 'Porta blindata',\n",
       " 'Impianto tv singolo',\n",
       " 'Parzialmente Arredato',\n",
       " 'Infissi esterni in vetro / legno',\n",
       " 'Esposizione doppia',\n",
       " 'Balcone',\n",
       " 'Impianto tv centralizzato',\n",
       " 'Infissi esterni in doppio vetro / PVC',\n",
       " 'Esposizione esterna',\n",
       " 'Terrazza',\n",
       " 'Cancello elettrico',\n",
       " 'Cantina',\n",
       " 'Giardino privato',\n",
       " 'Caminetto',\n",
       " 'Portiere intera giornata',\n",
       " 'Infissi esterni in doppio vetro / legno',\n",
       " 'Armadio a muro',\n",
       " 'Impianto di allarme',\n",
       " 'Mansarda',\n",
       " 'Infissi esterni in doppio vetro / metallo',\n",
       " 'Solo Cucina Arredata',\n",
       " 'Esposizione interna',\n",
       " 'Infissi esterni in vetro / PVC',\n",
       " 'Giardino comune',\n",
       " 'Taverna',\n",
       " 'Impianto tv con parabola satellitare',\n",
       " 'Arredato',\n",
       " 'Infissi esterni in triplo vetro / PVC',\n",
       " 'Infissi esterni in triplo vetro / legno',\n",
       " 'Infissi esterni in vetro / metallo',\n",
       " 'Portiere mezza giornata',\n",
       " 'Cablato',\n",
       " 'Idromassaggio',\n",
       " 'Reception',\n",
       " 'Piscina',\n",
       " 'Infissi esterni in triplo vetro / metallo']"
      ]
     },
     "execution_count": 104,
     "metadata": {},
     "output_type": "execute_result"
    }
   ],
   "source": [
    "unique_list = unique(df)\n",
    "unique_list"
   ]
  },
  {
   "cell_type": "code",
   "execution_count": 105,
   "metadata": {},
   "outputs": [],
   "source": [
    "# Create one-hot encoded feature for each characteristic\n",
    "for characteristic in unique_list:\n",
    "    mask = df['Altre_caratteristiche'].apply(lambda x: characteristic in x)\n",
    "    df[characteristic] = mask.astype('float')"
   ]
  },
  {
   "cell_type": "code",
   "execution_count": 106,
   "metadata": {},
   "outputs": [],
   "source": [
    "df = df.drop(columns=['Altre caratteristiche', 'Altre_caratteristiche'])"
   ]
  },
  {
   "cell_type": "markdown",
   "metadata": {},
   "source": [
    "### 3. Exporting DataFrame"
   ]
  },
  {
   "cell_type": "code",
   "execution_count": 107,
   "metadata": {},
   "outputs": [
    {
     "name": "stdout",
     "output_type": "stream",
     "text": [
      "<class 'pandas.core.frame.DataFrame'>\n",
      "RangeIndex: 8714 entries, 0 to 8713\n",
      "Data columns (total 59 columns):\n",
      " #   Column                                     Non-Null Count  Dtype         \n",
      "---  ------                                     --------------  -----         \n",
      " 0   Tipologia                                  8714 non-null   object        \n",
      " 1   Zona                                       8714 non-null   object        \n",
      " 2   Stato                                      8714 non-null   object        \n",
      " 3   Prezzo_EUR                                 8714 non-null   float64       \n",
      " 4   Superficie_m2                              8714 non-null   float64       \n",
      " 5   Prezzo_per_m2                              8714 non-null   float64       \n",
      " 6   Tipo_proprietà                             8714 non-null   object        \n",
      " 7   Riscaldamento_A_C                          8714 non-null   object        \n",
      " 8   Tipo_riscaldamento                         8714 non-null   object        \n",
      " 9   Alimentazione_riscaldamento                8714 non-null   object        \n",
      " 10  Classe_energetica                          8714 non-null   object        \n",
      " 11  Data_annuncio                              8714 non-null   datetime64[ns]\n",
      " 12  Ascensore                                  8714 non-null   float64       \n",
      " 13  Accesso_disabili                           8714 non-null   float64       \n",
      " 14  Piano                                      8714 non-null   object        \n",
      " 15  Posti_garage                               8714 non-null   float64       \n",
      " 16  Posti_esterni                              8714 non-null   float64       \n",
      " 17  Num_bagni                                  8714 non-null   float64       \n",
      " 18  Superficie_bins                            8714 non-null   category      \n",
      " 19  Num_tot_locali                             8714 non-null   float64       \n",
      " 20  Anno_costruzione                           8714 non-null   float64       \n",
      " 21  Fibra ottica                               8714 non-null   float64       \n",
      " 22  VideoCitofono                              8714 non-null   float64       \n",
      " 23  Porta blindata                             8714 non-null   float64       \n",
      " 24  Impianto tv singolo                        8714 non-null   float64       \n",
      " 25  Parzialmente Arredato                      8714 non-null   float64       \n",
      " 26  Infissi esterni in vetro / legno           8714 non-null   float64       \n",
      " 27  Esposizione doppia                         8714 non-null   float64       \n",
      " 28  Balcone                                    8714 non-null   float64       \n",
      " 29  Impianto tv centralizzato                  8714 non-null   float64       \n",
      " 30  Infissi esterni in doppio vetro / PVC      8714 non-null   float64       \n",
      " 31  Esposizione esterna                        8714 non-null   float64       \n",
      " 32  Terrazza                                   8714 non-null   float64       \n",
      " 33  Cancello elettrico                         8714 non-null   float64       \n",
      " 34  Cantina                                    8714 non-null   float64       \n",
      " 35  Giardino privato                           8714 non-null   float64       \n",
      " 36  Caminetto                                  8714 non-null   float64       \n",
      " 37  Portiere intera giornata                   8714 non-null   float64       \n",
      " 38  Infissi esterni in doppio vetro / legno    8714 non-null   float64       \n",
      " 39  Armadio a muro                             8714 non-null   float64       \n",
      " 40  Impianto di allarme                        8714 non-null   float64       \n",
      " 41  Mansarda                                   8714 non-null   float64       \n",
      " 42  Infissi esterni in doppio vetro / metallo  8714 non-null   float64       \n",
      " 43  Solo Cucina Arredata                       8714 non-null   float64       \n",
      " 44  Esposizione interna                        8714 non-null   float64       \n",
      " 45  Infissi esterni in vetro / PVC             8714 non-null   float64       \n",
      " 46  Giardino comune                            8714 non-null   float64       \n",
      " 47  Taverna                                    8714 non-null   float64       \n",
      " 48  Impianto tv con parabola satellitare       8714 non-null   float64       \n",
      " 49  Arredato                                   8714 non-null   float64       \n",
      " 50  Infissi esterni in triplo vetro / PVC      8714 non-null   float64       \n",
      " 51  Infissi esterni in triplo vetro / legno    8714 non-null   float64       \n",
      " 52  Infissi esterni in vetro / metallo         8714 non-null   float64       \n",
      " 53  Portiere mezza giornata                    8714 non-null   float64       \n",
      " 54  Cablato                                    8714 non-null   float64       \n",
      " 55  Idromassaggio                              8714 non-null   float64       \n",
      " 56  Reception                                  8714 non-null   float64       \n",
      " 57  Piscina                                    8714 non-null   float64       \n",
      " 58  Infissi esterni in triplo vetro / metallo  8714 non-null   float64       \n",
      "dtypes: category(1), datetime64[ns](1), float64(48), object(9)\n",
      "memory usage: 3.9+ MB\n"
     ]
    }
   ],
   "source": [
    "df.info()"
   ]
  },
  {
   "cell_type": "code",
   "execution_count": 108,
   "metadata": {},
   "outputs": [],
   "source": [
    "df.to_excel(path_interim+'data.xlsx', index=False)"
   ]
  }
 ],
 "metadata": {
  "kernelspec": {
   "display_name": "Python 3",
   "language": "python",
   "name": "python3"
  },
  "language_info": {
   "codemirror_mode": {
    "name": "ipython",
    "version": 3
   },
   "file_extension": ".py",
   "mimetype": "text/x-python",
   "name": "python",
   "nbconvert_exporter": "python",
   "pygments_lexer": "ipython3",
   "version": "3.7.7"
  }
 },
 "nbformat": 4,
 "nbformat_minor": 4
}
