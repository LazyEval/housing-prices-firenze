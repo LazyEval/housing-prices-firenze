{
 "cells": [
  {
   "cell_type": "code",
   "execution_count": 1,
   "metadata": {},
   "outputs": [],
   "source": [
    "import numpy as np\n",
    "import pandas as pd\n",
    "import regex as re\n",
    "import matplotlib.pyplot as plt\n",
    "import seaborn as sns\n",
    "\n",
    "pd.set_option('display.max_columns', None)"
   ]
  },
  {
   "cell_type": "code",
   "execution_count": 2,
   "metadata": {},
   "outputs": [],
   "source": [
    "path_raw = '/home/matteo@COPPET/Documents/data_science/projects/housing_prices_firenze/data/raw/'\n",
    "path_processed = '/home/matteo@COPPET/Documents/data_science/projects/housing_prices_firenze/data/processed/'"
   ]
  },
  {
   "cell_type": "code",
   "execution_count": 3,
   "metadata": {},
   "outputs": [],
   "source": [
    "caratteristiche = pd.read_excel(path_raw+'caratteristiche.xlsx')\n",
    "costi = pd.read_excel(path_raw+'costi.xlsx')\n",
    "efficienza_energetica = pd.read_excel(path_raw+'efficienza_energetica.xlsx')"
   ]
  },
  {
   "cell_type": "code",
   "execution_count": 4,
   "metadata": {},
   "outputs": [
    {
     "name": "stdout",
     "output_type": "stream",
     "text": [
      "<class 'pandas.core.frame.DataFrame'>\n",
      "RangeIndex: 9065 entries, 0 to 9064\n",
      "Data columns (total 17 columns):\n",
      " #   Column                                        Non-Null Count  Dtype  \n",
      "---  ------                                        --------------  -----  \n",
      " 0   immobile garantito                            3821 non-null   object \n",
      " 1   riferimento e Data annuncio                   9065 non-null   object \n",
      " 2   contratto                                     9065 non-null   object \n",
      " 3   tipologia                                     9065 non-null   object \n",
      " 4   superficie                                    9057 non-null   object \n",
      " 5   locali                                        9049 non-null   object \n",
      " 6   piano                                         8862 non-null   object \n",
      " 7   totale piani edificio                         8359 non-null   object \n",
      " 8   disponibilità                                 8081 non-null   object \n",
      " 9   Tipo proprietà                                8583 non-null   object \n",
      " 10  altre caratteristiche                         8488 non-null   object \n",
      " 11  Posti Auto                                    2274 non-null   object \n",
      " 12  unità                                         0 non-null      float64\n",
      " 13  Data di inizio lavori e di consegna prevista  0 non-null      float64\n",
      " 14  Dati catastali                                0 non-null      float64\n",
      " 15  indirizzo                                     9065 non-null   object \n",
      " 16  zona                                          9001 non-null   object \n",
      "dtypes: float64(3), object(14)\n",
      "memory usage: 1.2+ MB\n"
     ]
    }
   ],
   "source": [
    "caratteristiche.info()"
   ]
  },
  {
   "cell_type": "code",
   "execution_count": 5,
   "metadata": {},
   "outputs": [
    {
     "name": "stdout",
     "output_type": "stream",
     "text": [
      "<class 'pandas.core.frame.DataFrame'>\n",
      "RangeIndex: 9065 entries, 0 to 9064\n",
      "Data columns (total 13 columns):\n",
      " #   Column                                 Non-Null Count  Dtype  \n",
      "---  ------                                 --------------  -----  \n",
      " 0   prezzo                                 9065 non-null   object \n",
      " 1   informazioni catastali                 5805 non-null   object \n",
      " 2   spese condominio                       5248 non-null   object \n",
      " 3   stato                                  0 non-null      float64\n",
      " 4   certificazione energetica              0 non-null      float64\n",
      " 5   Efficienza energetica                  0 non-null      float64\n",
      " 6   Tipo vendita                           0 non-null      float64\n",
      " 7   data vendita                           0 non-null      float64\n",
      " 8   riscaldamento                          0 non-null      float64\n",
      " 9   anno di costruzione                    0 non-null      float64\n",
      " 10  Prestazione energetica del fabbricato  0 non-null      float64\n",
      " 11  Climatizzazione                        0 non-null      float64\n",
      " 12  Indice prest. energetica rinnovabile   0 non-null      float64\n",
      "dtypes: float64(10), object(3)\n",
      "memory usage: 920.8+ KB\n"
     ]
    }
   ],
   "source": [
    "costi.info()"
   ]
  },
  {
   "cell_type": "code",
   "execution_count": 6,
   "metadata": {},
   "outputs": [
    {
     "name": "stdout",
     "output_type": "stream",
     "text": [
      "<class 'pandas.core.frame.DataFrame'>\n",
      "RangeIndex: 9065 entries, 0 to 9064\n",
      "Data columns (total 15 columns):\n",
      " #   Column                                 Non-Null Count  Dtype  \n",
      "---  ------                                 --------------  -----  \n",
      " 0   anno di costruzione                    6557 non-null   float64\n",
      " 1   stato                                  8803 non-null   object \n",
      " 2   riscaldamento                          8645 non-null   object \n",
      " 3   Climatizzazione                        4950 non-null   object \n",
      " 4   Indice prest. energetica rinnovabile   287 non-null    object \n",
      " 5   Prestazione energetica del fabbricato  594 non-null    object \n",
      " 6   Efficienza energetica                  7809 non-null   object \n",
      " 7   certificazione energetica              1370 non-null   object \n",
      " 8   numero immobili                        0 non-null      float64\n",
      " 9   offerta minima                         0 non-null      float64\n",
      " 10  rialzo minimo                          0 non-null      float64\n",
      " 11  Spesa prenota debito                   0 non-null      float64\n",
      " 12  Contributo non dovuto                  0 non-null      float64\n",
      " 13  Tipo vendita                           0 non-null      float64\n",
      " 14  data vendita                           0 non-null      float64\n",
      "dtypes: float64(8), object(7)\n",
      "memory usage: 1.0+ MB\n"
     ]
    }
   ],
   "source": [
    "efficienza_energetica.info()"
   ]
  },
  {
   "cell_type": "code",
   "execution_count": 7,
   "metadata": {},
   "outputs": [],
   "source": [
    "# Drop NaN columns (based on info above, possible error in scraping)\n",
    "caratteristiche = caratteristiche.drop(columns=['unità', 'Data di inizio lavori e di consegna prevista', 'Dati catastali'])\n",
    "costi = costi.iloc[:, :3]\n",
    "efficienza_energetica = efficienza_energetica.iloc[:, :8]"
   ]
  },
  {
   "cell_type": "markdown",
   "metadata": {},
   "source": [
    "## 1. Data cleaning"
   ]
  },
  {
   "cell_type": "markdown",
   "metadata": {},
   "source": [
    "### Join all three tables and start looking into the data"
   ]
  },
  {
   "cell_type": "code",
   "execution_count": 8,
   "metadata": {},
   "outputs": [],
   "source": [
    "# Join tables\n",
    "df = caratteristiche.join(costi).join(efficienza_energetica)"
   ]
  },
  {
   "cell_type": "code",
   "execution_count": 9,
   "metadata": {},
   "outputs": [
    {
     "name": "stdout",
     "output_type": "stream",
     "text": [
      "<class 'pandas.core.frame.DataFrame'>\n",
      "RangeIndex: 9065 entries, 0 to 9064\n",
      "Data columns (total 25 columns):\n",
      " #   Column                                 Non-Null Count  Dtype  \n",
      "---  ------                                 --------------  -----  \n",
      " 0   immobile garantito                     3821 non-null   object \n",
      " 1   riferimento e Data annuncio            9065 non-null   object \n",
      " 2   contratto                              9065 non-null   object \n",
      " 3   tipologia                              9065 non-null   object \n",
      " 4   superficie                             9057 non-null   object \n",
      " 5   locali                                 9049 non-null   object \n",
      " 6   piano                                  8862 non-null   object \n",
      " 7   totale piani edificio                  8359 non-null   object \n",
      " 8   disponibilità                          8081 non-null   object \n",
      " 9   Tipo proprietà                         8583 non-null   object \n",
      " 10  altre caratteristiche                  8488 non-null   object \n",
      " 11  Posti Auto                             2274 non-null   object \n",
      " 12  indirizzo                              9065 non-null   object \n",
      " 13  zona                                   9001 non-null   object \n",
      " 14  prezzo                                 9065 non-null   object \n",
      " 15  informazioni catastali                 5805 non-null   object \n",
      " 16  spese condominio                       5248 non-null   object \n",
      " 17  anno di costruzione                    6557 non-null   float64\n",
      " 18  stato                                  8803 non-null   object \n",
      " 19  riscaldamento                          8645 non-null   object \n",
      " 20  Climatizzazione                        4950 non-null   object \n",
      " 21  Indice prest. energetica rinnovabile   287 non-null    object \n",
      " 22  Prestazione energetica del fabbricato  594 non-null    object \n",
      " 23  Efficienza energetica                  7809 non-null   object \n",
      " 24  certificazione energetica              1370 non-null   object \n",
      "dtypes: float64(1), object(24)\n",
      "memory usage: 1.7+ MB\n"
     ]
    }
   ],
   "source": [
    "df.info()"
   ]
  },
  {
   "cell_type": "code",
   "execution_count": 10,
   "metadata": {},
   "outputs": [
    {
     "data": {
      "text/plain": [
       "immobile garantito                       5244\n",
       "riferimento e Data annuncio                 0\n",
       "contratto                                   0\n",
       "tipologia                                   0\n",
       "superficie                                  8\n",
       "locali                                     16\n",
       "piano                                     203\n",
       "totale piani edificio                     706\n",
       "disponibilità                             984\n",
       "Tipo proprietà                            482\n",
       "altre caratteristiche                     577\n",
       "Posti Auto                               6791\n",
       "indirizzo                                   0\n",
       "zona                                       64\n",
       "prezzo                                      0\n",
       "informazioni catastali                   3260\n",
       "spese condominio                         3817\n",
       "anno di costruzione                      2508\n",
       "stato                                     262\n",
       "riscaldamento                             420\n",
       "Climatizzazione                          4115\n",
       "Indice prest. energetica rinnovabile     8778\n",
       "Prestazione energetica del fabbricato    8471\n",
       "Efficienza energetica                    1256\n",
       "certificazione energetica                7695\n",
       "dtype: int64"
      ]
     },
     "execution_count": 10,
     "metadata": {},
     "output_type": "execute_result"
    }
   ],
   "source": [
    "df.isna().sum()"
   ]
  },
  {
   "cell_type": "markdown",
   "metadata": {},
   "source": [
    "#### Preliminary cleaning"
   ]
  },
  {
   "cell_type": "code",
   "execution_count": 11,
   "metadata": {},
   "outputs": [],
   "source": [
    "# Rename columns\n",
    "df.columns = map(str.capitalize, df.columns)\n",
    "\n",
    "# Remove rentals\n",
    "df = df.loc[df['Contratto'] != 'Affitto', :]\n",
    "\n",
    "# Checking for and removing duplicates\n",
    "df.duplicated().sum()\n",
    "df = df.drop_duplicates()\n",
    "\n",
    "# Not in Firenze\n",
    "df = df.drop(index=[1279, 4985])"
   ]
  },
  {
   "cell_type": "markdown",
   "metadata": {},
   "source": [
    "#### Address"
   ]
  },
  {
   "cell_type": "code",
   "execution_count": 12,
   "metadata": {},
   "outputs": [],
   "source": [
    "df['Indirizzo'] = df['Indirizzo'].str.replace(\"[\",'').str.replace(\"]\",'').str.replace('\\'', '')\n",
    "\n",
    "# Manually impute missing \"Zona\"\n",
    "df.loc[df['Indirizzo'] == 'Firenze, via vittorio emanuele orlando', 'Zona'] = 'Coverciano Bellariva'\n",
    "df.loc[df['Indirizzo'] == 'Firenze, via borgo la noce', 'Zona'] = 'Centro'\n",
    "df.loc[df['Indirizzo'] == 'Firenze, via Cigoli 31', 'Zona'] = 'L Isolotto'\n",
    "df.loc[df['Indirizzo'] == 'Firenze, via impruneta per mezzomonte', 'Zona'] = 'Bellosguardo Galluzzo'\n",
    "df.loc[df['Indirizzo'] == 'Firenze, via gioberti', 'Zona'] = 'Campo Di Marte Liberta'\n",
    "df.loc[df['Indirizzo'] == 'Firenze, via dei cioli 50', 'Zona'] = 'Settignano Rovezzano'\n",
    "df.loc[df['Indirizzo'] == 'Firenze, via spinucci 1', 'Zona'] = 'Serpiolle Careggi'\n",
    "df.loc[df['Indirizzo'] == 'Firenze, \"via lungo laffrico 50\"', 'Zona'] = 'Coverciano Bellariva'\n",
    "df.loc[df['Indirizzo'] == 'Firenze, via lippi', 'Zona'] = 'Legnaia Soffiano'\n",
    "df.loc[df['Indirizzo'] == 'Firenze, cairoli', 'Zona'] = 'Campo Di Marte Liberta'\n",
    "df.loc[df['Indirizzo'] == 'Firenze, via aretina', 'Zona'] = 'Coverciano Bellariva'\n",
    "df.loc[df['Indirizzo'] == 'Firenze, via Fra Bartolommeo  40', 'Zona'] = 'Campo Di Marte Liberta'\n",
    "df.loc[df['Indirizzo'] == 'Firenze, viale don minzoni 1', 'Zona'] = 'Campo Di Marte Liberta'\n",
    "df.loc[df['Indirizzo'] == 'Firenze, viale don minzoni  1', 'Zona'] = 'Campo Di Marte Liberta'\n",
    "df.loc[df['Indirizzo'] == 'Firenze, piazza beccaria', 'Zona'] = 'Campo Di Marte Liberta'\n",
    "df.loc[df['Indirizzo'] == 'Firenze, via san zanobi', 'Zona'] = 'Centro'\n",
    "df.loc[df['Indirizzo'] == 'Firenze, Piazzale Michelangelo', 'Zona'] = 'Michelangelo Porta Romana'\n",
    "df.loc[df['Indirizzo'] == 'Firenze, Via del Paradiso', 'Zona'] = 'Zona Firenze Sud'\n",
    "df.loc[df['Indirizzo'] == 'Firenze, via di Canonica', 'Zona'] = 'Centro'\n",
    "df.loc[df['Indirizzo'] == 'Firenze, Via di Canonica', 'Zona'] = 'Centro'\n",
    "df.loc[df['Indirizzo'] == 'Firenze, Via Frusa', 'Zona'] = 'Campo Di Marte Liberta'\n",
    "df.loc[df['Indirizzo'] == 'Firenze, Via Vespucci', 'Zona'] = 'Firenze Nord'\n",
    "df.loc[df['Indirizzo'] == 'Firenze, via baracca  148', 'Zona'] = 'Firenze Nord'\n",
    "df.loc[df['Indirizzo'] == 'Firenze, via dei Tavolini 1', 'Zona'] = 'Centro'\n",
    "df.loc[df['Indirizzo'] == 'Firenze, via Pisana 980', 'Zona'] = 'Ugnano Mantignano'\n",
    "df.loc[df['Indirizzo'] == 'Firenze, VIA SENESE', 'Zona'] = 'Bellosguardo Galluzzo'\n",
    "df.loc[df['Indirizzo'] == 'Firenze, \"piazza dAzeglio\"', 'Zona'] = 'Centro'\n",
    "df.loc[df['Indirizzo'] == 'Firenze, \"Piazza dazeglio\"', 'Zona'] = 'Centro'"
   ]
  },
  {
   "cell_type": "markdown",
   "metadata": {},
   "source": [
    "#### Zona"
   ]
  },
  {
   "cell_type": "code",
   "execution_count": 13,
   "metadata": {},
   "outputs": [],
   "source": [
    "df['Zona'] = df['Zona'].fillna('Non specificato')\n",
    "\n",
    "df['Zona'] = (df['Zona']\n",
    "              .str.replace('-', ' ')\n",
    "              .str.replace('/', '')\n",
    "              .str.title())\n",
    "df['Zona'] = df['Zona'].replace({'L Isolotto': 'L\\'Isolotto'})"
   ]
  },
  {
   "cell_type": "code",
   "execution_count": 14,
   "metadata": {},
   "outputs": [
    {
     "data": {
      "text/plain": [
       "array(['Bellosguardo Galluzzo', 'Coverciano Bellariva', 'Firenze Nord',\n",
       "       'Campo Di Marte Liberta', 'Legnaia Soffiano', 'Centro', 'Oltrarno',\n",
       "       'Zona Firenze Sud', 'Leopoldo Porta Al Prato', 'Serpiolle Careggi',\n",
       "       \"L'Isolotto\", 'Non Specificato', 'Settignano Rovezzano',\n",
       "       'Zona Bolognese Le Cure', 'Michelangelo Porta Romana',\n",
       "       'Ugnano Mantignano'], dtype=object)"
      ]
     },
     "execution_count": 14,
     "metadata": {},
     "output_type": "execute_result"
    }
   ],
   "source": [
    "df['Zona'].unique()"
   ]
  },
  {
   "cell_type": "markdown",
   "metadata": {},
   "source": [
    "#### Price"
   ]
  },
  {
   "cell_type": "code",
   "execution_count": 15,
   "metadata": {},
   "outputs": [
    {
     "data": {
      "text/plain": [
       "(289, 25)"
      ]
     },
     "execution_count": 15,
     "metadata": {},
     "output_type": "execute_result"
    }
   ],
   "source": [
    "# Missing labels\n",
    "df.loc[df['Prezzo'] == 'Prezzo su richiesta', :].shape"
   ]
  },
  {
   "cell_type": "code",
   "execution_count": 16,
   "metadata": {},
   "outputs": [],
   "source": [
    "# Drop missing labels\n",
    "df = df.loc[df['Prezzo'] != 'Prezzo su richiesta', :]"
   ]
  },
  {
   "cell_type": "code",
   "execution_count": 17,
   "metadata": {},
   "outputs": [],
   "source": [
    "df['Prezzo_EUR'] = (df['Prezzo']\n",
    "                      .str.split('€')\n",
    "                      .str[1]\n",
    "                      .str.replace('.', '')\n",
    "                      .astype('float'))"
   ]
  },
  {
   "cell_type": "code",
   "execution_count": 18,
   "metadata": {},
   "outputs": [
    {
     "data": {
      "text/plain": [
       "0"
      ]
     },
     "execution_count": 18,
     "metadata": {},
     "output_type": "execute_result"
    }
   ],
   "source": [
    "df['Prezzo_EUR'].isna().sum()"
   ]
  },
  {
   "cell_type": "markdown",
   "metadata": {},
   "source": [
    "#### Area"
   ]
  },
  {
   "cell_type": "code",
   "execution_count": 19,
   "metadata": {},
   "outputs": [],
   "source": [
    "df['Superficie_m2'] = df['Superficie'].copy()"
   ]
  },
  {
   "cell_type": "code",
   "execution_count": 20,
   "metadata": {},
   "outputs": [],
   "source": [
    "def extract_area(row):\n",
    "    try:\n",
    "        if '\\|' in row['Superficie']:\n",
    "            row['Superficie_m2'] = float(re.search('(\\d+\\.?\\d*)',\n",
    "                                                   row['Superficie'].split('\\|')[1]).group(0).replace('.', ''))\n",
    "        else:\n",
    "            row['Superficie_m2'] = float(re.search('(\\d+\\.?\\d*)',\n",
    "                                                   row['Superficie']).group(0).replace('.', ''))\n",
    "    except TypeError:\n",
    "        pass\n",
    "    return row['Superficie_m2']"
   ]
  },
  {
   "cell_type": "code",
   "execution_count": 21,
   "metadata": {},
   "outputs": [],
   "source": [
    "df['Superficie_m2'] = df.apply(extract_area, axis=1)"
   ]
  },
  {
   "cell_type": "code",
   "execution_count": 22,
   "metadata": {},
   "outputs": [
    {
     "data": {
      "text/plain": [
       "240018.0"
      ]
     },
     "execution_count": 22,
     "metadata": {},
     "output_type": "execute_result"
    }
   ],
   "source": [
    "# Outlier probably 240\n",
    "df['Superficie_m2'].max()"
   ]
  },
  {
   "cell_type": "code",
   "execution_count": 23,
   "metadata": {},
   "outputs": [
    {
     "data": {
      "text/plain": [
       "Immobile garantito                                                                     NaN\n",
       "Riferimento e data annuncio                                       EK-63918936 - 08/12/2019\n",
       "Contratto                                                                          Vendita\n",
       "Tipologia                                                                     Appartamento\n",
       "Superficie                                     240.018 m²                 - Vedi dettaglio\n",
       "Locali                                   5+ (4 camere da letto, 5 altri), 3+ bagni, cuc...\n",
       "Piano                                                                 da seminterrato a 2°\n",
       "Totale piani edificio                                                              2 piani\n",
       "Disponibilità                                                                       Libero\n",
       "Tipo proprietà                                     Intera proprietà, classe immobile media\n",
       "Altre caratteristiche                    Fibra ottica\\n                \\n\\n            ...\n",
       "Posti auto                                                                             NaN\n",
       "Indirizzo                                   Firenze, \"SantAmbrogio\", \"Piazza SantAmbrogio\"\n",
       "Zona                                                                                Centro\n",
       "Prezzo                                                                         € 1.100.000\n",
       "Informazioni catastali                                                          Classe A/2\n",
       "Spese condominio                                                                       NaN\n",
       "Anno di costruzione                                                                   1900\n",
       "Stato                                                               Ottimo / Ristrutturato\n",
       "Riscaldamento                                   Autonomo, a radiatori, alimentato a metano\n",
       "Climatizzazione                                                           Autonomo, freddo\n",
       "Indice prest. energetica rinnovabile                                                   NaN\n",
       "Prestazione energetica del fabbricato                                                  NaN\n",
       "Efficienza energetica                                                  F ≥ 175 kWh/m² anno\n",
       "Certificazione energetica                                                              NaN\n",
       "Prezzo_EUR                                                                         1.1e+06\n",
       "Superficie_m2                                                                       240018\n",
       "Name: 8877, dtype: object"
      ]
     },
     "execution_count": 23,
     "metadata": {},
     "output_type": "execute_result"
    }
   ],
   "source": [
    "df.loc[df['Superficie_m2'].idxmax(), :]"
   ]
  },
  {
   "cell_type": "code",
   "execution_count": 24,
   "metadata": {},
   "outputs": [],
   "source": [
    "df.loc[df['Superficie_m2'].idxmax(), 'Superficie_m2'] = 240"
   ]
  },
  {
   "cell_type": "markdown",
   "metadata": {},
   "source": [
    "#### State"
   ]
  },
  {
   "cell_type": "code",
   "execution_count": 25,
   "metadata": {},
   "outputs": [
    {
     "data": {
      "text/plain": [
       "(array([0, 1, 2, 3]), <a list of 4 Text xticklabel objects>)"
      ]
     },
     "execution_count": 25,
     "metadata": {},
     "output_type": "execute_result"
    },
    {
     "data": {
      "image/png": "[encoded data removed]",
      "text/plain": [
       "<Figure size 432x432 with 1 Axes>"
      ]
     },
     "metadata": {
      "needs_background": "light"
     },
     "output_type": "display_data"
    }
   ],
   "source": [
    "fig = plt.figure(figsize=(6, 6))\n",
    "sns.barplot(x=df['Stato'], y=df['Prezzo_EUR'])\n",
    "plt.xticks(rotation=45)"
   ]
  },
  {
   "cell_type": "code",
   "execution_count": 26,
   "metadata": {},
   "outputs": [
    {
     "data": {
      "text/plain": [
       "Ottimo / Ristrutturato    4529\n",
       "Buono / Abitabile         2404\n",
       "Nuovo / In costruzione     897\n",
       "Da ristrutturare           678\n",
       "Name: Stato, dtype: int64"
      ]
     },
     "execution_count": 26,
     "metadata": {},
     "output_type": "execute_result"
    }
   ],
   "source": [
    "df['Stato'].value_counts()"
   ]
  },
  {
   "cell_type": "code",
   "execution_count": 27,
   "metadata": {},
   "outputs": [],
   "source": [
    "# Imputing \"Stato\" by most frequent as it does not seem to influence price much\n",
    "df['Stato'] = df['Stato'].fillna(df['Stato'].value_counts().index[0])"
   ]
  },
  {
   "cell_type": "markdown",
   "metadata": {},
   "source": [
    "#### Contract"
   ]
  },
  {
   "cell_type": "code",
   "execution_count": 28,
   "metadata": {},
   "outputs": [
    {
     "data": {
      "text/plain": [
       "Contratto\n",
       "Vendita                         489644.840990\n",
       "Vendita | Immobile a reddito    466355.491329\n",
       "Name: Prezzo_EUR, dtype: float64"
      ]
     },
     "execution_count": 28,
     "metadata": {},
     "output_type": "execute_result"
    }
   ],
   "source": [
    "# Looking into \"Contratto\": does it affect price?\n",
    "gb = df['Prezzo_EUR'].groupby(df['Contratto']).agg('mean')\n",
    "gb"
   ]
  },
  {
   "cell_type": "markdown",
   "metadata": {},
   "source": [
    "#### Dropping useless columns"
   ]
  },
  {
   "cell_type": "code",
   "execution_count": 29,
   "metadata": {},
   "outputs": [],
   "source": [
    "# Drop columns that have almost no entries\n",
    "# Dropping because of lack of entries\n",
    "# Dropping \"Disponibilità\" and \"Contratto\" because it is not relevant information\n",
    "df = df.drop(columns=['Immobile garantito', 'Indice prest. energetica rinnovabile',\n",
    "                      'Prestazione energetica del fabbricato', 'Certificazione energetica',\n",
    "                      'Disponibilità', 'Contratto'])"
   ]
  },
  {
   "cell_type": "markdown",
   "metadata": {},
   "source": [
    "### Feature engineering"
   ]
  },
  {
   "cell_type": "markdown",
   "metadata": {},
   "source": [
    "#### Heating"
   ]
  },
  {
   "cell_type": "code",
   "execution_count": 30,
   "metadata": {},
   "outputs": [
    {
     "data": {
      "text/plain": [
       "398"
      ]
     },
     "execution_count": 30,
     "metadata": {},
     "output_type": "execute_result"
    }
   ],
   "source": [
    "df['Riscaldamento'].isna().sum()"
   ]
  },
  {
   "cell_type": "code",
   "execution_count": 31,
   "metadata": {},
   "outputs": [],
   "source": [
    "# Create type of heating feature\n",
    "df['Tipologia di riscaldamento'] = df['Riscaldamento'].str.split(',').str[0]"
   ]
  },
  {
   "cell_type": "code",
   "execution_count": 32,
   "metadata": {},
   "outputs": [
    {
     "data": {
      "text/plain": [
       "<matplotlib.axes._subplots.AxesSubplot at 0x7f9f4133bf50>"
      ]
     },
     "execution_count": 32,
     "metadata": {},
     "output_type": "execute_result"
    },
    {
     "data": {
      "image/png": "[encoded data removed]",
      "text/plain": [
       "<Figure size 432x432 with 1 Axes>"
      ]
     },
     "metadata": {
      "needs_background": "light"
     },
     "output_type": "display_data"
    }
   ],
   "source": [
    "fig = plt.figure(figsize=(6, 6))\n",
    "sns.barplot(x=df['Tipologia di riscaldamento'], y=df['Prezzo_EUR'])"
   ]
  },
  {
   "cell_type": "code",
   "execution_count": 33,
   "metadata": {},
   "outputs": [
    {
     "data": {
      "text/plain": [
       "Autonomo         6516\n",
       "Centralizzato    1834\n",
       "Name: Tipologia di riscaldamento, dtype: int64"
      ]
     },
     "execution_count": 33,
     "metadata": {},
     "output_type": "execute_result"
    }
   ],
   "source": [
    "df['Tipologia di riscaldamento'].value_counts()"
   ]
  },
  {
   "cell_type": "code",
   "execution_count": 34,
   "metadata": {},
   "outputs": [],
   "source": [
    "# Filling heating NaNs with centralized because when not specified it is probably centralized\n",
    "df['Tipologia di riscaldamento'] = df['Tipologia di riscaldamento'].fillna('Centralizzato')"
   ]
  },
  {
   "cell_type": "markdown",
   "metadata": {},
   "source": [
    "#### Listing date"
   ]
  },
  {
   "cell_type": "code",
   "execution_count": 35,
   "metadata": {},
   "outputs": [
    {
     "data": {
      "text/plain": [
       "0       A0049 - 05/10/2020\n",
       "1      alv275 - 05/10/2020\n",
       "2    Novoli B - 05/10/2020\n",
       "3    Novoli A - 05/10/2020\n",
       "4     MAZZ328 - 05/10/2020\n",
       "Name: Riferimento e data annuncio, dtype: object"
      ]
     },
     "execution_count": 35,
     "metadata": {},
     "output_type": "execute_result"
    }
   ],
   "source": [
    "df['Riferimento e data annuncio'].head()"
   ]
  },
  {
   "cell_type": "code",
   "execution_count": 36,
   "metadata": {},
   "outputs": [],
   "source": [
    "df['Data annuncio'] = (df['Riferimento e data annuncio']\n",
    "                       .str.split('-')\n",
    "                       .str[-1]\n",
    "                       .str.strip()\n",
    "                       .astype('datetime64[D]'))"
   ]
  },
  {
   "cell_type": "markdown",
   "metadata": {},
   "source": [
    "#### Floor"
   ]
  },
  {
   "cell_type": "code",
   "execution_count": 37,
   "metadata": {},
   "outputs": [
    {
     "data": {
      "text/plain": [
       "array(['1° piano', '3° piano, con ascensore', '5° piano, con ascensore',\n",
       "       'da seminterrato a 1°, con ascensore',\n",
       "       'da seminterrato a piano terra, con ascensore, con accesso disabili',\n",
       "       '3° piano', '2° piano', 'Piano terra', '1° piano, con ascensore',\n",
       "       'Piano terra, con ascensore', 'Piano rialzato',\n",
       "       'da 4° a 5°, con ascensore', '4° piano, con ascensore',\n",
       "       'Piano rialzato, con ascensore', '6° piano, con ascensore',\n",
       "       '2° piano, con ascensore, con accesso disabili', 'Seminterrato',\n",
       "       'da piano terra a piano rialzato', '2° piano, con ascensore',\n",
       "       'Piano rialzato, con ascensore, con accesso disabili',\n",
       "       '1° piano, con ascensore, con accesso disabili',\n",
       "       'Piano terra, con accesso disabili', '4° piano',\n",
       "       '3° piano, con ascensore, con accesso disabili', nan,\n",
       "       'da 5° a 6°, con ascensore',\n",
       "       '5° piano, con ascensore, con accesso disabili',\n",
       "       '7° piano, con ascensore',\n",
       "       '4°, con ascensore, con accesso disabili',\n",
       "       'da seminterrato a 5°, con ascensore',\n",
       "       'Piano terra, con ascensore, con accesso disabili',\n",
       "       'Piano rialzato, con accesso disabili', 'da piano terra a 2°',\n",
       "       'da piano terra a 1°', 'da 1° a 2°', '1°',\n",
       "       'da interrato a 1°, con ascensore, con accesso disabili',\n",
       "       'da seminterrato a 1°, con ascensore, con accesso disabili',\n",
       "       'da seminterrato a 4°, con ascensore, con accesso disabili',\n",
       "       'da seminterrato a 2°, con ascensore, con accesso disabili',\n",
       "       'da seminterrato a piano terra', 'da 1° a 2°, con ascensore',\n",
       "       '6°, con ascensore', '6°, con ascensore, con accesso disabili',\n",
       "       '2°', '1° piano, con accesso disabili', '5° piano',\n",
       "       '1°, con ascensore, con accesso disabili',\n",
       "       'da 6° a 7°, con ascensore',\n",
       "       '4° piano, con ascensore, con accesso disabili',\n",
       "       'da interrato a 1°, con ascensore',\n",
       "       'da interrato a piano rialzato, con accesso disabili',\n",
       "       '5°, con ascensore, con accesso disabili', '2°, con ascensore',\n",
       "       '3°, con ascensore',\n",
       "       '6° piano, con ascensore, con accesso disabili',\n",
       "       'Su più livelli, con ascensore', '1°, con ascensore',\n",
       "       'da seminterrato a 3°, con ascensore, con accesso disabili',\n",
       "       'Ammezzato', 'Su più livelli', '5°, con ascensore',\n",
       "       '2°, con ascensore, con accesso disabili',\n",
       "       'da 2° a 3°, con ascensore', 'da seminterrato a 1°',\n",
       "       'da seminterrato a 4°, con ascensore',\n",
       "       'Seminterrato, con ascensore, con accesso disabili', '2°, 4°',\n",
       "       'da seminterrato a piano rialzato, con ascensore',\n",
       "       '4°, con ascensore', 'da 2° a 3°', '7°, con ascensore',\n",
       "       'da seminterrato a 2°, con ascensore',\n",
       "       'da piano terra a 5°, con ascensore',\n",
       "       '3°, con ascensore, con accesso disabili',\n",
       "       '8° piano, con ascensore', '3°',\n",
       "       'da piano terra a 4°, con ascensore',\n",
       "       'da piano terra a piano rialzato, con ascensore',\n",
       "       '8°, con ascensore, con accesso disabili',\n",
       "       'da seminterrato a piano rialzato, con ascensore, con accesso disabili',\n",
       "       'da seminterrato a 2°', 'da seminterrato a 3°, con ascensore',\n",
       "       'da piano terra a 3°, con ascensore, con accesso disabili',\n",
       "       'da piano terra a 5°, con ascensore, con accesso disabili',\n",
       "       'da piano terra a 1°, con ascensore, con accesso disabili',\n",
       "       '6° piano', 'Seminterrato, con ascensore',\n",
       "       'da piano terra a 1°, con accesso disabili',\n",
       "       'Interrato, con ascensore', 'da ammezzato a 3°',\n",
       "       'da piano terra a 3°', 'da 3° a 4°', 'da ammezzato a 1°',\n",
       "       'da interrato a 1°, con accesso disabili', '4°',\n",
       "       'da interrato a piano rialzato, con ascensore',\n",
       "       'Seminterrato, con accesso disabili',\n",
       "       'da interrato a 5°, con ascensore, con accesso disabili',\n",
       "       'Interrato (-2), con ascensore', 'da interrato a 2°',\n",
       "       'da interrato a piano terra', 'da 1° a 3°',\n",
       "       'da piano terra a 1°, con ascensore',\n",
       "       'da seminterrato a ammezzato',\n",
       "       'da interrato a 4°, con ascensore, con accesso disabili',\n",
       "       'da seminterrato a 2°, con accesso disabili',\n",
       "       'da piano terra a 2°, con ascensore', '1°, con accesso disabili',\n",
       "       '8° piano, con ascensore, con accesso disabili',\n",
       "       'da seminterrato a 5°, con ascensore, con accesso disabili',\n",
       "       '7° piano, con ascensore, con accesso disabili',\n",
       "       'da piano terra a 2°, con ascensore, con accesso disabili',\n",
       "       '3°, 7°, con ascensore, con accesso disabili',\n",
       "       'da interrato a piano rialzato',\n",
       "       'da 6° a 7°, con ascensore, con accesso disabili',\n",
       "       'da interrato a 2°, con ascensore', 'Ammezzato, con ascensore',\n",
       "       'da piano terra a su più livelli', 'da seminterrato a 3°',\n",
       "       '1°, Ultimo, con ascensore, con accesso disabili',\n",
       "       'da piano terra a ultimo', 'Ultimo piano, con ascensore',\n",
       "       'da seminterrato a 4°',\n",
       "       'Ultimo piano, con ascensore, con accesso disabili',\n",
       "       'Ultimo piano',\n",
       "       'da seminterrato a 7°, con ascensore, con accesso disabili',\n",
       "       'da piano rialzato a 1°, con ascensore, con accesso disabili',\n",
       "       '1°, Ultimo, con ascensore', 'Ultimo',\n",
       "       'Ultimo, con ascensore, con accesso disabili', '7°',\n",
       "       'da interrato a 4°, con ascensore', '8°, con ascensore',\n",
       "       'Scantinato, 1°, >10',\n",
       "       'da seminterrato a 1°, con accesso disabili',\n",
       "       'da piano terra a piano rialzato, con accesso disabili',\n",
       "       'Interrato', '2°, con accesso disabili',\n",
       "       'da interrato a 3°, con ascensore',\n",
       "       'da seminterrato a piano terra, con accesso disabili',\n",
       "       'da 3° a 4°, con ascensore, con accesso disabili',\n",
       "       'da seminterrato a piano terra, con ascensore',\n",
       "       'da 3° a 4°, con ascensore',\n",
       "       'da piano terra a ultimo, con ascensore, con accesso disabili',\n",
       "       'da piano rialzato a 2°, con ascensore', 'da interrato a 3°',\n",
       "       'da interrato a 3°, con ascensore, con accesso disabili',\n",
       "       'da interrato a ultimo', 'Scantinato, da piano terra a 1°, Ultimo',\n",
       "       'da 1° a 2°, con ascensore, con accesso disabili',\n",
       "       '2° piano, con accesso disabili', '1°, Ultimo',\n",
       "       'da interrato a piano terra, con ascensore',\n",
       "       'da seminterrato a ultimo', 'da seminterrato a 6°, con ascensore',\n",
       "       'da 4° a 5°', 'da piano terra a 2°, con accesso disabili',\n",
       "       'da interrato a 2°, con ascensore, con accesso disabili',\n",
       "       'da seminterrato a piano rialzato',\n",
       "       'da interrato a 2°, con accesso disabili',\n",
       "       'da piano terra a 7°, con ascensore, con accesso disabili',\n",
       "       '3°, 6°, con ascensore', 'da piano rialzato a 1°',\n",
       "       '2°, 5°, con ascensore',\n",
       "       'da piano terra a 4°, con ascensore, con accesso disabili',\n",
       "       '2°, Ultimo', '8°, Ultimo, con ascensore',\n",
       "       'da 1° a 2°, Ultimo, con accesso disabili',\n",
       "       'da piano terra a 3°, con accesso disabili',\n",
       "       '7°, con ascensore, con accesso disabili', 'da interrato a 1°',\n",
       "       '7° piano', 'da 5° a 6°, con ascensore, con accesso disabili',\n",
       "       '3°, Ultimo, con ascensore, con accesso disabili',\n",
       "       'Ultimo piano, con accesso disabili',\n",
       "       'da seminterrato a piano rialzato, con accesso disabili',\n",
       "       'da interrato a 6°, con ascensore',\n",
       "       '9°, con ascensore, con accesso disabili',\n",
       "       'da piano terra a 4°, Ultimo, con ascensore, con accesso disabili',\n",
       "       'Oltre il decimo piano, con ascensore, con accesso disabili',\n",
       "       'da piano terra a ammezzato',\n",
       "       'da piano terra a 1°, Ultimo, con ascensore, con accesso disabili',\n",
       "       'da piano terra a ammezzato, con ascensore',\n",
       "       'Oltre il decimo piano, con ascensore',\n",
       "       'da piano terra a 3°, con ascensore', 'Ultimo, con ascensore',\n",
       "       '10° piano, con ascensore', 'da piano terra a 7°, con ascensore',\n",
       "       '9° piano, con ascensore', 'da piano terra a 1°, Ultimo',\n",
       "       'da piano terra a 1°, Ultimo, con accesso disabili',\n",
       "       '4° piano, con accesso disabili',\n",
       "       'Scantinato, Piano terra, con ascensore',\n",
       "       'da interrato a su più livelli, con ascensore',\n",
       "       '4°, 6°, con ascensore',\n",
       "       'da piano terra a 1°, Ultimo, con ascensore',\n",
       "       '2°, 4°, con ascensore'], dtype=object)"
      ]
     },
     "execution_count": 37,
     "metadata": {},
     "output_type": "execute_result"
    }
   ],
   "source": [
    "df['Piano'].unique()"
   ]
  },
  {
   "cell_type": "code",
   "execution_count": 38,
   "metadata": {},
   "outputs": [],
   "source": [
    "mask = df['Piano'].str.match(r'(.*ascensore.*)')\n",
    "\n",
    "df['Ascensore'] = mask.astype('float')"
   ]
  },
  {
   "cell_type": "code",
   "execution_count": 39,
   "metadata": {},
   "outputs": [],
   "source": [
    "df['Totale piani edificio'] = (df['Totale piani edificio']\n",
    "                               .str.split(' ')\n",
    "                               .str[0]\n",
    "                               .astype('float'))"
   ]
  },
  {
   "cell_type": "code",
   "execution_count": 40,
   "metadata": {},
   "outputs": [
    {
     "data": {
      "text/plain": [
       "649"
      ]
     },
     "execution_count": 40,
     "metadata": {},
     "output_type": "execute_result"
    }
   ],
   "source": [
    "df['Totale piani edificio'].isna().sum()"
   ]
  },
  {
   "cell_type": "markdown",
   "metadata": {},
   "source": [
    "#### Other characteristics"
   ]
  },
  {
   "cell_type": "code",
   "execution_count": 41,
   "metadata": {},
   "outputs": [
    {
     "data": {
      "text/plain": [
       "'Giardino privato\\n                \\n\\n                    Esposizione doppia'"
      ]
     },
     "execution_count": 41,
     "metadata": {},
     "output_type": "execute_result"
    }
   ],
   "source": [
    "df['Altre caratteristiche'].str.replace('\\n', ';')\n",
    "df['Altre caratteristiche'].unique()[10]"
   ]
  },
  {
   "cell_type": "markdown",
   "metadata": {},
   "source": [
    "#### Number of rooms and toilets"
   ]
  },
  {
   "cell_type": "code",
   "execution_count": 42,
   "metadata": {},
   "outputs": [],
   "source": [
    "# Create number of rooms feature\n",
    "pat = r'\\(.*\\)'\n",
    "repl = lambda m: m.group(0).replace(',', ';')\n",
    "\n",
    "df['Locali'] = df['Locali'].str.replace(pat, repl)"
   ]
  },
  {
   "cell_type": "code",
   "execution_count": 43,
   "metadata": {},
   "outputs": [
    {
     "data": {
      "text/plain": [
       "1.0    4428\n",
       "2.0    2992\n",
       "3.0     780\n",
       "4.0     442\n",
       "0.0     106\n",
       "Name: Numero di bagni, dtype: int64"
      ]
     },
     "execution_count": 43,
     "metadata": {},
     "output_type": "execute_result"
    }
   ],
   "source": [
    "# Toilets\n",
    "df['Numero di bagni'] = (df['Locali']\n",
    "                         .str.findall(r'(\\d\\+? bagn\\w)')\n",
    "                         .str[0]\n",
    "                         .str.split(' ')\n",
    "                         .str[0])\n",
    "\n",
    "df.loc[df['Numero di bagni'].isna(), 'Numero di bagni'] = 0\n",
    "df.loc[df['Numero di bagni'] == '3+', 'Numero di bagni'] = 4 # Set 3+ toilets to 4\n",
    "df['Numero di bagni'] = df['Numero di bagni'].astype('float')\n",
    "\n",
    "df['Numero di bagni'].value_counts()"
   ]
  },
  {
   "cell_type": "code",
   "execution_count": 44,
   "metadata": {},
   "outputs": [
    {
     "data": {
      "text/plain": [
       "<matplotlib.axes._subplots.AxesSubplot at 0x7f9f4127e790>"
      ]
     },
     "execution_count": 44,
     "metadata": {},
     "output_type": "execute_result"
    },
    {
     "data": {
      "image/png": "[encoded data removed]",
      "text/plain": [
       "<Figure size 432x288 with 1 Axes>"
      ]
     },
     "metadata": {
      "needs_background": "light"
     },
     "output_type": "display_data"
    }
   ],
   "source": [
    "sns.barplot(x=df['Numero di bagni'].value_counts().index, y=df['Numero di bagni'].value_counts())"
   ]
  },
  {
   "cell_type": "code",
   "execution_count": 45,
   "metadata": {
    "scrolled": true
   },
   "outputs": [
    {
     "data": {
      "text/plain": [
       "99      120.0\n",
       "119     500.0\n",
       "329     250.0\n",
       "409      95.0\n",
       "441     200.0\n",
       "        ...  \n",
       "8657    350.0\n",
       "8755     58.0\n",
       "8773     21.0\n",
       "8960    172.0\n",
       "9041    200.0\n",
       "Name: Superficie_m2, Length: 106, dtype: float64"
      ]
     },
     "execution_count": 45,
     "metadata": {},
     "output_type": "execute_result"
    }
   ],
   "source": [
    "df.loc[df['Numero di bagni'] == 0, 'Superficie_m2']"
   ]
  },
  {
   "cell_type": "code",
   "execution_count": 46,
   "metadata": {},
   "outputs": [],
   "source": [
    "# Create area bins for imputing\n",
    "df['Superficie_Bins'] = pd.cut(df['Superficie_m2'].dropna(), bins=[0, 60, 80, 100, 120, 160, 200, 20000])"
   ]
  },
  {
   "cell_type": "code",
   "execution_count": 47,
   "metadata": {},
   "outputs": [
    {
     "data": {
      "text/plain": [
       "(array([0, 1, 2, 3, 4, 5, 6]), <a list of 7 Text xticklabel objects>)"
      ]
     },
     "execution_count": 47,
     "metadata": {},
     "output_type": "execute_result"
    },
    {
     "data": {
      "image/png": "[encoded data removed]",
      "text/plain": [
       "<Figure size 432x432 with 1 Axes>"
      ]
     },
     "metadata": {
      "needs_background": "light"
     },
     "output_type": "display_data"
    }
   ],
   "source": [
    "fig = plt.figure(figsize=(6, 6))\n",
    "sns.barplot(x=df['Superficie_Bins'], y=df['Numero di bagni'])\n",
    "plt.xticks(rotation=45)"
   ]
  },
  {
   "cell_type": "code",
   "execution_count": 48,
   "metadata": {},
   "outputs": [
    {
     "data": {
      "text/plain": [
       "Superficie_Bins\n",
       "(0, 60]         1.0\n",
       "(60, 80]        1.0\n",
       "(80, 100]       1.0\n",
       "(100, 120]      2.0\n",
       "(120, 160]      2.0\n",
       "(160, 200]      2.0\n",
       "(200, 20000]    4.0\n",
       "Name: Numero di bagni, dtype: float64"
      ]
     },
     "execution_count": 48,
     "metadata": {},
     "output_type": "execute_result"
    }
   ],
   "source": [
    "df.groupby(['Superficie_Bins'])['Numero di bagni'].agg(lambda x:x.value_counts().index[0])"
   ]
  },
  {
   "cell_type": "code",
   "execution_count": 49,
   "metadata": {},
   "outputs": [],
   "source": [
    "# Imputing number of toilets based on area bins\n",
    "for area in df['Superficie_Bins'].unique():\n",
    "    mask = df['Superficie_Bins'] == area\n",
    "    df.loc[mask & (df['Numero di bagni'] == 0), 'Numero di bagni'] = df.loc[mask, 'Numero di bagni'].mode().values"
   ]
  },
  {
   "cell_type": "code",
   "execution_count": 50,
   "metadata": {},
   "outputs": [],
   "source": [
    "df['Numero di altri'] = (df['Locali']\n",
    "                         .str.findall(r'(\\d?\\d\\+? altr\\w)')\n",
    "                         .str[0]\n",
    "                         .str.split(' ')\n",
    "                         .str[0]\n",
    "                         .astype('float'))\n",
    "df.loc[df['Numero di altri'].isna(), 'Numero di altri'] = 0 # Set NaNs to 0 to be able to sum"
   ]
  },
  {
   "cell_type": "code",
   "execution_count": 51,
   "metadata": {},
   "outputs": [],
   "source": [
    "df['Numero di camere da letto'] = (df['Locali']\n",
    "                                   .str.findall(r'(\\d?\\d\\+? camer\\w da letto)')\n",
    "                                   .str[0]\n",
    "                                   .str.split(' ')\n",
    "                                   .str[0]\n",
    "                                   .astype('float'))\n",
    "df.loc[df['Numero di camere da letto'].isna(), 'Numero di camere da letto'] = 0 # Set NaNs to 0 to be able to sum"
   ]
  },
  {
   "cell_type": "code",
   "execution_count": 52,
   "metadata": {},
   "outputs": [],
   "source": [
    "df['Numero di locali'] = (df['Locali']\n",
    "                          .str.findall(r'(\\d?\\d\\+? local\\w)')\n",
    "                          .str[0]\n",
    "                          .str.split(' ')\n",
    "                          .str[0]\n",
    "                          .astype('float'))\n",
    "df.loc[df['Numero di locali'].isna(), 'Numero di locali'] = 0 # Set NaNs to 0 to be able to sum"
   ]
  },
  {
   "cell_type": "code",
   "execution_count": 53,
   "metadata": {},
   "outputs": [],
   "source": [
    "df['Numero totale di locali'] = df['Numero di locali'] + df['Numero di camere da letto'] + df['Numero di altri']"
   ]
  },
  {
   "cell_type": "code",
   "execution_count": 54,
   "metadata": {
    "scrolled": false
   },
   "outputs": [
    {
     "data": {
      "text/plain": [
       "(13, 30)"
      ]
     },
     "execution_count": 54,
     "metadata": {},
     "output_type": "execute_result"
    }
   ],
   "source": [
    "df.loc[df['Locali'].isna(), :].shape"
   ]
  },
  {
   "cell_type": "code",
   "execution_count": 55,
   "metadata": {},
   "outputs": [
    {
     "data": {
      "text/plain": [
       "(array([0, 1, 2, 3, 4, 5, 6]), <a list of 7 Text xticklabel objects>)"
      ]
     },
     "execution_count": 55,
     "metadata": {},
     "output_type": "execute_result"
    },
    {
     "data": {
      "image/png": "[encoded data removed]",
      "text/plain": [
       "<Figure size 432x432 with 1 Axes>"
      ]
     },
     "metadata": {
      "needs_background": "light"
     },
     "output_type": "display_data"
    }
   ],
   "source": [
    "fig = plt.figure(figsize=(6, 6))\n",
    "sns.barplot(x=df['Superficie_Bins'], y=df['Numero totale di locali'])\n",
    "plt.xticks(rotation=45)"
   ]
  },
  {
   "cell_type": "code",
   "execution_count": 56,
   "metadata": {},
   "outputs": [],
   "source": [
    "# Imputing number of rooms based on area bins\n",
    "for area in df['Superficie_Bins'].unique():\n",
    "    mask = df['Superficie_Bins'] == area\n",
    "    df.loc[mask & (df['Numero totale di locali'] == 0),\n",
    "           'Numero totale di locali'] = df.loc[mask, 'Numero totale di locali'].mode().values"
   ]
  },
  {
   "cell_type": "code",
   "execution_count": 57,
   "metadata": {},
   "outputs": [
    {
     "data": {
      "text/plain": [
       "(0, 30)"
      ]
     },
     "execution_count": 57,
     "metadata": {},
     "output_type": "execute_result"
    }
   ],
   "source": [
    "df.loc[df['Numero totale di locali'].isna(), :].shape"
   ]
  },
  {
   "cell_type": "markdown",
   "metadata": {},
   "source": [
    "#### Imputing area"
   ]
  },
  {
   "cell_type": "code",
   "execution_count": 58,
   "metadata": {},
   "outputs": [
    {
     "data": {
      "text/html": [
       "<div>\n",
       "<style scoped>\n",
       "    .dataframe tbody tr th:only-of-type {\n",
       "        vertical-align: middle;\n",
       "    }\n",
       "\n",
       "    .dataframe tbody tr th {\n",
       "        vertical-align: top;\n",
       "    }\n",
       "\n",
       "    .dataframe thead th {\n",
       "        text-align: right;\n",
       "    }\n",
       "</style>\n",
       "<table border=\"1\" class=\"dataframe\">\n",
       "  <thead>\n",
       "    <tr style=\"text-align: right;\">\n",
       "      <th></th>\n",
       "      <th>Riferimento e data annuncio</th>\n",
       "      <th>Tipologia</th>\n",
       "      <th>Superficie</th>\n",
       "      <th>Locali</th>\n",
       "      <th>Piano</th>\n",
       "      <th>Totale piani edificio</th>\n",
       "      <th>Tipo proprietà</th>\n",
       "      <th>Altre caratteristiche</th>\n",
       "      <th>Posti auto</th>\n",
       "      <th>Indirizzo</th>\n",
       "      <th>Zona</th>\n",
       "      <th>Prezzo</th>\n",
       "      <th>Informazioni catastali</th>\n",
       "      <th>Spese condominio</th>\n",
       "      <th>Anno di costruzione</th>\n",
       "      <th>Stato</th>\n",
       "      <th>Riscaldamento</th>\n",
       "      <th>Climatizzazione</th>\n",
       "      <th>Efficienza energetica</th>\n",
       "      <th>Prezzo_EUR</th>\n",
       "      <th>Superficie_m2</th>\n",
       "      <th>Tipologia di riscaldamento</th>\n",
       "      <th>Data annuncio</th>\n",
       "      <th>Ascensore</th>\n",
       "      <th>Numero di bagni</th>\n",
       "      <th>Superficie_Bins</th>\n",
       "      <th>Numero di altri</th>\n",
       "      <th>Numero di camere da letto</th>\n",
       "      <th>Numero di locali</th>\n",
       "      <th>Numero totale di locali</th>\n",
       "    </tr>\n",
       "  </thead>\n",
       "  <tbody>\n",
       "    <tr>\n",
       "      <th>5541</th>\n",
       "      <td>VE345CATFA/12  - 28/09/2020</td>\n",
       "      <td>Appartamento</td>\n",
       "      <td>NaN</td>\n",
       "      <td>5+ (3 camere da letto; 3 altri), 3 bagni, cuci...</td>\n",
       "      <td>Su più livelli</td>\n",
       "      <td>2.0</td>\n",
       "      <td>NaN</td>\n",
       "      <td>Terrazza\\n                \\n\\n                ...</td>\n",
       "      <td>1 all'esterno</td>\n",
       "      <td>Firenze, Campo di Marte, VIA CARNESECCHI</td>\n",
       "      <td>Campo Di Marte Liberta</td>\n",
       "      <td>€ 495.000</td>\n",
       "      <td>NaN</td>\n",
       "      <td>NaN</td>\n",
       "      <td>1600.0</td>\n",
       "      <td>Nuovo / In costruzione</td>\n",
       "      <td>Autonomo, a radiatori</td>\n",
       "      <td>NaN</td>\n",
       "      <td>G 175,00 kWh/m² anno</td>\n",
       "      <td>495000.0</td>\n",
       "      <td>NaN</td>\n",
       "      <td>Autonomo</td>\n",
       "      <td>2020-09-28</td>\n",
       "      <td>0.0</td>\n",
       "      <td>3.0</td>\n",
       "      <td>NaN</td>\n",
       "      <td>3.0</td>\n",
       "      <td>3.0</td>\n",
       "      <td>0.0</td>\n",
       "      <td>6.0</td>\n",
       "    </tr>\n",
       "    <tr>\n",
       "      <th>5543</th>\n",
       "      <td>VE345CATFA/7  - 28/09/2020</td>\n",
       "      <td>Appartamento</td>\n",
       "      <td>NaN</td>\n",
       "      <td>5+ (2 camere da letto; 4 altri), 2 bagni, cuci...</td>\n",
       "      <td>Su più livelli</td>\n",
       "      <td>2.0</td>\n",
       "      <td>NaN</td>\n",
       "      <td>Terrazza\\n                \\n\\n                ...</td>\n",
       "      <td>1 all'esterno</td>\n",
       "      <td>Firenze, Campo di Marte, VIA CARNESECCHI</td>\n",
       "      <td>Campo Di Marte Liberta</td>\n",
       "      <td>€ 695.000</td>\n",
       "      <td>NaN</td>\n",
       "      <td>NaN</td>\n",
       "      <td>1600.0</td>\n",
       "      <td>Nuovo / In costruzione</td>\n",
       "      <td>Autonomo, a radiatori</td>\n",
       "      <td>NaN</td>\n",
       "      <td>G 175,00 kWh/m² anno</td>\n",
       "      <td>695000.0</td>\n",
       "      <td>NaN</td>\n",
       "      <td>Autonomo</td>\n",
       "      <td>2020-09-28</td>\n",
       "      <td>0.0</td>\n",
       "      <td>2.0</td>\n",
       "      <td>NaN</td>\n",
       "      <td>4.0</td>\n",
       "      <td>2.0</td>\n",
       "      <td>0.0</td>\n",
       "      <td>6.0</td>\n",
       "    </tr>\n",
       "    <tr>\n",
       "      <th>5544</th>\n",
       "      <td>VE345CATFA/9  - 28/09/2020</td>\n",
       "      <td>Appartamento</td>\n",
       "      <td>NaN</td>\n",
       "      <td>4 (2 camere da letto; 2 altri), 3 bagni, cucin...</td>\n",
       "      <td>1° piano</td>\n",
       "      <td>2.0</td>\n",
       "      <td>NaN</td>\n",
       "      <td>Balcone</td>\n",
       "      <td>NaN</td>\n",
       "      <td>Firenze, Campo di Marte, VIA CARNESECCHI</td>\n",
       "      <td>Campo Di Marte Liberta</td>\n",
       "      <td>€ 565.000</td>\n",
       "      <td>NaN</td>\n",
       "      <td>NaN</td>\n",
       "      <td>1600.0</td>\n",
       "      <td>Nuovo / In costruzione</td>\n",
       "      <td>NaN</td>\n",
       "      <td>NaN</td>\n",
       "      <td>G 175,00 kWh/m² anno</td>\n",
       "      <td>565000.0</td>\n",
       "      <td>NaN</td>\n",
       "      <td>Centralizzato</td>\n",
       "      <td>2020-09-28</td>\n",
       "      <td>0.0</td>\n",
       "      <td>3.0</td>\n",
       "      <td>NaN</td>\n",
       "      <td>2.0</td>\n",
       "      <td>2.0</td>\n",
       "      <td>0.0</td>\n",
       "      <td>4.0</td>\n",
       "    </tr>\n",
       "    <tr>\n",
       "      <th>5850</th>\n",
       "      <td>RIF.4062 - 21/04/2020</td>\n",
       "      <td>Appartamento</td>\n",
       "      <td>NaN</td>\n",
       "      <td>5 locali, 2 bagni, cucina abitabile</td>\n",
       "      <td>NaN</td>\n",
       "      <td>NaN</td>\n",
       "      <td>Intera proprietà, immobile di lusso</td>\n",
       "      <td>Idromassaggio\\n                \\n\\n           ...</td>\n",
       "      <td>NaN</td>\n",
       "      <td>Firenze, Salviatino - San Domenico</td>\n",
       "      <td>Zona Bolognese Le Cure</td>\n",
       "      <td>€ 1.560.000</td>\n",
       "      <td>NaN</td>\n",
       "      <td>€ 1/mese</td>\n",
       "      <td>1500.0</td>\n",
       "      <td>Ottimo / Ristrutturato</td>\n",
       "      <td>Autonomo, a radiatori, alimentato a gas</td>\n",
       "      <td>Autonomo, freddo</td>\n",
       "      <td>G 176,00 kWh/m² anno</td>\n",
       "      <td>1560000.0</td>\n",
       "      <td>NaN</td>\n",
       "      <td>Autonomo</td>\n",
       "      <td>2020-04-21</td>\n",
       "      <td>NaN</td>\n",
       "      <td>2.0</td>\n",
       "      <td>NaN</td>\n",
       "      <td>0.0</td>\n",
       "      <td>0.0</td>\n",
       "      <td>5.0</td>\n",
       "      <td>5.0</td>\n",
       "    </tr>\n",
       "    <tr>\n",
       "      <th>5879</th>\n",
       "      <td>RIF.1542 - 29/07/2020</td>\n",
       "      <td>Villa unifamiliare</td>\n",
       "      <td>NaN</td>\n",
       "      <td>5+ (3 camere da letto; 5 altri), 3+ bagni, cuc...</td>\n",
       "      <td>Piano terra, con ascensore</td>\n",
       "      <td>1.0</td>\n",
       "      <td>Intera proprietà, immobile di lusso</td>\n",
       "      <td>Idromassaggio\\n                \\n\\n           ...</td>\n",
       "      <td>NaN</td>\n",
       "      <td>Firenze, Bolognese</td>\n",
       "      <td>Zona Bolognese Le Cure</td>\n",
       "      <td>€ 1.700.000</td>\n",
       "      <td>Classe A/7, rendita € 1</td>\n",
       "      <td>€ 1/mese</td>\n",
       "      <td>1960.0</td>\n",
       "      <td>Ottimo / Ristrutturato</td>\n",
       "      <td>Autonomo, a radiatori, alimentato a gas</td>\n",
       "      <td>Autonomo, freddo/caldo</td>\n",
       "      <td>G 176,00 kWh/m² anno</td>\n",
       "      <td>1700000.0</td>\n",
       "      <td>NaN</td>\n",
       "      <td>Autonomo</td>\n",
       "      <td>2020-07-29</td>\n",
       "      <td>1.0</td>\n",
       "      <td>4.0</td>\n",
       "      <td>NaN</td>\n",
       "      <td>5.0</td>\n",
       "      <td>3.0</td>\n",
       "      <td>0.0</td>\n",
       "      <td>8.0</td>\n",
       "    </tr>\n",
       "    <tr>\n",
       "      <th>5897</th>\n",
       "      <td>RIF.1547 - 21/04/2020</td>\n",
       "      <td>Villa unifamiliare</td>\n",
       "      <td>NaN</td>\n",
       "      <td>5 locali, 3+ bagni, cucina abitabile</td>\n",
       "      <td>NaN</td>\n",
       "      <td>NaN</td>\n",
       "      <td>Intera proprietà, immobile di lusso</td>\n",
       "      <td>Idromassaggio\\n                \\n\\n           ...</td>\n",
       "      <td>NaN</td>\n",
       "      <td>Firenze, Galluzzo</td>\n",
       "      <td>Bellosguardo Galluzzo</td>\n",
       "      <td>€ 3.300.000</td>\n",
       "      <td>NaN</td>\n",
       "      <td>€ 1/mese</td>\n",
       "      <td>1472.0</td>\n",
       "      <td>Ottimo / Ristrutturato</td>\n",
       "      <td>Autonomo, a radiatori, alimentato a gas</td>\n",
       "      <td>Autonomo, freddo</td>\n",
       "      <td>G 176,00 kWh/m² anno</td>\n",
       "      <td>3300000.0</td>\n",
       "      <td>NaN</td>\n",
       "      <td>Autonomo</td>\n",
       "      <td>2020-04-21</td>\n",
       "      <td>NaN</td>\n",
       "      <td>4.0</td>\n",
       "      <td>NaN</td>\n",
       "      <td>0.0</td>\n",
       "      <td>0.0</td>\n",
       "      <td>5.0</td>\n",
       "      <td>5.0</td>\n",
       "    </tr>\n",
       "  </tbody>\n",
       "</table>\n",
       "</div>"
      ],
      "text/plain": [
       "      Riferimento e data annuncio           Tipologia Superficie  \\\n",
       "5541  VE345CATFA/12  - 28/09/2020        Appartamento        NaN   \n",
       "5543   VE345CATFA/7  - 28/09/2020        Appartamento        NaN   \n",
       "5544   VE345CATFA/9  - 28/09/2020        Appartamento        NaN   \n",
       "5850        RIF.4062 - 21/04/2020        Appartamento        NaN   \n",
       "5879        RIF.1542 - 29/07/2020  Villa unifamiliare        NaN   \n",
       "5897        RIF.1547 - 21/04/2020  Villa unifamiliare        NaN   \n",
       "\n",
       "                                                 Locali  \\\n",
       "5541  5+ (3 camere da letto; 3 altri), 3 bagni, cuci...   \n",
       "5543  5+ (2 camere da letto; 4 altri), 2 bagni, cuci...   \n",
       "5544  4 (2 camere da letto; 2 altri), 3 bagni, cucin...   \n",
       "5850                5 locali, 2 bagni, cucina abitabile   \n",
       "5879  5+ (3 camere da letto; 5 altri), 3+ bagni, cuc...   \n",
       "5897               5 locali, 3+ bagni, cucina abitabile   \n",
       "\n",
       "                           Piano  Totale piani edificio  \\\n",
       "5541              Su più livelli                    2.0   \n",
       "5543              Su più livelli                    2.0   \n",
       "5544                    1° piano                    2.0   \n",
       "5850                         NaN                    NaN   \n",
       "5879  Piano terra, con ascensore                    1.0   \n",
       "5897                         NaN                    NaN   \n",
       "\n",
       "                           Tipo proprietà  \\\n",
       "5541                                  NaN   \n",
       "5543                                  NaN   \n",
       "5544                                  NaN   \n",
       "5850  Intera proprietà, immobile di lusso   \n",
       "5879  Intera proprietà, immobile di lusso   \n",
       "5897  Intera proprietà, immobile di lusso   \n",
       "\n",
       "                                  Altre caratteristiche     Posti auto  \\\n",
       "5541  Terrazza\\n                \\n\\n                ...  1 all'esterno   \n",
       "5543  Terrazza\\n                \\n\\n                ...  1 all'esterno   \n",
       "5544                                            Balcone            NaN   \n",
       "5850  Idromassaggio\\n                \\n\\n           ...            NaN   \n",
       "5879  Idromassaggio\\n                \\n\\n           ...            NaN   \n",
       "5897  Idromassaggio\\n                \\n\\n           ...            NaN   \n",
       "\n",
       "                                      Indirizzo                    Zona  \\\n",
       "5541  Firenze, Campo di Marte, VIA CARNESECCHI   Campo Di Marte Liberta   \n",
       "5543  Firenze, Campo di Marte, VIA CARNESECCHI   Campo Di Marte Liberta   \n",
       "5544  Firenze, Campo di Marte, VIA CARNESECCHI   Campo Di Marte Liberta   \n",
       "5850         Firenze, Salviatino - San Domenico  Zona Bolognese Le Cure   \n",
       "5879                         Firenze, Bolognese  Zona Bolognese Le Cure   \n",
       "5897                          Firenze, Galluzzo   Bellosguardo Galluzzo   \n",
       "\n",
       "           Prezzo   Informazioni catastali Spese condominio  \\\n",
       "5541    € 495.000                      NaN              NaN   \n",
       "5543    € 695.000                      NaN              NaN   \n",
       "5544    € 565.000                      NaN              NaN   \n",
       "5850  € 1.560.000                      NaN         € 1/mese   \n",
       "5879  € 1.700.000  Classe A/7, rendita € 1         € 1/mese   \n",
       "5897  € 3.300.000                      NaN         € 1/mese   \n",
       "\n",
       "      Anno di costruzione                   Stato  \\\n",
       "5541               1600.0  Nuovo / In costruzione   \n",
       "5543               1600.0  Nuovo / In costruzione   \n",
       "5544               1600.0  Nuovo / In costruzione   \n",
       "5850               1500.0  Ottimo / Ristrutturato   \n",
       "5879               1960.0  Ottimo / Ristrutturato   \n",
       "5897               1472.0  Ottimo / Ristrutturato   \n",
       "\n",
       "                                Riscaldamento         Climatizzazione  \\\n",
       "5541                    Autonomo, a radiatori                     NaN   \n",
       "5543                    Autonomo, a radiatori                     NaN   \n",
       "5544                                      NaN                     NaN   \n",
       "5850  Autonomo, a radiatori, alimentato a gas        Autonomo, freddo   \n",
       "5879  Autonomo, a radiatori, alimentato a gas  Autonomo, freddo/caldo   \n",
       "5897  Autonomo, a radiatori, alimentato a gas        Autonomo, freddo   \n",
       "\n",
       "     Efficienza energetica  Prezzo_EUR  Superficie_m2  \\\n",
       "5541  G 175,00 kWh/m² anno    495000.0            NaN   \n",
       "5543  G 175,00 kWh/m² anno    695000.0            NaN   \n",
       "5544  G 175,00 kWh/m² anno    565000.0            NaN   \n",
       "5850  G 176,00 kWh/m² anno   1560000.0            NaN   \n",
       "5879  G 176,00 kWh/m² anno   1700000.0            NaN   \n",
       "5897  G 176,00 kWh/m² anno   3300000.0            NaN   \n",
       "\n",
       "     Tipologia di riscaldamento Data annuncio  Ascensore  Numero di bagni  \\\n",
       "5541                   Autonomo    2020-09-28        0.0              3.0   \n",
       "5543                   Autonomo    2020-09-28        0.0              2.0   \n",
       "5544              Centralizzato    2020-09-28        0.0              3.0   \n",
       "5850                   Autonomo    2020-04-21        NaN              2.0   \n",
       "5879                   Autonomo    2020-07-29        1.0              4.0   \n",
       "5897                   Autonomo    2020-04-21        NaN              4.0   \n",
       "\n",
       "     Superficie_Bins  Numero di altri  Numero di camere da letto  \\\n",
       "5541             NaN              3.0                        3.0   \n",
       "5543             NaN              4.0                        2.0   \n",
       "5544             NaN              2.0                        2.0   \n",
       "5850             NaN              0.0                        0.0   \n",
       "5879             NaN              5.0                        3.0   \n",
       "5897             NaN              0.0                        0.0   \n",
       "\n",
       "      Numero di locali  Numero totale di locali  \n",
       "5541               0.0                      6.0  \n",
       "5543               0.0                      6.0  \n",
       "5544               0.0                      4.0  \n",
       "5850               5.0                      5.0  \n",
       "5879               0.0                      8.0  \n",
       "5897               5.0                      5.0  "
      ]
     },
     "execution_count": 58,
     "metadata": {},
     "output_type": "execute_result"
    }
   ],
   "source": [
    "df.loc[df['Superficie_m2'].isna(), :]"
   ]
  },
  {
   "cell_type": "code",
   "execution_count": 59,
   "metadata": {},
   "outputs": [
    {
     "data": {
      "text/plain": [
       "(array([ 0,  1,  2,  3,  4,  5,  6,  7,  8,  9, 10, 11, 12, 13, 14, 15, 16,\n",
       "        17, 18, 19, 20, 21, 22, 23, 24, 25, 26, 27, 28, 29]),\n",
       " <a list of 30 Text xticklabel objects>)"
      ]
     },
     "execution_count": 59,
     "metadata": {},
     "output_type": "execute_result"
    },
    {
     "data": {
      "image/png": "[encoded data removed]",
      "text/plain": [
       "<Figure size 720x720 with 1 Axes>"
      ]
     },
     "metadata": {
      "needs_background": "light"
     },
     "output_type": "display_data"
    }
   ],
   "source": [
    "fig = plt.figure(figsize=(10, 10))\n",
    "sns.barplot(x=df['Numero totale di locali'], y=df['Superficie_m2'])\n",
    "plt.xticks(rotation=90)"
   ]
  },
  {
   "cell_type": "code",
   "execution_count": 60,
   "metadata": {},
   "outputs": [
    {
     "data": {
      "text/plain": [
       "(array([  0.,  50., 100., 150., 200., 250., 300., 350., 400., 450., 500.]),\n",
       " <a list of 11 Text xticklabel objects>)"
      ]
     },
     "execution_count": 60,
     "metadata": {},
     "output_type": "execute_result"
    },
    {
     "data": {
      "image/png": "[encoded data removed]",
      "text/plain": [
       "<Figure size 432x432 with 1 Axes>"
      ]
     },
     "metadata": {
      "needs_background": "light"
     },
     "output_type": "display_data"
    }
   ],
   "source": [
    "# Distribution of area based on number of rooms\n",
    "fig = plt.figure(figsize=(6, 6))\n",
    "sns.distplot(df.loc[df['Numero totale di locali'] == 6, 'Superficie_m2'], bins=30)\n",
    "plt.xticks(rotation=90)"
   ]
  },
  {
   "cell_type": "code",
   "execution_count": 61,
   "metadata": {},
   "outputs": [],
   "source": [
    "# Imputing area based on total number of rooms\n",
    "for n_rooms in df['Numero totale di locali'].unique():\n",
    "    mask = df['Numero totale di locali'] == n_rooms\n",
    "    df.loc[mask & (df['Superficie_m2'].isna()), 'Superficie_m2'] = df.loc[mask, 'Superficie_m2'].mean()"
   ]
  },
  {
   "cell_type": "code",
   "execution_count": 62,
   "metadata": {},
   "outputs": [],
   "source": [
    "# Recreate area bins for imputing\n",
    "df['Superficie_Bins'] = pd.cut(df['Superficie_m2'], bins=[0, 60, 80, 100, 120, 160, 200, 20000])"
   ]
  },
  {
   "cell_type": "markdown",
   "metadata": {},
   "source": [
    "#### Year of construction"
   ]
  },
  {
   "cell_type": "code",
   "execution_count": 63,
   "metadata": {},
   "outputs": [
    {
     "data": {
      "text/plain": [
       "Ottimo / Ristrutturato    1502\n",
       "Buono / Abitabile          558\n",
       "Nuovo / In costruzione     195\n",
       "Da ristrutturare           145\n",
       "Name: Stato, dtype: int64"
      ]
     },
     "execution_count": 63,
     "metadata": {},
     "output_type": "execute_result"
    }
   ],
   "source": [
    "df.loc[df['Anno di costruzione'].isna(), 'Stato'].value_counts()"
   ]
  },
  {
   "cell_type": "code",
   "execution_count": 64,
   "metadata": {},
   "outputs": [
    {
     "data": {
      "text/plain": [
       "2400"
      ]
     },
     "execution_count": 64,
     "metadata": {},
     "output_type": "execute_result"
    }
   ],
   "source": [
    "df['Anno di costruzione'].isna().sum()"
   ]
  },
  {
   "cell_type": "markdown",
   "metadata": {},
   "source": [
    "#### Price per m2"
   ]
  },
  {
   "cell_type": "code",
   "execution_count": 65,
   "metadata": {},
   "outputs": [],
   "source": [
    "# Create a price/m2 feature\n",
    "df['Prezzo_per_m2'] = df['Prezzo_EUR'] / df['Superficie_m2']"
   ]
  },
  {
   "cell_type": "code",
   "execution_count": 66,
   "metadata": {
    "collapsed": true
   },
   "outputs": [
    {
     "name": "stdout",
     "output_type": "stream",
     "text": [
      "<class 'pandas.core.frame.DataFrame'>\n",
      "Int64Index: 8748 entries, 0 to 9062\n",
      "Data columns (total 31 columns):\n",
      " #   Column                       Non-Null Count  Dtype         \n",
      "---  ------                       --------------  -----         \n",
      " 0   Riferimento e data annuncio  8748 non-null   object        \n",
      " 1   Tipologia                    8748 non-null   object        \n",
      " 2   Superficie                   8742 non-null   object        \n",
      " 3   Locali                       8735 non-null   object        \n",
      " 4   Piano                        8583 non-null   object        \n",
      " 5   Totale piani edificio        8099 non-null   float64       \n",
      " 6   Tipo proprietà               8292 non-null   object        \n",
      " 7   Altre caratteristiche        8190 non-null   object        \n",
      " 8   Posti auto                   2150 non-null   object        \n",
      " 9   Indirizzo                    8748 non-null   object        \n",
      " 10  Zona                         8748 non-null   object        \n",
      " 11  Prezzo                       8748 non-null   object        \n",
      " 12  Informazioni catastali       5632 non-null   object        \n",
      " 13  Spese condominio             5126 non-null   object        \n",
      " 14  Anno di costruzione          6348 non-null   float64       \n",
      " 15  Stato                        8748 non-null   object        \n",
      " 16  Riscaldamento                8350 non-null   object        \n",
      " 17  Climatizzazione              4759 non-null   object        \n",
      " 18  Efficienza energetica        7548 non-null   object        \n",
      " 19  Prezzo_EUR                   8748 non-null   float64       \n",
      " 20  Superficie_m2                8748 non-null   float64       \n",
      " 21  Tipologia di riscaldamento   8748 non-null   object        \n",
      " 22  Data annuncio                8748 non-null   datetime64[ns]\n",
      " 23  Ascensore                    8583 non-null   float64       \n",
      " 24  Numero di bagni              8748 non-null   float64       \n",
      " 25  Superficie_Bins              8748 non-null   category      \n",
      " 26  Numero di altri              8748 non-null   float64       \n",
      " 27  Numero di camere da letto    8748 non-null   float64       \n",
      " 28  Numero di locali             8748 non-null   float64       \n",
      " 29  Numero totale di locali      8748 non-null   float64       \n",
      " 30  Prezzo_per_m2                8748 non-null   float64       \n",
      "dtypes: category(1), datetime64[ns](1), float64(11), object(18)\n",
      "memory usage: 2.4+ MB\n"
     ]
    }
   ],
   "source": [
    "df.info()"
   ]
  },
  {
   "cell_type": "markdown",
   "metadata": {},
   "source": [
    "### Selecting final features and exporting DF"
   ]
  },
  {
   "cell_type": "code",
   "execution_count": 67,
   "metadata": {},
   "outputs": [],
   "source": [
    "features = ['Data annuncio', 'Zona', 'Tipologia', 'Prezzo_EUR',\n",
    "            'Prezzo_per_m2' , 'Superficie_m2', 'Superficie_Bins', 'Numero totale di locali', 'Numero di bagni', 'Stato', 'Tipologia di riscaldamento']\n",
    "\n",
    "df_final = df[features].copy()"
   ]
  },
  {
   "cell_type": "code",
   "execution_count": 68,
   "metadata": {},
   "outputs": [
    {
     "name": "stdout",
     "output_type": "stream",
     "text": [
      "<class 'pandas.core.frame.DataFrame'>\n",
      "Int64Index: 8748 entries, 0 to 9062\n",
      "Data columns (total 11 columns):\n",
      " #   Column                      Non-Null Count  Dtype         \n",
      "---  ------                      --------------  -----         \n",
      " 0   Data annuncio               8748 non-null   datetime64[ns]\n",
      " 1   Zona                        8748 non-null   object        \n",
      " 2   Tipologia                   8748 non-null   object        \n",
      " 3   Prezzo_EUR                  8748 non-null   float64       \n",
      " 4   Prezzo_per_m2               8748 non-null   float64       \n",
      " 5   Superficie_m2               8748 non-null   float64       \n",
      " 6   Superficie_Bins             8748 non-null   category      \n",
      " 7   Numero totale di locali     8748 non-null   float64       \n",
      " 8   Numero di bagni             8748 non-null   float64       \n",
      " 9   Stato                       8748 non-null   object        \n",
      " 10  Tipologia di riscaldamento  8748 non-null   object        \n",
      "dtypes: category(1), datetime64[ns](1), float64(5), object(4)\n",
      "memory usage: 760.7+ KB\n"
     ]
    }
   ],
   "source": [
    "df_final.info()"
   ]
  },
  {
   "cell_type": "code",
   "execution_count": 69,
   "metadata": {},
   "outputs": [],
   "source": [
    "df_final.to_excel(path_processed+'data.xlsx', index=False)"
   ]
  }
 ],
 "metadata": {
  "kernelspec": {
   "display_name": "Python 3",
   "language": "python",
   "name": "python3"
  },
  "language_info": {
   "codemirror_mode": {
    "name": "ipython",
    "version": 3
   },
   "file_extension": ".py",
   "mimetype": "text/x-python",
   "name": "python",
   "nbconvert_exporter": "python",
   "pygments_lexer": "ipython3",
   "version": "3.7.7"
  }
 },
 "nbformat": 4,
 "nbformat_minor": 4
}
