{
 "cells": [
  {
   "cell_type": "code",
   "execution_count": 1,
   "metadata": {},
   "outputs": [],
   "source": [
    "import re\n",
    "import numpy as np\n",
    "import pandas as pd\n",
    "import matplotlib.pyplot as plt\n",
    "import seaborn as sns\n",
    "\n",
    "from sklearn.preprocessing import OrdinalEncoder, StandardScaler\n",
    "from sklearn.impute import KNNImputer\n",
    "\n",
    "pd.set_option('display.max_columns', None)\n",
    "\n",
    "path_interim = '/home/matteo@COPPET/Documents/data_science/projects/housing_prices_firenze/data/interim/'"
   ]
  },
  {
   "cell_type": "markdown",
   "metadata": {},
   "source": [
    "# Data wrangling"
   ]
  },
  {
   "cell_type": "markdown",
   "metadata": {},
   "source": [
    "## 1. Loading raw tables"
   ]
  },
  {
   "cell_type": "code",
   "execution_count": 2,
   "metadata": {},
   "outputs": [],
   "source": [
    "# Read raw tables\n",
    "caratteristiche = pd.read_excel(path_interim+'caratteristiche.xlsx')\n",
    "costi = pd.read_excel(path_interim+'costi.xlsx')\n",
    "efficienza_energetica = pd.read_excel(path_interim+'efficienza_energetica.xlsx')"
   ]
  },
  {
   "cell_type": "code",
   "execution_count": 3,
   "metadata": {
    "scrolled": true
   },
   "outputs": [
    {
     "name": "stdout",
     "output_type": "stream",
     "text": [
      "<class 'pandas.core.frame.DataFrame'>\n",
      "RangeIndex: 9065 entries, 0 to 9064\n",
      "Data columns (total 17 columns):\n",
      " #   Column                                        Non-Null Count  Dtype  \n",
      "---  ------                                        --------------  -----  \n",
      " 0   immobile garantito                            3821 non-null   object \n",
      " 1   riferimento e Data annuncio                   9065 non-null   object \n",
      " 2   contratto                                     9065 non-null   object \n",
      " 3   tipologia                                     9065 non-null   object \n",
      " 4   superficie                                    9057 non-null   object \n",
      " 5   locali                                        9049 non-null   object \n",
      " 6   piano                                         8862 non-null   object \n",
      " 7   totale piani edificio                         8359 non-null   object \n",
      " 8   disponibilità                                 8081 non-null   object \n",
      " 9   Tipo proprietà                                8583 non-null   object \n",
      " 10  altre caratteristiche                         8488 non-null   object \n",
      " 11  Posti Auto                                    2274 non-null   object \n",
      " 12  unità                                         0 non-null      float64\n",
      " 13  Data di inizio lavori e di consegna prevista  0 non-null      float64\n",
      " 14  Dati catastali                                0 non-null      float64\n",
      " 15  indirizzo                                     9065 non-null   object \n",
      " 16  zona                                          9001 non-null   object \n",
      "dtypes: float64(3), object(14)\n",
      "memory usage: 1.2+ MB\n"
     ]
    }
   ],
   "source": [
    "caratteristiche.info()"
   ]
  },
  {
   "cell_type": "code",
   "execution_count": 4,
   "metadata": {},
   "outputs": [
    {
     "name": "stdout",
     "output_type": "stream",
     "text": [
      "<class 'pandas.core.frame.DataFrame'>\n",
      "RangeIndex: 9065 entries, 0 to 9064\n",
      "Data columns (total 13 columns):\n",
      " #   Column                                 Non-Null Count  Dtype  \n",
      "---  ------                                 --------------  -----  \n",
      " 0   prezzo                                 9065 non-null   object \n",
      " 1   informazioni catastali                 5805 non-null   object \n",
      " 2   spese condominio                       5248 non-null   object \n",
      " 3   stato                                  0 non-null      float64\n",
      " 4   certificazione energetica              0 non-null      float64\n",
      " 5   Efficienza energetica                  0 non-null      float64\n",
      " 6   Tipo vendita                           0 non-null      float64\n",
      " 7   data vendita                           0 non-null      float64\n",
      " 8   riscaldamento                          0 non-null      float64\n",
      " 9   anno di costruzione                    0 non-null      float64\n",
      " 10  Prestazione energetica del fabbricato  0 non-null      float64\n",
      " 11  Climatizzazione                        0 non-null      float64\n",
      " 12  Indice prest. energetica rinnovabile   0 non-null      float64\n",
      "dtypes: float64(10), object(3)\n",
      "memory usage: 920.8+ KB\n"
     ]
    }
   ],
   "source": [
    "costi.info()"
   ]
  },
  {
   "cell_type": "code",
   "execution_count": 5,
   "metadata": {},
   "outputs": [
    {
     "name": "stdout",
     "output_type": "stream",
     "text": [
      "<class 'pandas.core.frame.DataFrame'>\n",
      "RangeIndex: 9065 entries, 0 to 9064\n",
      "Data columns (total 15 columns):\n",
      " #   Column                                 Non-Null Count  Dtype  \n",
      "---  ------                                 --------------  -----  \n",
      " 0   anno di costruzione                    6557 non-null   float64\n",
      " 1   stato                                  8803 non-null   object \n",
      " 2   riscaldamento                          8645 non-null   object \n",
      " 3   Climatizzazione                        4950 non-null   object \n",
      " 4   Indice prest. energetica rinnovabile   287 non-null    object \n",
      " 5   Prestazione energetica del fabbricato  594 non-null    object \n",
      " 6   Efficienza energetica                  7809 non-null   object \n",
      " 7   certificazione energetica              1370 non-null   object \n",
      " 8   numero immobili                        0 non-null      float64\n",
      " 9   offerta minima                         0 non-null      float64\n",
      " 10  rialzo minimo                          0 non-null      float64\n",
      " 11  Spesa prenota debito                   0 non-null      float64\n",
      " 12  Contributo non dovuto                  0 non-null      float64\n",
      " 13  Tipo vendita                           0 non-null      float64\n",
      " 14  data vendita                           0 non-null      float64\n",
      "dtypes: float64(8), object(7)\n",
      "memory usage: 1.0+ MB\n"
     ]
    }
   ],
   "source": [
    "efficienza_energetica.info()"
   ]
  },
  {
   "cell_type": "code",
   "execution_count": 6,
   "metadata": {},
   "outputs": [],
   "source": [
    "# Drop NaN columns (based on info above, possible error in scraping)\n",
    "nan_cols = ['unità', 'Data di inizio lavori e di consegna prevista', 'Dati catastali']\n",
    "caratteristiche = caratteristiche.drop(columns=nan_cols)\n",
    "costi = costi.iloc[:, :3]\n",
    "efficienza_energetica = efficienza_energetica.iloc[:, :8]"
   ]
  },
  {
   "cell_type": "markdown",
   "metadata": {},
   "source": [
    "## 2. Data cleaning"
   ]
  },
  {
   "cell_type": "markdown",
   "metadata": {},
   "source": [
    "### 2.1 Joining tables"
   ]
  },
  {
   "cell_type": "code",
   "execution_count": 7,
   "metadata": {},
   "outputs": [],
   "source": [
    "# Join tables\n",
    "df = caratteristiche.join(costi).join(efficienza_energetica)"
   ]
  },
  {
   "cell_type": "code",
   "execution_count": 8,
   "metadata": {},
   "outputs": [
    {
     "name": "stdout",
     "output_type": "stream",
     "text": [
      "<class 'pandas.core.frame.DataFrame'>\n",
      "RangeIndex: 9065 entries, 0 to 9064\n",
      "Data columns (total 25 columns):\n",
      " #   Column                                 Non-Null Count  Dtype  \n",
      "---  ------                                 --------------  -----  \n",
      " 0   immobile garantito                     3821 non-null   object \n",
      " 1   riferimento e Data annuncio            9065 non-null   object \n",
      " 2   contratto                              9065 non-null   object \n",
      " 3   tipologia                              9065 non-null   object \n",
      " 4   superficie                             9057 non-null   object \n",
      " 5   locali                                 9049 non-null   object \n",
      " 6   piano                                  8862 non-null   object \n",
      " 7   totale piani edificio                  8359 non-null   object \n",
      " 8   disponibilità                          8081 non-null   object \n",
      " 9   Tipo proprietà                         8583 non-null   object \n",
      " 10  altre caratteristiche                  8488 non-null   object \n",
      " 11  Posti Auto                             2274 non-null   object \n",
      " 12  indirizzo                              9065 non-null   object \n",
      " 13  zona                                   9001 non-null   object \n",
      " 14  prezzo                                 9065 non-null   object \n",
      " 15  informazioni catastali                 5805 non-null   object \n",
      " 16  spese condominio                       5248 non-null   object \n",
      " 17  anno di costruzione                    6557 non-null   float64\n",
      " 18  stato                                  8803 non-null   object \n",
      " 19  riscaldamento                          8645 non-null   object \n",
      " 20  Climatizzazione                        4950 non-null   object \n",
      " 21  Indice prest. energetica rinnovabile   287 non-null    object \n",
      " 22  Prestazione energetica del fabbricato  594 non-null    object \n",
      " 23  Efficienza energetica                  7809 non-null   object \n",
      " 24  certificazione energetica              1370 non-null   object \n",
      "dtypes: float64(1), object(24)\n",
      "memory usage: 1.7+ MB\n"
     ]
    }
   ],
   "source": [
    "df.info()"
   ]
  },
  {
   "cell_type": "code",
   "execution_count": 9,
   "metadata": {},
   "outputs": [
    {
     "data": {
      "text/plain": [
       "immobile garantito                       5244\n",
       "riferimento e Data annuncio                 0\n",
       "contratto                                   0\n",
       "tipologia                                   0\n",
       "superficie                                  8\n",
       "locali                                     16\n",
       "piano                                     203\n",
       "totale piani edificio                     706\n",
       "disponibilità                             984\n",
       "Tipo proprietà                            482\n",
       "altre caratteristiche                     577\n",
       "Posti Auto                               6791\n",
       "indirizzo                                   0\n",
       "zona                                       64\n",
       "prezzo                                      0\n",
       "informazioni catastali                   3260\n",
       "spese condominio                         3817\n",
       "anno di costruzione                      2508\n",
       "stato                                     262\n",
       "riscaldamento                             420\n",
       "Climatizzazione                          4115\n",
       "Indice prest. energetica rinnovabile     8778\n",
       "Prestazione energetica del fabbricato    8471\n",
       "Efficienza energetica                    1256\n",
       "certificazione energetica                7695\n",
       "dtype: int64"
      ]
     },
     "execution_count": 9,
     "metadata": {},
     "output_type": "execute_result"
    }
   ],
   "source": [
    "df.isna().sum()"
   ]
  },
  {
   "cell_type": "markdown",
   "metadata": {},
   "source": [
    "### 2.2 Columns, duplicates and bad data"
   ]
  },
  {
   "cell_type": "code",
   "execution_count": 10,
   "metadata": {},
   "outputs": [],
   "source": [
    "# Rename columns\n",
    "df.columns = map(str.capitalize, df.columns)\n",
    "\n",
    "# Remove rentals\n",
    "df = df.loc[df['Contratto'] != 'Affitto', :]\n",
    "\n",
    "# Check for and remove duplicates\n",
    "df.duplicated().sum()\n",
    "df = df.drop_duplicates()\n",
    "\n",
    "# Not in Firenze or bad data\n",
    "df = df.drop([1279, 4985, 9049]).reset_index(drop=True)"
   ]
  },
  {
   "cell_type": "markdown",
   "metadata": {},
   "source": [
    "### 2.3 Cleaning features"
   ]
  },
  {
   "cell_type": "markdown",
   "metadata": {},
   "source": [
    "### 2.3.1 Address"
   ]
  },
  {
   "cell_type": "code",
   "execution_count": 11,
   "metadata": {},
   "outputs": [
    {
     "data": {
      "text/plain": [
       "0                   Firenze, Via del Podestà, Galluzzo\n",
       "1    Firenze, Viale Giovanni Verga, Coverciano, Via...\n",
       "2     Firenze, Novoli, Via di Novoli, Via di Novoli, 5\n",
       "3     Firenze, Novoli, Via di Novoli, Via di Novoli, 5\n",
       "4    Firenze, Mazzini - Oberdan, Viale Giuseppe Maz...\n",
       "Name: Indirizzo, dtype: object"
      ]
     },
     "execution_count": 11,
     "metadata": {},
     "output_type": "execute_result"
    }
   ],
   "source": [
    "df['Indirizzo'] = df['Indirizzo'].str.replace(\"[\",'').str.replace(\"]\",'').str.replace('\\'', '')\n",
    "df['Indirizzo'].head()"
   ]
  },
  {
   "cell_type": "markdown",
   "metadata": {},
   "source": [
    "#### 2.3.2 District"
   ]
  },
  {
   "cell_type": "code",
   "execution_count": 12,
   "metadata": {},
   "outputs": [
    {
     "data": {
      "text/plain": [
       "31"
      ]
     },
     "execution_count": 12,
     "metadata": {},
     "output_type": "execute_result"
    }
   ],
   "source": [
    "# Manually impute missing \"Zona\"\n",
    "df.loc[df['Indirizzo'] == 'Firenze, via vittorio emanuele orlando', 'Zona'] = 'Coverciano Bellariva'\n",
    "df.loc[df['Indirizzo'] == 'Firenze, via borgo la noce', 'Zona'] = 'Centro'\n",
    "df.loc[df['Indirizzo'] == 'Firenze, via Cigoli 31', 'Zona'] = 'L Isolotto'\n",
    "df.loc[df['Indirizzo'] == 'Firenze, via impruneta per mezzomonte', 'Zona'] = 'Bellosguardo Galluzzo'\n",
    "df.loc[df['Indirizzo'] == 'Firenze, via gioberti', 'Zona'] = 'Campo Di Marte Liberta'\n",
    "df.loc[df['Indirizzo'] == 'Firenze, via dei cioli 50', 'Zona'] = 'Settignano Rovezzano'\n",
    "df.loc[df['Indirizzo'] == 'Firenze, via spinucci 1', 'Zona'] = 'Serpiolle Careggi'\n",
    "df.loc[df['Indirizzo'] == 'Firenze, \"via lungo laffrico 50\"', 'Zona'] = 'Coverciano Bellariva'\n",
    "df.loc[df['Indirizzo'] == 'Firenze, via lippi', 'Zona'] = 'Legnaia Soffiano'\n",
    "df.loc[df['Indirizzo'] == 'Firenze, cairoli', 'Zona'] = 'Campo Di Marte Liberta'\n",
    "df.loc[df['Indirizzo'] == 'Firenze, via aretina', 'Zona'] = 'Coverciano Bellariva'\n",
    "df.loc[df['Indirizzo'] == 'Firenze, via Fra Bartolommeo  40', 'Zona'] = 'Campo Di Marte Liberta'\n",
    "df.loc[df['Indirizzo'] == 'Firenze, viale don minzoni 1', 'Zona'] = 'Campo Di Marte Liberta'\n",
    "df.loc[df['Indirizzo'] == 'Firenze, viale don minzoni  1', 'Zona'] = 'Campo Di Marte Liberta'\n",
    "df.loc[df['Indirizzo'] == 'Firenze, piazza beccaria', 'Zona'] = 'Campo Di Marte Liberta'\n",
    "df.loc[df['Indirizzo'] == 'Firenze, via san zanobi', 'Zona'] = 'Centro'\n",
    "df.loc[df['Indirizzo'] == 'Firenze, Piazzale Michelangelo', 'Zona'] = 'Michelangelo Porta Romana'\n",
    "df.loc[df['Indirizzo'] == 'Firenze, Via del Paradiso', 'Zona'] = 'Zona Firenze Sud'\n",
    "df.loc[df['Indirizzo'] == 'Firenze, via di Canonica', 'Zona'] = 'Centro'\n",
    "df.loc[df['Indirizzo'] == 'Firenze, Via di Canonica', 'Zona'] = 'Centro'\n",
    "df.loc[df['Indirizzo'] == 'Firenze, Via Frusa', 'Zona'] = 'Campo Di Marte Liberta'\n",
    "df.loc[df['Indirizzo'] == 'Firenze, Via Vespucci', 'Zona'] = 'Firenze Nord'\n",
    "df.loc[df['Indirizzo'] == 'Firenze, via baracca  148', 'Zona'] = 'Firenze Nord'\n",
    "df.loc[df['Indirizzo'] == 'Firenze, via dei Tavolini 1', 'Zona'] = 'Centro'\n",
    "df.loc[df['Indirizzo'] == 'Firenze, via Pisana 980', 'Zona'] = 'Ugnano Mantignano'\n",
    "df.loc[df['Indirizzo'] == 'Firenze, VIA SENESE', 'Zona'] = 'Bellosguardo Galluzzo'\n",
    "df.loc[df['Indirizzo'] == 'Firenze, \"piazza dAzeglio\"', 'Zona'] = 'Centro'\n",
    "df.loc[df['Indirizzo'] == 'Firenze, \"Piazza dazeglio\"', 'Zona'] = 'Centro'\n",
    "\n",
    "df['Zona'].isna().sum()"
   ]
  },
  {
   "cell_type": "code",
   "execution_count": 13,
   "metadata": {},
   "outputs": [
    {
     "data": {
      "text/plain": [
       "Centro                       1743\n",
       "Campo Di Marte Liberta       1367\n",
       "Leopoldo Porta Al Prato       903\n",
       "Firenze Nord                  880\n",
       "Serpiolle Careggi             620\n",
       "Oltrarno                      591\n",
       "Coverciano Bellariva          562\n",
       "Zona Bolognese Le Cure        482\n",
       "Zona Firenze Sud              444\n",
       "Legnaia Soffiano              396\n",
       "Bellosguardo Galluzzo         299\n",
       "Settignano Rovezzano          255\n",
       "L'Isolotto                    238\n",
       "Michelangelo Porta Romana     192\n",
       "Ugnano Mantignano              33\n",
       "Name: Zona, dtype: int64"
      ]
     },
     "execution_count": 13,
     "metadata": {},
     "output_type": "execute_result"
    }
   ],
   "source": [
    "# Drop rows with missing \"Zona\"\n",
    "df = df.dropna(subset=['Zona']).reset_index(drop=True)\n",
    "\n",
    "df['Zona'] = (df['Zona']\n",
    "              .str.replace('-', ' ')\n",
    "              .str.replace('/', '')\n",
    "              .str.title()\n",
    "              .replace({'L Isolotto': 'L\\'Isolotto'}))\n",
    "\n",
    "df['Zona'].value_counts()"
   ]
  },
  {
   "cell_type": "code",
   "execution_count": 14,
   "metadata": {},
   "outputs": [],
   "source": [
    "df = df.drop(columns=['Indirizzo'])"
   ]
  },
  {
   "cell_type": "markdown",
   "metadata": {},
   "source": [
    "#### 2.3.3 Price"
   ]
  },
  {
   "cell_type": "code",
   "execution_count": 15,
   "metadata": {},
   "outputs": [
    {
     "data": {
      "text/plain": [
       "(285, 24)"
      ]
     },
     "execution_count": 15,
     "metadata": {},
     "output_type": "execute_result"
    }
   ],
   "source": [
    "# Missing labels\n",
    "df.loc[df['Prezzo'] == 'Prezzo su richiesta', :].shape"
   ]
  },
  {
   "cell_type": "code",
   "execution_count": 16,
   "metadata": {},
   "outputs": [],
   "source": [
    "# Drop rows with missing labels\n",
    "df = df.loc[df['Prezzo'] != 'Prezzo su richiesta', :]"
   ]
  },
  {
   "cell_type": "code",
   "execution_count": 17,
   "metadata": {},
   "outputs": [],
   "source": [
    "df['Prezzo'] = (df['Prezzo']\n",
    "                .str.split('€')\n",
    "                .str[1]\n",
    "                .str.replace('.', '')\n",
    "                .astype('float'))"
   ]
  },
  {
   "cell_type": "markdown",
   "metadata": {},
   "source": [
    "#### 2.3.4 Square meters"
   ]
  },
  {
   "cell_type": "code",
   "execution_count": 18,
   "metadata": {},
   "outputs": [
    {
     "data": {
      "text/plain": [
       "6"
      ]
     },
     "execution_count": 18,
     "metadata": {},
     "output_type": "execute_result"
    }
   ],
   "source": [
    "df['Superficie'].isna().sum()"
   ]
  },
  {
   "cell_type": "code",
   "execution_count": 19,
   "metadata": {},
   "outputs": [],
   "source": [
    "# Drop rows with missing area as it is an important feature\n",
    "df = df.dropna(subset=['Superficie']).reset_index(drop=True)"
   ]
  },
  {
   "cell_type": "code",
   "execution_count": 20,
   "metadata": {},
   "outputs": [
    {
     "data": {
      "text/plain": [
       "50 m²                                                           338\n",
       "100 m²                                                          329\n",
       "80 m²                                                           323\n",
       "90 m²                                                           308\n",
       "70 m²                                                           275\n",
       "                                                               ... \n",
       "188 m²                                                            1\n",
       "180 m² | commerciale 183 m²                 - Vedi dettaglio      1\n",
       "98 m² | commerciale 107 m²                 - Vedi dettaglio       1\n",
       "100 m² | commerciale 120 m²                 - Vedi dettaglio      1\n",
       "40 m² | commerciale 49 m²                 - Vedi dettaglio        1\n",
       "Name: Superficie, Length: 1192, dtype: int64"
      ]
     },
     "execution_count": 20,
     "metadata": {},
     "output_type": "execute_result"
    }
   ],
   "source": [
    "df['Superficie'].value_counts()"
   ]
  },
  {
   "cell_type": "code",
   "execution_count": 21,
   "metadata": {},
   "outputs": [],
   "source": [
    "mask = df['Superficie'].str.contains('\\|', na=False)\n",
    "\n",
    "df['Superficie'] = (df['Superficie']\n",
    "                    .mask(mask, df['Superficie']\n",
    "                          .str.extract('commerciale (\\d+\\.?\\d*)', expand=False)\n",
    "                          .str.replace('.', ''))\n",
    "                    .where(mask, df['Superficie']\n",
    "                           .str.extract('(\\d+\\.?\\d*)', expand=False)\n",
    "                           .str.replace('.', ''))\n",
    "                    .astype('float64'))"
   ]
  },
  {
   "cell_type": "code",
   "execution_count": 22,
   "metadata": {},
   "outputs": [
    {
     "data": {
      "text/plain": [
       "8548    240018.0\n",
       "180      11350.0\n",
       "7300      8150.0\n",
       "4554      6437.0\n",
       "8155      5000.0\n",
       "8154      4760.0\n",
       "5781      4471.0\n",
       "5025      4270.0\n",
       "4892      3500.0\n",
       "2138      2958.0\n",
       "Name: Superficie, dtype: float64"
      ]
     },
     "execution_count": 22,
     "metadata": {},
     "output_type": "execute_result"
    }
   ],
   "source": [
    "# Outliers\n",
    "df['Superficie'].sort_values(ascending=False).head(10)"
   ]
  },
  {
   "cell_type": "code",
   "execution_count": 23,
   "metadata": {},
   "outputs": [],
   "source": [
    "df.loc[df['Superficie'] == 240018.0, 'Superficie'] = 240\n",
    "df.loc[df['Superficie'] == 11350.0, 'Superficie'] = 1135\n",
    "df.loc[df['Superficie'] == 6437.0, 'Superficie'] = 64"
   ]
  },
  {
   "cell_type": "markdown",
   "metadata": {},
   "source": [
    "### 2.4 Dropping features"
   ]
  },
  {
   "cell_type": "code",
   "execution_count": 24,
   "metadata": {},
   "outputs": [
    {
     "data": {
      "text/plain": [
       "Immobile garantito                       4999\n",
       "Indice prest. energetica rinnovabile     8439\n",
       "Prestazione energetica del fabbricato    8144\n",
       "Certificazione energetica                7416\n",
       "Disponibilità                             940\n",
       "Informazioni catastali                   3086\n",
       "Spese condominio                         3595\n",
       "dtype: int64"
      ]
     },
     "execution_count": 24,
     "metadata": {},
     "output_type": "execute_result"
    }
   ],
   "source": [
    "# Dropping columns that have a lot of missing values\n",
    "# Dropping \"Disponibilità\" because it does not have relevant information\n",
    "drop_cols = ['Immobile garantito', 'Indice prest. energetica rinnovabile', 'Prestazione energetica del fabbricato',\n",
    "             'Certificazione energetica', 'Disponibilità', 'Informazioni catastali', 'Spese condominio']\n",
    "\n",
    "df[drop_cols].isna().sum()"
   ]
  },
  {
   "cell_type": "code",
   "execution_count": 25,
   "metadata": {},
   "outputs": [],
   "source": [
    "df = df.drop(columns=drop_cols)"
   ]
  },
  {
   "cell_type": "code",
   "execution_count": 26,
   "metadata": {},
   "outputs": [
    {
     "name": "stdout",
     "output_type": "stream",
     "text": [
      "<class 'pandas.core.frame.DataFrame'>\n",
      "RangeIndex: 8714 entries, 0 to 8713\n",
      "Data columns (total 17 columns):\n",
      " #   Column                       Non-Null Count  Dtype  \n",
      "---  ------                       --------------  -----  \n",
      " 0   Riferimento e data annuncio  8714 non-null   object \n",
      " 1   Contratto                    8714 non-null   object \n",
      " 2   Tipologia                    8714 non-null   object \n",
      " 3   Superficie                   8714 non-null   float64\n",
      " 4   Locali                       8701 non-null   object \n",
      " 5   Piano                        8560 non-null   object \n",
      " 6   Totale piani edificio        8082 non-null   object \n",
      " 7   Tipo proprietà               8277 non-null   object \n",
      " 8   Altre caratteristiche        8163 non-null   object \n",
      " 9   Posti auto                   2142 non-null   object \n",
      " 10  Zona                         8714 non-null   object \n",
      " 11  Prezzo                       8714 non-null   float64\n",
      " 12  Anno di costruzione          6334 non-null   float64\n",
      " 13  Stato                        8483 non-null   object \n",
      " 14  Riscaldamento                8320 non-null   object \n",
      " 15  Climatizzazione              4749 non-null   object \n",
      " 16  Efficienza energetica        7519 non-null   object \n",
      "dtypes: float64(3), object(14)\n",
      "memory usage: 1.1+ MB\n"
     ]
    }
   ],
   "source": [
    "df.info()"
   ]
  },
  {
   "cell_type": "markdown",
   "metadata": {},
   "source": [
    "## 3. Feature engineering"
   ]
  },
  {
   "cell_type": "markdown",
   "metadata": {},
   "source": [
    "### 3.1 Price per m2"
   ]
  },
  {
   "cell_type": "code",
   "execution_count": 27,
   "metadata": {},
   "outputs": [],
   "source": [
    "# Create a price/m2 feature\n",
    "df['Prezzo_per_m2'] = df['Prezzo'] / df['Superficie']"
   ]
  },
  {
   "cell_type": "markdown",
   "metadata": {},
   "source": [
    "### 3.2 Type of property"
   ]
  },
  {
   "cell_type": "code",
   "execution_count": 28,
   "metadata": {},
   "outputs": [
    {
     "data": {
      "text/plain": [
       "Intera proprietà, classe immobile media        3037\n",
       "Intera proprietà, classe immobile signorile    2986\n",
       "Intera proprietà                                745\n",
       "Intera proprietà, classe immobile economica     462\n",
       "Intera proprietà, immobile di lusso             347\n",
       "Classe immobile signorile                       312\n",
       "Classe immobile media                           156\n",
       "Classe immobile economica                       127\n",
       "Nuda proprietà, classe immobile media            49\n",
       "Nuda proprietà, classe immobile signorile        26\n",
       "Nuda proprietà, classe immobile economica        12\n",
       "Immobile di lusso                                11\n",
       "Nuda proprietà                                    4\n",
       "Nuda proprietà, immobile di lusso                 2\n",
       "Multiproprietà, classe immobile media             1\n",
       "Name: Tipo proprietà, dtype: int64"
      ]
     },
     "execution_count": 28,
     "metadata": {},
     "output_type": "execute_result"
    }
   ],
   "source": [
    "df['Tipo proprietà'].value_counts()"
   ]
  },
  {
   "cell_type": "code",
   "execution_count": 29,
   "metadata": {},
   "outputs": [
    {
     "data": {
      "text/plain": [
       "intera proprietà    7846\n",
       "a reddito            346\n",
       "nuda proprietà        88\n",
       "multiproprietà         1\n",
       "Name: Tipo_proprietà, dtype: int64"
      ]
     },
     "execution_count": 29,
     "metadata": {},
     "output_type": "execute_result"
    }
   ],
   "source": [
    "df['Tipo_proprietà'] = (df['Tipo proprietà']\n",
    "                        .str.lower()\n",
    "                        .str.extract('(intera proprietà|nuda proprietà|multiproprietà)', expand=False))\n",
    "\n",
    "mask = df['Contratto'].str.contains('a reddito')\n",
    "df['Tipo_proprietà'] = df['Tipo_proprietà'].mask(mask, 'a reddito')\n",
    "\n",
    "# Assume the remaining property types that are not missing but also not specified are \"intera proprietà\"\n",
    "mask = df['Tipo proprietà'].notnull() & df['Tipo_proprietà'].isna()\n",
    "df['Tipo_proprietà'] = df['Tipo_proprietà'].mask(mask, 'intera proprietà')\n",
    "\n",
    "df['Tipo_proprietà'].value_counts()"
   ]
  },
  {
   "cell_type": "code",
   "execution_count": 30,
   "metadata": {},
   "outputs": [
    {
     "data": {
      "text/plain": [
       "signorile    3324\n",
       "media        3243\n",
       "economica     601\n",
       "lusso         360\n",
       "Name: Classe_immobile, dtype: int64"
      ]
     },
     "execution_count": 30,
     "metadata": {},
     "output_type": "execute_result"
    }
   ],
   "source": [
    "df['Classe_immobile'] = (df['Tipo proprietà']\n",
    "                        .str.lower()\n",
    "                        .str.extract('(economica|media|signorile|lusso)'))\n",
    "\n",
    "df['Classe_immobile'].value_counts()"
   ]
  },
  {
   "cell_type": "code",
   "execution_count": 31,
   "metadata": {},
   "outputs": [],
   "source": [
    "df = df.drop(columns=['Tipo proprietà', 'Contratto'])"
   ]
  },
  {
   "cell_type": "markdown",
   "metadata": {},
   "source": [
    "### 3.3 Type of house"
   ]
  },
  {
   "cell_type": "code",
   "execution_count": 32,
   "metadata": {},
   "outputs": [
    {
     "data": {
      "text/plain": [
       "Appartamento                 7578\n",
       "Terratetto unifamiliare       344\n",
       "Attico                        274\n",
       "Villa unifamiliare            230\n",
       "Terratetto plurifamiliare      57\n",
       "Loft                           57\n",
       "Appartamento in villa          29\n",
       "Villa bifamiliare              29\n",
       "Villa a schiera                28\n",
       "Open space                     24\n",
       "Casa colonica                  22\n",
       "Villa plurifamiliare           13\n",
       "Rustico                        11\n",
       "Mansarda                       10\n",
       "Casale                          5\n",
       "Ufficio                         2\n",
       "Bed & Breakfast                 1\n",
       "Name: Tipologia, dtype: int64"
      ]
     },
     "execution_count": 32,
     "metadata": {},
     "output_type": "execute_result"
    }
   ],
   "source": [
    "df['Tipologia'].value_counts()"
   ]
  },
  {
   "cell_type": "code",
   "execution_count": 33,
   "metadata": {},
   "outputs": [
    {
     "data": {
      "image/png": "[encoded data removed]",
      "text/plain": [
       "<Figure size 576x576 with 1 Axes>"
      ]
     },
     "metadata": {
      "needs_background": "light"
     },
     "output_type": "display_data"
    }
   ],
   "source": [
    "gb_ordered = (df.groupby('Tipologia')\n",
    "              .agg({'Prezzo_per_m2': 'mean'})\n",
    "              .sort_values('Prezzo_per_m2', ascending=False))\n",
    "\n",
    "fig = plt.figure(figsize=(8, 8))\n",
    "sns.barplot(x=gb_ordered['Prezzo_per_m2'], y=gb_ordered.index, ci=None)\n",
    "plt.xticks(rotation=30)\n",
    "plt.show()"
   ]
  },
  {
   "cell_type": "code",
   "execution_count": 34,
   "metadata": {},
   "outputs": [
    {
     "data": {
      "text/plain": [
       "appartamento            7607\n",
       "terratetto               401\n",
       "attico                   274\n",
       "villa unifamiliare       258\n",
       "loft                      57\n",
       "altro                     42\n",
       "villa plurifamiliare      29\n",
       "open space                24\n",
       "casa colonica             22\n",
       "Name: Tipologia_casa, dtype: int64"
      ]
     },
     "execution_count": 34,
     "metadata": {},
     "output_type": "execute_result"
    }
   ],
   "source": [
    "df['Tipologia_casa'] = df['Tipologia'].str.lower().replace({'appartamento in villa': 'appartamento',\n",
    "                                                  'terratetto unifamiliare': 'terratetto',\n",
    "                                                  'terratetto plurifamiliare': 'terratetto',\n",
    "                                                  'villa bifamiliare': 'villa plurifamiliare',\n",
    "                                                  'villa a schiera': 'villa unifamiliare'})\n",
    "\n",
    "other_list = df['Tipologia'].value_counts().loc[df['Tipologia'].value_counts() < 15].index.values\n",
    "mask = df['Tipologia'].isin(other_list)\n",
    "\n",
    "df['Tipologia_casa'] = df['Tipologia_casa'].mask(mask, 'altro')\n",
    "\n",
    "df['Tipologia_casa'].value_counts()"
   ]
  },
  {
   "cell_type": "code",
   "execution_count": 35,
   "metadata": {},
   "outputs": [],
   "source": [
    "df = df.drop(columns=['Tipologia'])"
   ]
  },
  {
   "cell_type": "markdown",
   "metadata": {},
   "source": [
    "### 3.4 Condition"
   ]
  },
  {
   "cell_type": "code",
   "execution_count": 36,
   "metadata": {},
   "outputs": [
    {
     "data": {
      "text/plain": [
       "231"
      ]
     },
     "execution_count": 36,
     "metadata": {},
     "output_type": "execute_result"
    }
   ],
   "source": [
    "df['Stato'].isna().sum()"
   ]
  },
  {
   "cell_type": "code",
   "execution_count": 37,
   "metadata": {},
   "outputs": [
    {
     "data": {
      "image/png": "[encoded data removed]",
      "text/plain": [
       "<Figure size 432x432 with 1 Axes>"
      ]
     },
     "metadata": {
      "needs_background": "light"
     },
     "output_type": "display_data"
    }
   ],
   "source": [
    "fig = plt.figure(figsize=(6, 6))\n",
    "sns.barplot(x=df['Stato'], y=df['Prezzo_per_m2'])\n",
    "plt.xticks(rotation=45)\n",
    "plt.show()"
   ]
  },
  {
   "cell_type": "code",
   "execution_count": 38,
   "metadata": {},
   "outputs": [
    {
     "data": {
      "text/plain": [
       "Ottimo / Ristrutturato    4514\n",
       "Buono / Abitabile         2399\n",
       "Nuovo / In costruzione     893\n",
       "Da ristrutturare           677\n",
       "Name: Stato, dtype: int64"
      ]
     },
     "execution_count": 38,
     "metadata": {},
     "output_type": "execute_result"
    }
   ],
   "source": [
    "df['Stato'].value_counts()"
   ]
  },
  {
   "cell_type": "code",
   "execution_count": 39,
   "metadata": {},
   "outputs": [],
   "source": [
    "df['Stato'] = df['Stato'].str.replace(' / ', '/').str.lower()"
   ]
  },
  {
   "cell_type": "code",
   "execution_count": 40,
   "metadata": {},
   "outputs": [
    {
     "data": {
      "text/plain": [
       "ottimo/ristrutturato    4514\n",
       "buono/abitabile         2399\n",
       "nuovo/in costruzione     893\n",
       "da ristrutturare         677\n",
       "Name: Stato, dtype: int64"
      ]
     },
     "execution_count": 40,
     "metadata": {},
     "output_type": "execute_result"
    }
   ],
   "source": [
    "df['Stato'].value_counts()"
   ]
  },
  {
   "cell_type": "markdown",
   "metadata": {},
   "source": [
    "### 3.5 Heating"
   ]
  },
  {
   "cell_type": "code",
   "execution_count": 41,
   "metadata": {},
   "outputs": [
    {
     "data": {
      "text/plain": [
       "394"
      ]
     },
     "execution_count": 41,
     "metadata": {},
     "output_type": "execute_result"
    }
   ],
   "source": [
    "df['Riscaldamento'].isna().sum()"
   ]
  },
  {
   "cell_type": "code",
   "execution_count": 42,
   "metadata": {
    "scrolled": true
   },
   "outputs": [
    {
     "data": {
      "text/plain": [
       "array(['Autonomo, a radiatori, alimentato a metano',\n",
       "       'Centralizzato, a radiatori, alimentato a metano',\n",
       "       'Centralizzato, a radiatori, alimentato a gas',\n",
       "       'Autonomo, a radiatori, alimentato a gas',\n",
       "       'Centralizzato, a radiatori, alimentato a gasolio', 'Autonomo',\n",
       "       'Centralizzato', 'Centralizzato, a radiatori', nan,\n",
       "       'Autonomo, ad aria, alimentato a pompa di calore',\n",
       "       'Autonomo, ad aria, alimentato a gas', 'Autonomo, a stufa',\n",
       "       'Autonomo, a radiatori, alimentazione elettrica',\n",
       "       'Autonomo, a radiatori', 'Autonomo, alimentato a gas',\n",
       "       'Centralizzato, a pavimento, alimentato a fotovoltaico',\n",
       "       'Centralizzato, a pavimento, alimentato a gas',\n",
       "       'Centralizzato, a pavimento', 'Centralizzato, alimentato a metano',\n",
       "       'Autonomo, ad aria',\n",
       "       'Centralizzato, a pavimento, alimentato a metano',\n",
       "       'Autonomo, a pavimento, alimentato a gas',\n",
       "       'Centralizzato, a pavimento, alimentato a pompa di calore',\n",
       "       'Autonomo, a pavimento, alimentazione elettrica',\n",
       "       'Autonomo, a pavimento, alimentato a metano',\n",
       "       'Autonomo, a radiatori, alimentato a fotovoltaico',\n",
       "       'Autonomo, ad aria, alimentazione elettrica',\n",
       "       'Autonomo, a radiatori, alimentato a pellet',\n",
       "       'Centralizzato, ad aria, alimentato a metano',\n",
       "       'Autonomo, a pavimento',\n",
       "       'Centralizzato, a radiatori, alimentato a fotovoltaico',\n",
       "       'Centralizzato, a pavimento, alimentazione elettrica',\n",
       "       'Autonomo, a radiatori, alimentato a gasolio',\n",
       "       'Autonomo, alimentato a metano',\n",
       "       'Centralizzato, ad aria, alimentato a fotovoltaico',\n",
       "       'Autonomo, a radiatori, alimentato a gpl',\n",
       "       'Centralizzato, ad aria, alimentato a pompa di calore',\n",
       "       'Centralizzato, ad aria', 'Autonomo, a stufa, alimentato a metano',\n",
       "       'Centralizzato, a radiatori, alimentato a gpl',\n",
       "       'Autonomo, ad aria, alimentato a metano',\n",
       "       'Autonomo, a pavimento, alimentato a pompa di calore',\n",
       "       'Centralizzato, a radiatori, alimentato a solare',\n",
       "       'Autonomo, a radiatori, alimentato a pompa di calore',\n",
       "       'Autonomo, a stufa, alimentato a gas',\n",
       "       'Autonomo, a pavimento, alimentato a solare',\n",
       "       'Autonomo, a stufa, alimentato a pellet',\n",
       "       'Autonomo, a pavimento, alimentato a fotovoltaico',\n",
       "       'Centralizzato, a pavimento, alimentato a gasolio',\n",
       "       'Autonomo, alimentato a pompa di calore',\n",
       "       'Centralizzato, ad aria, alimentato a gas',\n",
       "       'Centralizzato, ad aria, alimentazione elettrica',\n",
       "       'Centralizzato, a radiatori, alimentazione elettrica',\n",
       "       'Autonomo, a stufa, alimentato a pompa di calore',\n",
       "       'Autonomo, a stufa, alimentazione elettrica',\n",
       "       'Autonomo, ad aria, alimentato a fotovoltaico',\n",
       "       'Centralizzato, alimentato a solare',\n",
       "       'Autonomo, alimentato a gasolio',\n",
       "       'Centralizzato, a radiatori, alimentato a pompa di calore',\n",
       "       'Autonomo, a radiatori, alimentato a solare',\n",
       "       'Centralizzato, alimentato a gas',\n",
       "       'Autonomo, ad aria, alimentato a gasolio',\n",
       "       'Autonomo, a pavimento, alimentato a gpl',\n",
       "       'Centralizzato, ad aria, alimentato a gpl'], dtype=object)"
      ]
     },
     "execution_count": 42,
     "metadata": {},
     "output_type": "execute_result"
    }
   ],
   "source": [
    "df['Riscaldamento'].unique()"
   ]
  },
  {
   "cell_type": "code",
   "execution_count": 43,
   "metadata": {},
   "outputs": [],
   "source": [
    "# Create autonomous/centralized heating feature\n",
    "df['Riscaldamento_A_C'] = (df['Riscaldamento']\n",
    "                           .str.lower()\n",
    "                           .str.extract('(centralizzato|autonomo)')\n",
    "                           .fillna('centralizzato'))"
   ]
  },
  {
   "cell_type": "code",
   "execution_count": 44,
   "metadata": {},
   "outputs": [
    {
     "data": {
      "image/png": "[encoded data removed]",
      "text/plain": [
       "<Figure size 432x432 with 1 Axes>"
      ]
     },
     "metadata": {
      "needs_background": "light"
     },
     "output_type": "display_data"
    }
   ],
   "source": [
    "fig = plt.figure(figsize=(6, 6))\n",
    "sns.barplot(x=df['Riscaldamento_A_C'], y=df['Prezzo_per_m2'])\n",
    "plt.show()"
   ]
  },
  {
   "cell_type": "code",
   "execution_count": 45,
   "metadata": {},
   "outputs": [
    {
     "data": {
      "text/plain": [
       "autonomo         6488\n",
       "centralizzato    2226\n",
       "Name: Riscaldamento_A_C, dtype: int64"
      ]
     },
     "execution_count": 45,
     "metadata": {},
     "output_type": "execute_result"
    }
   ],
   "source": [
    "df['Riscaldamento_A_C'].value_counts()"
   ]
  },
  {
   "cell_type": "code",
   "execution_count": 46,
   "metadata": {},
   "outputs": [
    {
     "data": {
      "text/plain": [
       "radiatori    5977\n",
       "aria          409\n",
       "pavimento     355\n",
       "stufa          19\n",
       "Name: Tipo_riscaldamento, dtype: int64"
      ]
     },
     "execution_count": 46,
     "metadata": {},
     "output_type": "execute_result"
    }
   ],
   "source": [
    "# Create type of heating feature; clearly either radiatori, aria, pavimento and stufa\n",
    "df['Tipo_riscaldamento'] = df['Riscaldamento'].str.extract('(radiatori|aria|pavimento|stufa)')\n",
    "\n",
    "df['Tipo_riscaldamento'].value_counts()"
   ]
  },
  {
   "cell_type": "code",
   "execution_count": 47,
   "metadata": {},
   "outputs": [],
   "source": [
    "df['Alimentazione_riscaldamento'] = df['Riscaldamento'].str.extract('(metano|gas|gasolio|pompa di calore'\n",
    "                                                                    '|elettrica|fotovoltaico|pellet|gpl|solare)')"
   ]
  },
  {
   "cell_type": "code",
   "execution_count": 48,
   "metadata": {},
   "outputs": [],
   "source": [
    "df = df.drop(columns=['Riscaldamento'])"
   ]
  },
  {
   "cell_type": "markdown",
   "metadata": {},
   "source": [
    "### 3.6 Air conditioning "
   ]
  },
  {
   "cell_type": "code",
   "execution_count": 49,
   "metadata": {},
   "outputs": [
    {
     "data": {
      "text/plain": [
       "Autonomo, freddo/caldo                    2151\n",
       "Predisposizione impianto                  1031\n",
       "Autonomo, freddo                           922\n",
       "Autonomo                                   417\n",
       "Centralizzato, freddo/caldo                 88\n",
       "Predisposizione impianto, freddo            74\n",
       "Centralizzato, freddo                       21\n",
       "Predisposizione impianto, freddo/caldo      19\n",
       "Centralizzato                               17\n",
       "Autonomo, caldo                              9\n",
       "Name: Climatizzazione, dtype: int64"
      ]
     },
     "execution_count": 49,
     "metadata": {},
     "output_type": "execute_result"
    }
   ],
   "source": [
    "df['Climatizzazione'].value_counts()"
   ]
  },
  {
   "cell_type": "code",
   "execution_count": 50,
   "metadata": {},
   "outputs": [
    {
     "data": {
      "text/plain": [
       "non presente       3965\n",
       "autonomo           3499\n",
       "predisposizione    1124\n",
       "centralizzato       126\n",
       "Name: Climatizzazione, dtype: int64"
      ]
     },
     "execution_count": 50,
     "metadata": {},
     "output_type": "execute_result"
    }
   ],
   "source": [
    "df['Climatizzazione'] = (df['Climatizzazione']\n",
    "                         .str.lower()\n",
    "                         .str.extract('(predisposizione|autonomo|centralizzato)')\n",
    "                         .fillna('non presente'))\n",
    "\n",
    "df['Climatizzazione'].value_counts()"
   ]
  },
  {
   "cell_type": "markdown",
   "metadata": {},
   "source": [
    "### 3.7 Energy efficiency"
   ]
  },
  {
   "cell_type": "code",
   "execution_count": 51,
   "metadata": {},
   "outputs": [
    {
     "data": {
      "text/plain": [
       "1195"
      ]
     },
     "execution_count": 51,
     "metadata": {},
     "output_type": "execute_result"
    }
   ],
   "source": [
    "df['Efficienza energetica'].isna().sum()"
   ]
  },
  {
   "cell_type": "code",
   "execution_count": 52,
   "metadata": {},
   "outputs": [
    {
     "data": {
      "text/plain": [
       "bassa (E, F, G)        6658\n",
       "media (B, C, D)         461\n",
       "alta (A, A+, A1-A4)     386\n",
       "Name: Efficienza_energetica, dtype: int64"
      ]
     },
     "execution_count": 52,
     "metadata": {},
     "output_type": "execute_result"
    }
   ],
   "source": [
    "# Extract energy class from energy efficiency and group them\n",
    "mask1 = df['Efficienza energetica'].str.contains('A\\d?', na=False)\n",
    "mask2 = df['Efficienza energetica'].str.contains('[B-D]', na=False)\n",
    "mask3 = df['Efficienza energetica'].str.contains('[E-G]', na=False)\n",
    "\n",
    "conditions = [mask1, mask2, mask3]\n",
    "choices = ['alta (A, A+, A1-A4)', 'media (B, C, D)', 'bassa (E, F, G)']\n",
    "\n",
    "df['Efficienza_energetica'] = pd.Series(np.select(conditions, choices, np.nan)).replace({'nan': np.nan})\n",
    "\n",
    "df['Efficienza_energetica'].value_counts()"
   ]
  },
  {
   "cell_type": "code",
   "execution_count": 53,
   "metadata": {},
   "outputs": [
    {
     "data": {
      "text/html": [
       "<div>\n",
       "<style scoped>\n",
       "    .dataframe tbody tr th:only-of-type {\n",
       "        vertical-align: middle;\n",
       "    }\n",
       "\n",
       "    .dataframe tbody tr th {\n",
       "        vertical-align: top;\n",
       "    }\n",
       "\n",
       "    .dataframe thead th {\n",
       "        text-align: right;\n",
       "    }\n",
       "</style>\n",
       "<table border=\"1\" class=\"dataframe\">\n",
       "  <thead>\n",
       "    <tr style=\"text-align: right;\">\n",
       "      <th>Efficienza_energetica</th>\n",
       "      <th>alta (A, A+, A1-A4)</th>\n",
       "      <th>bassa (E, F, G)</th>\n",
       "      <th>media (B, C, D)</th>\n",
       "    </tr>\n",
       "    <tr>\n",
       "      <th>Alimentazione_riscaldamento</th>\n",
       "      <th></th>\n",
       "      <th></th>\n",
       "      <th></th>\n",
       "    </tr>\n",
       "  </thead>\n",
       "  <tbody>\n",
       "    <tr>\n",
       "      <th>elettrica</th>\n",
       "      <td>36.000000</td>\n",
       "      <td>44.000000</td>\n",
       "      <td>20.000000</td>\n",
       "    </tr>\n",
       "    <tr>\n",
       "      <th>fotovoltaico</th>\n",
       "      <td>92.857143</td>\n",
       "      <td>NaN</td>\n",
       "      <td>7.142857</td>\n",
       "    </tr>\n",
       "    <tr>\n",
       "      <th>gas</th>\n",
       "      <td>2.302158</td>\n",
       "      <td>92.949640</td>\n",
       "      <td>4.748201</td>\n",
       "    </tr>\n",
       "    <tr>\n",
       "      <th>gpl</th>\n",
       "      <td>NaN</td>\n",
       "      <td>60.000000</td>\n",
       "      <td>40.000000</td>\n",
       "    </tr>\n",
       "    <tr>\n",
       "      <th>metano</th>\n",
       "      <td>3.296976</td>\n",
       "      <td>92.166584</td>\n",
       "      <td>4.536440</td>\n",
       "    </tr>\n",
       "    <tr>\n",
       "      <th>pellet</th>\n",
       "      <td>NaN</td>\n",
       "      <td>100.000000</td>\n",
       "      <td>NaN</td>\n",
       "    </tr>\n",
       "    <tr>\n",
       "      <th>pompa di calore</th>\n",
       "      <td>12.340426</td>\n",
       "      <td>67.659574</td>\n",
       "      <td>20.000000</td>\n",
       "    </tr>\n",
       "    <tr>\n",
       "      <th>solare</th>\n",
       "      <td>NaN</td>\n",
       "      <td>50.000000</td>\n",
       "      <td>50.000000</td>\n",
       "    </tr>\n",
       "  </tbody>\n",
       "</table>\n",
       "</div>"
      ],
      "text/plain": [
       "Efficienza_energetica        alta (A, A+, A1-A4)  bassa (E, F, G)  \\\n",
       "Alimentazione_riscaldamento                                         \n",
       "elettrica                              36.000000        44.000000   \n",
       "fotovoltaico                           92.857143              NaN   \n",
       "gas                                     2.302158        92.949640   \n",
       "gpl                                          NaN        60.000000   \n",
       "metano                                  3.296976        92.166584   \n",
       "pellet                                       NaN       100.000000   \n",
       "pompa di calore                        12.340426        67.659574   \n",
       "solare                                       NaN        50.000000   \n",
       "\n",
       "Efficienza_energetica        media (B, C, D)  \n",
       "Alimentazione_riscaldamento                   \n",
       "elettrica                          20.000000  \n",
       "fotovoltaico                        7.142857  \n",
       "gas                                 4.748201  \n",
       "gpl                                40.000000  \n",
       "metano                              4.536440  \n",
       "pellet                                   NaN  \n",
       "pompa di calore                    20.000000  \n",
       "solare                             50.000000  "
      ]
     },
     "execution_count": 53,
     "metadata": {},
     "output_type": "execute_result"
    }
   ],
   "source": [
    "(df.groupby('Alimentazione_riscaldamento')['Efficienza_energetica']\n",
    " .value_counts()\n",
    " .unstack()\n",
    " .apply(lambda x: x/x.sum()*100, axis=1))"
   ]
  },
  {
   "cell_type": "code",
   "execution_count": 54,
   "metadata": {},
   "outputs": [],
   "source": [
    "df = df.drop(columns=['Efficienza energetica'])"
   ]
  },
  {
   "cell_type": "markdown",
   "metadata": {},
   "source": [
    "### 3.8 Listing date"
   ]
  },
  {
   "cell_type": "code",
   "execution_count": 55,
   "metadata": {},
   "outputs": [
    {
     "data": {
      "text/plain": [
       "0       A0049 - 05/10/2020\n",
       "1      alv275 - 05/10/2020\n",
       "2    Novoli B - 05/10/2020\n",
       "3    Novoli A - 05/10/2020\n",
       "4     MAZZ328 - 05/10/2020\n",
       "Name: Riferimento e data annuncio, dtype: object"
      ]
     },
     "execution_count": 55,
     "metadata": {},
     "output_type": "execute_result"
    }
   ],
   "source": [
    "df['Riferimento e data annuncio'].head()"
   ]
  },
  {
   "cell_type": "code",
   "execution_count": 56,
   "metadata": {},
   "outputs": [],
   "source": [
    "df['Data_annuncio'] = (df['Riferimento e data annuncio']\n",
    "                       .str.split('-')\n",
    "                       .str[-1]\n",
    "                       .str.strip()\n",
    "                       .astype('datetime64[D]'))"
   ]
  },
  {
   "cell_type": "code",
   "execution_count": 57,
   "metadata": {},
   "outputs": [],
   "source": [
    "df = df.drop(columns=['Riferimento e data annuncio'])"
   ]
  },
  {
   "cell_type": "markdown",
   "metadata": {},
   "source": [
    "### 3.9 Floor"
   ]
  },
  {
   "cell_type": "code",
   "execution_count": 58,
   "metadata": {},
   "outputs": [
    {
     "data": {
      "text/plain": [
       "1° piano                                            1097\n",
       "Piano terra                                          995\n",
       "1° piano, con ascensore                              673\n",
       "2° piano                                             635\n",
       "3° piano                                             492\n",
       "2° piano, con ascensore                              471\n",
       "3° piano, con ascensore                              424\n",
       "4° piano, con ascensore                              361\n",
       "Piano terra, con accesso disabili                    273\n",
       "Piano rialzato                                       254\n",
       "Piano terra, con ascensore                           225\n",
       "1° piano, con ascensore, con accesso disabili        194\n",
       "Piano rialzato, con ascensore                        150\n",
       "5° piano, con ascensore                              144\n",
       "Ultimo piano                                         139\n",
       "2° piano, con ascensore, con accesso disabili        125\n",
       "4° piano                                             113\n",
       "3° piano, con ascensore, con accesso disabili        112\n",
       "Piano terra, con ascensore, con accesso disabili     104\n",
       "Seminterrato                                          86\n",
       "Name: Piano, dtype: int64"
      ]
     },
     "execution_count": 58,
     "metadata": {},
     "output_type": "execute_result"
    }
   ],
   "source": [
    "df['Piano'].value_counts()[:20]"
   ]
  },
  {
   "cell_type": "code",
   "execution_count": 59,
   "metadata": {},
   "outputs": [
    {
     "data": {
      "text/plain": [
       "no    4805\n",
       "sì    3909\n",
       "Name: Ascensore, dtype: int64"
      ]
     },
     "execution_count": 59,
     "metadata": {},
     "output_type": "execute_result"
    }
   ],
   "source": [
    "# Create elevator feature\n",
    "mask = df['Piano'].str.contains('.*ascensore.*', na=False)\n",
    "df['Ascensore'] = np.where(mask, 'sì', 'no')\n",
    "\n",
    "df['Ascensore'].value_counts()"
   ]
  },
  {
   "cell_type": "code",
   "execution_count": 60,
   "metadata": {
    "scrolled": true
   },
   "outputs": [
    {
     "data": {
      "text/plain": [
       "no    7369\n",
       "sì    1345\n",
       "Name: Accesso_disabili, dtype: int64"
      ]
     },
     "execution_count": 60,
     "metadata": {},
     "output_type": "execute_result"
    }
   ],
   "source": [
    "# Create access for disabled people feature\n",
    "mask = df['Piano'].str.contains('.*accesso disabili.*', na=False)\n",
    "df['Accesso_disabili'] = np.where(mask, 'sì', 'no')\n",
    "\n",
    "df['Accesso_disabili'].value_counts()"
   ]
  },
  {
   "cell_type": "code",
   "execution_count": 61,
   "metadata": {},
   "outputs": [
    {
     "data": {
      "text/plain": [
       "intermedio    4010\n",
       "terra         2531\n",
       "ultimo        1996\n",
       "interrato       23\n",
       "Name: Piano, dtype: int64"
      ]
     },
     "execution_count": 61,
     "metadata": {},
     "output_type": "execute_result"
    }
   ],
   "source": [
    "# Group floors\n",
    "mask1 = df['Piano'].str.lower().str.contains('\\d+°|oltre il decimo piano|su più livelli', na=False)\n",
    "mask2 = df['Piano'].str.lower().str.contains('seminterrato|interrato|ammezzato', na=False)\n",
    "mask3 = df['Piano'].str.lower().str.contains('terra|piano rialzato', na=False)\n",
    "mask4 = df['Piano'].str.lower().str.contains('ultimo', na=False)\n",
    "mask5 = (df['Totale piani edificio'].str.extract('(\\d+)', expand=False) ==\n",
    "         df['Piano'].str.extract('(\\d+)', expand=False))\n",
    "\n",
    "df['Piano'] = (df['Piano']\n",
    "               .mask(mask1, 'intermedio')\n",
    "               .mask(mask2, 'interrato')\n",
    "               .mask(mask3, 'terra')\n",
    "               .mask(mask4 | mask5, 'ultimo'))\n",
    "\n",
    "df['Piano'].value_counts()"
   ]
  },
  {
   "cell_type": "code",
   "execution_count": 62,
   "metadata": {},
   "outputs": [],
   "source": [
    "df = df.drop(columns=['Totale piani edificio'])"
   ]
  },
  {
   "cell_type": "markdown",
   "metadata": {},
   "source": [
    "### 3.10 Car parking"
   ]
  },
  {
   "cell_type": "code",
   "execution_count": 63,
   "metadata": {},
   "outputs": [
    {
     "data": {
      "text/plain": [
       "array([nan, \"1 all'esterno\", \"2 all'esterno\", '1 in garage/box',\n",
       "       \"6 all'esterno\", \"3 all'esterno\", '2 in garage/box',\n",
       "       \"1 in garage/box, 1 all'esterno\", \"4 all'esterno\", \"5 all'esterno\",\n",
       "       \"2 in garage/box, 2 all'esterno\", \"2 in garage/box, 8 all'esterno\",\n",
       "       \"1 in garage/box, 2 all'esterno\", \"2 in garage/box, 1 all'esterno\",\n",
       "       \"10 all'esterno\", \"1 in garage/box, 3 all'esterno\",\n",
       "       \"176 all'esterno\", \"2 in garage/box, 10 all'esterno\",\n",
       "       \"2 in garage/box, 5 all'esterno\", \"2 in garage/box, 6 all'esterno\",\n",
       "       \"9 all'esterno\", \"1 in garage/box, 4 all'esterno\",\n",
       "       \"1 in garage/box, 6 all'esterno\", \"7 all'esterno\",\n",
       "       \"1 in garage/box, 5 all'esterno\", \"20 all'esterno\",\n",
       "       \"2 in garage/box, 20 all'esterno\",\n",
       "       \"2 in garage/box, 3 all'esterno\",\n",
       "       \"1 in garage/box, 14 all'esterno\",\n",
       "       \"2 in garage/box, 4 all'esterno\", \"1 in garage/box, 7 all'esterno\",\n",
       "       \"8 all'esterno\", \"2 in garage/box, 7 all'esterno\",\n",
       "       \"2 in garage/box, 18 all'esterno\",\n",
       "       \"1 in garage/box, 10 all'esterno\"], dtype=object)"
      ]
     },
     "execution_count": 63,
     "metadata": {},
     "output_type": "execute_result"
    }
   ],
   "source": [
    "df['Posti auto'].unique()"
   ]
  },
  {
   "cell_type": "code",
   "execution_count": 64,
   "metadata": {},
   "outputs": [
    {
     "data": {
      "text/plain": [
       "6572"
      ]
     },
     "execution_count": 64,
     "metadata": {},
     "output_type": "execute_result"
    }
   ],
   "source": [
    "# Consider NaNs as no parkings\n",
    "df['Posti auto'].isna().sum()"
   ]
  },
  {
   "cell_type": "code",
   "execution_count": 65,
   "metadata": {},
   "outputs": [
    {
     "data": {
      "text/plain": [
       "0.0    7830\n",
       "1.0     671\n",
       "2.0     213\n",
       "Name: Posti_garage, dtype: int64"
      ]
     },
     "execution_count": 65,
     "metadata": {},
     "output_type": "execute_result"
    }
   ],
   "source": [
    "# Garage car parking\n",
    "df['Posti_garage'] = df['Posti auto'].str.extract('(\\d).*garage\\/box').astype('float').fillna(0)\n",
    "df['Posti_garage'].value_counts()"
   ]
  },
  {
   "cell_type": "code",
   "execution_count": 66,
   "metadata": {
    "scrolled": false
   },
   "outputs": [
    {
     "data": {
      "text/plain": [
       "0.0      7056\n",
       "1.0      1203\n",
       "2.0       347\n",
       "3.0        43\n",
       "4.0        27\n",
       "5.0        11\n",
       "10.0        9\n",
       "6.0         7\n",
       "8.0         4\n",
       "20.0        3\n",
       "7.0         2\n",
       "9.0         1\n",
       "176.0       1\n",
       "Name: Posti_esterni, dtype: int64"
      ]
     },
     "execution_count": 66,
     "metadata": {},
     "output_type": "execute_result"
    }
   ],
   "source": [
    "# External car parking\n",
    "df['Posti_esterni'] = df['Posti auto'].str.extract(r'(\\d+).*esterno').astype('float').fillna(0)\n",
    "df['Posti_esterni'].value_counts()"
   ]
  },
  {
   "cell_type": "code",
   "execution_count": 67,
   "metadata": {},
   "outputs": [],
   "source": [
    "df = df.drop(columns=['Posti auto'])"
   ]
  },
  {
   "cell_type": "markdown",
   "metadata": {},
   "source": [
    "### 3.11 Number of toilets"
   ]
  },
  {
   "cell_type": "code",
   "execution_count": 68,
   "metadata": {},
   "outputs": [
    {
     "data": {
      "text/plain": [
       "1    4415\n",
       "2    2986\n",
       "3     772\n",
       "4     436\n",
       "Name: Num_bagni, dtype: int64"
      ]
     },
     "execution_count": 68,
     "metadata": {},
     "output_type": "execute_result"
    }
   ],
   "source": [
    "# Toilets\n",
    "df['Num_bagni'] = df['Locali'].str.extract('(\\d\\+?) bagn\\w')\n",
    "df['Num_bagni'] = df['Num_bagni'].mask(df['Num_bagni'] == '3+', 4)  # Set 3+ toilets to 4\n",
    "\n",
    "df['Num_bagni'].value_counts()"
   ]
  },
  {
   "cell_type": "markdown",
   "metadata": {},
   "source": [
    "### 3.12 Number of rooms"
   ]
  },
  {
   "cell_type": "code",
   "execution_count": 69,
   "metadata": {},
   "outputs": [
    {
     "data": {
      "text/plain": [
       "13"
      ]
     },
     "execution_count": 69,
     "metadata": {},
     "output_type": "execute_result"
    }
   ],
   "source": [
    "df['Locali'].isna().sum()"
   ]
  },
  {
   "cell_type": "code",
   "execution_count": 70,
   "metadata": {},
   "outputs": [],
   "source": [
    "# All types of rooms\n",
    "df['Num_altri'] = df['Locali'].str.extract('(\\d+\\+?) altr\\w').astype('float64').fillna(0)\n",
    "df['Num_camere_letto'] = df['Locali'].str.extract('(\\d+\\+?) camer\\w da letto').astype('float64').fillna(0)\n",
    "df['Num_locali'] = df['Locali'].str.extract('(\\d+\\+?) local\\w').astype('float64').fillna(0)\n",
    "\n",
    "# Total number of rooms\n",
    "df['Num_tot_locali'] = ((df['Num_altri'] + df['Num_camere_letto'] + df['Num_locali'])\n",
    "                        .mask(df['Locali'].isna(), np.nan))"
   ]
  },
  {
   "cell_type": "code",
   "execution_count": 71,
   "metadata": {},
   "outputs": [],
   "source": [
    "df = df.drop(columns=['Locali', 'Num_altri', 'Num_camere_letto', 'Num_locali'])"
   ]
  },
  {
   "cell_type": "markdown",
   "metadata": {},
   "source": [
    "### 3.13 Year of construction"
   ]
  },
  {
   "cell_type": "code",
   "execution_count": 72,
   "metadata": {
    "scrolled": true
   },
   "outputs": [
    {
     "data": {
      "text/plain": [
       "1970.0    885\n",
       "1900.0    821\n",
       "1960.0    729\n",
       "1800.0    475\n",
       "1950.0    427\n",
       "Name: Anno di costruzione, dtype: int64"
      ]
     },
     "execution_count": 72,
     "metadata": {},
     "output_type": "execute_result"
    }
   ],
   "source": [
    "df['Anno di costruzione'].value_counts().head()"
   ]
  },
  {
   "cell_type": "code",
   "execution_count": 73,
   "metadata": {},
   "outputs": [
    {
     "data": {
      "text/plain": [
       "(1950, 2000]    2261\n",
       "(1850, 1950]    2063\n",
       "(0, 1850]       1270\n",
       "(2000, 2022]     740\n",
       "Name: Anno_costruzione_bins, dtype: int64"
      ]
     },
     "execution_count": 73,
     "metadata": {},
     "output_type": "execute_result"
    }
   ],
   "source": [
    "df['Anno_costruzione_bins'] = pd.cut(df['Anno di costruzione'], [0, 1850, 1950, 2000, 2022])\n",
    "df['Anno_costruzione_bins'].value_counts()"
   ]
  },
  {
   "cell_type": "code",
   "execution_count": 74,
   "metadata": {},
   "outputs": [],
   "source": [
    "df = df.drop(columns=['Anno di costruzione'])"
   ]
  },
  {
   "cell_type": "code",
   "execution_count": 75,
   "metadata": {},
   "outputs": [
    {
     "data": {
      "image/png": "[encoded data removed]",
      "text/plain": [
       "<Figure size 576x576 with 1 Axes>"
      ]
     },
     "metadata": {
      "needs_background": "light"
     },
     "output_type": "display_data"
    }
   ],
   "source": [
    "fig = plt.figure(figsize=(8, 8))\n",
    "sns.barplot(x=df['Anno_costruzione_bins'], y=df['Prezzo_per_m2'])\n",
    "plt.xticks(rotation=45)\n",
    "plt.show()"
   ]
  },
  {
   "cell_type": "markdown",
   "metadata": {},
   "source": [
    "### 3.14 Other features"
   ]
  },
  {
   "cell_type": "code",
   "execution_count": 76,
   "metadata": {},
   "outputs": [
    {
     "data": {
      "text/plain": [
       "array(['Fibra ottica\\n                \\n\\n                    VideoCitofono\\n                \\n\\n                    Porta blindata\\n                \\n\\n                    Impianto tv singolo\\n                \\n\\n                    Parzialmente Arredato\\n                \\n\\n                    Infissi esterni in vetro / legno\\n                \\n\\n                    Esposizione doppia',\n",
       "       'Fibra ottica\\n                \\n\\n                    Porta blindata\\n                \\n\\n                    Balcone\\n                \\n\\n                    Impianto tv centralizzato\\n                \\n\\n                    Infissi esterni in doppio vetro / PVC\\n                \\n\\n                    Esposizione doppia',\n",
       "       'Porta blindata\\n                \\n\\n                    Esposizione esterna\\n                \\n\\n                    Terrazza\\n                \\n\\n                    Impianto tv singolo\\n                \\n\\n                    Infissi esterni in doppio vetro / PVC',\n",
       "       ...,\n",
       "       'Fibra ottica\\n                \\n\\n                    VideoCitofono\\n                \\n\\n                    Porta blindata\\n                \\n\\n                    Balcone\\n                \\n\\n                    Impianto tv centralizzato\\n                \\n\\n                    Infissi esterni in doppio vetro / legno\\n                \\n\\n                    Esposizione doppia',\n",
       "       'Caminetto\\n                \\n\\n                    Mansarda\\n                \\n\\n                    Taverna\\n                \\n\\n                    Porta blindata\\n                \\n\\n                    Impianto tv singolo\\n                \\n\\n                    Cantina\\n                \\n\\n                    Infissi esterni in doppio vetro / legno\\n                \\n\\n                    Esposizione doppia',\n",
       "       'Idromassaggio\\n                \\n\\n                    Porta blindata\\n                \\n\\n                    Balcone\\n                \\n\\n                    Impianto tv singolo\\n                \\n\\n                    Cantina\\n                \\n\\n                    Infissi esterni in vetro / legno\\n                \\n\\n                    Esposizione doppia'],\n",
       "      dtype=object)"
      ]
     },
     "execution_count": 76,
     "metadata": {},
     "output_type": "execute_result"
    }
   ],
   "source": [
    "df['Altre caratteristiche'].unique()"
   ]
  },
  {
   "cell_type": "code",
   "execution_count": 77,
   "metadata": {},
   "outputs": [],
   "source": [
    "# Create function to parse strings\n",
    "def string_parser(row):\n",
    "    if pd.notnull(row['Altre caratteristiche']):\n",
    "        string_list = row['Altre caratteristiche'].split('\\n')\n",
    "        row['Altre_caratteristiche'] = [string.strip() for string in string_list if string.strip() != '']\n",
    "    \n",
    "    else:\n",
    "        row['Altre_caratteristiche'] = []\n",
    "    \n",
    "    return row['Altre_caratteristiche']"
   ]
  },
  {
   "cell_type": "code",
   "execution_count": 78,
   "metadata": {},
   "outputs": [],
   "source": [
    "df['Altre_caratteristiche'] = df['Altre caratteristiche'].copy()\n",
    "df['Altre_caratteristiche'] = df.apply(string_parser, axis=1)"
   ]
  },
  {
   "cell_type": "code",
   "execution_count": 79,
   "metadata": {},
   "outputs": [],
   "source": [
    "# Determine all features\n",
    "def unique(df):\n",
    "    unique_list = []\n",
    "\n",
    "    for idx, series in df.iterrows():\n",
    "        for feature in series.loc['Altre_caratteristiche']:\n",
    "            if feature not in unique_list:\n",
    "                unique_list.append(feature)\n",
    "        else:\n",
    "            continue\n",
    "   \n",
    "    return unique_list"
   ]
  },
  {
   "cell_type": "code",
   "execution_count": 80,
   "metadata": {
    "scrolled": false
   },
   "outputs": [
    {
     "data": {
      "text/plain": [
       "['Fibra ottica',\n",
       " 'VideoCitofono',\n",
       " 'Porta blindata',\n",
       " 'Impianto tv singolo',\n",
       " 'Parzialmente Arredato',\n",
       " 'Infissi esterni in vetro / legno',\n",
       " 'Esposizione doppia',\n",
       " 'Balcone',\n",
       " 'Impianto tv centralizzato',\n",
       " 'Infissi esterni in doppio vetro / PVC',\n",
       " 'Esposizione esterna',\n",
       " 'Terrazza',\n",
       " 'Cancello elettrico',\n",
       " 'Cantina',\n",
       " 'Giardino privato',\n",
       " 'Caminetto',\n",
       " 'Portiere intera giornata',\n",
       " 'Infissi esterni in doppio vetro / legno',\n",
       " 'Armadio a muro',\n",
       " 'Impianto di allarme',\n",
       " 'Mansarda',\n",
       " 'Infissi esterni in doppio vetro / metallo',\n",
       " 'Solo Cucina Arredata',\n",
       " 'Esposizione interna',\n",
       " 'Infissi esterni in vetro / PVC',\n",
       " 'Giardino comune',\n",
       " 'Taverna',\n",
       " 'Impianto tv con parabola satellitare',\n",
       " 'Arredato',\n",
       " 'Infissi esterni in triplo vetro / PVC',\n",
       " 'Infissi esterni in triplo vetro / legno',\n",
       " 'Infissi esterni in vetro / metallo',\n",
       " 'Portiere mezza giornata',\n",
       " 'Cablato',\n",
       " 'Idromassaggio',\n",
       " 'Reception',\n",
       " 'Piscina',\n",
       " 'Infissi esterni in triplo vetro / metallo']"
      ]
     },
     "execution_count": 80,
     "metadata": {},
     "output_type": "execute_result"
    }
   ],
   "source": [
    "unique_list = unique(df)\n",
    "unique_list"
   ]
  },
  {
   "cell_type": "code",
   "execution_count": 81,
   "metadata": {},
   "outputs": [],
   "source": [
    "# Windows\n",
    "df['Infissi'] = (df['Altre_caratteristiche']\n",
    "                 .apply(lambda x: str([y for y in x if 'Infissi' in y]))\n",
    "                 .str.extract('(doppio|triplo)', expand=False)\n",
    "                 .fillna('singolo'))"
   ]
  },
  {
   "cell_type": "code",
   "execution_count": 82,
   "metadata": {},
   "outputs": [],
   "source": [
    "# Garden\n",
    "df['Giardino'] = (df['Altre_caratteristiche']\n",
    "                 .apply(lambda x: str([y for y in x if 'Giardino' in y]))\n",
    "                 .str.extract('(comune|privato)', expand=False)\n",
    "                 .fillna('no'))"
   ]
  },
  {
   "cell_type": "code",
   "execution_count": 83,
   "metadata": {},
   "outputs": [],
   "source": [
    "# Furnished\n",
    "df['Arredato'] = df['Altre_caratteristiche'].apply(lambda x: str([y for y in x if 'Arredat' in y]))\n",
    "df['Arredato'] = df['Arredato'].replace({'[\\'Parzialmente Arredato\\']': 'parzialmente',\n",
    "                                         '[\\'Solo Cucina Arredata\\']': 'parzialmente',\n",
    "                                         '[\\'Arredato\\']': 'totalmente',\n",
    "                                         '[]': 'no'})"
   ]
  },
  {
   "cell_type": "code",
   "execution_count": 84,
   "metadata": {},
   "outputs": [],
   "source": [
    "# Terrace/balcony\n",
    "df['Terrazza'] = (df['Altre_caratteristiche']\n",
    "                 .apply(lambda x: str([y for y in x if 'Terrazza' in y or 'Balcone' in y])))\n",
    "df.loc[~(df['Terrazza']=='[]'), 'Terrazza'] = 'sì'\n",
    "df.loc[df['Terrazza']=='[]', 'Terrazza'] = 'no'"
   ]
  },
  {
   "cell_type": "code",
   "execution_count": 85,
   "metadata": {},
   "outputs": [],
   "source": [
    "# Exposure\n",
    "df['Esposizione'] = (df['Altre_caratteristiche']\n",
    "                     .apply(lambda x: str([y for y in x if 'Esposizione' in y]))\n",
    "                     .str.extract('(doppia|esterna|interna)', expand=False)\n",
    "                     .fillna('esterna'))"
   ]
  },
  {
   "cell_type": "code",
   "execution_count": 86,
   "metadata": {},
   "outputs": [],
   "source": [
    "feature_list = ['Fibra ottica', 'Cancello elettrico', 'Cantina', 'Impianto di allarme', 'Mansarda', 'Taverna',\n",
    "                'Cablato', 'Idromassaggio', 'Piscina']\n",
    "\n",
    "# Create a column for each feature\n",
    "for feature in feature_list:\n",
    "    mask = df['Altre_caratteristiche'].apply(lambda x: feature in x)\n",
    "    df[feature] = np.where(mask, 'sì', 'no')"
   ]
  },
  {
   "cell_type": "code",
   "execution_count": 87,
   "metadata": {},
   "outputs": [],
   "source": [
    "df = df.drop(columns=['Altre caratteristiche', 'Altre_caratteristiche'])"
   ]
  },
  {
   "cell_type": "code",
   "execution_count": 88,
   "metadata": {},
   "outputs": [
    {
     "name": "stdout",
     "output_type": "stream",
     "text": [
      "<class 'pandas.core.frame.DataFrame'>\n",
      "RangeIndex: 8714 entries, 0 to 8713\n",
      "Data columns (total 36 columns):\n",
      " #   Column                       Non-Null Count  Dtype         \n",
      "---  ------                       --------------  -----         \n",
      " 0   Superficie                   8714 non-null   float64       \n",
      " 1   Piano                        8560 non-null   object        \n",
      " 2   Zona                         8714 non-null   object        \n",
      " 3   Prezzo                       8714 non-null   float64       \n",
      " 4   Stato                        8483 non-null   object        \n",
      " 5   Climatizzazione              8714 non-null   object        \n",
      " 6   Prezzo_per_m2                8714 non-null   float64       \n",
      " 7   Tipo_proprietà               8281 non-null   object        \n",
      " 8   Classe_immobile              7528 non-null   object        \n",
      " 9   Tipologia_casa               8714 non-null   object        \n",
      " 10  Riscaldamento_A_C            8714 non-null   object        \n",
      " 11  Tipo_riscaldamento           6760 non-null   object        \n",
      " 12  Alimentazione_riscaldamento  6439 non-null   object        \n",
      " 13  Efficienza_energetica        7505 non-null   object        \n",
      " 14  Data_annuncio                8714 non-null   datetime64[ns]\n",
      " 15  Ascensore                    8714 non-null   object        \n",
      " 16  Accesso_disabili             8714 non-null   object        \n",
      " 17  Posti_garage                 8714 non-null   float64       \n",
      " 18  Posti_esterni                8714 non-null   float64       \n",
      " 19  Num_bagni                    8609 non-null   object        \n",
      " 20  Num_tot_locali               8701 non-null   float64       \n",
      " 21  Anno_costruzione_bins        6334 non-null   category      \n",
      " 22  Infissi                      8714 non-null   object        \n",
      " 23  Giardino                     8714 non-null   object        \n",
      " 24  Arredato                     8714 non-null   object        \n",
      " 25  Terrazza                     8714 non-null   object        \n",
      " 26  Esposizione                  8714 non-null   object        \n",
      " 27  Fibra ottica                 8714 non-null   object        \n",
      " 28  Cancello elettrico           8714 non-null   object        \n",
      " 29  Cantina                      8714 non-null   object        \n",
      " 30  Impianto di allarme          8714 non-null   object        \n",
      " 31  Mansarda                     8714 non-null   object        \n",
      " 32  Taverna                      8714 non-null   object        \n",
      " 33  Cablato                      8714 non-null   object        \n",
      " 34  Idromassaggio                8714 non-null   object        \n",
      " 35  Piscina                      8714 non-null   object        \n",
      "dtypes: category(1), datetime64[ns](1), float64(6), object(28)\n",
      "memory usage: 2.3+ MB\n"
     ]
    }
   ],
   "source": [
    "df.info()"
   ]
  }
 ],
 "metadata": {
  "kernelspec": {
   "display_name": "Python 3",
   "language": "python",
   "name": "python3"
  },
  "language_info": {
   "codemirror_mode": {
    "name": "ipython",
    "version": 3
   },
   "file_extension": ".py",
   "mimetype": "text/x-python",
   "name": "python",
   "nbconvert_exporter": "python",
   "pygments_lexer": "ipython3",
   "version": "3.8.5"
  }
 },
 "nbformat": 4,
 "nbformat_minor": 4
}
