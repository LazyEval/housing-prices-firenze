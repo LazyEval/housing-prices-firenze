{
 "cells": [
  {
   "cell_type": "code",
   "execution_count": 1,
   "metadata": {},
   "outputs": [],
   "source": [
    "import pandas as pd\n",
    "import regex as re\n",
    "import matplotlib.pyplot as plt\n",
    "import seaborn as sns\n",
    "\n",
    "pd.set_option('display.max_columns', None)"
   ]
  },
  {
   "cell_type": "code",
   "execution_count": 2,
   "metadata": {},
   "outputs": [],
   "source": [
    "path_raw = '/home/matteo@COPPET/Documents/data_science/projects/housing_prices_firenze/data/raw/'"
   ]
  },
  {
   "cell_type": "code",
   "execution_count": 3,
   "metadata": {},
   "outputs": [],
   "source": [
    "caratteristiche = pd.read_excel(path_raw+'caratteristiche.xlsx')\n",
    "costi = pd.read_excel(path_raw+'costi.xlsx')\n",
    "efficienza_energetica = pd.read_excel(path_raw+'efficienza_energetica.xlsx')"
   ]
  },
  {
   "cell_type": "code",
   "execution_count": null,
   "metadata": {},
   "outputs": [],
   "source": [
    "caratteristiche.info()"
   ]
  },
  {
   "cell_type": "code",
   "execution_count": null,
   "metadata": {},
   "outputs": [],
   "source": [
    "costi.info()"
   ]
  },
  {
   "cell_type": "code",
   "execution_count": null,
   "metadata": {},
   "outputs": [],
   "source": [
    "efficienza_energetica.info()"
   ]
  },
  {
   "cell_type": "code",
   "execution_count": 4,
   "metadata": {},
   "outputs": [],
   "source": [
    "# Drop NaN columns (based on info above, possible error in scraping)\n",
    "caratteristiche = caratteristiche.drop(columns=['unità', 'Data di inizio lavori e di consegna prevista', 'Dati catastali'])\n",
    "costi = costi.iloc[:, :3]\n",
    "efficienza_energetica = efficienza_energetica.iloc[:, :8]"
   ]
  },
  {
   "cell_type": "markdown",
   "metadata": {},
   "source": [
    "## 1. Data cleaning"
   ]
  },
  {
   "cell_type": "markdown",
   "metadata": {},
   "source": [
    "### Join all three tables and start looking into the data"
   ]
  },
  {
   "cell_type": "code",
   "execution_count": 5,
   "metadata": {},
   "outputs": [],
   "source": [
    "# Join tables\n",
    "df = caratteristiche.join(costi).join(efficienza_energetica)"
   ]
  },
  {
   "cell_type": "code",
   "execution_count": null,
   "metadata": {},
   "outputs": [],
   "source": [
    "df.info()"
   ]
  },
  {
   "cell_type": "markdown",
   "metadata": {},
   "source": [
    "#### Preliminary cleaning"
   ]
  },
  {
   "cell_type": "code",
   "execution_count": 6,
   "metadata": {},
   "outputs": [],
   "source": [
    "# Rename columns\n",
    "df.columns = map(str.capitalize, df.columns)\n",
    "\n",
    "# Remove rentals\n",
    "df = df.loc[df['Contratto'] != 'Affitto', :]\n",
    "\n",
    "# Checking for and removing duplicates\n",
    "df.duplicated().sum()\n",
    "df = df.drop_duplicates()\n",
    "\n",
    "# Not in Firenze\n",
    "df = df.drop(index=[1279, 4985])"
   ]
  },
  {
   "cell_type": "markdown",
   "metadata": {},
   "source": [
    "#### Address"
   ]
  },
  {
   "cell_type": "code",
   "execution_count": 7,
   "metadata": {},
   "outputs": [],
   "source": [
    "df['Indirizzo'] = df['Indirizzo'].str.replace(\"[\",'').str.replace(\"]\",'').str.replace('\\'', '')\n",
    "\n",
    "# Manually impute missing \"Zona\"\n",
    "df.loc[df['Indirizzo'] == 'Firenze, via vittorio emanuele orlando', 'Zona'] = 'Coverciano Bellariva'\n",
    "df.loc[df['Indirizzo'] == 'Firenze, via borgo la noce', 'Zona'] = 'Centro'\n",
    "df.loc[df['Indirizzo'] == 'Firenze, via Cigoli 31', 'Zona'] = 'L Isolotto'\n",
    "df.loc[df['Indirizzo'] == 'Firenze, via impruneta per mezzomonte', 'Zona'] = 'Bellosguardo Galluzzo'\n",
    "df.loc[df['Indirizzo'] == 'Firenze, via gioberti', 'Zona'] = 'Campo Di Marte Liberta'\n",
    "df.loc[df['Indirizzo'] == 'Firenze, via dei cioli 50', 'Zona'] = 'Settignano Rovezzano'\n",
    "df.loc[df['Indirizzo'] == 'Firenze, via spinucci 1', 'Zona'] = 'Serpiolle Careggi'\n",
    "df.loc[df['Indirizzo'] == 'Firenze, \"via lungo laffrico 50\"', 'Zona'] = 'Coverciano Bellariva'\n",
    "df.loc[df['Indirizzo'] == 'Firenze, via lippi', 'Zona'] = 'Legnaia Soffiano'\n",
    "df.loc[df['Indirizzo'] == 'Firenze, cairoli', 'Zona'] = 'Campo Di Marte Liberta'\n",
    "df.loc[df['Indirizzo'] == 'Firenze, via aretina', 'Zona'] = 'Coverciano Bellariva'\n",
    "df.loc[df['Indirizzo'] == 'Firenze, via Fra Bartolommeo  40', 'Zona'] = 'Campo Di Marte Liberta'\n",
    "df.loc[df['Indirizzo'] == 'Firenze, viale don minzoni 1', 'Zona'] = 'Campo Di Marte Liberta'\n",
    "df.loc[df['Indirizzo'] == 'Firenze, viale don minzoni  1', 'Zona'] = 'Campo Di Marte Liberta'\n",
    "df.loc[df['Indirizzo'] == 'Firenze, piazza beccaria', 'Zona'] = 'Campo Di Marte Liberta'\n",
    "df.loc[df['Indirizzo'] == 'Firenze, via san zanobi', 'Zona'] = 'Centro'\n",
    "df.loc[df['Indirizzo'] == 'Firenze, Piazzale Michelangelo', 'Zona'] = 'Michelangelo Porta Romana'\n",
    "df.loc[df['Indirizzo'] == 'Firenze, Via del Paradiso', 'Zona'] = 'Zona Firenze Sud'\n",
    "df.loc[df['Indirizzo'] == 'Firenze, via di Canonica', 'Zona'] = 'Centro'\n",
    "df.loc[df['Indirizzo'] == 'Firenze, Via di Canonica', 'Zona'] = 'Centro'\n",
    "df.loc[df['Indirizzo'] == 'Firenze, Via Frusa', 'Zona'] = 'Campo Di Marte Liberta'\n",
    "df.loc[df['Indirizzo'] == 'Firenze, Via Vespucci', 'Zona'] = 'Firenze Nord'\n",
    "df.loc[df['Indirizzo'] == 'Firenze, via baracca  148', 'Zona'] = 'Firenze Nord'\n",
    "df.loc[df['Indirizzo'] == 'Firenze, via dei Tavolini 1', 'Zona'] = 'Centro'\n",
    "df.loc[df['Indirizzo'] == 'Firenze, via Pisana 980', 'Zona'] = 'Ugnano Mantignano'\n",
    "df.loc[df['Indirizzo'] == 'Firenze, VIA SENESE', 'Zona'] = 'Bellosguardo Galluzzo'\n",
    "df.loc[df['Indirizzo'] == 'Firenze, \"piazza dAzeglio\"', 'Zona'] = 'Centro'\n",
    "df.loc[df['Indirizzo'] == 'Firenze, \"Piazza dazeglio\"', 'Zona'] = 'Centro'"
   ]
  },
  {
   "cell_type": "markdown",
   "metadata": {},
   "source": [
    "#### Zona"
   ]
  },
  {
   "cell_type": "code",
   "execution_count": 8,
   "metadata": {},
   "outputs": [],
   "source": [
    "df['Zona'] = df['Zona'].fillna('Non specificato')\n",
    "\n",
    "df['Zona'] = (df['Zona']\n",
    "              .str.replace('-', ' ')\n",
    "              .str.replace('/', '')\n",
    "              .str.title())"
   ]
  },
  {
   "cell_type": "markdown",
   "metadata": {},
   "source": [
    "#### Price"
   ]
  },
  {
   "cell_type": "code",
   "execution_count": 9,
   "metadata": {},
   "outputs": [
    {
     "data": {
      "text/plain": [
       "(289, 25)"
      ]
     },
     "execution_count": 9,
     "metadata": {},
     "output_type": "execute_result"
    }
   ],
   "source": [
    "# Missing labels\n",
    "df.loc[df['Prezzo'] == 'Prezzo su richiesta', :].shape"
   ]
  },
  {
   "cell_type": "code",
   "execution_count": 10,
   "metadata": {},
   "outputs": [],
   "source": [
    "# Drop missing labels\n",
    "df = df.loc[df['Prezzo'] != 'Prezzo su richiesta', :]"
   ]
  },
  {
   "cell_type": "code",
   "execution_count": 11,
   "metadata": {},
   "outputs": [],
   "source": [
    "df['Prezzo [EUR]'] = (df['Prezzo']\n",
    "                      .str.split('€')\n",
    "                      .str[1]\n",
    "                      .str.replace('.', '')\n",
    "                      .astype('float'))"
   ]
  },
  {
   "cell_type": "code",
   "execution_count": 12,
   "metadata": {},
   "outputs": [
    {
     "data": {
      "text/plain": [
       "0"
      ]
     },
     "execution_count": 12,
     "metadata": {},
     "output_type": "execute_result"
    }
   ],
   "source": [
    "df['Prezzo [EUR]'].isna().sum()"
   ]
  },
  {
   "cell_type": "markdown",
   "metadata": {},
   "source": [
    "#### Area"
   ]
  },
  {
   "cell_type": "code",
   "execution_count": 21,
   "metadata": {},
   "outputs": [],
   "source": [
    "df['Superficie [m2]'] = df['Superficie'].copy()"
   ]
  },
  {
   "cell_type": "code",
   "execution_count": 22,
   "metadata": {},
   "outputs": [],
   "source": [
    "def extract_area(row):\n",
    "    try:\n",
    "        if '\\|' in row['Superficie']:\n",
    "            row['Superficie [m2]'] = float(re.search('(\\d+\\.?\\d*)',\n",
    "                                                   row['Superficie'].split('\\|')[1]).group(0).replace('.', ''))\n",
    "        else:\n",
    "            row['Superficie [m2]'] = float(re.search('(\\d+\\.?\\d*)',\n",
    "                                                   row['Superficie']).group(0).replace('.', ''))\n",
    "    except TypeError:\n",
    "        pass\n",
    "    return row['Superficie [m2]']"
   ]
  },
  {
   "cell_type": "code",
   "execution_count": 23,
   "metadata": {},
   "outputs": [],
   "source": [
    "df['Superficie [m2]'] = df.apply(extract_area, axis=1)"
   ]
  },
  {
   "cell_type": "code",
   "execution_count": 87,
   "metadata": {},
   "outputs": [
    {
     "data": {
      "text/plain": [
       "16000.0"
      ]
     },
     "execution_count": 87,
     "metadata": {},
     "output_type": "execute_result"
    }
   ],
   "source": [
    "# Outlier probably 240\n",
    "df['Superficie [m2]'].max()"
   ]
  },
  {
   "cell_type": "code",
   "execution_count": 88,
   "metadata": {
    "collapsed": true
   },
   "outputs": [
    {
     "data": {
      "text/plain": [
       "Immobile garantito                                                                     NaN\n",
       "Riferimento e data annuncio                                              P291 - 31/08/2020\n",
       "Contratto                                                                          Vendita\n",
       "Tipologia                                                                          Cascina\n",
       "Superficie                                                                       16.000 m²\n",
       "Locali                                   5+ (30 camere da letto; 20 altri), 3+ bagni, c...\n",
       "Piano                                                    Piano terra, con accesso disabili\n",
       "Totale piani edificio                                                                    2\n",
       "Disponibilità                                                                       Libero\n",
       "Tipo proprietà                                 Intera proprietà, classe immobile signorile\n",
       "Altre caratteristiche                    Idromassaggio\\n                \\n\\n           ...\n",
       "Posti auto                                                 2 in garage/box, 50 all'esterno\n",
       "Indirizzo                                              Firenze, Bolognese, Via di Capornia\n",
       "Zona                                                                Zona Bolognese Le Cure\n",
       "Prezzo                                                                        € 42.000.000\n",
       "Informazioni catastali                                       Classe D/10, rendita € 12.584\n",
       "Spese condominio                                                                       NaN\n",
       "Anno di costruzione                                                                   2000\n",
       "Stato                                                                    Buono / Abitabile\n",
       "Riscaldamento                                   Autonomo, a radiatori, alimentato a metano\n",
       "Climatizzazione                                                     Autonomo, freddo/caldo\n",
       "Indice prest. energetica rinnovabile                                                   NaN\n",
       "Prestazione energetica del fabbricato                                                  NaN\n",
       "Efficienza energetica                                                  G ≥ 175 kWh/m² anno\n",
       "Certificazione energetica                                                              NaN\n",
       "Prezzo [EUR]                                                                       4.2e+07\n",
       "Superficie [m2]                                                                      16000\n",
       "Tipologia di riscaldamento                                                        Autonomo\n",
       "Data annuncio                                                          2020-08-31 00:00:00\n",
       "Ascensore                                                                                0\n",
       "Numero di bagni                                                                          4\n",
       "Superficie_Bins                                                                        NaN\n",
       "Numero di altri                                                                         20\n",
       "Numero di camere da letto                                                               30\n",
       "Numero di locali                                                                         0\n",
       "Numero totale di locali                                                                 50\n",
       "Name: 9049, dtype: object"
      ]
     },
     "execution_count": 88,
     "metadata": {},
     "output_type": "execute_result"
    }
   ],
   "source": [
    "df.loc[df['Superficie [m2]'].idxmax(), :]"
   ]
  },
  {
   "cell_type": "code",
   "execution_count": 86,
   "metadata": {},
   "outputs": [],
   "source": [
    "df.loc[df['Superficie [m2]'].idxmax(), 'Superficie [m2]'] = 240"
   ]
  },
  {
   "cell_type": "code",
   "execution_count": null,
   "metadata": {},
   "outputs": [],
   "source": [
    "# Drop entries without area\n",
    "#df = df.dropna(subset=['Superficie [m2]'])"
   ]
  },
  {
   "cell_type": "markdown",
   "metadata": {},
   "source": [
    "#### State"
   ]
  },
  {
   "cell_type": "code",
   "execution_count": 26,
   "metadata": {},
   "outputs": [
    {
     "data": {
      "text/plain": [
       "(array([0, 1, 2, 3]), <a list of 4 Text xticklabel objects>)"
      ]
     },
     "execution_count": 26,
     "metadata": {},
     "output_type": "execute_result"
    },
    {
     "data": {
      "image/png": "[encoded data removed]",
      "text/plain": [
       "<Figure size 432x432 with 1 Axes>"
      ]
     },
     "metadata": {
      "needs_background": "light"
     },
     "output_type": "display_data"
    }
   ],
   "source": [
    "fig = plt.figure(figsize=(6, 6))\n",
    "sns.barplot(x=df['Stato'], y=df['Prezzo [EUR]'])\n",
    "plt.xticks(rotation=45)"
   ]
  },
  {
   "cell_type": "code",
   "execution_count": 43,
   "metadata": {},
   "outputs": [
    {
     "data": {
      "text/plain": [
       "Ottimo / Ristrutturato    4769\n",
       "Buono / Abitabile         2404\n",
       "Nuovo / In costruzione     897\n",
       "Da ristrutturare           678\n",
       "Name: Stato, dtype: int64"
      ]
     },
     "execution_count": 43,
     "metadata": {},
     "output_type": "execute_result"
    }
   ],
   "source": [
    "df['Stato'].value_counts()"
   ]
  },
  {
   "cell_type": "code",
   "execution_count": 27,
   "metadata": {},
   "outputs": [],
   "source": [
    "# Imputing \"Stato\" by most frequent as it does not seem to influence price much\n",
    "df['Stato'] = df['Stato'].fillna(df['Stato'].value_counts().index[0])"
   ]
  },
  {
   "cell_type": "markdown",
   "metadata": {},
   "source": [
    "#### Contract"
   ]
  },
  {
   "cell_type": "code",
   "execution_count": 28,
   "metadata": {},
   "outputs": [
    {
     "data": {
      "text/plain": [
       "Contratto\n",
       "Vendita                         489644.840990\n",
       "Vendita | Immobile a reddito    466355.491329\n",
       "Name: Prezzo [EUR], dtype: float64"
      ]
     },
     "execution_count": 28,
     "metadata": {},
     "output_type": "execute_result"
    }
   ],
   "source": [
    "# Looking into \"Contratto\": does it affect price?\n",
    "gb = df['Prezzo [EUR]'].groupby(df['Contratto']).agg('mean')\n",
    "gb"
   ]
  },
  {
   "cell_type": "markdown",
   "metadata": {},
   "source": [
    "#### Dropping useless columns"
   ]
  },
  {
   "cell_type": "code",
   "execution_count": null,
   "metadata": {},
   "outputs": [],
   "source": [
    "# Drop columns that have almost no entries\n",
    "# Dropping because of lack of entries\n",
    "# Dropping \"Disponibilità\" and \"Contratto\" because it is not relevant information\n",
    "df = df.drop(columns=['Immobile garantito', 'Indice prest. energetica rinnovabile',\n",
    "                      'Prestazione energetica del fabbricato', 'Certificazione energetica',\n",
    "                      'Disponibilità', 'Contratto'])"
   ]
  },
  {
   "cell_type": "markdown",
   "metadata": {},
   "source": [
    "### Feature engineering"
   ]
  },
  {
   "cell_type": "markdown",
   "metadata": {},
   "source": [
    "#### Heating"
   ]
  },
  {
   "cell_type": "code",
   "execution_count": 29,
   "metadata": {},
   "outputs": [
    {
     "data": {
      "text/plain": [
       "398"
      ]
     },
     "execution_count": 29,
     "metadata": {},
     "output_type": "execute_result"
    }
   ],
   "source": [
    "df['Riscaldamento'].isna().sum()"
   ]
  },
  {
   "cell_type": "code",
   "execution_count": 30,
   "metadata": {},
   "outputs": [],
   "source": [
    "# Create type of heating feature\n",
    "df['Tipologia di riscaldamento'] = df['Riscaldamento'].str.split(',').str[0]"
   ]
  },
  {
   "cell_type": "code",
   "execution_count": 31,
   "metadata": {},
   "outputs": [
    {
     "data": {
      "text/plain": [
       "(array([0, 1]), <a list of 2 Text xticklabel objects>)"
      ]
     },
     "execution_count": 31,
     "metadata": {},
     "output_type": "execute_result"
    },
    {
     "data": {
      "image/png": "[encoded data removed]",
      "text/plain": [
       "<Figure size 432x432 with 1 Axes>"
      ]
     },
     "metadata": {
      "needs_background": "light"
     },
     "output_type": "display_data"
    }
   ],
   "source": [
    "fig = plt.figure(figsize=(6, 6))\n",
    "sns.barplot(x=df['Tipologia di riscaldamento'], y=df['Prezzo [EUR]'])\n",
    "plt.xticks(rotation=45)"
   ]
  },
  {
   "cell_type": "code",
   "execution_count": 33,
   "metadata": {},
   "outputs": [
    {
     "data": {
      "text/plain": [
       "Autonomo         6516\n",
       "Centralizzato    1834\n",
       "Name: Tipologia di riscaldamento, dtype: int64"
      ]
     },
     "execution_count": 33,
     "metadata": {},
     "output_type": "execute_result"
    }
   ],
   "source": [
    "df['Tipologia di riscaldamento'].value_counts()"
   ]
  },
  {
   "cell_type": "code",
   "execution_count": 34,
   "metadata": {},
   "outputs": [],
   "source": [
    "# Filling heating NaNs with centralized as if not specified it is probably centralized\n",
    "df['Tipologia di riscaldamento'] = df['Tipologia di riscaldamento'].fillna('Centralizzato')"
   ]
  },
  {
   "cell_type": "markdown",
   "metadata": {},
   "source": [
    "#### Listing date"
   ]
  },
  {
   "cell_type": "code",
   "execution_count": 35,
   "metadata": {},
   "outputs": [
    {
     "data": {
      "text/plain": [
       "0       A0049 - 05/10/2020\n",
       "1      alv275 - 05/10/2020\n",
       "2    Novoli B - 05/10/2020\n",
       "3    Novoli A - 05/10/2020\n",
       "4     MAZZ328 - 05/10/2020\n",
       "Name: Riferimento e data annuncio, dtype: object"
      ]
     },
     "execution_count": 35,
     "metadata": {},
     "output_type": "execute_result"
    }
   ],
   "source": [
    "df['Riferimento e data annuncio'].head()"
   ]
  },
  {
   "cell_type": "code",
   "execution_count": 36,
   "metadata": {},
   "outputs": [],
   "source": [
    "df['Data annuncio'] = (df['Riferimento e data annuncio']\n",
    "                       .str.split('-')\n",
    "                       .str[-1]\n",
    "                       .str.strip()\n",
    "                       .astype('datetime64[D]'))"
   ]
  },
  {
   "cell_type": "markdown",
   "metadata": {},
   "source": [
    "#### Floor"
   ]
  },
  {
   "cell_type": "code",
   "execution_count": 37,
   "metadata": {
    "collapsed": true
   },
   "outputs": [
    {
     "data": {
      "text/plain": [
       "array(['1° piano', '3° piano, con ascensore', '5° piano, con ascensore',\n",
       "       'da seminterrato a 1°, con ascensore',\n",
       "       'da seminterrato a piano terra, con ascensore, con accesso disabili',\n",
       "       '3° piano', '2° piano', 'Piano terra', '1° piano, con ascensore',\n",
       "       'Piano terra, con ascensore', 'Piano rialzato',\n",
       "       'da 4° a 5°, con ascensore', '4° piano, con ascensore',\n",
       "       'Piano rialzato, con ascensore', '6° piano, con ascensore',\n",
       "       '2° piano, con ascensore, con accesso disabili', 'Seminterrato',\n",
       "       'da piano terra a piano rialzato', '2° piano, con ascensore',\n",
       "       'Piano rialzato, con ascensore, con accesso disabili',\n",
       "       '1° piano, con ascensore, con accesso disabili',\n",
       "       'Piano terra, con accesso disabili', '4° piano',\n",
       "       '3° piano, con ascensore, con accesso disabili', nan,\n",
       "       'da 5° a 6°, con ascensore',\n",
       "       '5° piano, con ascensore, con accesso disabili',\n",
       "       '7° piano, con ascensore',\n",
       "       '4°, con ascensore, con accesso disabili',\n",
       "       'da seminterrato a 5°, con ascensore',\n",
       "       'Piano terra, con ascensore, con accesso disabili',\n",
       "       'Piano rialzato, con accesso disabili', 'da piano terra a 2°',\n",
       "       'da piano terra a 1°', 'da 1° a 2°', '1°',\n",
       "       'da interrato a 1°, con ascensore, con accesso disabili',\n",
       "       'da seminterrato a 1°, con ascensore, con accesso disabili',\n",
       "       'da seminterrato a 4°, con ascensore, con accesso disabili',\n",
       "       'da seminterrato a 2°, con ascensore, con accesso disabili',\n",
       "       'da seminterrato a piano terra', 'da 1° a 2°, con ascensore',\n",
       "       '6°, con ascensore', '6°, con ascensore, con accesso disabili',\n",
       "       '2°', '1° piano, con accesso disabili', '5° piano',\n",
       "       '1°, con ascensore, con accesso disabili',\n",
       "       'da 6° a 7°, con ascensore',\n",
       "       '4° piano, con ascensore, con accesso disabili',\n",
       "       'da interrato a 1°, con ascensore',\n",
       "       'da interrato a piano rialzato, con accesso disabili',\n",
       "       '5°, con ascensore, con accesso disabili', '2°, con ascensore',\n",
       "       '3°, con ascensore',\n",
       "       '6° piano, con ascensore, con accesso disabili',\n",
       "       'Su più livelli, con ascensore', '1°, con ascensore',\n",
       "       'da seminterrato a 3°, con ascensore, con accesso disabili',\n",
       "       'Ammezzato', 'Su più livelli', '5°, con ascensore',\n",
       "       '2°, con ascensore, con accesso disabili',\n",
       "       'da 2° a 3°, con ascensore', 'da seminterrato a 1°',\n",
       "       'da seminterrato a 4°, con ascensore',\n",
       "       'Seminterrato, con ascensore, con accesso disabili', '2°, 4°',\n",
       "       'da seminterrato a piano rialzato, con ascensore',\n",
       "       '4°, con ascensore', 'da 2° a 3°', '7°, con ascensore',\n",
       "       'da seminterrato a 2°, con ascensore',\n",
       "       'da piano terra a 5°, con ascensore',\n",
       "       '3°, con ascensore, con accesso disabili',\n",
       "       '8° piano, con ascensore', '3°',\n",
       "       'da piano terra a 4°, con ascensore',\n",
       "       'da piano terra a piano rialzato, con ascensore',\n",
       "       '8°, con ascensore, con accesso disabili',\n",
       "       'da seminterrato a piano rialzato, con ascensore, con accesso disabili',\n",
       "       'da seminterrato a 2°', 'da seminterrato a 3°, con ascensore',\n",
       "       'da piano terra a 3°, con ascensore, con accesso disabili',\n",
       "       'da piano terra a 5°, con ascensore, con accesso disabili',\n",
       "       'da piano terra a 1°, con ascensore, con accesso disabili',\n",
       "       '6° piano', 'Seminterrato, con ascensore',\n",
       "       'da piano terra a 1°, con accesso disabili',\n",
       "       'Interrato, con ascensore', 'da ammezzato a 3°',\n",
       "       'da piano terra a 3°', 'da 3° a 4°', 'da ammezzato a 1°',\n",
       "       'da interrato a 1°, con accesso disabili', '4°',\n",
       "       'da interrato a piano rialzato, con ascensore',\n",
       "       'Seminterrato, con accesso disabili',\n",
       "       'da interrato a 5°, con ascensore, con accesso disabili',\n",
       "       'Interrato (-2), con ascensore', 'da interrato a 2°',\n",
       "       'da interrato a piano terra', 'da 1° a 3°',\n",
       "       'da piano terra a 1°, con ascensore',\n",
       "       'da seminterrato a ammezzato',\n",
       "       'da interrato a 4°, con ascensore, con accesso disabili',\n",
       "       'da seminterrato a 2°, con accesso disabili',\n",
       "       'da piano terra a 2°, con ascensore', '1°, con accesso disabili',\n",
       "       '8° piano, con ascensore, con accesso disabili',\n",
       "       'da seminterrato a 5°, con ascensore, con accesso disabili',\n",
       "       '7° piano, con ascensore, con accesso disabili',\n",
       "       'da piano terra a 2°, con ascensore, con accesso disabili',\n",
       "       '3°, 7°, con ascensore, con accesso disabili',\n",
       "       'da interrato a piano rialzato',\n",
       "       'da 6° a 7°, con ascensore, con accesso disabili',\n",
       "       'da interrato a 2°, con ascensore', 'Ammezzato, con ascensore',\n",
       "       'da piano terra a su più livelli', 'da seminterrato a 3°',\n",
       "       '1°, Ultimo, con ascensore, con accesso disabili',\n",
       "       'da piano terra a ultimo', 'Ultimo piano, con ascensore',\n",
       "       'da seminterrato a 4°',\n",
       "       'Ultimo piano, con ascensore, con accesso disabili',\n",
       "       'Ultimo piano',\n",
       "       'da seminterrato a 7°, con ascensore, con accesso disabili',\n",
       "       'da piano rialzato a 1°, con ascensore, con accesso disabili',\n",
       "       '1°, Ultimo, con ascensore', 'Ultimo',\n",
       "       'Ultimo, con ascensore, con accesso disabili', '7°',\n",
       "       'da interrato a 4°, con ascensore', '8°, con ascensore',\n",
       "       'Scantinato, 1°, >10',\n",
       "       'da seminterrato a 1°, con accesso disabili',\n",
       "       'da piano terra a piano rialzato, con accesso disabili',\n",
       "       'Interrato', '2°, con accesso disabili',\n",
       "       'da interrato a 3°, con ascensore',\n",
       "       'da seminterrato a piano terra, con accesso disabili',\n",
       "       'da 3° a 4°, con ascensore, con accesso disabili',\n",
       "       'da seminterrato a piano terra, con ascensore',\n",
       "       'da 3° a 4°, con ascensore',\n",
       "       'da piano terra a ultimo, con ascensore, con accesso disabili',\n",
       "       'da piano rialzato a 2°, con ascensore', 'da interrato a 3°',\n",
       "       'da interrato a 3°, con ascensore, con accesso disabili',\n",
       "       'da interrato a ultimo', 'Scantinato, da piano terra a 1°, Ultimo',\n",
       "       'da 1° a 2°, con ascensore, con accesso disabili',\n",
       "       '2° piano, con accesso disabili', '1°, Ultimo',\n",
       "       'da interrato a piano terra, con ascensore',\n",
       "       'da seminterrato a ultimo', 'da seminterrato a 6°, con ascensore',\n",
       "       'da 4° a 5°', 'da piano terra a 2°, con accesso disabili',\n",
       "       'da interrato a 2°, con ascensore, con accesso disabili',\n",
       "       'da seminterrato a piano rialzato',\n",
       "       'da interrato a 2°, con accesso disabili',\n",
       "       'da piano terra a 7°, con ascensore, con accesso disabili',\n",
       "       '3°, 6°, con ascensore', 'da piano rialzato a 1°',\n",
       "       '2°, 5°, con ascensore',\n",
       "       'da piano terra a 4°, con ascensore, con accesso disabili',\n",
       "       '2°, Ultimo', '8°, Ultimo, con ascensore',\n",
       "       'da 1° a 2°, Ultimo, con accesso disabili',\n",
       "       'da piano terra a 3°, con accesso disabili',\n",
       "       '7°, con ascensore, con accesso disabili', 'da interrato a 1°',\n",
       "       '7° piano', 'da 5° a 6°, con ascensore, con accesso disabili',\n",
       "       '3°, Ultimo, con ascensore, con accesso disabili',\n",
       "       'Ultimo piano, con accesso disabili',\n",
       "       'da seminterrato a piano rialzato, con accesso disabili',\n",
       "       'da interrato a 6°, con ascensore',\n",
       "       '9°, con ascensore, con accesso disabili',\n",
       "       'da piano terra a 4°, Ultimo, con ascensore, con accesso disabili',\n",
       "       'Oltre il decimo piano, con ascensore, con accesso disabili',\n",
       "       'da piano terra a ammezzato',\n",
       "       'da piano terra a 1°, Ultimo, con ascensore, con accesso disabili',\n",
       "       'da piano terra a ammezzato, con ascensore',\n",
       "       'Oltre il decimo piano, con ascensore',\n",
       "       'da piano terra a 3°, con ascensore', 'Ultimo, con ascensore',\n",
       "       '10° piano, con ascensore', 'da piano terra a 7°, con ascensore',\n",
       "       '9° piano, con ascensore', 'da piano terra a 1°, Ultimo',\n",
       "       'da piano terra a 1°, Ultimo, con accesso disabili',\n",
       "       '4° piano, con accesso disabili',\n",
       "       'Scantinato, Piano terra, con ascensore',\n",
       "       'da interrato a su più livelli, con ascensore',\n",
       "       '4°, 6°, con ascensore',\n",
       "       'da piano terra a 1°, Ultimo, con ascensore',\n",
       "       '2°, 4°, con ascensore'], dtype=object)"
      ]
     },
     "execution_count": 37,
     "metadata": {},
     "output_type": "execute_result"
    }
   ],
   "source": [
    "df['Piano'].unique()"
   ]
  },
  {
   "cell_type": "code",
   "execution_count": 38,
   "metadata": {},
   "outputs": [],
   "source": [
    "mask = df['Piano'].str.match(r'(.*ascensore.*)')\n",
    "\n",
    "df['Ascensore'] = mask.astype('float')"
   ]
  },
  {
   "cell_type": "code",
   "execution_count": 39,
   "metadata": {},
   "outputs": [],
   "source": [
    "df['Totale piani edificio'] = (df['Totale piani edificio']\n",
    "                               .str.split(' ')\n",
    "                               .str[0]\n",
    "                               .astype('float'))"
   ]
  },
  {
   "cell_type": "code",
   "execution_count": 40,
   "metadata": {},
   "outputs": [
    {
     "data": {
      "text/plain": [
       "649"
      ]
     },
     "execution_count": 40,
     "metadata": {},
     "output_type": "execute_result"
    }
   ],
   "source": [
    "df['Totale piani edificio'].isna().sum()"
   ]
  },
  {
   "cell_type": "code",
   "execution_count": 41,
   "metadata": {},
   "outputs": [
    {
     "data": {
      "text/plain": [
       "'Giardino privato\\n                \\n\\n                    Esposizione doppia'"
      ]
     },
     "execution_count": 41,
     "metadata": {},
     "output_type": "execute_result"
    }
   ],
   "source": [
    "df['Altre caratteristiche'].str.replace('\\n', ';')\n",
    "df['Altre caratteristiche'].unique()[10]"
   ]
  },
  {
   "cell_type": "markdown",
   "metadata": {},
   "source": [
    "#### Number of rooms and toilets"
   ]
  },
  {
   "cell_type": "code",
   "execution_count": 44,
   "metadata": {},
   "outputs": [],
   "source": [
    "# Create number of rooms feature\n",
    "pat = r'\\(.*\\)'\n",
    "repl = lambda m: m.group(0).replace(',', ';')\n",
    "\n",
    "df['Locali'] = df['Locali'].str.replace(pat, repl)"
   ]
  },
  {
   "cell_type": "code",
   "execution_count": 45,
   "metadata": {},
   "outputs": [
    {
     "data": {
      "text/plain": [
       "1.0    4428\n",
       "2.0    2992\n",
       "3.0     780\n",
       "4.0     442\n",
       "0.0     106\n",
       "Name: Numero di bagni, dtype: int64"
      ]
     },
     "execution_count": 45,
     "metadata": {},
     "output_type": "execute_result"
    }
   ],
   "source": [
    "# Toilets\n",
    "df['Numero di bagni'] = (df['Locali']\n",
    "                         .str.findall(r'(\\d\\+? bagn\\w)')\n",
    "                         .str[0]\n",
    "                         .str.split(' ')\n",
    "                         .str[0])\n",
    "\n",
    "df.loc[df['Numero di bagni'].isna(), 'Numero di bagni'] = 0\n",
    "df.loc[df['Numero di bagni'] == '3+', 'Numero di bagni'] = 4 # Set 3+ toilets to 4\n",
    "df['Numero di bagni'] = df['Numero di bagni'].astype('float')\n",
    "\n",
    "df['Numero di bagni'].value_counts()"
   ]
  },
  {
   "cell_type": "code",
   "execution_count": 46,
   "metadata": {},
   "outputs": [
    {
     "data": {
      "text/plain": [
       "<matplotlib.axes._subplots.AxesSubplot at 0x7fa2f3bf85d0>"
      ]
     },
     "execution_count": 46,
     "metadata": {},
     "output_type": "execute_result"
    },
    {
     "data": {
      "image/png": "[encoded data removed]",
      "text/plain": [
       "<Figure size 432x288 with 1 Axes>"
      ]
     },
     "metadata": {
      "needs_background": "light"
     },
     "output_type": "display_data"
    }
   ],
   "source": [
    "sns.barplot(x=df['Numero di bagni'].value_counts().index, y=df['Numero di bagni'].value_counts())"
   ]
  },
  {
   "cell_type": "code",
   "execution_count": 47,
   "metadata": {
    "scrolled": true
   },
   "outputs": [
    {
     "data": {
      "text/plain": [
       "99      120.0\n",
       "119     500.0\n",
       "329     250.0\n",
       "409      95.0\n",
       "441     200.0\n",
       "        ...  \n",
       "8657    350.0\n",
       "8755     58.0\n",
       "8773     21.0\n",
       "8960    172.0\n",
       "9041    200.0\n",
       "Name: Superficie [m2], Length: 106, dtype: float64"
      ]
     },
     "execution_count": 47,
     "metadata": {},
     "output_type": "execute_result"
    }
   ],
   "source": [
    "df.loc[df['Numero di bagni'] == 0, 'Superficie [m2]']"
   ]
  },
  {
   "cell_type": "code",
   "execution_count": 48,
   "metadata": {},
   "outputs": [],
   "source": [
    "df['Superficie_Bins'] = pd.cut(df['Superficie [m2]'], bins=[0, 60, 80, 100, 120, 160, 200, 10000])"
   ]
  },
  {
   "cell_type": "code",
   "execution_count": 49,
   "metadata": {},
   "outputs": [
    {
     "data": {
      "text/plain": [
       "[(0.0, 60.0], (60.0, 80.0], (80.0, 100.0], (100.0, 120.0], (120.0, 160.0], (200.0, 10000.0], (160.0, 200.0], NaN]\n",
       "Categories (7, interval[int64]): [(0, 60] < (60, 80] < (80, 100] < (100, 120] < (120, 160] < (160, 200] < (200, 10000]]"
      ]
     },
     "execution_count": 49,
     "metadata": {},
     "output_type": "execute_result"
    }
   ],
   "source": [
    "df['Superficie_Bins'].unique()"
   ]
  },
  {
   "cell_type": "code",
   "execution_count": 50,
   "metadata": {},
   "outputs": [
    {
     "data": {
      "text/plain": [
       "(array([0, 1, 2, 3, 4, 5, 6]), <a list of 7 Text xticklabel objects>)"
      ]
     },
     "execution_count": 50,
     "metadata": {},
     "output_type": "execute_result"
    },
    {
     "data": {
      "image/png": "[encoded data removed]",
      "text/plain": [
       "<Figure size 432x432 with 1 Axes>"
      ]
     },
     "metadata": {
      "needs_background": "light"
     },
     "output_type": "display_data"
    }
   ],
   "source": [
    "fig = plt.figure(figsize=(6, 6))\n",
    "sns.barplot(x=df['Superficie_Bins'], y=df['Numero di bagni'])\n",
    "plt.xticks(rotation=45)"
   ]
  },
  {
   "cell_type": "code",
   "execution_count": 51,
   "metadata": {},
   "outputs": [
    {
     "data": {
      "text/plain": [
       "Superficie_Bins\n",
       "(0, 60]         1.0\n",
       "(60, 80]        1.0\n",
       "(80, 100]       1.0\n",
       "(100, 120]      2.0\n",
       "(120, 160]      2.0\n",
       "(160, 200]      2.0\n",
       "(200, 10000]    4.0\n",
       "Name: Numero di bagni, dtype: float64"
      ]
     },
     "execution_count": 51,
     "metadata": {},
     "output_type": "execute_result"
    }
   ],
   "source": [
    "df.groupby(['Superficie_Bins'])['Numero di bagni'].agg(lambda x:x.value_counts().index[0])"
   ]
  },
  {
   "cell_type": "code",
   "execution_count": 52,
   "metadata": {},
   "outputs": [],
   "source": [
    "# Imputing number of toilets based on area bins\n",
    "for area in df['Superficie_Bins'].unique():\n",
    "    mask = df['Superficie_Bins'] == area\n",
    "    df.loc[mask & (df['Numero di bagni'] == 0), 'Numero di bagni'] = df.loc[mask, 'Numero di bagni'].mode().values"
   ]
  },
  {
   "cell_type": "code",
   "execution_count": 53,
   "metadata": {},
   "outputs": [],
   "source": [
    "df['Numero di altri'] = (df['Locali']\n",
    "                         .str.findall(r'(\\d?\\d\\+? altr\\w)')\n",
    "                         .str[0]\n",
    "                         .str.split(' ')\n",
    "                         .str[0]\n",
    "                         .astype('float'))\n",
    "df.loc[df['Numero di altri'].isna(), 'Numero di altri'] = 0"
   ]
  },
  {
   "cell_type": "code",
   "execution_count": 54,
   "metadata": {},
   "outputs": [],
   "source": [
    "df['Numero di camere da letto'] = (df['Locali']\n",
    "                                   .str.findall(r'(\\d?\\d\\+? camer\\w da letto)')\n",
    "                                   .str[0]\n",
    "                                   .str.split(' ')\n",
    "                                   .str[0]\n",
    "                                   .astype('float'))\n",
    "df.loc[df['Numero di camere da letto'].isna(), 'Numero di camere da letto'] = 0"
   ]
  },
  {
   "cell_type": "code",
   "execution_count": 55,
   "metadata": {},
   "outputs": [],
   "source": [
    "df['Numero di locali'] = (df['Locali']\n",
    "                          .str.findall(r'(\\d?\\d\\+? local\\w)')\n",
    "                          .str[0]\n",
    "                          .str.split(' ')\n",
    "                          .str[0]\n",
    "                          .astype('float'))\n",
    "df.loc[df['Numero di locali'].isna(), 'Numero di locali'] = 0"
   ]
  },
  {
   "cell_type": "code",
   "execution_count": 56,
   "metadata": {},
   "outputs": [],
   "source": [
    "df['Numero totale di locali'] = df['Numero di locali'] + df['Numero di camere da letto'] + df['Numero di altri']"
   ]
  },
  {
   "cell_type": "code",
   "execution_count": 57,
   "metadata": {},
   "outputs": [
    {
     "data": {
      "text/plain": [
       "0"
      ]
     },
     "execution_count": 57,
     "metadata": {},
     "output_type": "execute_result"
    }
   ],
   "source": [
    "df['Numero totale di locali'].isna().sum()"
   ]
  },
  {
   "cell_type": "code",
   "execution_count": 58,
   "metadata": {
    "scrolled": false
   },
   "outputs": [
    {
     "data": {
      "text/plain": [
       "(13, 36)"
      ]
     },
     "execution_count": 58,
     "metadata": {},
     "output_type": "execute_result"
    }
   ],
   "source": [
    "df.loc[df['Locali'].isna(), :].shape"
   ]
  },
  {
   "cell_type": "code",
   "execution_count": 59,
   "metadata": {},
   "outputs": [
    {
     "data": {
      "text/plain": [
       "(array([0, 1, 2, 3, 4, 5, 6]), <a list of 7 Text xticklabel objects>)"
      ]
     },
     "execution_count": 59,
     "metadata": {},
     "output_type": "execute_result"
    },
    {
     "data": {
      "image/png": "[encoded data removed]",
      "text/plain": [
       "<Figure size 432x432 with 1 Axes>"
      ]
     },
     "metadata": {
      "needs_background": "light"
     },
     "output_type": "display_data"
    }
   ],
   "source": [
    "fig = plt.figure(figsize=(6, 6))\n",
    "sns.barplot(x=df['Superficie_Bins'], y=df['Numero totale di locali'])\n",
    "plt.xticks(rotation=45)"
   ]
  },
  {
   "cell_type": "code",
   "execution_count": 60,
   "metadata": {},
   "outputs": [],
   "source": [
    "# Imputing number of rooms based on area bins\n",
    "for area in df['Superficie_Bins'].unique():\n",
    "    mask = df['Superficie_Bins'] == area\n",
    "    df.loc[mask & (df['Numero totale di locali'] == 0),\n",
    "           'Numero totale di locali'] = df.loc[mask, 'Numero totale di locali'].mode().values"
   ]
  },
  {
   "cell_type": "code",
   "execution_count": 61,
   "metadata": {},
   "outputs": [
    {
     "data": {
      "text/plain": [
       "Series([], Name: Numero totale di locali, dtype: float64)"
      ]
     },
     "execution_count": 61,
     "metadata": {},
     "output_type": "execute_result"
    }
   ],
   "source": [
    "df.loc[mask & (df['Numero totale di locali'] == 0), 'Numero totale di locali']"
   ]
  },
  {
   "cell_type": "code",
   "execution_count": 62,
   "metadata": {},
   "outputs": [
    {
     "data": {
      "text/plain": [
       "(0, 36)"
      ]
     },
     "execution_count": 62,
     "metadata": {},
     "output_type": "execute_result"
    }
   ],
   "source": [
    "df.loc[df['Numero totale di locali'].isna(), :].shape"
   ]
  },
  {
   "cell_type": "code",
   "execution_count": 63,
   "metadata": {
    "scrolled": true
   },
   "outputs": [
    {
     "name": "stdout",
     "output_type": "stream",
     "text": [
      "<class 'pandas.core.frame.DataFrame'>\n",
      "Int64Index: 8748 entries, 0 to 9062\n",
      "Data columns (total 36 columns):\n",
      " #   Column                                 Non-Null Count  Dtype         \n",
      "---  ------                                 --------------  -----         \n",
      " 0   Immobile garantito                     3719 non-null   object        \n",
      " 1   Riferimento e data annuncio            8748 non-null   object        \n",
      " 2   Contratto                              8748 non-null   object        \n",
      " 3   Tipologia                              8748 non-null   object        \n",
      " 4   Superficie                             8742 non-null   object        \n",
      " 5   Locali                                 8735 non-null   object        \n",
      " 6   Piano                                  8583 non-null   object        \n",
      " 7   Totale piani edificio                  8099 non-null   float64       \n",
      " 8   Disponibilità                          7800 non-null   object        \n",
      " 9   Tipo proprietà                         8292 non-null   object        \n",
      " 10  Altre caratteristiche                  8190 non-null   object        \n",
      " 11  Posti auto                             2150 non-null   object        \n",
      " 12  Indirizzo                              8748 non-null   object        \n",
      " 13  Zona                                   8748 non-null   object        \n",
      " 14  Prezzo                                 8748 non-null   object        \n",
      " 15  Informazioni catastali                 5632 non-null   object        \n",
      " 16  Spese condominio                       5126 non-null   object        \n",
      " 17  Anno di costruzione                    6348 non-null   float64       \n",
      " 18  Stato                                  8748 non-null   object        \n",
      " 19  Riscaldamento                          8350 non-null   object        \n",
      " 20  Climatizzazione                        4759 non-null   object        \n",
      " 21  Indice prest. energetica rinnovabile   275 non-null    object        \n",
      " 22  Prestazione energetica del fabbricato  570 non-null    object        \n",
      " 23  Efficienza energetica                  7548 non-null   object        \n",
      " 24  Certificazione energetica              1312 non-null   object        \n",
      " 25  Prezzo [EUR]                           8748 non-null   float64       \n",
      " 26  Superficie [m2]                        8742 non-null   float64       \n",
      " 27  Tipologia di riscaldamento             8748 non-null   object        \n",
      " 28  Data annuncio                          8748 non-null   datetime64[ns]\n",
      " 29  Ascensore                              8583 non-null   float64       \n",
      " 30  Numero di bagni                        8748 non-null   float64       \n",
      " 31  Superficie_Bins                        8739 non-null   category      \n",
      " 32  Numero di altri                        8748 non-null   float64       \n",
      " 33  Numero di camere da letto              8748 non-null   float64       \n",
      " 34  Numero di locali                       8748 non-null   float64       \n",
      " 35  Numero totale di locali                8748 non-null   float64       \n",
      "dtypes: category(1), datetime64[ns](1), float64(10), object(24)\n",
      "memory usage: 2.7+ MB\n"
     ]
    }
   ],
   "source": [
    "df.info()"
   ]
  },
  {
   "cell_type": "markdown",
   "metadata": {},
   "source": [
    "### Selecting final features"
   ]
  },
  {
   "cell_type": "code",
   "execution_count": 89,
   "metadata": {},
   "outputs": [],
   "source": [
    "df_final = df[['Data annuncio', 'Zona', 'Prezzo [EUR]', 'Tipologia', 'Superficie [m2]',\n",
    "               'Numero totale di locali', 'Numero di bagni', 'Stato', 'Tipologia di riscaldamento']]"
   ]
  },
  {
   "cell_type": "code",
   "execution_count": 90,
   "metadata": {},
   "outputs": [
    {
     "name": "stdout",
     "output_type": "stream",
     "text": [
      "<class 'pandas.core.frame.DataFrame'>\n",
      "Int64Index: 8748 entries, 0 to 9062\n",
      "Data columns (total 9 columns):\n",
      " #   Column                      Non-Null Count  Dtype         \n",
      "---  ------                      --------------  -----         \n",
      " 0   Data annuncio               8748 non-null   datetime64[ns]\n",
      " 1   Zona                        8748 non-null   object        \n",
      " 2   Prezzo [EUR]                8748 non-null   float64       \n",
      " 3   Tipologia                   8748 non-null   object        \n",
      " 4   Superficie [m2]             8742 non-null   float64       \n",
      " 5   Numero totale di locali     8748 non-null   float64       \n",
      " 6   Numero di bagni             8748 non-null   float64       \n",
      " 7   Stato                       8748 non-null   object        \n",
      " 8   Tipologia di riscaldamento  8748 non-null   object        \n",
      "dtypes: datetime64[ns](1), float64(4), object(4)\n",
      "memory usage: 1003.4+ KB\n"
     ]
    }
   ],
   "source": [
    "df_final.info()"
   ]
  },
  {
   "cell_type": "code",
   "execution_count": 91,
   "metadata": {},
   "outputs": [
    {
     "data": {
      "text/html": [
       "<div>\n",
       "<style scoped>\n",
       "    .dataframe tbody tr th:only-of-type {\n",
       "        vertical-align: middle;\n",
       "    }\n",
       "\n",
       "    .dataframe tbody tr th {\n",
       "        vertical-align: top;\n",
       "    }\n",
       "\n",
       "    .dataframe thead th {\n",
       "        text-align: right;\n",
       "    }\n",
       "</style>\n",
       "<table border=\"1\" class=\"dataframe\">\n",
       "  <thead>\n",
       "    <tr style=\"text-align: right;\">\n",
       "      <th></th>\n",
       "      <th>Data annuncio</th>\n",
       "      <th>Zona</th>\n",
       "      <th>Prezzo [EUR]</th>\n",
       "      <th>Tipologia</th>\n",
       "      <th>Superficie [m2]</th>\n",
       "      <th>Numero totale di locali</th>\n",
       "      <th>Numero di bagni</th>\n",
       "      <th>Stato</th>\n",
       "      <th>Tipologia di riscaldamento</th>\n",
       "    </tr>\n",
       "  </thead>\n",
       "  <tbody>\n",
       "    <tr>\n",
       "      <th>5541</th>\n",
       "      <td>2020-09-28</td>\n",
       "      <td>Campo Di Marte Liberta</td>\n",
       "      <td>495000.0</td>\n",
       "      <td>Appartamento</td>\n",
       "      <td>NaN</td>\n",
       "      <td>6.0</td>\n",
       "      <td>3.0</td>\n",
       "      <td>Nuovo / In costruzione</td>\n",
       "      <td>Autonomo</td>\n",
       "    </tr>\n",
       "    <tr>\n",
       "      <th>5543</th>\n",
       "      <td>2020-09-28</td>\n",
       "      <td>Campo Di Marte Liberta</td>\n",
       "      <td>695000.0</td>\n",
       "      <td>Appartamento</td>\n",
       "      <td>NaN</td>\n",
       "      <td>6.0</td>\n",
       "      <td>2.0</td>\n",
       "      <td>Nuovo / In costruzione</td>\n",
       "      <td>Autonomo</td>\n",
       "    </tr>\n",
       "    <tr>\n",
       "      <th>5544</th>\n",
       "      <td>2020-09-28</td>\n",
       "      <td>Campo Di Marte Liberta</td>\n",
       "      <td>565000.0</td>\n",
       "      <td>Appartamento</td>\n",
       "      <td>NaN</td>\n",
       "      <td>4.0</td>\n",
       "      <td>3.0</td>\n",
       "      <td>Nuovo / In costruzione</td>\n",
       "      <td>Centralizzato</td>\n",
       "    </tr>\n",
       "    <tr>\n",
       "      <th>5850</th>\n",
       "      <td>2020-04-21</td>\n",
       "      <td>Zona Bolognese Le Cure</td>\n",
       "      <td>1560000.0</td>\n",
       "      <td>Appartamento</td>\n",
       "      <td>NaN</td>\n",
       "      <td>5.0</td>\n",
       "      <td>2.0</td>\n",
       "      <td>Ottimo / Ristrutturato</td>\n",
       "      <td>Autonomo</td>\n",
       "    </tr>\n",
       "    <tr>\n",
       "      <th>5879</th>\n",
       "      <td>2020-07-29</td>\n",
       "      <td>Zona Bolognese Le Cure</td>\n",
       "      <td>1700000.0</td>\n",
       "      <td>Villa unifamiliare</td>\n",
       "      <td>NaN</td>\n",
       "      <td>8.0</td>\n",
       "      <td>4.0</td>\n",
       "      <td>Ottimo / Ristrutturato</td>\n",
       "      <td>Autonomo</td>\n",
       "    </tr>\n",
       "    <tr>\n",
       "      <th>5897</th>\n",
       "      <td>2020-04-21</td>\n",
       "      <td>Bellosguardo Galluzzo</td>\n",
       "      <td>3300000.0</td>\n",
       "      <td>Villa unifamiliare</td>\n",
       "      <td>NaN</td>\n",
       "      <td>5.0</td>\n",
       "      <td>4.0</td>\n",
       "      <td>Ottimo / Ristrutturato</td>\n",
       "      <td>Autonomo</td>\n",
       "    </tr>\n",
       "  </tbody>\n",
       "</table>\n",
       "</div>"
      ],
      "text/plain": [
       "     Data annuncio                    Zona  Prezzo [EUR]           Tipologia  \\\n",
       "5541    2020-09-28  Campo Di Marte Liberta      495000.0        Appartamento   \n",
       "5543    2020-09-28  Campo Di Marte Liberta      695000.0        Appartamento   \n",
       "5544    2020-09-28  Campo Di Marte Liberta      565000.0        Appartamento   \n",
       "5850    2020-04-21  Zona Bolognese Le Cure     1560000.0        Appartamento   \n",
       "5879    2020-07-29  Zona Bolognese Le Cure     1700000.0  Villa unifamiliare   \n",
       "5897    2020-04-21   Bellosguardo Galluzzo     3300000.0  Villa unifamiliare   \n",
       "\n",
       "      Superficie [m2]  Numero totale di locali  Numero di bagni  \\\n",
       "5541              NaN                      6.0              3.0   \n",
       "5543              NaN                      6.0              2.0   \n",
       "5544              NaN                      4.0              3.0   \n",
       "5850              NaN                      5.0              2.0   \n",
       "5879              NaN                      8.0              4.0   \n",
       "5897              NaN                      5.0              4.0   \n",
       "\n",
       "                       Stato Tipologia di riscaldamento  \n",
       "5541  Nuovo / In costruzione                   Autonomo  \n",
       "5543  Nuovo / In costruzione                   Autonomo  \n",
       "5544  Nuovo / In costruzione              Centralizzato  \n",
       "5850  Ottimo / Ristrutturato                   Autonomo  \n",
       "5879  Ottimo / Ristrutturato                   Autonomo  \n",
       "5897  Ottimo / Ristrutturato                   Autonomo  "
      ]
     },
     "execution_count": 91,
     "metadata": {},
     "output_type": "execute_result"
    }
   ],
   "source": [
    "df_final.loc[df_final['Superficie [m2]'].isna(), :]"
   ]
  },
  {
   "cell_type": "code",
   "execution_count": 67,
   "metadata": {},
   "outputs": [
    {
     "data": {
      "text/plain": [
       "(array([ 0,  1,  2,  3,  4,  5,  6,  7,  8,  9, 10, 11, 12, 13, 14, 15, 16,\n",
       "        17, 18, 19, 20, 21, 22, 23, 24, 25, 26, 27, 28, 29]),\n",
       " <a list of 30 Text xticklabel objects>)"
      ]
     },
     "execution_count": 67,
     "metadata": {},
     "output_type": "execute_result"
    },
    {
     "data": {
      "image/png": "[encoded data removed]",
      "text/plain": [
       "<Figure size 720x720 with 1 Axes>"
      ]
     },
     "metadata": {
      "needs_background": "light"
     },
     "output_type": "display_data"
    }
   ],
   "source": [
    "fig = plt.figure(figsize=(10, 10))\n",
    "sns.barplot(x=df_final['Numero totale di locali'], y=df_final['Superficie [m2]'])\n",
    "plt.xticks(rotation=90)"
   ]
  },
  {
   "cell_type": "code",
   "execution_count": 92,
   "metadata": {},
   "outputs": [
    {
     "data": {
      "text/plain": [
       "(array([  0.,  50., 100., 150., 200., 250., 300., 350., 400., 450., 500.]),\n",
       " <a list of 11 Text xticklabel objects>)"
      ]
     },
     "execution_count": 92,
     "metadata": {},
     "output_type": "execute_result"
    },
    {
     "data": {
      "image/png": "[encoded data removed]",
      "text/plain": [
       "<Figure size 432x432 with 1 Axes>"
      ]
     },
     "metadata": {
      "needs_background": "light"
     },
     "output_type": "display_data"
    }
   ],
   "source": [
    "fig = plt.figure(figsize=(6, 6))\n",
    "sns.distplot(df_final.loc[df_final['Numero totale di locali'] == 6, 'Superficie [m2]'])\n",
    "plt.xticks(rotation=90)"
   ]
  },
  {
   "cell_type": "code",
   "execution_count": 93,
   "metadata": {},
   "outputs": [
    {
     "name": "stderr",
     "output_type": "stream",
     "text": [
      "/home/matteo@COPPET/anaconda3/lib/python3.7/site-packages/pandas/core/indexing.py:966: SettingWithCopyWarning: \n",
      "A value is trying to be set on a copy of a slice from a DataFrame.\n",
      "Try using .loc[row_indexer,col_indexer] = value instead\n",
      "\n",
      "See the caveats in the documentation: https://pandas.pydata.org/pandas-docs/stable/user_guide/indexing.html#returning-a-view-versus-a-copy\n",
      "  self.obj[item] = s\n"
     ]
    }
   ],
   "source": [
    "# Imputing area based on total number of rooms\n",
    "for rooms in df_final['Numero totale di locali'].unique():\n",
    "    mask = df_final['Numero totale di locali'] == rooms\n",
    "    df_final.loc[mask & (df_final['Superficie [m2]'].isna()),\n",
    "                 'Superficie [m2]'] = df_final.loc[mask, 'Superficie [m2]'].mean()"
   ]
  },
  {
   "cell_type": "code",
   "execution_count": 94,
   "metadata": {},
   "outputs": [
    {
     "data": {
      "text/plain": [
       "array([ 2.,  3.,  4.,  5.,  8., 10.,  6.,  9.,  1.,  7., 13., 11., 17.,\n",
       "       12., 18., 14., 28., 20., 16., 19., 30., 35., 15., 47., 31., 25.,\n",
       "       21., 24., 22., 50.])"
      ]
     },
     "execution_count": 94,
     "metadata": {},
     "output_type": "execute_result"
    }
   ],
   "source": [
    "df_final['Numero totale di locali'].unique()"
   ]
  },
  {
   "cell_type": "code",
   "execution_count": 95,
   "metadata": {},
   "outputs": [
    {
     "name": "stdout",
     "output_type": "stream",
     "text": [
      "<class 'pandas.core.frame.DataFrame'>\n",
      "Int64Index: 8748 entries, 0 to 9062\n",
      "Data columns (total 9 columns):\n",
      " #   Column                      Non-Null Count  Dtype         \n",
      "---  ------                      --------------  -----         \n",
      " 0   Data annuncio               8748 non-null   datetime64[ns]\n",
      " 1   Zona                        8748 non-null   object        \n",
      " 2   Prezzo [EUR]                8748 non-null   float64       \n",
      " 3   Tipologia                   8748 non-null   object        \n",
      " 4   Superficie [m2]             8748 non-null   float64       \n",
      " 5   Numero totale di locali     8748 non-null   float64       \n",
      " 6   Numero di bagni             8748 non-null   float64       \n",
      " 7   Stato                       8748 non-null   object        \n",
      " 8   Tipologia di riscaldamento  8748 non-null   object        \n",
      "dtypes: datetime64[ns](1), float64(4), object(4)\n",
      "memory usage: 1003.4+ KB\n"
     ]
    }
   ],
   "source": [
    "df_final.info()"
   ]
  },
  {
   "cell_type": "markdown",
   "metadata": {},
   "source": [
    "## 2. Exploratory Data Analysis"
   ]
  },
  {
   "cell_type": "code",
   "execution_count": 97,
   "metadata": {},
   "outputs": [
    {
     "data": {
      "text/plain": [
       "<matplotlib.axes._subplots.AxesSubplot at 0x7fa2f1689050>"
      ]
     },
     "execution_count": 97,
     "metadata": {},
     "output_type": "execute_result"
    },
    {
     "data": {
      "image/png": "[encoded data removed]",
      "text/plain": [
       "<Figure size 720x720 with 1 Axes>"
      ]
     },
     "metadata": {
      "needs_background": "light"
     },
     "output_type": "display_data"
    }
   ],
   "source": [
    "# Area [m2] distribution\n",
    "fig = plt.figure(figsize=(10, 10))\n",
    "sns.distplot(df_final['Superficie [m2]'], kde=False, bins=100)"
   ]
  },
  {
   "cell_type": "code",
   "execution_count": 98,
   "metadata": {},
   "outputs": [
    {
     "data": {
      "text/plain": [
       "<matplotlib.axes._subplots.AxesSubplot at 0x7fa2f14ffb10>"
      ]
     },
     "execution_count": 98,
     "metadata": {},
     "output_type": "execute_result"
    },
    {
     "data": {
      "image/png": "[encoded data removed]",
      "text/plain": [
       "<Figure size 576x576 with 1 Axes>"
      ]
     },
     "metadata": {
      "needs_background": "light"
     },
     "output_type": "display_data"
    }
   ],
   "source": [
    "fig = plt.figure(figsize=(8, 8))\n",
    "sns.scatterplot(x='Superficie [m2]', y='Prezzo [EUR]', data=df_final)"
   ]
  },
  {
   "cell_type": "code",
   "execution_count": null,
   "metadata": {},
   "outputs": [],
   "source": [
    "df_final.loc[df_final['Prezzo [EUR]'].idxmax(), :]"
   ]
  }
 ],
 "metadata": {
  "kernelspec": {
   "display_name": "Python 3",
   "language": "python",
   "name": "python3"
  },
  "language_info": {
   "codemirror_mode": {
    "name": "ipython",
    "version": 3
   },
   "file_extension": ".py",
   "mimetype": "text/x-python",
   "name": "python",
   "nbconvert_exporter": "python",
   "pygments_lexer": "ipython3",
   "version": "3.7.7"
  }
 },
 "nbformat": 4,
 "nbformat_minor": 4
}
