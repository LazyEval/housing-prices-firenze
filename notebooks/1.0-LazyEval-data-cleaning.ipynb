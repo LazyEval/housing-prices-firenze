{
 "cells": [
  {
   "cell_type": "code",
   "execution_count": 188,
   "metadata": {},
   "outputs": [],
   "source": [
    "import pandas as pd\n",
    "import regex as re\n",
    "import matplotlib.pyplot as plt\n",
    "import seaborn as sns\n",
    "\n",
    "pd.set_option('display.max_columns', None)"
   ]
  },
  {
   "cell_type": "code",
   "execution_count": 189,
   "metadata": {},
   "outputs": [],
   "source": [
    "path_raw = '/home/matteo@COPPET/Documents/data_science/projects/housing_prices_firenze/data/raw/'"
   ]
  },
  {
   "cell_type": "code",
   "execution_count": 190,
   "metadata": {},
   "outputs": [],
   "source": [
    "caratteristiche = pd.read_excel(path_raw+'caratteristiche.xlsx')\n",
    "costi = pd.read_excel(path_raw+'costi.xlsx')\n",
    "efficienza_energetica = pd.read_excel(path_raw+'efficienza_energetica.xlsx')"
   ]
  },
  {
   "cell_type": "code",
   "execution_count": null,
   "metadata": {},
   "outputs": [],
   "source": [
    "caratteristiche.info()"
   ]
  },
  {
   "cell_type": "code",
   "execution_count": null,
   "metadata": {},
   "outputs": [],
   "source": [
    "costi.info()"
   ]
  },
  {
   "cell_type": "code",
   "execution_count": null,
   "metadata": {},
   "outputs": [],
   "source": [
    "efficienza_energetica.info()"
   ]
  },
  {
   "cell_type": "code",
   "execution_count": 191,
   "metadata": {},
   "outputs": [],
   "source": [
    "# Drop NaN columns (based on info above, possible error in scraping)\n",
    "caratteristiche = caratteristiche.drop(columns=['unità', 'Data di inizio lavori e di consegna prevista', 'Dati catastali'])\n",
    "costi = costi.iloc[:, :3]\n",
    "efficienza_energetica = efficienza_energetica.iloc[:, :8]"
   ]
  },
  {
   "cell_type": "markdown",
   "metadata": {},
   "source": [
    "## 1. Data cleaning"
   ]
  },
  {
   "cell_type": "markdown",
   "metadata": {},
   "source": [
    "### Join all three tables and start looking into the data"
   ]
  },
  {
   "cell_type": "code",
   "execution_count": 256,
   "metadata": {},
   "outputs": [],
   "source": [
    "# Join tables\n",
    "df = caratteristiche.join(costi).join(efficienza_energetica)"
   ]
  },
  {
   "cell_type": "code",
   "execution_count": 253,
   "metadata": {},
   "outputs": [
    {
     "data": {
      "text/plain": [
       "array(['58 m²', '65 m²', '54 m²', ...,\n",
       "       '230 m² | commerciale 363 m²                 - Vedi dettaglio',\n",
       "       '230 m² | commerciale 290 m²                 - Vedi dettaglio',\n",
       "       '90 m² | commerciale 148 m²                 - Vedi dettaglio'],\n",
       "      dtype=object)"
      ]
     },
     "execution_count": 253,
     "metadata": {},
     "output_type": "execute_result"
    }
   ],
   "source": [
    "df['Superficie'].unique()[:-20]"
   ]
  },
  {
   "cell_type": "code",
   "execution_count": null,
   "metadata": {},
   "outputs": [],
   "source": [
    "df.loc[df['prezzo'] == 'Prezzo su richiesta', :].shape"
   ]
  },
  {
   "cell_type": "code",
   "execution_count": null,
   "metadata": {},
   "outputs": [],
   "source": [
    "df.info()"
   ]
  },
  {
   "cell_type": "code",
   "execution_count": 257,
   "metadata": {},
   "outputs": [],
   "source": [
    "# Rename columns\n",
    "df.columns = map(str.capitalize, df.columns)"
   ]
  },
  {
   "cell_type": "code",
   "execution_count": 258,
   "metadata": {},
   "outputs": [],
   "source": [
    "# Remove rentals\n",
    "df = df.loc[df['Contratto'] != 'Affitto', :]\n",
    "\n",
    "# Checking for and removing duplicates\n",
    "df.duplicated().sum()\n",
    "df = df.drop_duplicates()"
   ]
  },
  {
   "cell_type": "code",
   "execution_count": 237,
   "metadata": {},
   "outputs": [],
   "source": [
    "df['Indirizzo'] = df['Indirizzo'].str.replace(\"[\",'').str.replace(\"]\",'').str.replace('\\'', '')"
   ]
  },
  {
   "cell_type": "code",
   "execution_count": 203,
   "metadata": {},
   "outputs": [],
   "source": [
    "# Not in Firenze\n",
    "df = df.drop(index=[1279, 4985])"
   ]
  },
  {
   "cell_type": "code",
   "execution_count": 204,
   "metadata": {},
   "outputs": [],
   "source": [
    "# Manually impute missing \"Zona\"\n",
    "df.loc[df['Indirizzo'] == 'Firenze, via vittorio emanuele orlando', 'Zona'] = 'Coverciano Bellariva'\n",
    "df.loc[df['Indirizzo'] == 'Firenze, via borgo la noce', 'Zona'] = 'Centro'\n",
    "df.loc[df['Indirizzo'] == 'Firenze, via Cigoli 31', 'Zona'] = 'L Isolotto'\n",
    "df.loc[df['Indirizzo'] == 'Firenze, via impruneta per mezzomonte', 'Zona'] = 'Bellosguardo Galluzzo'\n",
    "df.loc[df['Indirizzo'] == 'Firenze, via gioberti', 'Zona'] = 'Campo Di Marte Liberta'\n",
    "df.loc[df['Indirizzo'] == 'Firenze, via dei cioli 50', 'Zona'] = 'Settignano Rovezzano'\n",
    "df.loc[df['Indirizzo'] == 'Firenze, via spinucci 1', 'Zona'] = 'Serpiolle Careggi'\n",
    "df.loc[df['Indirizzo'] == 'Firenze, \"via lungo laffrico 50\"', 'Zona'] = 'Coverciano Bellariva'\n",
    "df.loc[df['Indirizzo'] == 'Firenze, via lippi', 'Zona'] = 'Legnaia Soffiano'\n",
    "df.loc[df['Indirizzo'] == 'Firenze, cairoli', 'Zona'] = 'Campo Di Marte Liberta'\n",
    "df.loc[df['Indirizzo'] == 'Firenze, via aretina', 'Zona'] = 'Coverciano Bellariva'\n",
    "df.loc[df['Indirizzo'] == 'Firenze, via Fra Bartolommeo  40', 'Zona'] = 'Campo Di Marte Liberta'\n",
    "df.loc[df['Indirizzo'] == 'Firenze, viale don minzoni 1', 'Zona'] = 'Campo Di Marte Liberta'\n",
    "df.loc[df['Indirizzo'] == 'Firenze, viale don minzoni  1', 'Zona'] = 'Campo Di Marte Liberta'\n",
    "df.loc[df['Indirizzo'] == 'Firenze, piazza beccaria', 'Zona'] = 'Campo Di Marte Liberta'\n",
    "df.loc[df['Indirizzo'] == 'Firenze, via san zanobi', 'Zona'] = 'Centro'\n",
    "df.loc[df['Indirizzo'] == 'Firenze, Piazzale Michelangelo', 'Zona'] = 'Michelangelo Porta Romana'\n",
    "df.loc[df['Indirizzo'] == 'Firenze, Via del Paradiso', 'Zona'] = 'Zona Firenze Sud'\n",
    "df.loc[df['Indirizzo'] == 'Firenze, via di Canonica', 'Zona'] = 'Centro'\n",
    "df.loc[df['Indirizzo'] == 'Firenze, Via di Canonica', 'Zona'] = 'Centro'\n",
    "df.loc[df['Indirizzo'] == 'Firenze, Via Frusa', 'Zona'] = 'Campo Di Marte Liberta'\n",
    "df.loc[df['Indirizzo'] == 'Firenze, Via Vespucci', 'Zona'] = 'Firenze Nord'\n",
    "df.loc[df['Indirizzo'] == 'Firenze, via baracca  148', 'Zona'] = 'Firenze Nord'\n",
    "df.loc[df['Indirizzo'] == 'Firenze, via dei Tavolini 1', 'Zona'] = 'Centro'\n",
    "df.loc[df['Indirizzo'] == 'Firenze, via Pisana 980', 'Zona'] = 'Ugnano Mantignano'\n",
    "df.loc[df['Indirizzo'] == 'Firenze, VIA SENESE', 'Zona'] = 'Bellosguardo Galluzzo'\n",
    "df.loc[df['Indirizzo'] == 'Firenze, \"piazza dAzeglio\"', 'Zona'] = 'Centro'\n",
    "df.loc[df['Indirizzo'] == 'Firenze, \"Piazza dazeglio\"', 'Zona'] = 'Centro'"
   ]
  },
  {
   "cell_type": "code",
   "execution_count": 205,
   "metadata": {},
   "outputs": [],
   "source": [
    "df['Zona'] = df['Zona'].fillna('Non specificato')"
   ]
  },
  {
   "cell_type": "code",
   "execution_count": 240,
   "metadata": {},
   "outputs": [],
   "source": [
    "df['Zona'] = (df['Zona']\n",
    "              .str.replace('-', ' ')\n",
    "              .str.replace('/', '')\n",
    "              .str.title())"
   ]
  },
  {
   "cell_type": "code",
   "execution_count": 242,
   "metadata": {},
   "outputs": [],
   "source": [
    "# Clean up data types\n",
    "df['Superficie [m2]'] = (df['Superficie']\n",
    "                         .str.split('m²')\n",
    "                         .str[0]\n",
    "                         .astype('float'))\n",
    "\n",
    "df['Totale piani edificio'] = (df['Totale piani edificio']\n",
    "                               .str.split(' ')\n",
    "                               .str[0]\n",
    "                               .astype('float'))\n",
    "\n",
    "df['Zona'] = (df['Zona']\n",
    "              .str.replace('-', ' ')\n",
    "              .str.replace('/', '')\n",
    "              .str.title())\n",
    "\n",
    "df['Prezzo [EUR]'] = (df['Prezzo']\n",
    "                      .str.split('€')\n",
    "                      .str[1]\n",
    "                      .str.replace('.', '')\n",
    "                      .astype('float'))"
   ]
  },
  {
   "cell_type": "code",
   "execution_count": 315,
   "metadata": {},
   "outputs": [
    {
     "ename": "TypeError",
     "evalue": "\"value\" parameter must be a scalar, dict or Series, but you passed a \"DataFrame\"",
     "output_type": "error",
     "traceback": [
      "\u001b[0;31m---------------------------------------------------------------------------\u001b[0m",
      "\u001b[0;31mTypeError\u001b[0m                                 Traceback (most recent call last)",
      "\u001b[0;32m<ipython-input-315-7dc6b967120a>\u001b[0m in \u001b[0;36m<module>\u001b[0;34m\u001b[0m\n\u001b[1;32m      8\u001b[0m                          \u001b[0;34m.\u001b[0m\u001b[0mstr\u001b[0m\u001b[0;34m.\u001b[0m\u001b[0msplit\u001b[0m\u001b[0;34m(\u001b[0m\u001b[0;34m'|'\u001b[0m\u001b[0;34m)\u001b[0m\u001b[0;34m\u001b[0m\u001b[0;34m\u001b[0m\u001b[0m\n\u001b[1;32m      9\u001b[0m                          \u001b[0;34m.\u001b[0m\u001b[0mstr\u001b[0m\u001b[0;34m[\u001b[0m\u001b[0;36m0\u001b[0m\u001b[0;34m]\u001b[0m\u001b[0;34m\u001b[0m\u001b[0;34m\u001b[0m\u001b[0m\n\u001b[0;32m---> 10\u001b[0;31m                          .str.extract(r'(\\d+\\.?\\d*)')))\n\u001b[0m\u001b[1;32m     11\u001b[0m \u001b[0;31m#df['Superficie [m2]'] = (df['Superficie [m2]']\u001b[0m\u001b[0;34m\u001b[0m\u001b[0;34m\u001b[0m\u001b[0;34m\u001b[0m\u001b[0m\n\u001b[1;32m     12\u001b[0m \u001b[0;31m#                         .str.replace('.', '')\u001b[0m\u001b[0;34m\u001b[0m\u001b[0;34m\u001b[0m\u001b[0;34m\u001b[0m\u001b[0m\n",
      "\u001b[0;32m~/anaconda3/lib/python3.7/site-packages/pandas/core/series.py\u001b[0m in \u001b[0;36mfillna\u001b[0;34m(self, value, method, axis, inplace, limit, downcast)\u001b[0m\n\u001b[1;32m   4157\u001b[0m             \u001b[0minplace\u001b[0m\u001b[0;34m=\u001b[0m\u001b[0minplace\u001b[0m\u001b[0;34m,\u001b[0m\u001b[0;34m\u001b[0m\u001b[0;34m\u001b[0m\u001b[0m\n\u001b[1;32m   4158\u001b[0m             \u001b[0mlimit\u001b[0m\u001b[0;34m=\u001b[0m\u001b[0mlimit\u001b[0m\u001b[0;34m,\u001b[0m\u001b[0;34m\u001b[0m\u001b[0;34m\u001b[0m\u001b[0m\n\u001b[0;32m-> 4159\u001b[0;31m             \u001b[0mdowncast\u001b[0m\u001b[0;34m=\u001b[0m\u001b[0mdowncast\u001b[0m\u001b[0;34m,\u001b[0m\u001b[0;34m\u001b[0m\u001b[0;34m\u001b[0m\u001b[0m\n\u001b[0m\u001b[1;32m   4160\u001b[0m         )\n\u001b[1;32m   4161\u001b[0m \u001b[0;34m\u001b[0m\u001b[0m\n",
      "\u001b[0;32m~/anaconda3/lib/python3.7/site-packages/pandas/core/generic.py\u001b[0m in \u001b[0;36mfillna\u001b[0;34m(self, value, method, axis, inplace, limit, downcast)\u001b[0m\n\u001b[1;32m   6208\u001b[0m                 \u001b[0;32melse\u001b[0m\u001b[0;34m:\u001b[0m\u001b[0;34m\u001b[0m\u001b[0;34m\u001b[0m\u001b[0m\n\u001b[1;32m   6209\u001b[0m                     raise TypeError(\n\u001b[0;32m-> 6210\u001b[0;31m                         \u001b[0;34m'\"value\" parameter must be a scalar, dict '\u001b[0m\u001b[0;34m\u001b[0m\u001b[0;34m\u001b[0m\u001b[0m\n\u001b[0m\u001b[1;32m   6211\u001b[0m                         \u001b[0;34m\"or Series, but you passed a \"\u001b[0m\u001b[0;34m\u001b[0m\u001b[0;34m\u001b[0m\u001b[0m\n\u001b[1;32m   6212\u001b[0m                         \u001b[0;34mf'\"{type(value).__name__}\"'\u001b[0m\u001b[0;34m\u001b[0m\u001b[0;34m\u001b[0m\u001b[0m\n",
      "\u001b[0;31mTypeError\u001b[0m: \"value\" parameter must be a scalar, dict or Series, but you passed a \"DataFrame\""
     ]
    }
   ],
   "source": [
    "# Extract area\n",
    "df['Superficie [m2]'] = (df['Superficie']\n",
    "                         .str.split('|')\n",
    "                         .str[1]\n",
    "                         .str.extract(r'(\\d+\\.?\\d*)'))\n",
    "df['Superficie [m2]'] = (df['Superficie [m2]']\n",
    "                         .fillna(df['Superficie']\n",
    "                         .str.split('|')\n",
    "                         .str[0]\n",
    "                         .str.extract(r'(\\d+\\.?\\d*)')))\n",
    "#df['Superficie [m2]'] = (df['Superficie [m2]']\n",
    "#                         .str.replace('.', '')\n",
    "#                         .astype('float'))"
   ]
  },
  {
   "cell_type": "code",
   "execution_count": 311,
   "metadata": {},
   "outputs": [
    {
     "data": {
      "text/plain": [
       "0      [58]\n",
       "1      [65]\n",
       "2      [54]\n",
       "3      [56]\n",
       "4      [85]\n",
       "5      [46]\n",
       "6      [50]\n",
       "7     [112]\n",
       "8       121\n",
       "9      [40]\n",
       "10     [60]\n",
       "11    [142]\n",
       "12       84\n",
       "13    [212]\n",
       "14     [50]\n",
       "15    [110]\n",
       "16    [120]\n",
       "17     [42]\n",
       "18      114\n",
       "19       75\n",
       "Name: Superficie [m2], dtype: object"
      ]
     },
     "execution_count": 311,
     "metadata": {},
     "output_type": "execute_result"
    }
   ],
   "source": [
    "df['Superficie [m2]'].head(20)"
   ]
  },
  {
   "cell_type": "code",
   "execution_count": null,
   "metadata": {},
   "outputs": [],
   "source": [
    "df['Prezzo [EUR]'].mean()"
   ]
  },
  {
   "cell_type": "code",
   "execution_count": 199,
   "metadata": {},
   "outputs": [],
   "source": [
    "# Drop entries without area\n",
    "df = df.dropna(subset=['Superficie [m2]'])"
   ]
  },
  {
   "cell_type": "code",
   "execution_count": null,
   "metadata": {},
   "outputs": [],
   "source": [
    "# Looking into \"Contratto\": does it affect price?\n",
    "gb = df['Prezzo [EUR]'].groupby(df['Contratto']).agg('mean')\n",
    "gb"
   ]
  },
  {
   "cell_type": "code",
   "execution_count": null,
   "metadata": {},
   "outputs": [],
   "source": [
    "# Drop columns that have almost no entries\n",
    "# Dropping because of lack of entries\n",
    "# Dropping \"Disponibilità\" and \"Contratto\" because it is not relevant information\n",
    "df = df.drop(columns=['Immobile garantito', 'Indice prest. energetica rinnovabile',\n",
    "                      'Prestazione energetica del fabbricato', 'Certificazione energetica',\n",
    "                      'Disponibilità', 'Contratto'])\n"
   ]
  },
  {
   "cell_type": "code",
   "execution_count": null,
   "metadata": {},
   "outputs": [],
   "source": [
    "df.info()"
   ]
  },
  {
   "cell_type": "markdown",
   "metadata": {},
   "source": [
    "### Feature engineering"
   ]
  },
  {
   "cell_type": "markdown",
   "metadata": {},
   "source": [
    "#### Heating"
   ]
  },
  {
   "cell_type": "code",
   "execution_count": 41,
   "metadata": {},
   "outputs": [
    {
     "data": {
      "text/plain": [
       "417"
      ]
     },
     "execution_count": 41,
     "metadata": {},
     "output_type": "execute_result"
    }
   ],
   "source": [
    "df['Riscaldamento'].isna().sum()"
   ]
  },
  {
   "cell_type": "code",
   "execution_count": 207,
   "metadata": {},
   "outputs": [],
   "source": [
    "# Create type of heating feature\n",
    "df['Tipologia di riscaldamento'] = df['Riscaldamento'].str.split(',').str[0]"
   ]
  },
  {
   "cell_type": "markdown",
   "metadata": {},
   "source": [
    "#### Listing date"
   ]
  },
  {
   "cell_type": "code",
   "execution_count": null,
   "metadata": {},
   "outputs": [],
   "source": [
    "df['Riferimento e data annuncio'].head(100)"
   ]
  },
  {
   "cell_type": "code",
   "execution_count": 208,
   "metadata": {},
   "outputs": [],
   "source": [
    "df['Data annuncio'] = (df['Riferimento e data annuncio']\n",
    "                       .str.split('-')\n",
    "                       .str[-1]\n",
    "                       .str.strip()\n",
    "                       .astype('datetime64[D]'))"
   ]
  },
  {
   "cell_type": "markdown",
   "metadata": {},
   "source": [
    "#### Floor"
   ]
  },
  {
   "cell_type": "code",
   "execution_count": null,
   "metadata": {},
   "outputs": [],
   "source": [
    "df['Piano'].unique()"
   ]
  },
  {
   "cell_type": "code",
   "execution_count": 209,
   "metadata": {},
   "outputs": [],
   "source": [
    "mask = df['Piano'].str.match(r'(.*ascensore.*)')\n",
    "\n",
    "df['Ascensore'] = mask.astype('float')"
   ]
  },
  {
   "cell_type": "code",
   "execution_count": null,
   "metadata": {},
   "outputs": [],
   "source": []
  },
  {
   "cell_type": "code",
   "execution_count": null,
   "metadata": {},
   "outputs": [],
   "source": [
    "df['Totale piani edificio'].isna().sum()"
   ]
  },
  {
   "cell_type": "code",
   "execution_count": null,
   "metadata": {},
   "outputs": [],
   "source": [
    "df['Altre caratteristiche'].str.replace('\\n', ';')\n",
    "df['Altre caratteristiche'].unique()[10]"
   ]
  },
  {
   "cell_type": "code",
   "execution_count": null,
   "metadata": {},
   "outputs": [],
   "source": [
    "df['Stato'].value_counts()"
   ]
  },
  {
   "cell_type": "markdown",
   "metadata": {},
   "source": [
    "#### Number of rooms and toilets"
   ]
  },
  {
   "cell_type": "code",
   "execution_count": null,
   "metadata": {},
   "outputs": [],
   "source": [
    "# Create number of rooms feature\n",
    "pat = r'\\(.*\\)'\n",
    "repl = lambda m: m.group(0).replace(',', ';')\n",
    "\n",
    "df['Locali'] = df['Locali'].str.replace(pat, repl)"
   ]
  },
  {
   "cell_type": "code",
   "execution_count": 210,
   "metadata": {},
   "outputs": [],
   "source": [
    "# TO FLOAT? 3+\n",
    "df['Numero di bagni'] = (df['Locali']\n",
    "                         .str.findall(r'(\\d\\+? bagn\\w)')\n",
    "                         .str[0]\n",
    "                         .str.split(' ')\n",
    "                         .str[0])\n",
    "\n",
    "df.loc[df['Numero di bagni'].isna(), 'Numero di bagni'] = 0\n",
    "df.loc[df['Numero di bagni'] == '3+', 'Numero di bagni'] = 4\n",
    "df['Numero di bagni'] = df['Numero di bagni'].astype('float')"
   ]
  },
  {
   "cell_type": "code",
   "execution_count": null,
   "metadata": {},
   "outputs": [],
   "source": [
    "df['Numero di bagni'].value_counts()"
   ]
  },
  {
   "cell_type": "code",
   "execution_count": null,
   "metadata": {},
   "outputs": [],
   "source": [
    "sns.barplot(x=df['Numero di bagni'].value_counts().index, y=df['Numero di bagni'].value_counts())"
   ]
  },
  {
   "cell_type": "code",
   "execution_count": null,
   "metadata": {
    "scrolled": true
   },
   "outputs": [],
   "source": [
    "df.loc[df['Numero di bagni'] == 0, 'Superficie [m2]']"
   ]
  },
  {
   "cell_type": "code",
   "execution_count": 211,
   "metadata": {},
   "outputs": [],
   "source": [
    "df['Superficie_Bins'] = pd.cut(df['Superficie [m2]'], bins=[0, 60, 80, 100, 120, 160, 200, 10000])\n"
   ]
  },
  {
   "cell_type": "code",
   "execution_count": null,
   "metadata": {},
   "outputs": [],
   "source": [
    "df['Superficie_Bins'].unique()"
   ]
  },
  {
   "cell_type": "code",
   "execution_count": null,
   "metadata": {},
   "outputs": [],
   "source": [
    "fig = plt.figure(figsize=(6, 6))\n",
    "sns.barplot(x=df['Superficie_Bins'], y=df['Numero di bagni'])\n",
    "plt.xticks(rotation=45)"
   ]
  },
  {
   "cell_type": "code",
   "execution_count": null,
   "metadata": {},
   "outputs": [],
   "source": [
    "df.groupby(['Superficie_Bins'])['Numero di bagni'].agg(lambda x:x.value_counts().index[0])"
   ]
  },
  {
   "cell_type": "code",
   "execution_count": 212,
   "metadata": {},
   "outputs": [],
   "source": [
    "# Imputing number of toilets based on area bins\n",
    "for area in df['Superficie_Bins'].unique():\n",
    "    mask = df['Superficie_Bins'] == area\n",
    "    df.loc[mask & (df['Numero di bagni'] == 0), 'Numero di bagni'] = df.loc[mask, 'Numero di bagni'].mode().values\n"
   ]
  },
  {
   "cell_type": "code",
   "execution_count": 213,
   "metadata": {},
   "outputs": [],
   "source": [
    "df['Numero di altri'] = (df['Locali']\n",
    "                         .str.findall(r'(\\d?\\d\\+? altr\\w)')\n",
    "                         .str[0]\n",
    "                         .str.split(' ')\n",
    "                         .str[0]\n",
    "                         .astype('float'))\n",
    "df.loc[df['Numero di altri'].isna(), 'Numero di altri'] = 0"
   ]
  },
  {
   "cell_type": "code",
   "execution_count": 214,
   "metadata": {},
   "outputs": [],
   "source": [
    "df['Numero di camere da letto'] = (df['Locali']\n",
    "                                   .str.findall(r'(\\d?\\d\\+? camer\\w da letto)')\n",
    "                                   .str[0]\n",
    "                                   .str.split(' ')\n",
    "                                   .str[0]\n",
    "                                   .astype('float'))\n",
    "df.loc[df['Numero di camere da letto'].isna(), 'Numero di camere da letto'] = 0"
   ]
  },
  {
   "cell_type": "code",
   "execution_count": 215,
   "metadata": {},
   "outputs": [],
   "source": [
    "df['Numero di locali'] = (df['Locali']\n",
    "                          .str.findall(r'(\\d?\\d\\+? local\\w)')\n",
    "                          .str[0]\n",
    "                          .str.split(' ')\n",
    "                          .str[0]\n",
    "                          .astype('float'))\n",
    "df.loc[df['Numero di locali'].isna(), 'Numero di locali'] = 0"
   ]
  },
  {
   "cell_type": "code",
   "execution_count": 216,
   "metadata": {},
   "outputs": [],
   "source": [
    "df['Numero totale di locali'] = df['Numero di locali'] + df['Numero di camere da letto'] + df['Numero di altri']"
   ]
  },
  {
   "cell_type": "code",
   "execution_count": null,
   "metadata": {},
   "outputs": [],
   "source": [
    "df['Numero totale di locali'].isna().sum()"
   ]
  },
  {
   "cell_type": "code",
   "execution_count": null,
   "metadata": {
    "scrolled": false
   },
   "outputs": [],
   "source": [
    "df.loc[df['Locali'].isna(), :].shape"
   ]
  },
  {
   "cell_type": "code",
   "execution_count": null,
   "metadata": {},
   "outputs": [],
   "source": [
    "fig = plt.figure(figsize=(6, 6))\n",
    "sns.barplot(x=df['Superficie_Bins'], y=df['Numero totale di locali'])\n",
    "plt.xticks(rotation=45)"
   ]
  },
  {
   "cell_type": "code",
   "execution_count": 217,
   "metadata": {},
   "outputs": [],
   "source": [
    "# Imputing number of rooms based on area bins\n",
    "for area in df['Superficie_Bins'].unique():\n",
    "    mask = df['Superficie_Bins'] == area\n",
    "    df.loc[mask & (df['Numero totale di locali'] == 0),\n",
    "           'Numero totale di locali'] = df.loc[mask, 'Numero totale di locali'].mode().values"
   ]
  },
  {
   "cell_type": "code",
   "execution_count": null,
   "metadata": {},
   "outputs": [],
   "source": [
    "df.loc[mask & (df['Numero totale di locali'] == 0), 'Numero totale di locali']"
   ]
  },
  {
   "cell_type": "code",
   "execution_count": null,
   "metadata": {},
   "outputs": [],
   "source": [
    "df.loc[df['Numero totale di locali'].isna(), :].shape"
   ]
  },
  {
   "cell_type": "code",
   "execution_count": 169,
   "metadata": {},
   "outputs": [
    {
     "name": "stdout",
     "output_type": "stream",
     "text": [
      "<class 'pandas.core.frame.DataFrame'>\n",
      "Int64Index: 9038 entries, 0 to 9064\n",
      "Data columns (total 36 columns):\n",
      " #   Column                                 Non-Null Count  Dtype         \n",
      "---  ------                                 --------------  -----         \n",
      " 0   Immobile garantito                     3802 non-null   object        \n",
      " 1   Riferimento e data annuncio            9038 non-null   object        \n",
      " 2   Contratto                              9038 non-null   object        \n",
      " 3   Tipologia                              9038 non-null   object        \n",
      " 4   Superficie                             9030 non-null   object        \n",
      " 5   Locali                                 9022 non-null   object        \n",
      " 6   Piano                                  8836 non-null   object        \n",
      " 7   Totale piani edificio                  8333 non-null   float64       \n",
      " 8   Disponibilità                          8059 non-null   object        \n",
      " 9   Tipo proprietà                         8556 non-null   object        \n",
      " 10  Altre caratteristiche                  8462 non-null   object        \n",
      " 11  Posti auto                             2269 non-null   object        \n",
      " 12  Indirizzo                              9038 non-null   object        \n",
      " 13  Zona                                   9038 non-null   object        \n",
      " 14  Prezzo                                 9038 non-null   object        \n",
      " 15  Informazioni catastali                 5785 non-null   object        \n",
      " 16  Spese condominio                       5230 non-null   object        \n",
      " 17  Anno di costruzione                    6534 non-null   float64       \n",
      " 18  Stato                                  8776 non-null   object        \n",
      " 19  Riscaldamento                          8619 non-null   object        \n",
      " 20  Climatizzazione                        4934 non-null   object        \n",
      " 21  Indice prest. energetica rinnovabile   285 non-null    object        \n",
      " 22  Prestazione energetica del fabbricato  587 non-null    object        \n",
      " 23  Efficienza energetica                  7784 non-null   object        \n",
      " 24  Certificazione energetica              1368 non-null   object        \n",
      " 25  Superficie [m2]                        9030 non-null   float64       \n",
      " 26  Prezzo [EUR]                           8749 non-null   float64       \n",
      " 27  Tipologia di riscaldamento             8619 non-null   object        \n",
      " 28  Data annuncio                          9038 non-null   datetime64[ns]\n",
      " 29  Ascensore                              8836 non-null   float64       \n",
      " 30  Numero di bagni                        9038 non-null   float64       \n",
      " 31  Superficie_Bins                        9030 non-null   category      \n",
      " 32  Numero di altri                        9038 non-null   float64       \n",
      " 33  Numero di camere da letto              9038 non-null   float64       \n",
      " 34  Numero di locali                       9038 non-null   float64       \n",
      " 35  Numero totale di locali                9038 non-null   float64       \n",
      "dtypes: category(1), datetime64[ns](1), float64(10), object(24)\n",
      "memory usage: 2.5+ MB\n"
     ]
    }
   ],
   "source": [
    "df.info()"
   ]
  },
  {
   "cell_type": "code",
   "execution_count": 218,
   "metadata": {},
   "outputs": [],
   "source": [
    "df_final = df[['Data annuncio', 'Zona', 'Prezzo [EUR]', 'Tipologia', 'Superficie [m2]',\n",
    "               'Numero totale di locali', 'Numero di bagni', 'Stato', 'Tipologia di riscaldamento']]"
   ]
  },
  {
   "cell_type": "code",
   "execution_count": 219,
   "metadata": {},
   "outputs": [],
   "source": [
    "df_final = df_final.dropna(subset=['Prezzo [EUR]'])"
   ]
  },
  {
   "cell_type": "code",
   "execution_count": null,
   "metadata": {},
   "outputs": [],
   "source": [
    "df_final.loc[df_final['Prezzo [EUR]'].isna(), :]"
   ]
  },
  {
   "cell_type": "code",
   "execution_count": 43,
   "metadata": {},
   "outputs": [
    {
     "name": "stdout",
     "output_type": "stream",
     "text": [
      "<class 'pandas.core.frame.DataFrame'>\n",
      "Int64Index: 8743 entries, 0 to 9062\n",
      "Data columns (total 9 columns):\n",
      " #   Column                      Non-Null Count  Dtype         \n",
      "---  ------                      --------------  -----         \n",
      " 0   Data annuncio               8743 non-null   datetime64[ns]\n",
      " 1   Zona                        8683 non-null   object        \n",
      " 2   Prezzo [EUR]                8743 non-null   float64       \n",
      " 3   Tipologia                   8743 non-null   object        \n",
      " 4   Superficie [m2]             8743 non-null   float64       \n",
      " 5   Numero totale di locali     8743 non-null   float64       \n",
      " 6   Numero di bagni             8743 non-null   float64       \n",
      " 7   Stato                       8743 non-null   object        \n",
      " 8   Tipologia di riscaldamento  8743 non-null   object        \n",
      "dtypes: datetime64[ns](1), float64(4), object(4)\n",
      "memory usage: 1003.0+ KB\n"
     ]
    }
   ],
   "source": [
    "df_final.info()"
   ]
  },
  {
   "cell_type": "code",
   "execution_count": null,
   "metadata": {},
   "outputs": [],
   "source": [
    "# Dropping N/A values\n"
   ]
  },
  {
   "cell_type": "code",
   "execution_count": 35,
   "metadata": {},
   "outputs": [
    {
     "data": {
      "text/plain": [
       "(array([0, 1, 2, 3]), <a list of 4 Text xticklabel objects>)"
      ]
     },
     "execution_count": 35,
     "metadata": {},
     "output_type": "execute_result"
    },
    {
     "data": {
      "image/png": "[encoded data removed]",
      "text/plain": [
       "<Figure size 432x432 with 1 Axes>"
      ]
     },
     "metadata": {
      "needs_background": "light"
     },
     "output_type": "display_data"
    }
   ],
   "source": [
    "fig = plt.figure(figsize=(6, 6))\n",
    "sns.barplot(x=df_final['Stato'], y=df_final['Prezzo [EUR]'])\n",
    "plt.xticks(rotation=45)"
   ]
  },
  {
   "cell_type": "code",
   "execution_count": 220,
   "metadata": {},
   "outputs": [],
   "source": [
    "# Imputing \"Stato\" by most frequent as it does not seem to influence price much\n",
    "df_final['Stato'] = df_final['Stato'].fillna(df_final['Stato'].value_counts().index[0])"
   ]
  },
  {
   "cell_type": "code",
   "execution_count": 36,
   "metadata": {},
   "outputs": [
    {
     "data": {
      "text/plain": [
       "(array([0, 1]), <a list of 2 Text xticklabel objects>)"
      ]
     },
     "execution_count": 36,
     "metadata": {},
     "output_type": "execute_result"
    },
    {
     "data": {
      "image/png": "[encoded data removed]",
      "text/plain": [
       "<Figure size 432x432 with 1 Axes>"
      ]
     },
     "metadata": {
      "needs_background": "light"
     },
     "output_type": "display_data"
    }
   ],
   "source": [
    "fig = plt.figure(figsize=(6, 6))\n",
    "sns.barplot(x=df_final['Tipologia di riscaldamento'], y=df_final['Prezzo [EUR]'])\n",
    "plt.xticks(rotation=45)"
   ]
  },
  {
   "cell_type": "code",
   "execution_count": 39,
   "metadata": {},
   "outputs": [
    {
     "data": {
      "text/plain": [
       "Autonomo         6512\n",
       "Centralizzato    1834\n",
       "Name: Tipologia di riscaldamento, dtype: int64"
      ]
     },
     "execution_count": 39,
     "metadata": {},
     "output_type": "execute_result"
    }
   ],
   "source": [
    "df_final['Tipologia di riscaldamento'].value_counts()"
   ]
  },
  {
   "cell_type": "code",
   "execution_count": 221,
   "metadata": {},
   "outputs": [],
   "source": [
    "# Filling heating NaNs with centralized as if not specified it is probably centralized\n",
    "df_final['Tipologia di riscaldamento'] = df_final['Tipologia di riscaldamento'].fillna('Centralizzato')"
   ]
  },
  {
   "cell_type": "code",
   "execution_count": 168,
   "metadata": {},
   "outputs": [
    {
     "name": "stdout",
     "output_type": "stream",
     "text": [
      "<class 'pandas.core.frame.DataFrame'>\n",
      "Int64Index: 8749 entries, 0 to 9062\n",
      "Data columns (total 9 columns):\n",
      " #   Column                      Non-Null Count  Dtype         \n",
      "---  ------                      --------------  -----         \n",
      " 0   Data annuncio               8749 non-null   datetime64[ns]\n",
      " 1   Zona                        8749 non-null   object        \n",
      " 2   Prezzo [EUR]                8749 non-null   float64       \n",
      " 3   Tipologia                   8749 non-null   object        \n",
      " 4   Superficie [m2]             8742 non-null   float64       \n",
      " 5   Numero totale di locali     8749 non-null   float64       \n",
      " 6   Numero di bagni             8749 non-null   float64       \n",
      " 7   Stato                       8749 non-null   object        \n",
      " 8   Tipologia di riscaldamento  8749 non-null   object        \n",
      "dtypes: datetime64[ns](1), float64(4), object(4)\n",
      "memory usage: 683.5+ KB\n"
     ]
    }
   ],
   "source": [
    "df_final.info()"
   ]
  },
  {
   "cell_type": "code",
   "execution_count": 180,
   "metadata": {},
   "outputs": [
    {
     "data": {
      "text/html": [
       "<div>\n",
       "<style scoped>\n",
       "    .dataframe tbody tr th:only-of-type {\n",
       "        vertical-align: middle;\n",
       "    }\n",
       "\n",
       "    .dataframe tbody tr th {\n",
       "        vertical-align: top;\n",
       "    }\n",
       "\n",
       "    .dataframe thead th {\n",
       "        text-align: right;\n",
       "    }\n",
       "</style>\n",
       "<table border=\"1\" class=\"dataframe\">\n",
       "  <thead>\n",
       "    <tr style=\"text-align: right;\">\n",
       "      <th></th>\n",
       "      <th>Data annuncio</th>\n",
       "      <th>Zona</th>\n",
       "      <th>Prezzo [EUR]</th>\n",
       "      <th>Tipologia</th>\n",
       "      <th>Superficie [m2]</th>\n",
       "      <th>Numero totale di locali</th>\n",
       "      <th>Numero di bagni</th>\n",
       "      <th>Stato</th>\n",
       "      <th>Tipologia di riscaldamento</th>\n",
       "    </tr>\n",
       "  </thead>\n",
       "  <tbody>\n",
       "    <tr>\n",
       "      <th>1279</th>\n",
       "      <td>2020-09-18</td>\n",
       "      <td>Firenze Nord</td>\n",
       "      <td>240000.0</td>\n",
       "      <td>Appartamento</td>\n",
       "      <td>NaN</td>\n",
       "      <td>0.0</td>\n",
       "      <td>0.0</td>\n",
       "      <td>Ottimo / Ristrutturato</td>\n",
       "      <td>Centralizzato</td>\n",
       "    </tr>\n",
       "  </tbody>\n",
       "</table>\n",
       "</div>"
      ],
      "text/plain": [
       "     Data annuncio          Zona  Prezzo [EUR]     Tipologia  Superficie [m2]  \\\n",
       "1279    2020-09-18  Firenze Nord      240000.0  Appartamento              NaN   \n",
       "\n",
       "      Numero totale di locali  Numero di bagni                   Stato  \\\n",
       "1279                      0.0              0.0  Ottimo / Ristrutturato   \n",
       "\n",
       "     Tipologia di riscaldamento  \n",
       "1279              Centralizzato  "
      ]
     },
     "execution_count": 180,
     "metadata": {},
     "output_type": "execute_result"
    }
   ],
   "source": [
    "df_final.loc[df_final['Superficie [m2]'].isna(), :]"
   ]
  },
  {
   "cell_type": "code",
   "execution_count": 172,
   "metadata": {},
   "outputs": [
    {
     "data": {
      "text/plain": [
       "(array([ 0,  1,  2,  3,  4,  5,  6,  7,  8,  9, 10, 11, 12, 13, 14, 15, 16,\n",
       "        17, 18, 19, 20, 21, 22, 23, 24, 25, 26, 27, 28, 29, 30]),\n",
       " <a list of 31 Text xticklabel objects>)"
      ]
     },
     "execution_count": 172,
     "metadata": {},
     "output_type": "execute_result"
    },
    {
     "data": {
      "image/png": "[encoded data removed]",
      "text/plain": [
       "<Figure size 720x720 with 1 Axes>"
      ]
     },
     "metadata": {
      "needs_background": "light"
     },
     "output_type": "display_data"
    }
   ],
   "source": [
    "fig = plt.figure(figsize=(10, 10))\n",
    "sns.barplot(x=df_final['Numero totale di locali'], y=df_final['Superficie [m2]'])\n",
    "plt.xticks(rotation=90)"
   ]
  },
  {
   "cell_type": "code",
   "execution_count": 177,
   "metadata": {},
   "outputs": [
    {
     "data": {
      "text/plain": [
       "(array([  0.,  50., 100., 150., 200., 250., 300., 350., 400., 450., 500.]),\n",
       " <a list of 11 Text xticklabel objects>)"
      ]
     },
     "execution_count": 177,
     "metadata": {},
     "output_type": "execute_result"
    },
    {
     "data": {
      "image/png": "[encoded data removed]",
      "text/plain": [
       "<Figure size 432x432 with 1 Axes>"
      ]
     },
     "metadata": {
      "needs_background": "light"
     },
     "output_type": "display_data"
    }
   ],
   "source": [
    "fig = plt.figure(figsize=(6, 6))\n",
    "sns.distplot(df_final.loc[df_final['Numero totale di locali'] == 6, 'Superficie [m2]'])\n",
    "plt.xticks(rotation=90)"
   ]
  },
  {
   "cell_type": "code",
   "execution_count": 222,
   "metadata": {},
   "outputs": [],
   "source": [
    "# Imputing area based on total number of rooms\n",
    "for rooms in df_final['Numero totale di locali'].unique():\n",
    "    mask = df_final['Numero totale di locali'] == rooms\n",
    "    df_final.loc[mask & (df_final['Superficie [m2]'].isna()),\n",
    "                 'Superficie [m2]'] = df_final.loc[mask, 'Superficie [m2]'].mean()"
   ]
  },
  {
   "cell_type": "code",
   "execution_count": 181,
   "metadata": {},
   "outputs": [
    {
     "data": {
      "text/plain": [
       "array([ 2.,  3.,  4.,  5.,  8., 10.,  6.,  9.,  1.,  7., 13., 11., 17.,\n",
       "       12., 18.,  0., 14., 28., 20., 16., 19., 30., 35., 15., 47., 31.,\n",
       "       25., 21., 24., 22., 50.])"
      ]
     },
     "execution_count": 181,
     "metadata": {},
     "output_type": "execute_result"
    }
   ],
   "source": [
    "df_final['Numero totale di locali'].unique()"
   ]
  },
  {
   "cell_type": "code",
   "execution_count": 223,
   "metadata": {},
   "outputs": [
    {
     "name": "stdout",
     "output_type": "stream",
     "text": [
      "<class 'pandas.core.frame.DataFrame'>\n",
      "Int64Index: 8748 entries, 0 to 9062\n",
      "Data columns (total 9 columns):\n",
      " #   Column                      Non-Null Count  Dtype         \n",
      "---  ------                      --------------  -----         \n",
      " 0   Data annuncio               8748 non-null   datetime64[ns]\n",
      " 1   Zona                        8748 non-null   object        \n",
      " 2   Prezzo [EUR]                8748 non-null   float64       \n",
      " 3   Tipologia                   8748 non-null   object        \n",
      " 4   Superficie [m2]             8748 non-null   float64       \n",
      " 5   Numero totale di locali     8748 non-null   float64       \n",
      " 6   Numero di bagni             8748 non-null   float64       \n",
      " 7   Stato                       8748 non-null   object        \n",
      " 8   Tipologia di riscaldamento  8748 non-null   object        \n",
      "dtypes: datetime64[ns](1), float64(4), object(4)\n",
      "memory usage: 683.4+ KB\n"
     ]
    }
   ],
   "source": [
    "df_final.info()"
   ]
  },
  {
   "cell_type": "markdown",
   "metadata": {},
   "source": [
    "## 2. Exploratory Data Analysis"
   ]
  },
  {
   "cell_type": "code",
   "execution_count": 224,
   "metadata": {},
   "outputs": [
    {
     "data": {
      "text/plain": [
       "<matplotlib.axes._subplots.AxesSubplot at 0x7fd896881210>"
      ]
     },
     "execution_count": 224,
     "metadata": {},
     "output_type": "execute_result"
    },
    {
     "data": {
      "image/png": "[encoded data removed]",
      "text/plain": [
       "<Figure size 432x432 with 1 Axes>"
      ]
     },
     "metadata": {
      "needs_background": "light"
     },
     "output_type": "display_data"
    }
   ],
   "source": [
    "# Area [m2] distribution\n",
    "fig = plt.figure(figsize=(6, 6))\n",
    "sns.distplot(df_final['Superficie [m2]'], kde=False)"
   ]
  },
  {
   "cell_type": "code",
   "execution_count": 226,
   "metadata": {},
   "outputs": [
    {
     "data": {
      "text/plain": [
       "<matplotlib.axes._subplots.AxesSubplot at 0x7fd896cbbe10>"
      ]
     },
     "execution_count": 226,
     "metadata": {},
     "output_type": "execute_result"
    },
    {
     "data": {
      "image/png": "[encoded data removed]",
      "text/plain": [
       "<Figure size 576x576 with 1 Axes>"
      ]
     },
     "metadata": {
      "needs_background": "light"
     },
     "output_type": "display_data"
    }
   ],
   "source": [
    "fig = plt.figure(figsize=(8, 8))\n",
    "sns.scatterplot(x='Superficie [m2]', y='Prezzo [EUR]', data=df_final)"
   ]
  },
  {
   "cell_type": "code",
   "execution_count": 230,
   "metadata": {},
   "outputs": [
    {
     "data": {
      "text/plain": [
       "Data annuncio                    2020-08-31 00:00:00\n",
       "Zona                          Zona Bolognese Le Cure\n",
       "Prezzo [EUR]                                 4.2e+07\n",
       "Tipologia                                    Cascina\n",
       "Superficie [m2]                                   16\n",
       "Numero totale di locali                           50\n",
       "Numero di bagni                                    4\n",
       "Stato                              Buono / Abitabile\n",
       "Tipologia di riscaldamento                  Autonomo\n",
       "Name: 9049, dtype: object"
      ]
     },
     "execution_count": 230,
     "metadata": {},
     "output_type": "execute_result"
    }
   ],
   "source": [
    "df_final.loc[df_final['Prezzo [EUR]'].idxmax(), :]"
   ]
  }
 ],
 "metadata": {
  "kernelspec": {
   "display_name": "Python 3",
   "language": "python",
   "name": "python3"
  },
  "language_info": {
   "codemirror_mode": {
    "name": "ipython",
    "version": 3
   },
   "file_extension": ".py",
   "mimetype": "text/x-python",
   "name": "python",
   "nbconvert_exporter": "python",
   "pygments_lexer": "ipython3",
   "version": "3.7.7"
  }
 },
 "nbformat": 4,
 "nbformat_minor": 4
}
