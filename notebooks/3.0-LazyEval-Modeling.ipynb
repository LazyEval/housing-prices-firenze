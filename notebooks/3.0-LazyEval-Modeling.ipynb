{
 "cells": [
  {
   "cell_type": "code",
   "execution_count": 1,
   "metadata": {},
   "outputs": [],
   "source": [
    "import numpy as np\n",
    "import pandas as pd\n",
    "import regex as re\n",
    "import matplotlib.pyplot as plt\n",
    "import seaborn as sns\n",
    "\n",
    "from sklearn.model_selection import train_test_split\n",
    "from sklearn.preprocessing import OneHotEncoder\n",
    "from sklearn.preprocessing import StandardScaler\n",
    "\n",
    "# Import estimators\n",
    "from sklearn.linear_model import LinearRegression\n",
    "from sklearn.ensemble import RandomForestRegressor\n",
    "from sklearn.neighbors import KNeighborsRegressor\n",
    "from xgboost import XGBRegressor\n",
    "\n",
    "# Import metrics\n",
    "from sklearn.metrics import mean_absolute_error\n",
    "\n",
    "pd.set_option('display.max_columns', None)"
   ]
  },
  {
   "cell_type": "code",
   "execution_count": 2,
   "metadata": {},
   "outputs": [],
   "source": [
    "path_processed = '/home/matteo@COPPET/Documents/data_science/projects/housing_prices_firenze/data/processed/'"
   ]
  },
  {
   "cell_type": "code",
   "execution_count": 3,
   "metadata": {},
   "outputs": [
    {
     "data": {
      "text/html": [
       "<div>\n",
       "<style scoped>\n",
       "    .dataframe tbody tr th:only-of-type {\n",
       "        vertical-align: middle;\n",
       "    }\n",
       "\n",
       "    .dataframe tbody tr th {\n",
       "        vertical-align: top;\n",
       "    }\n",
       "\n",
       "    .dataframe thead th {\n",
       "        text-align: right;\n",
       "    }\n",
       "</style>\n",
       "<table border=\"1\" class=\"dataframe\">\n",
       "  <thead>\n",
       "    <tr style=\"text-align: right;\">\n",
       "      <th></th>\n",
       "      <th>Data annuncio</th>\n",
       "      <th>Zona</th>\n",
       "      <th>Tipologia</th>\n",
       "      <th>Prezzo_EUR</th>\n",
       "      <th>Prezzo_per_m2</th>\n",
       "      <th>Superficie_m2</th>\n",
       "      <th>Superficie_Bins</th>\n",
       "      <th>Numero totale di locali</th>\n",
       "      <th>Numero di bagni</th>\n",
       "      <th>Stato</th>\n",
       "      <th>Tipologia di riscaldamento</th>\n",
       "    </tr>\n",
       "  </thead>\n",
       "  <tbody>\n",
       "    <tr>\n",
       "      <th>0</th>\n",
       "      <td>2020-05-10</td>\n",
       "      <td>Bellosguardo Galluzzo</td>\n",
       "      <td>Appartamento</td>\n",
       "      <td>260000</td>\n",
       "      <td>4482.758621</td>\n",
       "      <td>58.0</td>\n",
       "      <td>(0, 60]</td>\n",
       "      <td>2</td>\n",
       "      <td>1</td>\n",
       "      <td>Ottimo / Ristrutturato</td>\n",
       "      <td>Autonomo</td>\n",
       "    </tr>\n",
       "    <tr>\n",
       "      <th>1</th>\n",
       "      <td>2020-05-10</td>\n",
       "      <td>Coverciano Bellariva</td>\n",
       "      <td>Appartamento</td>\n",
       "      <td>275000</td>\n",
       "      <td>4230.769231</td>\n",
       "      <td>65.0</td>\n",
       "      <td>(60, 80]</td>\n",
       "      <td>3</td>\n",
       "      <td>1</td>\n",
       "      <td>Ottimo / Ristrutturato</td>\n",
       "      <td>Centralizzato</td>\n",
       "    </tr>\n",
       "    <tr>\n",
       "      <th>2</th>\n",
       "      <td>2020-05-10</td>\n",
       "      <td>Firenze Nord</td>\n",
       "      <td>Appartamento</td>\n",
       "      <td>195000</td>\n",
       "      <td>3611.111111</td>\n",
       "      <td>54.0</td>\n",
       "      <td>(0, 60]</td>\n",
       "      <td>2</td>\n",
       "      <td>1</td>\n",
       "      <td>Ottimo / Ristrutturato</td>\n",
       "      <td>Centralizzato</td>\n",
       "    </tr>\n",
       "    <tr>\n",
       "      <th>3</th>\n",
       "      <td>2020-05-10</td>\n",
       "      <td>Firenze Nord</td>\n",
       "      <td>Appartamento</td>\n",
       "      <td>195000</td>\n",
       "      <td>3482.142857</td>\n",
       "      <td>56.0</td>\n",
       "      <td>(0, 60]</td>\n",
       "      <td>2</td>\n",
       "      <td>1</td>\n",
       "      <td>Ottimo / Ristrutturato</td>\n",
       "      <td>Centralizzato</td>\n",
       "    </tr>\n",
       "    <tr>\n",
       "      <th>4</th>\n",
       "      <td>2020-05-10</td>\n",
       "      <td>Campo Di Marte Liberta</td>\n",
       "      <td>Appartamento</td>\n",
       "      <td>328000</td>\n",
       "      <td>3858.823529</td>\n",
       "      <td>85.0</td>\n",
       "      <td>(80, 100]</td>\n",
       "      <td>4</td>\n",
       "      <td>1</td>\n",
       "      <td>Buono / Abitabile</td>\n",
       "      <td>Centralizzato</td>\n",
       "    </tr>\n",
       "  </tbody>\n",
       "</table>\n",
       "</div>"
      ],
      "text/plain": [
       "  Data annuncio                    Zona     Tipologia  Prezzo_EUR  \\\n",
       "0    2020-05-10   Bellosguardo Galluzzo  Appartamento      260000   \n",
       "1    2020-05-10    Coverciano Bellariva  Appartamento      275000   \n",
       "2    2020-05-10            Firenze Nord  Appartamento      195000   \n",
       "3    2020-05-10            Firenze Nord  Appartamento      195000   \n",
       "4    2020-05-10  Campo Di Marte Liberta  Appartamento      328000   \n",
       "\n",
       "   Prezzo_per_m2  Superficie_m2 Superficie_Bins  Numero totale di locali  \\\n",
       "0    4482.758621           58.0         (0, 60]                        2   \n",
       "1    4230.769231           65.0        (60, 80]                        3   \n",
       "2    3611.111111           54.0         (0, 60]                        2   \n",
       "3    3482.142857           56.0         (0, 60]                        2   \n",
       "4    3858.823529           85.0       (80, 100]                        4   \n",
       "\n",
       "   Numero di bagni                   Stato Tipologia di riscaldamento  \n",
       "0                1  Ottimo / Ristrutturato                   Autonomo  \n",
       "1                1  Ottimo / Ristrutturato              Centralizzato  \n",
       "2                1  Ottimo / Ristrutturato              Centralizzato  \n",
       "3                1  Ottimo / Ristrutturato              Centralizzato  \n",
       "4                1       Buono / Abitabile              Centralizzato  "
      ]
     },
     "execution_count": 3,
     "metadata": {},
     "output_type": "execute_result"
    }
   ],
   "source": [
    "df = pd.read_excel(path_processed+'data.xlsx')\n",
    "df.head()"
   ]
  },
  {
   "cell_type": "markdown",
   "metadata": {},
   "source": [
    "### 1. Pre-processing"
   ]
  },
  {
   "cell_type": "code",
   "execution_count": 4,
   "metadata": {},
   "outputs": [],
   "source": [
    "features = ['Zona', 'Tipologia', 'Superficie_m2', 'Numero totale di locali',\n",
    "            'Numero di bagni', 'Stato', 'Tipologia di riscaldamento']\n",
    "target = 'Prezzo_EUR'\n",
    "X = df[features]\n",
    "y = df[target]\n",
    "\n",
    "X_train, X_test, y_train, y_test = train_test_split(X, y, test_size=0.2, random_state=0)"
   ]
  },
  {
   "cell_type": "markdown",
   "metadata": {},
   "source": [
    "#### One-hot encoding"
   ]
  },
  {
   "cell_type": "code",
   "execution_count": 5,
   "metadata": {},
   "outputs": [],
   "source": [
    "cat_cols = ['Zona', 'Tipologia', 'Stato', 'Tipologia di riscaldamento']\n",
    "\n",
    "# Apply one-hot encoder to each column with categorical data\n",
    "OH_encoder = OneHotEncoder(handle_unknown='ignore')\n",
    "OH_cols_train = pd.DataFrame(OH_encoder.fit_transform(X_train[cat_cols]).toarray(),\n",
    "                             columns=OH_encoder.get_feature_names())\n",
    "OH_cols_test = pd.DataFrame(OH_encoder.transform(X_test[cat_cols]).toarray(),\n",
    "                            columns=OH_encoder.get_feature_names())\n",
    "\n",
    "# One-hot encoding removed index; put it back\n",
    "OH_cols_train.index = X_train.index\n",
    "OH_cols_test.index = X_test.index\n",
    "\n",
    "# Remove categorical columns (will replace with one-hot encoding)\n",
    "num_X_train = X_train.drop(cat_cols, axis=1)\n",
    "num_X_test = X_test.drop(cat_cols, axis=1)\n",
    "\n",
    "# Add one-hot encoded columns to numerical features\n",
    "X_train = pd.concat([num_X_train, OH_cols_train], axis=1)\n",
    "X_test = pd.concat([num_X_test, OH_cols_test], axis=1)"
   ]
  },
  {
   "cell_type": "markdown",
   "metadata": {},
   "source": [
    "#### Scaling"
   ]
  },
  {
   "cell_type": "code",
   "execution_count": 6,
   "metadata": {},
   "outputs": [],
   "source": [
    "scaler = StandardScaler()\n",
    "\n",
    "X_train['Superficie_m2'] = scaler.fit_transform(X_train[['Superficie_m2']])\n",
    "X_test['Superficie_m2'] = scaler.transform(X_test[['Superficie_m2']])"
   ]
  },
  {
   "cell_type": "markdown",
   "metadata": {},
   "source": [
    "### 2. Modeling"
   ]
  },
  {
   "cell_type": "markdown",
   "metadata": {},
   "source": [
    "####  First model"
   ]
  },
  {
   "cell_type": "code",
   "execution_count": 7,
   "metadata": {},
   "outputs": [
    {
     "name": "stdout",
     "output_type": "stream",
     "text": [
      "Training set score: 149548.55356190496\n",
      "Test set score: 142669.0535981996\n"
     ]
    }
   ],
   "source": [
    "reg = LinearRegression()\n",
    "reg.fit(X_train, y_train)\n",
    "y_train_pred = reg.predict(X_train)\n",
    "y_test_pred = reg.predict(X_test)\n",
    "\n",
    "# Train set score\n",
    "#print('Training set score: {}'.format(reg.score(X_train, y_train)))\n",
    "print('Training set score: {}'.format(mean_absolute_error(y_train, y_train_pred)))\n",
    "print('Test set score: {}'.format(mean_absolute_error(y_test, y_test_pred)))"
   ]
  },
  {
   "cell_type": "markdown",
   "metadata": {},
   "source": [
    "#### Other models"
   ]
  },
  {
   "cell_type": "code",
   "execution_count": null,
   "metadata": {},
   "outputs": [],
   "source": [
    "rdmf = RandomForestRegressor(random_state=0)\n",
    "rdmf.fit(X_train, y_train)\n",
    "\n",
    "y_train_pred = rdmf.predict(X_train)\n",
    "y_test_pred = rdmf.predict(X_test)\n",
    "\n",
    "print('Training set score: {}'.format(mean_absolute_error(y_train, y_train_pred)))\n",
    "print('Test set score: {}'.format(mean_absolute_error(y_test, y_test_pred)))"
   ]
  },
  {
   "cell_type": "code",
   "execution_count": null,
   "metadata": {},
   "outputs": [],
   "source": [
    "KNN = KNeighborsRegressor()\n",
    "KNN.fit(X_train, y_train)\n",
    "\n",
    "y_train_pred = KNN.predict(X_train)\n",
    "y_test_pred = KNN.predict(X_test)\n",
    "\n",
    "print('Training set score: {}'.format(mean_absolute_error(y_train, y_train_pred)))\n",
    "print('Test set score: {}'.format(mean_absolute_error(y_test, y_test_pred)))"
   ]
  },
  {
   "cell_type": "code",
   "execution_count": null,
   "metadata": {},
   "outputs": [],
   "source": [
    "xgb = XGBRegressor()\n",
    "xgb.fit(X_train, y_train)\n",
    "\n",
    "y_train_pred = xgb.predict(X_train)\n",
    "y_test_pred = xgb.predict(X_test)\n",
    "\n",
    "print('Training set score: {}'.format(mean_absolute_error(y_train, y_train_pred)))\n",
    "print('Test set score: {}'.format(mean_absolute_error(y_test, y_test_pred)))"
   ]
  },
  {
   "cell_type": "markdown",
   "metadata": {},
   "source": [
    "### 3. Hyperparameter tuning"
   ]
  },
  {
   "cell_type": "code",
   "execution_count": null,
   "metadata": {},
   "outputs": [],
   "source": [
    "from sklearn.model_selection import GridSearchCV\n",
    "\n",
    "# Number of trees in random forest\n",
    "n_estimators = [int(x) for x in np.linspace(start = 10, stop = 1000, num = 10)]\n",
    "# Number of features to consider at every split\n",
    "max_features = ['auto', 'sqrt']\n",
    "# Maximum number of levels in tree\n",
    "max_depth = [int(x) for x in np.linspace(10, 110, num = 11)]\n",
    "max_depth.append(None)\n",
    "# Minimum number of samples required to split a node\n",
    "min_samples_split = [2, 5, 10]\n",
    "# Minimum number of samples required at each leaf node\n",
    "min_samples_leaf = [1, 2, 4]\n",
    "# Method of selecting samples for training each tree\n",
    "bootstrap = [True, False]\n",
    "# Create the random grid\n",
    "param_grid = {'n_estimators': n_estimators,\n",
    "               'max_features': max_features,\n",
    "               'max_depth': max_depth,\n",
    "               'min_samples_split': min_samples_split,\n",
    "               'min_samples_leaf': min_samples_leaf,\n",
    "               'bootstrap': bootstrap}\n",
    "\n",
    "\n",
    "grid_search = GridSearchCV(rdmf, param_grid, cv=5, verbose=1, scoring='neg_mean_absolute_error')\n",
    "grid_search.fit(X_train, y_train)"
   ]
  },
  {
   "cell_type": "code",
   "execution_count": null,
   "metadata": {},
   "outputs": [],
   "source": []
  }
 ],
 "metadata": {
  "kernelspec": {
   "display_name": "Python 3",
   "language": "python",
   "name": "python3"
  },
  "language_info": {
   "codemirror_mode": {
    "name": "ipython",
    "version": 3
   },
   "file_extension": ".py",
   "mimetype": "text/x-python",
   "name": "python",
   "nbconvert_exporter": "python",
   "pygments_lexer": "ipython3",
   "version": "3.7.7"
  }
 },
 "nbformat": 4,
 "nbformat_minor": 4
}
