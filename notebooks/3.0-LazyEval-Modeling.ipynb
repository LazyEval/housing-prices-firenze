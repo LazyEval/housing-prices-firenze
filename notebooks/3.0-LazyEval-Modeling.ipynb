{
 "cells": [
  {
   "cell_type": "code",
   "execution_count": 29,
   "metadata": {},
   "outputs": [],
   "source": [
    "import numpy as np\n",
    "import pandas as pd\n",
    "import regex as re\n",
    "import matplotlib.pyplot as plt\n",
    "import seaborn as sns\n",
    "\n",
    "from sklearn.model_selection import train_test_split\n",
    "from sklearn.preprocessing import OneHotEncoder, OrdinalEncoder, StandardScaler\n",
    "\n",
    "# Import estimators\n",
    "from sklearn.linear_model import LinearRegression, Ridge, Lasso\n",
    "from sklearn.ensemble import RandomForestRegressor\n",
    "from sklearn.neighbors import KNeighborsRegressor\n",
    "from xgboost import XGBRegressor\n",
    "\n",
    "# Import metrics\n",
    "from sklearn.metrics import mean_absolute_error\n",
    "from sklearn.model_selection import cross_val_score\n",
    "\n",
    "pd.set_option('display.max_columns', None)"
   ]
  },
  {
   "cell_type": "code",
   "execution_count": 2,
   "metadata": {},
   "outputs": [],
   "source": [
    "path_interim = '/home/matteo@COPPET/Documents/data_science/projects/housing_prices_firenze/data/interim/'"
   ]
  },
  {
   "cell_type": "code",
   "execution_count": 3,
   "metadata": {},
   "outputs": [
    {
     "name": "stdout",
     "output_type": "stream",
     "text": [
      "<class 'pandas.core.frame.DataFrame'>\n",
      "RangeIndex: 8714 entries, 0 to 8713\n",
      "Data columns (total 59 columns):\n",
      " #   Column                                     Non-Null Count  Dtype         \n",
      "---  ------                                     --------------  -----         \n",
      " 0   Tipologia                                  8714 non-null   object        \n",
      " 1   Zona                                       8714 non-null   object        \n",
      " 2   Stato                                      8714 non-null   object        \n",
      " 3   Prezzo_EUR                                 8714 non-null   int64         \n",
      " 4   Superficie_m2                              8714 non-null   int64         \n",
      " 5   Prezzo_per_m2                              8714 non-null   float64       \n",
      " 6   Tipo_proprietà                             8714 non-null   object        \n",
      " 7   Riscaldamento_A_C                          8714 non-null   object        \n",
      " 8   Tipo_riscaldamento                         8714 non-null   object        \n",
      " 9   Alimentazione_riscaldamento                8714 non-null   object        \n",
      " 10  Classe_energetica                          8714 non-null   object        \n",
      " 11  Data_annuncio                              8714 non-null   datetime64[ns]\n",
      " 12  Ascensore                                  8714 non-null   int64         \n",
      " 13  Accesso_disabili                           8714 non-null   int64         \n",
      " 14  Piano                                      8714 non-null   object        \n",
      " 15  Posti_garage                               8714 non-null   int64         \n",
      " 16  Posti_esterni                              8714 non-null   int64         \n",
      " 17  Num_bagni                                  8714 non-null   int64         \n",
      " 18  Superficie_bins                            8714 non-null   object        \n",
      " 19  Num_tot_locali                             8714 non-null   int64         \n",
      " 20  Anno_costruzione                           8714 non-null   int64         \n",
      " 21  Fibra ottica                               8714 non-null   int64         \n",
      " 22  VideoCitofono                              8714 non-null   int64         \n",
      " 23  Porta blindata                             8714 non-null   int64         \n",
      " 24  Impianto tv singolo                        8714 non-null   int64         \n",
      " 25  Parzialmente Arredato                      8714 non-null   int64         \n",
      " 26  Infissi esterni in vetro / legno           8714 non-null   int64         \n",
      " 27  Esposizione doppia                         8714 non-null   int64         \n",
      " 28  Balcone                                    8714 non-null   int64         \n",
      " 29  Impianto tv centralizzato                  8714 non-null   int64         \n",
      " 30  Infissi esterni in doppio vetro / PVC      8714 non-null   int64         \n",
      " 31  Esposizione esterna                        8714 non-null   int64         \n",
      " 32  Terrazza                                   8714 non-null   int64         \n",
      " 33  Cancello elettrico                         8714 non-null   int64         \n",
      " 34  Cantina                                    8714 non-null   int64         \n",
      " 35  Giardino privato                           8714 non-null   int64         \n",
      " 36  Caminetto                                  8714 non-null   int64         \n",
      " 37  Portiere intera giornata                   8714 non-null   int64         \n",
      " 38  Infissi esterni in doppio vetro / legno    8714 non-null   int64         \n",
      " 39  Armadio a muro                             8714 non-null   int64         \n",
      " 40  Impianto di allarme                        8714 non-null   int64         \n",
      " 41  Mansarda                                   8714 non-null   int64         \n",
      " 42  Infissi esterni in doppio vetro / metallo  8714 non-null   int64         \n",
      " 43  Solo Cucina Arredata                       8714 non-null   int64         \n",
      " 44  Esposizione interna                        8714 non-null   int64         \n",
      " 45  Infissi esterni in vetro / PVC             8714 non-null   int64         \n",
      " 46  Giardino comune                            8714 non-null   int64         \n",
      " 47  Taverna                                    8714 non-null   int64         \n",
      " 48  Impianto tv con parabola satellitare       8714 non-null   int64         \n",
      " 49  Arredato                                   8714 non-null   int64         \n",
      " 50  Infissi esterni in triplo vetro / PVC      8714 non-null   int64         \n",
      " 51  Infissi esterni in triplo vetro / legno    8714 non-null   int64         \n",
      " 52  Infissi esterni in vetro / metallo         8714 non-null   int64         \n",
      " 53  Portiere mezza giornata                    8714 non-null   int64         \n",
      " 54  Cablato                                    8714 non-null   int64         \n",
      " 55  Idromassaggio                              8714 non-null   int64         \n",
      " 56  Reception                                  8714 non-null   int64         \n",
      " 57  Piscina                                    8714 non-null   int64         \n",
      " 58  Infissi esterni in triplo vetro / metallo  8714 non-null   int64         \n",
      "dtypes: datetime64[ns](1), float64(1), int64(47), object(10)\n",
      "memory usage: 3.9+ MB\n"
     ]
    }
   ],
   "source": [
    "df = pd.read_excel(path_interim+'data.xlsx')\n",
    "df.info()"
   ]
  },
  {
   "cell_type": "markdown",
   "metadata": {},
   "source": [
    "### 1. Pre-processing"
   ]
  },
  {
   "cell_type": "code",
   "execution_count": 4,
   "metadata": {},
   "outputs": [],
   "source": [
    "target = 'Prezzo_EUR'\n",
    "\n",
    "X = df.drop(columns=['Prezzo_per_m2', 'Data_annuncio', 'Superficie_bins']+[target])\n",
    "y = df[target].values\n",
    "\n",
    "X_train, X_test, y_train, y_test = train_test_split(X, y, test_size=0.2, random_state=0)"
   ]
  },
  {
   "cell_type": "code",
   "execution_count": 5,
   "metadata": {},
   "outputs": [
    {
     "name": "stdout",
     "output_type": "stream",
     "text": [
      "<class 'pandas.core.frame.DataFrame'>\n",
      "RangeIndex: 8714 entries, 0 to 8713\n",
      "Data columns (total 55 columns):\n",
      " #   Column                                     Non-Null Count  Dtype \n",
      "---  ------                                     --------------  ----- \n",
      " 0   Tipologia                                  8714 non-null   object\n",
      " 1   Zona                                       8714 non-null   object\n",
      " 2   Stato                                      8714 non-null   object\n",
      " 3   Superficie_m2                              8714 non-null   int64 \n",
      " 4   Tipo_proprietà                             8714 non-null   object\n",
      " 5   Riscaldamento_A_C                          8714 non-null   object\n",
      " 6   Tipo_riscaldamento                         8714 non-null   object\n",
      " 7   Alimentazione_riscaldamento                8714 non-null   object\n",
      " 8   Classe_energetica                          8714 non-null   object\n",
      " 9   Ascensore                                  8714 non-null   int64 \n",
      " 10  Accesso_disabili                           8714 non-null   int64 \n",
      " 11  Piano                                      8714 non-null   object\n",
      " 12  Posti_garage                               8714 non-null   int64 \n",
      " 13  Posti_esterni                              8714 non-null   int64 \n",
      " 14  Num_bagni                                  8714 non-null   int64 \n",
      " 15  Num_tot_locali                             8714 non-null   int64 \n",
      " 16  Anno_costruzione                           8714 non-null   int64 \n",
      " 17  Fibra ottica                               8714 non-null   int64 \n",
      " 18  VideoCitofono                              8714 non-null   int64 \n",
      " 19  Porta blindata                             8714 non-null   int64 \n",
      " 20  Impianto tv singolo                        8714 non-null   int64 \n",
      " 21  Parzialmente Arredato                      8714 non-null   int64 \n",
      " 22  Infissi esterni in vetro / legno           8714 non-null   int64 \n",
      " 23  Esposizione doppia                         8714 non-null   int64 \n",
      " 24  Balcone                                    8714 non-null   int64 \n",
      " 25  Impianto tv centralizzato                  8714 non-null   int64 \n",
      " 26  Infissi esterni in doppio vetro / PVC      8714 non-null   int64 \n",
      " 27  Esposizione esterna                        8714 non-null   int64 \n",
      " 28  Terrazza                                   8714 non-null   int64 \n",
      " 29  Cancello elettrico                         8714 non-null   int64 \n",
      " 30  Cantina                                    8714 non-null   int64 \n",
      " 31  Giardino privato                           8714 non-null   int64 \n",
      " 32  Caminetto                                  8714 non-null   int64 \n",
      " 33  Portiere intera giornata                   8714 non-null   int64 \n",
      " 34  Infissi esterni in doppio vetro / legno    8714 non-null   int64 \n",
      " 35  Armadio a muro                             8714 non-null   int64 \n",
      " 36  Impianto di allarme                        8714 non-null   int64 \n",
      " 37  Mansarda                                   8714 non-null   int64 \n",
      " 38  Infissi esterni in doppio vetro / metallo  8714 non-null   int64 \n",
      " 39  Solo Cucina Arredata                       8714 non-null   int64 \n",
      " 40  Esposizione interna                        8714 non-null   int64 \n",
      " 41  Infissi esterni in vetro / PVC             8714 non-null   int64 \n",
      " 42  Giardino comune                            8714 non-null   int64 \n",
      " 43  Taverna                                    8714 non-null   int64 \n",
      " 44  Impianto tv con parabola satellitare       8714 non-null   int64 \n",
      " 45  Arredato                                   8714 non-null   int64 \n",
      " 46  Infissi esterni in triplo vetro / PVC      8714 non-null   int64 \n",
      " 47  Infissi esterni in triplo vetro / legno    8714 non-null   int64 \n",
      " 48  Infissi esterni in vetro / metallo         8714 non-null   int64 \n",
      " 49  Portiere mezza giornata                    8714 non-null   int64 \n",
      " 50  Cablato                                    8714 non-null   int64 \n",
      " 51  Idromassaggio                              8714 non-null   int64 \n",
      " 52  Reception                                  8714 non-null   int64 \n",
      " 53  Piscina                                    8714 non-null   int64 \n",
      " 54  Infissi esterni in triplo vetro / metallo  8714 non-null   int64 \n",
      "dtypes: int64(46), object(9)\n",
      "memory usage: 3.7+ MB\n"
     ]
    }
   ],
   "source": [
    "X.info()"
   ]
  },
  {
   "cell_type": "markdown",
   "metadata": {},
   "source": [
    "#### One-hot encoding"
   ]
  },
  {
   "cell_type": "code",
   "execution_count": 6,
   "metadata": {},
   "outputs": [],
   "source": [
    "OH_cols = ['Tipologia', 'Zona', 'Stato', 'Tipo_proprietà', 'Riscaldamento_A_C', 'Tipo_riscaldamento',\n",
    "            'Alimentazione_riscaldamento', 'Piano']\n",
    "\n",
    "# Apply one-hot encoder to each column with categorical data\n",
    "OH_encoder = OneHotEncoder(handle_unknown='ignore')\n",
    "OH_cols_train = pd.DataFrame(OH_encoder.fit_transform(X_train[OH_cols]).toarray(),\n",
    "                             columns=OH_encoder.get_feature_names())\n",
    "OH_cols_test = pd.DataFrame(OH_encoder.transform(X_test[OH_cols]).toarray(),\n",
    "                            columns=OH_encoder.get_feature_names())\n",
    "\n",
    "# One-hot encoding removed index; put it back\n",
    "OH_cols_train.index = X_train.index\n",
    "OH_cols_test.index = X_test.index\n",
    "\n",
    "# Remove categorical columns (will replace with one-hot encoding)\n",
    "num_X_train = X_train.drop(OH_cols, axis=1)\n",
    "num_X_test = X_test.drop(OH_cols, axis=1)\n",
    "\n",
    "# Add one-hot encoded columns to numerical features\n",
    "X_train = pd.concat([num_X_train, OH_cols_train], axis=1)\n",
    "X_test = pd.concat([num_X_test, OH_cols_test], axis=1)"
   ]
  },
  {
   "cell_type": "markdown",
   "metadata": {},
   "source": [
    "#### Ordinal (label) encoding"
   ]
  },
  {
   "cell_type": "code",
   "execution_count": 7,
   "metadata": {},
   "outputs": [],
   "source": [
    "label_cols = ['Classe_energetica']\n",
    "\n",
    "# Apply one-hot encoder to each column with categorical data\n",
    "oe = OrdinalEncoder()\n",
    "\n",
    "for col in label_cols:\n",
    "    X_train[col] = oe.fit_transform(X_train[[col]])\n",
    "    X_test[col] = oe.transform(X_test[[col]])"
   ]
  },
  {
   "cell_type": "markdown",
   "metadata": {},
   "source": [
    "#### Scaling"
   ]
  },
  {
   "cell_type": "code",
   "execution_count": 8,
   "metadata": {},
   "outputs": [],
   "source": [
    "num_cols = ['Superficie_m2', 'Anno_costruzione']\n",
    "\n",
    "scaler = StandardScaler()\n",
    "\n",
    "X_train[num_cols] = scaler.fit_transform(X_train[num_cols])\n",
    "X_test[num_cols] = scaler.transform(X_test[num_cols])"
   ]
  },
  {
   "cell_type": "markdown",
   "metadata": {},
   "source": [
    "### 2. Modeling"
   ]
  },
  {
   "cell_type": "markdown",
   "metadata": {},
   "source": [
    "####  First model"
   ]
  },
  {
   "cell_type": "code",
   "execution_count": 24,
   "metadata": {},
   "outputs": [
    {
     "name": "stdout",
     "output_type": "stream",
     "text": [
      "Training set score: 148769.61411562187\n",
      "Mean cross validation score: 38005904955545.664\n"
     ]
    }
   ],
   "source": [
    "reg = LinearRegression()\n",
    "reg.fit(X_train, y_train)\n",
    "y_train_pred = reg.predict(X_train)\n",
    "\n",
    "# Train set score\n",
    "print('Training set score: {}'.format(mean_absolute_error(y_train, y_train_pred)))\n",
    "\n",
    "# Cross validation score\n",
    "scores = cross_val_score(reg, X_train, y_train, scoring='neg_mean_absolute_error', cv=10)\n",
    "print('Mean cross validation score: {}'.format(np.mean(-scores)))"
   ]
  },
  {
   "cell_type": "markdown",
   "metadata": {},
   "source": [
    "#### Other models"
   ]
  },
  {
   "cell_type": "code",
   "execution_count": 84,
   "metadata": {},
   "outputs": [
    {
     "name": "stdout",
     "output_type": "stream",
     "text": [
      "Training set score: 134270.5248894177\n",
      "Mean cross validation score: 142490.4077614503\n"
     ]
    }
   ],
   "source": [
    "reg = Ridge()\n",
    "reg.fit(X_train, y_train)\n",
    "y_pred = reg.predict(X_train)\n",
    "\n",
    "# Train set score\n",
    "print('Training set score: {}'.format(mean_absolute_error(y_train, y_pred)))\n",
    "\n",
    "# Cross validation score\n",
    "scores = cross_val_score(reg, X_train, y_train, scoring='neg_mean_absolute_error', cv=10)\n",
    "print('Mean cross validation score: {}'.format(np.mean(-scores)))"
   ]
  },
  {
   "cell_type": "code",
   "execution_count": 85,
   "metadata": {},
   "outputs": [
    {
     "data": {
      "text/plain": [
       "[(538515.4963498343, 'x0_Villa plurifamiliare'),\n",
       " (454713.33494423877, 'x7_oltre il decimo'),\n",
       " (371390.82714931306, 'Superficie_m2'),\n",
       " (234748.31791773022, 'Idromassaggio'),\n",
       " (233859.8474104387, 'x0_Villa unifamiliare'),\n",
       " (208797.40068658555, 'x6_gpl'),\n",
       " (201630.8145107694, 'x3_Intera proprietà, immobile di lusso'),\n",
       " (195285.74634689916, 'x1_Michelangelo Porta Romana'),\n",
       " (125896.00898778415, 'x3_Immobile di lusso'),\n",
       " (107770.77421905752, 'x1_Centro'),\n",
       " (97019.00406639383, 'x1_Oltrarno'),\n",
       " (87354.07750434086, 'x0_Rustico'),\n",
       " (79446.88526254949, 'Num_bagni'),\n",
       " (73348.76070500573, 'x1_Bellosguardo Galluzzo'),\n",
       " (66381.31013966672, 'x0_Terratetto unifamiliare'),\n",
       " (64739.035269447006, 'Impianto tv con parabola satellitare'),\n",
       " (59768.09503566343, 'Ascensore'),\n",
       " (52393.8190866692, 'x3_Classe immobile signorile'),\n",
       " (48575.88542701509, 'Esposizione esterna'),\n",
       " (40813.76019687193, 'Num_tot_locali'),\n",
       " (39688.061807218575, 'Parzialmente Arredato'),\n",
       " (34149.11162533445, 'x7_ultimo'),\n",
       " (33629.197626370995, 'Arredato'),\n",
       " (32394.68725539744, 'x5_pavimento'),\n",
       " (29757.93486830826, 'Cancello elettrico'),\n",
       " (26373.688038830842, 'x3_Intera proprietà, classe immobile signorile'),\n",
       " (23830.88245335481, 'Piscina'),\n",
       " (22123.92653304513, 'x0_Villa a schiera'),\n",
       " (20660.142673070033, 'x0_Terratetto plurifamiliare'),\n",
       " (20489.897454891707, 'x3_Intera proprietà, classe immobile media'),\n",
       " (18077.816718064478, 'x0_Attico'),\n",
       " (17541.902420453935, 'Terrazza'),\n",
       " (17129.884068747193, 'Giardino privato'),\n",
       " (16879.010118430815, 'x7_1°'),\n",
       " (13639.52966294697, 'x3_Intera proprietà, classe immobile economica'),\n",
       " (13504.560753347432, 'x2_Ottimo / Ristrutturato'),\n",
       " (13261.321775843884, 'Esposizione interna'),\n",
       " (13106.551765539969, 'Impianto di allarme'),\n",
       " (12320.810253285368, 'x2_Nuovo / In costruzione'),\n",
       " (12263.923217253674, 'x6_pellet'),\n",
       " (12205.207433872474, 'x4_Centralizzato'),\n",
       " (9662.893599469917, 'Caminetto'),\n",
       " (2599.0309392324057, 'x0_Villa bifamiliare'),\n",
       " (2365.424853617409, 'x7_9°'),\n",
       " (-545.9530740007626, 'Esposizione doppia'),\n",
       " (-647.7313092190489, 'x1_Settignano Rovezzano'),\n",
       " (-984.5790905643186, 'Accesso_disabili'),\n",
       " (-1061.7864244523143, 'Posti_esterni'),\n",
       " (-1492.3940778115586, 'x0_Ufficio'),\n",
       " (-1792.009179620599, 'x5_radiatori'),\n",
       " (-2744.506966017138, 'x3_Nuda proprietà, classe immobile signorile'),\n",
       " (-3522.3863368388943, 'x2_Da ristrutturare'),\n",
       " (-6782.201172379447, 'Classe_energetica'),\n",
       " (-7661.051447755136, 'VideoCitofono'),\n",
       " (-8336.640869942627, 'x7_5°'),\n",
       " (-9165.853068275846, 'x3_Intera proprietà'),\n",
       " (-9525.258989347592, 'Solo Cucina Arredata'),\n",
       " (-10407.693873979573, 'x5_stufa'),\n",
       " (-10410.195855260248, 'x1_Campo Di Marte Liberta'),\n",
       " (-12205.20743389858, 'x4_Autonomo'),\n",
       " (-12956.209169335729, 'Portiere mezza giornata'),\n",
       " (-13043.905683059686, 'x1_Zona Firenze Sud'),\n",
       " (-13253.293848764284, 'x6_gas'),\n",
       " (-13858.399929209736, 'Portiere intera giornata'),\n",
       " (-14731.660433898429, 'Impianto tv centralizzato'),\n",
       " (-15188.081328326387, 'x1_Leopoldo Porta Al Prato'),\n",
       " (-15753.546242062574, 'Impianto tv singolo'),\n",
       " (-16446.20534888045, 'Balcone'),\n",
       " (-18441.320662822658, 'Infissi esterni in doppio vetro / PVC'),\n",
       " (-19022.367222269266, 'Giardino comune'),\n",
       " (-19813.482773827836, 'Reception'),\n",
       " (-20194.984201735886, 'x5_aria'),\n",
       " (-20213.64559284776, 'x1_Coverciano Bellariva'),\n",
       " (-20489.131223208886, 'Porta blindata'),\n",
       " (-20783.32982692573, 'Infissi esterni in triplo vetro / PVC'),\n",
       " (-21634.76446864512, 'x7_4°'),\n",
       " (-22302.98466949955, 'x2_Buono / Abitabile'),\n",
       " (-25021.785094528834, 'Taverna'),\n",
       " (-25207.758491580465, 'Anno_costruzione'),\n",
       " (-25297.942798436896, 'x3_Classe immobile media'),\n",
       " (-25403.356993614543, 'x7_7°'),\n",
       " (-26077.362089540322, 'Cantina'),\n",
       " (-26084.22135698876, 'x3_Classe immobile economica'),\n",
       " (-26604.765244161455, 'Posti_garage'),\n",
       " (-28094.796825623347, 'x6_elettrica'),\n",
       " (-28326.33815471589, 'x6_metano'),\n",
       " (-28555.45020396042, 'x7_3°'),\n",
       " (-30522.402436186887, 'x7_rialzato'),\n",
       " (-32233.607370836075, 'x1_Zona Bolognese Le Cure'),\n",
       " (-34167.4862777888, 'Infissi esterni in vetro / PVC'),\n",
       " (-35279.35236811969, 'Fibra ottica'),\n",
       " (-39378.820920616636, 'x6_pompa di calore'),\n",
       " (-40099.886978930015, 'Infissi esterni in triplo vetro / legno'),\n",
       " (-40593.54804367452, 'x7_2°'),\n",
       " (-40930.36456828988, 'x7_terra'),\n",
       " (-41079.30887822656, 'x6_fotovoltaico'),\n",
       " (-41521.06937909311, 'Mansarda'),\n",
       " (-41908.94994124743, 'x0_Mansarda'),\n",
       " (-42101.31337142346, 'x0_Appartamento'),\n",
       " (-42499.563010491285, 'x1_Legnaia Soffiano'),\n",
       " (-45414.70237859742, 'Armadio a muro'),\n",
       " (-47482.73703052958, 'Infissi esterni in doppio vetro / legno'),\n",
       " (-47836.11645507468, 'x3_Nuda proprietà, classe immobile media'),\n",
       " (-51486.16862551079, 'x7_6°'),\n",
       " (-52293.36121843897, 'x1_Serpiolle Careggi'),\n",
       " (-54870.699479903895, 'x7_ammezzato'),\n",
       " (-59526.06063348936, 'Infissi esterni in doppio vetro / metallo'),\n",
       " (-59668.81715680233, 'x3_Nuda proprietà, classe immobile economica'),\n",
       " (-60090.36101920306, 'x7_più livelli'),\n",
       " (-67945.86888988556, \"x1_L'Isolotto\"),\n",
       " (-68398.26819847766, 'Infissi esterni in vetro / legno'),\n",
       " (-68813.47549979473, 'x7_8°'),\n",
       " (-70928.76527566717, 'x6_solare'),\n",
       " (-72929.38483905535, 'x1_Firenze Nord'),\n",
       " (-76869.64933259235, 'x7_interrato'),\n",
       " (-76949.90803345664, 'x0_Casa colonica'),\n",
       " (-77163.17225257875, 'Infissi esterni in vetro / metallo'),\n",
       " (-78141.8264270087, 'x3_Nuda proprietà, immobile di lusso'),\n",
       " (-82174.59111509491, 'x0_Appartamento in villa'),\n",
       " (-83965.67630802703, 'x3_Multiproprietà, classe immobile media'),\n",
       " (-87750.07350738827, 'x0_Open space'),\n",
       " (-104192.10086466337, 'x0_Loft'),\n",
       " (-107518.7972053022, 'x3_Nuda proprietà'),\n",
       " (-139313.47389058222, 'x0_Bed & Breakfast'),\n",
       " (-146018.9402404454, 'x1_Ugnano Mantignano'),\n",
       " (-152013.05352916144, 'Infissi esterni in triplo vetro / metallo'),\n",
       " (-153391.44237414218, 'Cablato'),\n",
       " (-413688.84346600564, 'x0_Casale')]"
      ]
     },
     "execution_count": 85,
     "metadata": {},
     "output_type": "execute_result"
    }
   ],
   "source": [
    "# Random forest feature importance\n",
    "feature_coefs = reg.coef_\n",
    "attributes = X_train.columns\n",
    "sorted(zip(feature_coefs, attributes), reverse=True)"
   ]
  },
  {
   "cell_type": "code",
   "execution_count": 74,
   "metadata": {},
   "outputs": [],
   "source": [
    "# Regularization parameter\n",
    "alphas = []\n",
    "train_scores = []\n",
    "test_scores = []\n",
    "for i in range(100):\n",
    "    alpha = i\n",
    "    alphas.append(alpha)\n",
    "    \n",
    "    reg = Ridge(alpha=alpha)\n",
    "    reg.fit(X_train, y_train)\n",
    "    y_pred = reg.predict(X_train)\n",
    "    train_scores.append(mean_absolute_error(y_train, y_pred))\n",
    "    scores = cross_val_score(reg, X_train, y_train, scoring='neg_mean_absolute_error', cv=5)\n",
    "    test_scores.append(np.mean(-scores))"
   ]
  },
  {
   "cell_type": "code",
   "execution_count": 77,
   "metadata": {},
   "outputs": [
    {
     "data": {
      "image/png": "[encoded data removed]",
      "text/plain": [
       "<Figure size 432x288 with 1 Axes>"
      ]
     },
     "metadata": {
      "needs_background": "light"
     },
     "output_type": "display_data"
    }
   ],
   "source": [
    "plt.plot(alphas[1:], train_scores[1:])\n",
    "plt.plot(alphas[1:], test_scores[1:])\n",
    "plt.show()"
   ]
  },
  {
   "cell_type": "code",
   "execution_count": 30,
   "metadata": {
    "collapsed": true
   },
   "outputs": [
    {
     "name": "stderr",
     "output_type": "stream",
     "text": [
      "/home/matteo@COPPET/anaconda3/lib/python3.7/site-packages/sklearn/linear_model/_coordinate_descent.py:476: ConvergenceWarning: Objective did not converge. You might want to increase the number of iterations. Duality gap: 294256209030270.25, tolerance: 323802548661.7974\n",
      "  positive)\n"
     ]
    },
    {
     "name": "stdout",
     "output_type": "stream",
     "text": [
      "Training set score: 134298.75251692176\n"
     ]
    },
    {
     "name": "stderr",
     "output_type": "stream",
     "text": [
      "/home/matteo@COPPET/anaconda3/lib/python3.7/site-packages/sklearn/linear_model/_coordinate_descent.py:476: ConvergenceWarning: Objective did not converge. You might want to increase the number of iterations. Duality gap: 280245677571575.0, tolerance: 301651268060.2119\n",
      "  positive)\n",
      "/home/matteo@COPPET/anaconda3/lib/python3.7/site-packages/sklearn/linear_model/_coordinate_descent.py:476: ConvergenceWarning: Objective did not converge. You might want to increase the number of iterations. Duality gap: 159401609318114.12, tolerance: 239221608188.34763\n",
      "  positive)\n",
      "/home/matteo@COPPET/anaconda3/lib/python3.7/site-packages/sklearn/linear_model/_coordinate_descent.py:476: ConvergenceWarning: Objective did not converge. You might want to increase the number of iterations. Duality gap: 287881906257126.1, tolerance: 307594327501.8054\n",
      "  positive)\n",
      "/home/matteo@COPPET/anaconda3/lib/python3.7/site-packages/sklearn/linear_model/_coordinate_descent.py:476: ConvergenceWarning: Objective did not converge. You might want to increase the number of iterations. Duality gap: 201839813808556.5, tolerance: 229644056705.8218\n",
      "  positive)\n",
      "/home/matteo@COPPET/anaconda3/lib/python3.7/site-packages/sklearn/linear_model/_coordinate_descent.py:476: ConvergenceWarning: Objective did not converge. You might want to increase the number of iterations. Duality gap: 334522022685825.56, tolerance: 309843673096.6283\n",
      "  positive)\n",
      "/home/matteo@COPPET/anaconda3/lib/python3.7/site-packages/sklearn/linear_model/_coordinate_descent.py:476: ConvergenceWarning: Objective did not converge. You might want to increase the number of iterations. Duality gap: 138239196105470.38, tolerance: 289707176225.08203\n",
      "  positive)\n",
      "/home/matteo@COPPET/anaconda3/lib/python3.7/site-packages/sklearn/linear_model/_coordinate_descent.py:476: ConvergenceWarning: Objective did not converge. You might want to increase the number of iterations. Duality gap: 336421315176060.06, tolerance: 310271027303.11163\n",
      "  positive)\n",
      "/home/matteo@COPPET/anaconda3/lib/python3.7/site-packages/sklearn/linear_model/_coordinate_descent.py:476: ConvergenceWarning: Objective did not converge. You might want to increase the number of iterations. Duality gap: 144017240204928.75, tolerance: 306182404632.1799\n",
      "  positive)\n",
      "/home/matteo@COPPET/anaconda3/lib/python3.7/site-packages/sklearn/linear_model/_coordinate_descent.py:476: ConvergenceWarning: Objective did not converge. You might want to increase the number of iterations. Duality gap: 167767502097130.84, tolerance: 307532299099.6803\n",
      "  positive)\n"
     ]
    },
    {
     "name": "stdout",
     "output_type": "stream",
     "text": [
      "Mean cross validation score: 143012.18043608216\n"
     ]
    },
    {
     "name": "stderr",
     "output_type": "stream",
     "text": [
      "/home/matteo@COPPET/anaconda3/lib/python3.7/site-packages/sklearn/linear_model/_coordinate_descent.py:476: ConvergenceWarning: Objective did not converge. You might want to increase the number of iterations. Duality gap: 184686355985631.62, tolerance: 312544274490.1888\n",
      "  positive)\n"
     ]
    }
   ],
   "source": [
    "reg = Lasso()\n",
    "reg.fit(X_train, y_train)\n",
    "y_pred = reg.predict(X_train)\n",
    "\n",
    "# Train set score\n",
    "print('Training set score: {}'.format(mean_absolute_error(y_train, y_pred)))\n",
    "\n",
    "# Cross validation score\n",
    "scores = cross_val_score(reg, X_train, y_train, scoring='neg_mean_absolute_error', cv=10)\n",
    "print('Mean cross validation score: {}'.format(np.mean(-scores)))"
   ]
  },
  {
   "cell_type": "code",
   "execution_count": 82,
   "metadata": {},
   "outputs": [
    {
     "name": "stdout",
     "output_type": "stream",
     "text": [
      "Training set score: 36045.64445416727\n",
      "Mean cross validation score: 97456.61315403129\n"
     ]
    }
   ],
   "source": [
    "reg = RandomForestRegressor(random_state=0)\n",
    "reg.fit(X_train, y_train)\n",
    "y_pred = reg.predict(X_train)\n",
    "\n",
    "# Train set score\n",
    "print('Training set score: {}'.format(mean_absolute_error(y_train, y_pred)))\n",
    "\n",
    "# Cross validation score\n",
    "scores = cross_val_score(reg, X_train, y_train, scoring='neg_mean_absolute_error', cv=10)\n",
    "print('Mean cross validation score: {}'.format(np.mean(-scores)))"
   ]
  },
  {
   "cell_type": "code",
   "execution_count": 83,
   "metadata": {},
   "outputs": [
    {
     "data": {
      "text/plain": [
       "[(0.7128576173627005, 'Superficie_m2'),\n",
       " (0.05971292549167245, 'Num_tot_locali'),\n",
       " (0.026878987619415814, 'Anno_costruzione'),\n",
       " (0.012000923856407475, 'Classe_energetica'),\n",
       " (0.010877956546898595, 'x5_pavimento'),\n",
       " (0.010446524867845726, 'Num_bagni'),\n",
       " (0.00923021664555915, 'x0_Terratetto unifamiliare'),\n",
       " (0.008977964334643197, 'x1_Centro'),\n",
       " (0.00803110723715981, 'Posti_garage'),\n",
       " (0.006572787244345783, 'Cancello elettrico'),\n",
       " (0.005949815900075459, 'Posti_esterni'),\n",
       " (0.005294476049667009, 'x2_Ottimo / Ristrutturato'),\n",
       " (0.005106617119168791, 'x7_2°'),\n",
       " (0.005016847518340256, 'Armadio a muro'),\n",
       " (0.004664196478893984, 'x2_Buono / Abitabile'),\n",
       " (0.0041803619411379805, 'x7_1°'),\n",
       " (0.003976660907409468, 'Infissi esterni in vetro / legno'),\n",
       " (0.0038232443194036476, 'Ascensore'),\n",
       " (0.0038156730505218743, 'Impianto di allarme'),\n",
       " (0.003462237536005478, 'Giardino privato'),\n",
       " (0.003324422277875946, 'Esposizione esterna'),\n",
       " (0.003225490344841157, 'x3_Intera proprietà, classe immobile signorile'),\n",
       " (0.0031636983020162605, 'Esposizione doppia'),\n",
       " (0.0030739752109526907, 'Cantina'),\n",
       " (0.0030731500690809196, 'x1_Michelangelo Porta Romana'),\n",
       " (0.0028926877788042894, 'Arredato'),\n",
       " (0.0028526241409901425, 'Accesso_disabili'),\n",
       " (0.0027717521181975747, 'x0_Villa unifamiliare'),\n",
       " (0.002618111630269958, 'Mansarda'),\n",
       " (0.002574911596217373, 'Taverna'),\n",
       " (0.002354752692669019, 'Impianto tv singolo'),\n",
       " (0.002251107928087792, 'Terrazza'),\n",
       " (0.0022103115460972013, 'x1_Oltrarno'),\n",
       " (0.0021518798303326887, 'x4_Autonomo'),\n",
       " (0.002085628204624435, 'Idromassaggio'),\n",
       " (0.002029779069427451, 'x5_radiatori'),\n",
       " (0.001884732140166532, 'Fibra ottica'),\n",
       " (0.0018325345326234118, 'x2_Da ristrutturare'),\n",
       " (0.0018250048334014462, 'VideoCitofono'),\n",
       " (0.0018115548065618648, 'x3_Intera proprietà, immobile di lusso'),\n",
       " (0.0016656475427882056, 'x7_terra'),\n",
       " (0.001559769666254559, 'x1_Firenze Nord'),\n",
       " (0.001435296734350683, 'x7_ultimo'),\n",
       " (0.0013933062407788085, 'Parzialmente Arredato'),\n",
       " (0.0013683599431763864, 'x1_Bellosguardo Galluzzo'),\n",
       " (0.0013217349185670776, 'x6_gpl'),\n",
       " (0.0012976949732504941, 'Balcone'),\n",
       " (0.001290465743445262, 'x1_Campo Di Marte Liberta'),\n",
       " (0.0012601466233773586, 'x7_3°'),\n",
       " (0.001206061422909491, 'Porta blindata'),\n",
       " (0.0011101541503409926, 'Infissi esterni in doppio vetro / legno'),\n",
       " (0.0010866587203176255, 'Piscina'),\n",
       " (0.0010761566408993908, 'Caminetto'),\n",
       " (0.0010233278764186934, 'x1_Zona Bolognese Le Cure'),\n",
       " (0.0009304456181250522, 'Impianto tv con parabola satellitare'),\n",
       " (0.0009210172548981324, 'x1_Settignano Rovezzano'),\n",
       " (0.0009155046414742063, 'x3_Intera proprietà, classe immobile media'),\n",
       " (0.000858353176041345, 'x3_Classe immobile signorile'),\n",
       " (0.0008579054911862688, 'x1_Legnaia Soffiano'),\n",
       " (0.000823609918320893, 'x2_Nuovo / In costruzione'),\n",
       " (0.0008139793831560019, 'Esposizione interna'),\n",
       " (0.000780462242901772, 'x7_4°'),\n",
       " (0.0007596914068320877, 'Impianto tv centralizzato'),\n",
       " (0.0007470274719317287, 'x4_Centralizzato'),\n",
       " (0.0007275465393678225, 'Infissi esterni in doppio vetro / PVC'),\n",
       " (0.0007225066838969429, 'x0_Appartamento'),\n",
       " (0.0007198375643306075, 'x0_Attico'),\n",
       " (0.0005768002941673816, 'x1_Serpiolle Careggi'),\n",
       " (0.0005535391289762255, 'x0_Casa colonica'),\n",
       " (0.0005487646018181046, 'x1_Zona Firenze Sud'),\n",
       " (0.0005279217744897101, 'x0_Villa plurifamiliare'),\n",
       " (0.0005251667261552812, 'x6_metano'),\n",
       " (0.0005149381518642837, 'x7_più livelli'),\n",
       " (0.000511627031698092, 'x1_Coverciano Bellariva'),\n",
       " (0.0004962580202019347, 'x6_gas'),\n",
       " (0.0004689216494647899, 'x1_Leopoldo Porta Al Prato'),\n",
       " (0.00046663830801667533, 'x3_Intera proprietà'),\n",
       " (0.00044286087571799475, 'x3_Nuda proprietà, classe immobile signorile'),\n",
       " (0.00041711704957380713, 'Giardino comune'),\n",
       " (0.0003620471299744507, 'x7_5°'),\n",
       " (0.00035971117492754947, 'x5_aria'),\n",
       " (0.00030159766340163307, 'Portiere intera giornata'),\n",
       " (0.00028184648064452964, 'x7_rialzato'),\n",
       " (0.00025969752122687576, 'Infissi esterni in vetro / PVC'),\n",
       " (0.00025047648612729957, 'x7_oltre il decimo'),\n",
       " (0.00022653488857065436, 'x0_Terratetto plurifamiliare'),\n",
       " (0.0002144371150851842, 'x7_interrato'),\n",
       " (0.00020269124413430843, \"x1_L'Isolotto\"),\n",
       " (0.00019546032355841363, 'x3_Intera proprietà, classe immobile economica'),\n",
       " (0.00018031685986186506, 'x0_Villa bifamiliare'),\n",
       " (0.0001771215058911292, 'x7_ammezzato'),\n",
       " (0.00017160900431863774, 'x3_Immobile di lusso'),\n",
       " (0.00010410345489799132, 'x0_Rustico'),\n",
       " (9.993317003465283e-05, 'Infissi esterni in triplo vetro / legno'),\n",
       " (9.623839140666216e-05, 'x0_Open space'),\n",
       " (9.623715886187169e-05, 'x1_Ugnano Mantignano'),\n",
       " (8.043059448037637e-05, 'x3_Nuda proprietà, classe immobile media'),\n",
       " (8.020711416537111e-05, 'x0_Loft'),\n",
       " (6.785214304945329e-05, 'x3_Classe immobile media'),\n",
       " (6.694848392567146e-05, 'x0_Villa a schiera'),\n",
       " (6.142571867426695e-05, 'x7_7°'),\n",
       " (5.85588635305972e-05, 'x0_Casale'),\n",
       " (5.391567920177585e-05, 'Portiere mezza giornata'),\n",
       " (4.261140819122454e-05, 'x6_pompa di calore'),\n",
       " (3.704101165415342e-05, 'x3_Classe immobile economica'),\n",
       " (3.6551884425308864e-05, 'Infissi esterni in triplo vetro / PVC'),\n",
       " (3.634317050109972e-05, 'x3_Nuda proprietà, classe immobile economica'),\n",
       " (3.626193208331483e-05, 'Infissi esterni in vetro / metallo'),\n",
       " (3.3923868953464156e-05, 'Solo Cucina Arredata'),\n",
       " (3.1068733356907795e-05, 'Infissi esterni in doppio vetro / metallo'),\n",
       " (1.7610409279069697e-05, 'x6_pellet'),\n",
       " (1.5696452164216016e-05, 'x7_8°'),\n",
       " (1.3451232413187386e-05, 'x7_6°'),\n",
       " (1.307416520967777e-05, 'x0_Appartamento in villa'),\n",
       " (6.1285231851826106e-06, 'x3_Multiproprietà, classe immobile media'),\n",
       " (5.139860432991769e-06, 'Reception'),\n",
       " (5.095424363489469e-06, 'x0_Bed & Breakfast'),\n",
       " (3.5583979354179624e-06, 'x6_elettrica'),\n",
       " (1.4378244610956325e-06, 'x6_solare'),\n",
       " (1.3448620805214673e-06, 'x7_9°'),\n",
       " (1.2575284516907929e-06, 'x3_Nuda proprietà'),\n",
       " (1.1703306498613804e-06, 'x0_Mansarda'),\n",
       " (1.1113786293818864e-06, 'x6_fotovoltaico'),\n",
       " (9.724899362419814e-07, 'Infissi esterni in triplo vetro / metallo'),\n",
       " (7.496187002600029e-07, 'x5_stufa'),\n",
       " (2.709429831898662e-07, 'x3_Nuda proprietà, immobile di lusso'),\n",
       " (1.3844420155889328e-07, 'Cablato'),\n",
       " (1.1865381360384021e-07, 'x0_Ufficio')]"
      ]
     },
     "execution_count": 83,
     "metadata": {},
     "output_type": "execute_result"
    }
   ],
   "source": [
    "# Random forest feature importance\n",
    "feature_importances = reg.feature_importances_\n",
    "attributes = X_train.columns\n",
    "sorted(zip(feature_importances, attributes), reverse=True)"
   ]
  },
  {
   "cell_type": "code",
   "execution_count": 27,
   "metadata": {},
   "outputs": [
    {
     "name": "stdout",
     "output_type": "stream",
     "text": [
      "Training set score: 98228.48374695166\n",
      "Mean cross validation score: 122690.10215183368\n"
     ]
    }
   ],
   "source": [
    "reg = KNeighborsRegressor()\n",
    "reg.fit(X_train, y_train)\n",
    "y_pred = reg.predict(X_train)\n",
    "\n",
    "# Train set score\n",
    "print('Training set score: {}'.format(mean_absolute_error(y_train, y_pred)))\n",
    "\n",
    "# Cross validation score\n",
    "scores = cross_val_score(reg, X_train, y_train, scoring='neg_mean_absolute_error', cv=10)\n",
    "print('Mean cross validation score: {}'.format(np.mean(-scores)))"
   ]
  },
  {
   "cell_type": "code",
   "execution_count": 78,
   "metadata": {},
   "outputs": [
    {
     "name": "stdout",
     "output_type": "stream",
     "text": [
      "[19:49:11] WARNING: src/objective/regression_obj.cu:152: reg:linear is now deprecated in favor of reg:squarederror.\n",
      "Training set score: 85039.3763627887\n",
      "[19:49:12] WARNING: src/objective/regression_obj.cu:152: reg:linear is now deprecated in favor of reg:squarederror.\n",
      "[19:49:14] WARNING: src/objective/regression_obj.cu:152: reg:linear is now deprecated in favor of reg:squarederror.\n",
      "[19:49:16] WARNING: src/objective/regression_obj.cu:152: reg:linear is now deprecated in favor of reg:squarederror.\n",
      "[19:49:17] WARNING: src/objective/regression_obj.cu:152: reg:linear is now deprecated in favor of reg:squarederror.\n",
      "[19:49:19] WARNING: src/objective/regression_obj.cu:152: reg:linear is now deprecated in favor of reg:squarederror.\n",
      "[19:49:20] WARNING: src/objective/regression_obj.cu:152: reg:linear is now deprecated in favor of reg:squarederror.\n",
      "[19:49:22] WARNING: src/objective/regression_obj.cu:152: reg:linear is now deprecated in favor of reg:squarederror.\n",
      "[19:49:24] WARNING: src/objective/regression_obj.cu:152: reg:linear is now deprecated in favor of reg:squarederror.\n",
      "[19:49:25] WARNING: src/objective/regression_obj.cu:152: reg:linear is now deprecated in favor of reg:squarederror.\n",
      "[19:49:27] WARNING: src/objective/regression_obj.cu:152: reg:linear is now deprecated in favor of reg:squarederror.\n",
      "Mean cross validation score: 102868.04049930301\n"
     ]
    }
   ],
   "source": [
    "reg = XGBRegressor(random_state=0)\n",
    "reg.fit(X_train, y_train)\n",
    "y_pred = reg.predict(X_train)\n",
    "\n",
    "# Train set score\n",
    "print('Training set score: {}'.format(mean_absolute_error(y_train, y_pred)))\n",
    "\n",
    "# Cross validation score\n",
    "scores = cross_val_score(reg, X_train, y_train, scoring='neg_mean_absolute_error', cv=10)\n",
    "print('Mean cross validation score: {}'.format(np.mean(-scores)))"
   ]
  },
  {
   "cell_type": "markdown",
   "metadata": {},
   "source": [
    "### 3. Hyperparameter tuning"
   ]
  },
  {
   "cell_type": "code",
   "execution_count": null,
   "metadata": {},
   "outputs": [],
   "source": [
    "from sklearn.model_selection import GridSearchCV\n",
    "\n",
    "# Number of trees in random forest\n",
    "n_estimators = [int(x) for x in np.linspace(start = 10, stop = 1000, num = 10)]\n",
    "# Number of features to consider at every split\n",
    "max_features = ['auto', 'sqrt']\n",
    "# Maximum number of levels in tree\n",
    "max_depth = [int(x) for x in np.linspace(10, 110, num = 11)]\n",
    "max_depth.append(None)\n",
    "# Minimum number of samples required to split a node\n",
    "min_samples_split = [2, 5, 10]\n",
    "# Minimum number of samples required at each leaf node\n",
    "min_samples_leaf = [1, 2, 4]\n",
    "# Method of selecting samples for training each tree\n",
    "bootstrap = [True, False]\n",
    "# Create the random grid\n",
    "param_grid = {'n_estimators': n_estimators,\n",
    "               'max_features': max_features,\n",
    "               'max_depth': max_depth,\n",
    "               'min_samples_split': min_samples_split,\n",
    "               'min_samples_leaf': min_samples_leaf,\n",
    "               'bootstrap': bootstrap}\n",
    "\n",
    "\n",
    "grid_search = GridSearchCV(rdmf, param_grid, cv=5, verbose=1, scoring='neg_mean_absolute_error')\n",
    "grid_search.fit(X_train, y_train)"
   ]
  },
  {
   "cell_type": "code",
   "execution_count": null,
   "metadata": {},
   "outputs": [],
   "source": []
  }
 ],
 "metadata": {
  "kernelspec": {
   "display_name": "Python 3",
   "language": "python",
   "name": "python3"
  },
  "language_info": {
   "codemirror_mode": {
    "name": "ipython",
    "version": 3
   },
   "file_extension": ".py",
   "mimetype": "text/x-python",
   "name": "python",
   "nbconvert_exporter": "python",
   "pygments_lexer": "ipython3",
   "version": "3.7.7"
  }
 },
 "nbformat": 4,
 "nbformat_minor": 4
}
