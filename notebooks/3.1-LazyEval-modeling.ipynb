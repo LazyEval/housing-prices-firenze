{
 "cells": [
  {
   "cell_type": "code",
   "execution_count": 1,
   "metadata": {},
   "outputs": [],
   "source": [
    "import numpy as np\n",
    "import pandas as pd\n",
    "import re\n",
    "import matplotlib.pyplot as plt\n",
    "import seaborn as sns\n",
    "\n",
    "from sklearn.model_selection import train_test_split\n",
    "from sklearn.pipeline import Pipeline\n",
    "\n",
    "# Import estimators\n",
    "from sklearn.linear_model import LinearRegression, Ridge, Lasso\n",
    "from sklearn.ensemble import RandomForestRegressor\n",
    "from sklearn.neighbors import KNeighborsRegressor\n",
    "\n",
    "# Import metrics\n",
    "from sklearn.metrics import mean_absolute_error\n",
    "from sklearn.model_selection import cross_val_score\n",
    "\n",
    "# Import preprocessing pipeline\n",
    "from src.features import preprocessing_pipeline\n",
    "\n",
    "pd.set_option('display.max_columns', None)\n",
    "\n",
    "%load_ext autoreload\n",
    "%autoreload 2\n",
    "\n",
    "path_processed = '/home/matteo@COPPET/Documents/data_science/projects/housing_prices_firenze/data/processed/'"
   ]
  },
  {
   "cell_type": "code",
   "execution_count": 2,
   "metadata": {
    "collapsed": true
   },
   "outputs": [
    {
     "name": "stdout",
     "output_type": "stream",
     "text": [
      "<class 'pandas.core.frame.DataFrame'>\n",
      "RangeIndex: 8714 entries, 0 to 8713\n",
      "Data columns (total 57 columns):\n",
      " #   Column                                     Non-Null Count  Dtype  \n",
      "---  ------                                     --------------  -----  \n",
      " 0   Tipologia                                  8714 non-null   object \n",
      " 1   Tipo_proprietà                             8277 non-null   object \n",
      " 2   Zona                                       8714 non-null   object \n",
      " 3   Anno_costruzione                           6334 non-null   float64\n",
      " 4   Stato                                      8483 non-null   object \n",
      " 5   Prezzo_EUR                                 8714 non-null   float64\n",
      " 6   Superficie_m2                              8714 non-null   float64\n",
      " 7   Prezzo_per_m2                              8714 non-null   float64\n",
      " 8   Riscaldamento_A_C                          8714 non-null   object \n",
      " 9   Tipo_riscaldamento                         6760 non-null   object \n",
      " 10  Alimentazione_riscaldamento                6439 non-null   object \n",
      " 11  Classe_energetica                          7505 non-null   object \n",
      " 12  Ascensore                                  8714 non-null   float64\n",
      " 13  Accesso_disabili                           8714 non-null   float64\n",
      " 14  Piano                                      8560 non-null   object \n",
      " 15  Posti_garage                               8714 non-null   float64\n",
      " 16  Posti_esterni                              8714 non-null   float64\n",
      " 17  Num_bagni                                  8609 non-null   float64\n",
      " 18  Num_tot_locali                             8693 non-null   float64\n",
      " 19  Fibra_ottica                               8714 non-null   float64\n",
      " 20  VideoCitofono                              8714 non-null   float64\n",
      " 21  Porta_blindata                             8714 non-null   float64\n",
      " 22  Impianto_tv_singolo                        8714 non-null   float64\n",
      " 23  Parzialmente_Arredato                      8714 non-null   float64\n",
      " 24  Infissi_esterni_in_vetro_/_legno           8714 non-null   float64\n",
      " 25  Esposizione_doppia                         8714 non-null   float64\n",
      " 26  Balcone                                    8714 non-null   float64\n",
      " 27  Impianto_tv_centralizzato                  8714 non-null   float64\n",
      " 28  Infissi_esterni_in_doppio_vetro_/_PVC      8714 non-null   float64\n",
      " 29  Esposizione_esterna                        8714 non-null   float64\n",
      " 30  Terrazza                                   8714 non-null   float64\n",
      " 31  Cancello_elettrico                         8714 non-null   float64\n",
      " 32  Cantina                                    8714 non-null   float64\n",
      " 33  Giardino_privato                           8714 non-null   float64\n",
      " 34  Caminetto                                  8714 non-null   float64\n",
      " 35  Portiere_intera_giornata                   8714 non-null   float64\n",
      " 36  Infissi_esterni_in_doppio_vetro_/_legno    8714 non-null   float64\n",
      " 37  Armadio_a_muro                             8714 non-null   float64\n",
      " 38  Impianto_di_allarme                        8714 non-null   float64\n",
      " 39  Mansarda                                   8714 non-null   float64\n",
      " 40  Infissi_esterni_in_doppio_vetro_/_metallo  8714 non-null   float64\n",
      " 41  Solo_Cucina_Arredata                       8714 non-null   float64\n",
      " 42  Esposizione_interna                        8714 non-null   float64\n",
      " 43  Infissi_esterni_in_vetro_/_PVC             8714 non-null   float64\n",
      " 44  Giardino_comune                            8714 non-null   float64\n",
      " 45  Taverna                                    8714 non-null   float64\n",
      " 46  Impianto_tv_con_parabola_satellitare       8714 non-null   float64\n",
      " 47  Arredato                                   8714 non-null   float64\n",
      " 48  Infissi_esterni_in_triplo_vetro_/_PVC      8714 non-null   float64\n",
      " 49  Infissi_esterni_in_triplo_vetro_/_legno    8714 non-null   float64\n",
      " 50  Infissi_esterni_in_vetro_/_metallo         8714 non-null   float64\n",
      " 51  Portiere_mezza_giornata                    8714 non-null   float64\n",
      " 52  Cablato                                    8714 non-null   float64\n",
      " 53  Idromassaggio                              8714 non-null   float64\n",
      " 54  Reception                                  8714 non-null   float64\n",
      " 55  Piscina                                    8714 non-null   float64\n",
      " 56  Infissi_esterni_in_triplo_vetro_/_metallo  8714 non-null   float64\n",
      "dtypes: float64(48), object(9)\n",
      "memory usage: 3.8+ MB\n"
     ]
    }
   ],
   "source": [
    "df = pd.read_csv(path_processed+'data_clean.csv')\n",
    "df.info()"
   ]
  },
  {
   "cell_type": "markdown",
   "metadata": {},
   "source": [
    "### 1. Feature selection and splitting data"
   ]
  },
  {
   "cell_type": "code",
   "execution_count": 3,
   "metadata": {},
   "outputs": [],
   "source": [
    "target = 'Prezzo_EUR'\n",
    "\n",
    "X = df.drop(columns=['Prezzo_per_m2']+[target])\n",
    "y = df[target].values\n",
    "\n",
    "X_train, X_test, y_train, y_test = train_test_split(X, y, test_size=0.2, random_state=0)"
   ]
  },
  {
   "cell_type": "markdown",
   "metadata": {},
   "source": [
    "### 2. Modeling"
   ]
  },
  {
   "cell_type": "markdown",
   "metadata": {},
   "source": [
    "#### 2.1 First model (benchmarking)"
   ]
  },
  {
   "cell_type": "code",
   "execution_count": 13,
   "metadata": {},
   "outputs": [
    {
     "name": "stdout",
     "output_type": "stream",
     "text": [
      "Training set score: 142758.57216963812\n",
      "Mean cross validation score: 148856.3810340354\n"
     ]
    }
   ],
   "source": [
    "lr = LinearRegression()\n",
    "\n",
    "pipe = Pipeline([\n",
    "    ('preprocessing', preprocessing_pipeline),\n",
    "    ('model', lr)\n",
    "])\n",
    "\n",
    "pipe.fit(X_train, y_train)\n",
    "y_train_pred = pipe.predict(X_train)\n",
    "\n",
    "# Train set score\n",
    "print('Training set score: {}'.format(mean_absolute_error(y_train, y_train_pred)))\n",
    "\n",
    "# Cross validation score\n",
    "scores = cross_val_score(pipe, X_train, y_train, scoring='neg_mean_absolute_error', cv=10)\n",
    "print('Mean cross validation score: {}'.format(np.mean(-scores)))"
   ]
  },
  {
   "cell_type": "markdown",
   "metadata": {},
   "source": [
    "#### 2.2 Other models"
   ]
  },
  {
   "cell_type": "code",
   "execution_count": 14,
   "metadata": {},
   "outputs": [
    {
     "name": "stdout",
     "output_type": "stream",
     "text": [
      "Training set score: 142702.85749248794\n",
      "Mean cross validation score: 148751.77269511853\n"
     ]
    }
   ],
   "source": [
    "rr = Ridge()\n",
    "\n",
    "pipe = Pipeline([\n",
    "    ('preprocessing', preprocessing_pipeline),\n",
    "    ('model', rr)\n",
    "])\n",
    "\n",
    "pipe.fit(X_train, y_train)\n",
    "y_train_pred = pipe.predict(X_train)\n",
    "\n",
    "# Train set score\n",
    "print('Training set score: {}'.format(mean_absolute_error(y_train, y_train_pred)))\n",
    "\n",
    "# Cross validation score\n",
    "scores = cross_val_score(pipe, X_train, y_train, scoring='neg_mean_absolute_error', cv=10)\n",
    "print('Mean cross validation score: {}'.format(np.mean(-scores)))"
   ]
  },
  {
   "cell_type": "code",
   "execution_count": 7,
   "metadata": {},
   "outputs": [],
   "source": [
    "# Regularization parameter\n",
    "alphas = []\n",
    "train_scores = []\n",
    "test_scores = []\n",
    "for i in range(100):\n",
    "    alpha = i\n",
    "    alphas.append(alpha)\n",
    "    \n",
    "    rr = Ridge(alpha=alpha)\n",
    "    pipe = Pipeline([\n",
    "    ('preprocessing', preprocessing_pipeline),\n",
    "    ('model', rr)\n",
    "    ])\n",
    "    pipe.fit(X_train, y_train)\n",
    "    y_pred = pipe.predict(X_train)\n",
    "    train_scores.append(mean_absolute_error(y_train, y_pred))\n",
    "    scores = cross_val_score(pipe, X_train, y_train, scoring='neg_mean_absolute_error', cv=5)\n",
    "    test_scores.append(np.mean(-scores))"
   ]
  },
  {
   "cell_type": "code",
   "execution_count": 8,
   "metadata": {},
   "outputs": [
    {
     "data": {
      "image/png": "[encoded data removed]",
      "text/plain": [
       "<Figure size 432x288 with 1 Axes>"
      ]
     },
     "metadata": {
      "needs_background": "light"
     },
     "output_type": "display_data"
    }
   ],
   "source": [
    "plt.plot(alphas, train_scores)\n",
    "plt.plot(alphas, test_scores)\n",
    "plt.show()"
   ]
  },
  {
   "cell_type": "code",
   "execution_count": 16,
   "metadata": {},
   "outputs": [
    {
     "name": "stdout",
     "output_type": "stream",
     "text": [
      "Training set score: 38032.5498374217\n",
      "Mean cross validation score: 101494.51376120746\n"
     ]
    }
   ],
   "source": [
    "rf = RandomForestRegressor(random_state=0)\n",
    "\n",
    "pipe = Pipeline([\n",
    "    ('preprocessing', preprocessing_pipeline),\n",
    "    ('model', rf)\n",
    "])\n",
    "\n",
    "pipe.fit(X_train, y_train)\n",
    "y_train_pred = pipe.predict(X_train)\n",
    "\n",
    "# Train set score\n",
    "print('Training set score: {}'.format(mean_absolute_error(y_train, y_train_pred)))\n",
    "\n",
    "# Cross validation score\n",
    "scores = cross_val_score(pipe, X_train, y_train, scoring='neg_mean_absolute_error', cv=10)\n",
    "print('Mean cross validation score: {}'.format(np.mean(-scores)))"
   ]
  },
  {
   "cell_type": "markdown",
   "metadata": {},
   "source": [
    "### 3. Hyperparameter tuning"
   ]
  },
  {
   "cell_type": "code",
   "execution_count": 32,
   "metadata": {
    "collapsed": true
   },
   "outputs": [
    {
     "name": "stdout",
     "output_type": "stream",
     "text": [
      "113754.411049257 {'model__max_features': 6, 'model__min_samples_leaf': 1, 'model__min_samples_split': 2, 'model__n_estimators': 20}\n",
      "111608.07312144418 {'model__max_features': 6, 'model__min_samples_leaf': 1, 'model__min_samples_split': 2, 'model__n_estimators': 30}\n",
      "111437.03706403139 {'model__max_features': 6, 'model__min_samples_leaf': 1, 'model__min_samples_split': 2, 'model__n_estimators': 40}\n",
      "115539.04081124754 {'model__max_features': 6, 'model__min_samples_leaf': 1, 'model__min_samples_split': 5, 'model__n_estimators': 20}\n",
      "112641.48061626844 {'model__max_features': 6, 'model__min_samples_leaf': 1, 'model__min_samples_split': 5, 'model__n_estimators': 30}\n",
      "111547.63596452307 {'model__max_features': 6, 'model__min_samples_leaf': 1, 'model__min_samples_split': 5, 'model__n_estimators': 40}\n",
      "116508.62916741215 {'model__max_features': 6, 'model__min_samples_leaf': 1, 'model__min_samples_split': 10, 'model__n_estimators': 20}\n",
      "114642.36728287167 {'model__max_features': 6, 'model__min_samples_leaf': 1, 'model__min_samples_split': 10, 'model__n_estimators': 30}\n",
      "114889.75694912093 {'model__max_features': 6, 'model__min_samples_leaf': 1, 'model__min_samples_split': 10, 'model__n_estimators': 40}\n",
      "115946.25461310113 {'model__max_features': 6, 'model__min_samples_leaf': 2, 'model__min_samples_split': 2, 'model__n_estimators': 20}\n",
      "114341.15839682815 {'model__max_features': 6, 'model__min_samples_leaf': 2, 'model__min_samples_split': 2, 'model__n_estimators': 30}\n",
      "113565.80329165931 {'model__max_features': 6, 'model__min_samples_leaf': 2, 'model__min_samples_split': 2, 'model__n_estimators': 40}\n",
      "115687.99172324155 {'model__max_features': 6, 'model__min_samples_leaf': 2, 'model__min_samples_split': 5, 'model__n_estimators': 20}\n",
      "114381.77823629256 {'model__max_features': 6, 'model__min_samples_leaf': 2, 'model__min_samples_split': 5, 'model__n_estimators': 30}\n",
      "113442.78834042531 {'model__max_features': 6, 'model__min_samples_leaf': 2, 'model__min_samples_split': 5, 'model__n_estimators': 40}\n",
      "116166.8249658396 {'model__max_features': 6, 'model__min_samples_leaf': 2, 'model__min_samples_split': 10, 'model__n_estimators': 20}\n",
      "114525.55427016204 {'model__max_features': 6, 'model__min_samples_leaf': 2, 'model__min_samples_split': 10, 'model__n_estimators': 30}\n",
      "114853.50532109677 {'model__max_features': 6, 'model__min_samples_leaf': 2, 'model__min_samples_split': 10, 'model__n_estimators': 40}\n",
      "117080.46754480487 {'model__max_features': 6, 'model__min_samples_leaf': 4, 'model__min_samples_split': 2, 'model__n_estimators': 20}\n",
      "115429.93329255306 {'model__max_features': 6, 'model__min_samples_leaf': 4, 'model__min_samples_split': 2, 'model__n_estimators': 30}\n",
      "115169.54969261694 {'model__max_features': 6, 'model__min_samples_leaf': 4, 'model__min_samples_split': 2, 'model__n_estimators': 40}\n",
      "117080.46754480487 {'model__max_features': 6, 'model__min_samples_leaf': 4, 'model__min_samples_split': 5, 'model__n_estimators': 20}\n",
      "115429.93329255306 {'model__max_features': 6, 'model__min_samples_leaf': 4, 'model__min_samples_split': 5, 'model__n_estimators': 30}\n",
      "115169.54969261694 {'model__max_features': 6, 'model__min_samples_leaf': 4, 'model__min_samples_split': 5, 'model__n_estimators': 40}\n",
      "117910.56152471097 {'model__max_features': 6, 'model__min_samples_leaf': 4, 'model__min_samples_split': 10, 'model__n_estimators': 20}\n",
      "116556.20210649061 {'model__max_features': 6, 'model__min_samples_leaf': 4, 'model__min_samples_split': 10, 'model__n_estimators': 30}\n",
      "116220.54345248872 {'model__max_features': 6, 'model__min_samples_leaf': 4, 'model__min_samples_split': 10, 'model__n_estimators': 40}\n",
      "112823.78850160012 {'model__max_features': 8, 'model__min_samples_leaf': 1, 'model__min_samples_split': 2, 'model__n_estimators': 20}\n",
      "109197.9519949182 {'model__max_features': 8, 'model__min_samples_leaf': 1, 'model__min_samples_split': 2, 'model__n_estimators': 30}\n",
      "107507.66072186397 {'model__max_features': 8, 'model__min_samples_leaf': 1, 'model__min_samples_split': 2, 'model__n_estimators': 40}\n",
      "111331.76058966329 {'model__max_features': 8, 'model__min_samples_leaf': 1, 'model__min_samples_split': 5, 'model__n_estimators': 20}\n",
      "109675.82918879148 {'model__max_features': 8, 'model__min_samples_leaf': 1, 'model__min_samples_split': 5, 'model__n_estimators': 30}\n",
      "108618.42935497107 {'model__max_features': 8, 'model__min_samples_leaf': 1, 'model__min_samples_split': 5, 'model__n_estimators': 40}\n",
      "113505.43155420964 {'model__max_features': 8, 'model__min_samples_leaf': 1, 'model__min_samples_split': 10, 'model__n_estimators': 20}\n",
      "111787.46977501428 {'model__max_features': 8, 'model__min_samples_leaf': 1, 'model__min_samples_split': 10, 'model__n_estimators': 30}\n",
      "110203.33281684457 {'model__max_features': 8, 'model__min_samples_leaf': 1, 'model__min_samples_split': 10, 'model__n_estimators': 40}\n",
      "111211.18916650477 {'model__max_features': 8, 'model__min_samples_leaf': 2, 'model__min_samples_split': 2, 'model__n_estimators': 20}\n",
      "109168.32227401048 {'model__max_features': 8, 'model__min_samples_leaf': 2, 'model__min_samples_split': 2, 'model__n_estimators': 30}\n",
      "107876.95075038422 {'model__max_features': 8, 'model__min_samples_leaf': 2, 'model__min_samples_split': 2, 'model__n_estimators': 40}\n",
      "110502.33169221571 {'model__max_features': 8, 'model__min_samples_leaf': 2, 'model__min_samples_split': 5, 'model__n_estimators': 20}\n",
      "109808.43291354005 {'model__max_features': 8, 'model__min_samples_leaf': 2, 'model__min_samples_split': 5, 'model__n_estimators': 30}\n",
      "108340.82003697874 {'model__max_features': 8, 'model__min_samples_leaf': 2, 'model__min_samples_split': 5, 'model__n_estimators': 40}\n",
      "113186.9478846081 {'model__max_features': 8, 'model__min_samples_leaf': 2, 'model__min_samples_split': 10, 'model__n_estimators': 20}\n",
      "111082.34459134817 {'model__max_features': 8, 'model__min_samples_leaf': 2, 'model__min_samples_split': 10, 'model__n_estimators': 30}\n",
      "110157.77493198546 {'model__max_features': 8, 'model__min_samples_leaf': 2, 'model__min_samples_split': 10, 'model__n_estimators': 40}\n",
      "112712.8562486888 {'model__max_features': 8, 'model__min_samples_leaf': 4, 'model__min_samples_split': 2, 'model__n_estimators': 20}\n",
      "111336.46239480904 {'model__max_features': 8, 'model__min_samples_leaf': 4, 'model__min_samples_split': 2, 'model__n_estimators': 30}\n",
      "110542.9075642569 {'model__max_features': 8, 'model__min_samples_leaf': 4, 'model__min_samples_split': 2, 'model__n_estimators': 40}\n",
      "112712.8562486888 {'model__max_features': 8, 'model__min_samples_leaf': 4, 'model__min_samples_split': 5, 'model__n_estimators': 20}\n",
      "111336.46239480904 {'model__max_features': 8, 'model__min_samples_leaf': 4, 'model__min_samples_split': 5, 'model__n_estimators': 30}\n",
      "110542.9075642569 {'model__max_features': 8, 'model__min_samples_leaf': 4, 'model__min_samples_split': 5, 'model__n_estimators': 40}\n",
      "114355.33326710046 {'model__max_features': 8, 'model__min_samples_leaf': 4, 'model__min_samples_split': 10, 'model__n_estimators': 20}\n",
      "112818.43660496727 {'model__max_features': 8, 'model__min_samples_leaf': 4, 'model__min_samples_split': 10, 'model__n_estimators': 30}\n",
      "112195.54014463979 {'model__max_features': 8, 'model__min_samples_leaf': 4, 'model__min_samples_split': 10, 'model__n_estimators': 40}\n",
      "107441.16597621827 {'model__max_features': 10, 'model__min_samples_leaf': 1, 'model__min_samples_split': 2, 'model__n_estimators': 20}\n",
      "105077.88971841545 {'model__max_features': 10, 'model__min_samples_leaf': 1, 'model__min_samples_split': 2, 'model__n_estimators': 30}\n",
      "105239.69827362066 {'model__max_features': 10, 'model__min_samples_leaf': 1, 'model__min_samples_split': 2, 'model__n_estimators': 40}\n",
      "108907.63482695457 {'model__max_features': 10, 'model__min_samples_leaf': 1, 'model__min_samples_split': 5, 'model__n_estimators': 20}\n",
      "107007.34677370708 {'model__max_features': 10, 'model__min_samples_leaf': 1, 'model__min_samples_split': 5, 'model__n_estimators': 30}\n",
      "106982.26962297324 {'model__max_features': 10, 'model__min_samples_leaf': 1, 'model__min_samples_split': 5, 'model__n_estimators': 40}\n",
      "110926.03999411459 {'model__max_features': 10, 'model__min_samples_leaf': 1, 'model__min_samples_split': 10, 'model__n_estimators': 20}\n",
      "108849.44271297558 {'model__max_features': 10, 'model__min_samples_leaf': 1, 'model__min_samples_split': 10, 'model__n_estimators': 30}\n",
      "108383.17284547517 {'model__max_features': 10, 'model__min_samples_leaf': 1, 'model__min_samples_split': 10, 'model__n_estimators': 40}\n",
      "107605.94791192166 {'model__max_features': 10, 'model__min_samples_leaf': 2, 'model__min_samples_split': 2, 'model__n_estimators': 20}\n",
      "106543.55849132952 {'model__max_features': 10, 'model__min_samples_leaf': 2, 'model__min_samples_split': 2, 'model__n_estimators': 30}\n",
      "106003.31509163755 {'model__max_features': 10, 'model__min_samples_leaf': 2, 'model__min_samples_split': 2, 'model__n_estimators': 40}\n",
      "107368.84327426138 {'model__max_features': 10, 'model__min_samples_leaf': 2, 'model__min_samples_split': 5, 'model__n_estimators': 20}\n",
      "106372.27258820467 {'model__max_features': 10, 'model__min_samples_leaf': 2, 'model__min_samples_split': 5, 'model__n_estimators': 30}\n",
      "106106.95100116127 {'model__max_features': 10, 'model__min_samples_leaf': 2, 'model__min_samples_split': 5, 'model__n_estimators': 40}\n",
      "109429.98045300506 {'model__max_features': 10, 'model__min_samples_leaf': 2, 'model__min_samples_split': 10, 'model__n_estimators': 20}\n",
      "107859.89926393333 {'model__max_features': 10, 'model__min_samples_leaf': 2, 'model__min_samples_split': 10, 'model__n_estimators': 30}\n",
      "107555.72799263732 {'model__max_features': 10, 'model__min_samples_leaf': 2, 'model__min_samples_split': 10, 'model__n_estimators': 40}\n",
      "111776.87791499938 {'model__max_features': 10, 'model__min_samples_leaf': 4, 'model__min_samples_split': 2, 'model__n_estimators': 20}\n",
      "109609.85373375902 {'model__max_features': 10, 'model__min_samples_leaf': 4, 'model__min_samples_split': 2, 'model__n_estimators': 30}\n",
      "109360.80999860023 {'model__max_features': 10, 'model__min_samples_leaf': 4, 'model__min_samples_split': 2, 'model__n_estimators': 40}\n",
      "111776.87791499938 {'model__max_features': 10, 'model__min_samples_leaf': 4, 'model__min_samples_split': 5, 'model__n_estimators': 20}\n",
      "109609.85373375902 {'model__max_features': 10, 'model__min_samples_leaf': 4, 'model__min_samples_split': 5, 'model__n_estimators': 30}\n",
      "109360.80999860023 {'model__max_features': 10, 'model__min_samples_leaf': 4, 'model__min_samples_split': 5, 'model__n_estimators': 40}\n",
      "110104.76048618156 {'model__max_features': 10, 'model__min_samples_leaf': 4, 'model__min_samples_split': 10, 'model__n_estimators': 20}\n",
      "109443.22820494894 {'model__max_features': 10, 'model__min_samples_leaf': 4, 'model__min_samples_split': 10, 'model__n_estimators': 30}\n",
      "109523.06348333182 {'model__max_features': 10, 'model__min_samples_leaf': 4, 'model__min_samples_split': 10, 'model__n_estimators': 40}\n"
     ]
    }
   ],
   "source": [
    "rf = RandomForestRegressor(random_state=0)\n",
    "\n",
    "pipe = Pipeline([\n",
    "    ('preprocessing', preprocessing_pipeline),\n",
    "    ('model', rf)\n",
    "])\n",
    "\n",
    "from sklearn.model_selection import GridSearchCV\n",
    "\n",
    "# Number of trees in random forest\n",
    "n_estimators = [int(x) for x in np.linspace(start = 10, stop = 500, num = 4)]\n",
    "# Number of features to consider at every split\n",
    "max_features = [2, 3, 4]\n",
    "# Maximum number of levels in tree\n",
    "max_depth = [int(x) for x in np.linspace(10, 100, num = 5)]\n",
    "max_depth.append(None)\n",
    "# Split criterion\n",
    "criterion = ['mse', 'mae']\n",
    "# Minimum number of samples required to split a node\n",
    "min_samples_split = [2, 5, 10]\n",
    "# Minimum number of samples required at each leaf node\n",
    "min_samples_leaf = [1, 2, 4]\n",
    "# Method of selecting samples for training each tree\n",
    "bootstrap = [True, False]\n",
    "# Create the random grid\n",
    "#param_grid = {'n_estimators': n_estimators,\n",
    "#               'max_features': max_features,\n",
    "#               'max_depth': max_depth,\n",
    "#               'criterion': criterion,\n",
    "#               'min_samples_split': min_samples_split,\n",
    "#               'min_samples_leaf': min_samples_leaf,\n",
    "#               'bootstrap': bootstrap}\n",
    "\n",
    "param_grid = [\n",
    "{'model__n_estimators': [20, 30, 40], 'model__max_features': [6, 8, 10], 'model__min_samples_split': [2, 5, 10],\n",
    " 'model__min_samples_leaf': [1, 2, 4]},\n",
    "#{'model__bootstrap': [False], 'model__n_estimators': [3, 10], 'model__max_features': [2, 3, 4]},\n",
    "]\n",
    "\n",
    "grid_search = GridSearchCV(pipe, param_grid, cv=5, verbose=0, scoring='neg_mean_absolute_error')\n",
    "grid_search.fit(X_train, y_train)\n",
    "\n",
    "cvres = grid_search.cv_results_\n",
    "for mean_score, params in zip(cvres[\"mean_test_score\"], cvres[\"params\"]):\n",
    "    print(-mean_score, params)"
   ]
  },
  {
   "cell_type": "code",
   "execution_count": 33,
   "metadata": {},
   "outputs": [
    {
     "name": "stdout",
     "output_type": "stream",
     "text": [
      "Training set score: 41927.12008957745\n",
      "Mean cross validation score: 105196.66061831175\n"
     ]
    }
   ],
   "source": [
    "pipe = grid_search.best_estimator_\n",
    "\n",
    "pipe.fit(X_train, y_train)\n",
    "y_train_pred = pipe.predict(X_train)\n",
    "\n",
    "# Train set score\n",
    "print('Training set score: {}'.format(mean_absolute_error(y_train, y_train_pred)))\n",
    "\n",
    "# Cross validation score\n",
    "scores = cross_val_score(pipe, X_train, y_train, scoring='neg_mean_absolute_error', cv=10)\n",
    "print('Mean cross validation score: {}'.format(np.mean(-scores)))"
   ]
  },
  {
   "cell_type": "markdown",
   "metadata": {},
   "source": [
    "Clearly the random forest is wildly overfitting the data."
   ]
  },
  {
   "cell_type": "markdown",
   "metadata": {},
   "source": [
    "### 4. Principal Component Analysis"
   ]
  },
  {
   "cell_type": "code",
   "execution_count": 37,
   "metadata": {},
   "outputs": [
    {
     "name": "stdout",
     "output_type": "stream",
     "text": [
      "153764.96094521153 {'pca__n_components': 5}\n",
      "131949.95895048854 {'pca__n_components': 10}\n",
      "133164.05451082456 {'pca__n_components': 20}\n",
      "132766.4654129521 {'pca__n_components': 30}\n",
      "133837.65760871855 {'pca__n_components': 40}\n",
      "132832.85395328994 {'pca__n_components': 50}\n",
      "133690.57360255922 {'pca__n_components': None}\n"
     ]
    }
   ],
   "source": [
    "from sklearn.decomposition import PCA\n",
    "\n",
    "pca = PCA()\n",
    "rf = RandomForestRegressor(random_state=0)\n",
    "\n",
    "pipe = Pipeline([\n",
    "    ('preprocessing', preprocessing_pipeline),\n",
    "    ('pca', pca),\n",
    "    ('model', rf)\n",
    "])\n",
    "\n",
    "param_grid = {'pca__n_components': [5, 10, 20, 30, 40, 50, None]}\n",
    "\n",
    "grid_search = GridSearchCV(pipe, param_grid, cv=5, verbose=0, scoring='neg_mean_absolute_error')\n",
    "grid_search.fit(X_train, y_train)\n",
    "\n",
    "cvres = grid_search.cv_results_\n",
    "for mean_score, params in zip(cvres[\"mean_test_score\"], cvres[\"params\"]):\n",
    "    print(-mean_score, params)"
   ]
  },
  {
   "cell_type": "code",
   "execution_count": 38,
   "metadata": {},
   "outputs": [
    {
     "name": "stdout",
     "output_type": "stream",
     "text": [
      "Training set score: 48839.77624307506\n",
      "Mean cross validation score: 131788.35761198617\n"
     ]
    }
   ],
   "source": [
    "pipe = grid_search.best_estimator_\n",
    "\n",
    "pipe.fit(X_train, y_train)\n",
    "y_train_pred = pipe.predict(X_train)\n",
    "\n",
    "# Train set score\n",
    "print('Training set score: {}'.format(mean_absolute_error(y_train, y_train_pred)))\n",
    "\n",
    "# Cross validation score\n",
    "scores = cross_val_score(pipe, X_train, y_train, scoring='neg_mean_absolute_error', cv=10)\n",
    "print('Mean cross validation score: {}'.format(np.mean(-scores)))"
   ]
  },
  {
   "cell_type": "code",
   "execution_count": null,
   "metadata": {},
   "outputs": [],
   "source": []
  }
 ],
 "metadata": {
  "kernelspec": {
   "display_name": "Python 3",
   "language": "python",
   "name": "python3"
  },
  "language_info": {
   "codemirror_mode": {
    "name": "ipython",
    "version": 3
   },
   "file_extension": ".py",
   "mimetype": "text/x-python",
   "name": "python",
   "nbconvert_exporter": "python",
   "pygments_lexer": "ipython3",
   "version": "3.8.5"
  }
 },
 "nbformat": 4,
 "nbformat_minor": 4
}
