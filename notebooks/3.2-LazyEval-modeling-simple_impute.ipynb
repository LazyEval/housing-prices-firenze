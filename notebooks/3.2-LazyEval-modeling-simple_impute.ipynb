{
 "cells": [
  {
   "cell_type": "code",
   "execution_count": 7,
   "metadata": {},
   "outputs": [
    {
     "name": "stdout",
     "output_type": "stream",
     "text": [
      "The autoreload extension is already loaded. To reload it, use:\n",
      "  %reload_ext autoreload\n"
     ]
    }
   ],
   "source": [
    "import numpy as np\n",
    "import pandas as pd\n",
    "import re\n",
    "import matplotlib.pyplot as plt\n",
    "import seaborn as sns\n",
    "\n",
    "# Import estimators and transformers\n",
    "from sklearn.model_selection import train_test_split\n",
    "from sklearn.pipeline import Pipeline\n",
    "from sklearn.preprocessing import StandardScaler, OneHotEncoder\n",
    "from sklearn.experimental import enable_iterative_imputer\n",
    "from sklearn.impute import IterativeImputer, SimpleImputer\n",
    "from sklearn.compose import ColumnTransformer\n",
    "from src.features import CustomEncoder\n",
    "\n",
    "# Import predictors\n",
    "from sklearn.linear_model import LinearRegression, Ridge, Lasso\n",
    "from sklearn.ensemble import RandomForestRegressor\n",
    "from sklearn.neighbors import KNeighborsRegressor\n",
    "from sklearn.model_selection import GridSearchCV\n",
    "\n",
    "# Import metrics\n",
    "from sklearn.metrics import mean_absolute_error\n",
    "from sklearn.model_selection import cross_val_score\n",
    "\n",
    "pd.set_option('display.max_columns', None)\n",
    "pd.set_option('display.float_format', lambda x: '%.3f' % x)\n",
    "\n",
    "%load_ext autoreload\n",
    "%autoreload 2\n",
    "\n",
    "path_processed = '/home/matteo@COPPET/Documents/data_science/projects/housing_prices_firenze/data/processed/'"
   ]
  },
  {
   "cell_type": "code",
   "execution_count": 8,
   "metadata": {},
   "outputs": [
    {
     "name": "stdout",
     "output_type": "stream",
     "text": [
      "<class 'pandas.core.frame.DataFrame'>\n",
      "RangeIndex: 8714 entries, 0 to 8713\n",
      "Data columns (total 57 columns):\n",
      " #   Column                                     Non-Null Count  Dtype  \n",
      "---  ------                                     --------------  -----  \n",
      " 0   Tipologia                                  8714 non-null   object \n",
      " 1   Tipo_proprietà                             8277 non-null   object \n",
      " 2   Zona                                       8714 non-null   object \n",
      " 3   Anno_costruzione                           6334 non-null   float64\n",
      " 4   Stato                                      8483 non-null   object \n",
      " 5   Prezzo_EUR                                 8714 non-null   float64\n",
      " 6   Superficie_m2                              8714 non-null   float64\n",
      " 7   Prezzo_per_m2                              8714 non-null   float64\n",
      " 8   Riscaldamento_A_C                          8714 non-null   object \n",
      " 9   Tipo_riscaldamento                         6760 non-null   object \n",
      " 10  Alimentazione_riscaldamento                6439 non-null   object \n",
      " 11  Classe_energetica                          7505 non-null   object \n",
      " 12  Ascensore                                  8714 non-null   float64\n",
      " 13  Accesso_disabili                           8714 non-null   float64\n",
      " 14  Piano                                      8560 non-null   object \n",
      " 15  Posti_garage                               8714 non-null   float64\n",
      " 16  Posti_esterni                              8714 non-null   float64\n",
      " 17  Num_bagni                                  8609 non-null   float64\n",
      " 18  Num_tot_locali                             8693 non-null   float64\n",
      " 19  Fibra_ottica                               8714 non-null   float64\n",
      " 20  VideoCitofono                              8714 non-null   float64\n",
      " 21  Porta_blindata                             8714 non-null   float64\n",
      " 22  Impianto_tv_singolo                        8714 non-null   float64\n",
      " 23  Parzialmente_Arredato                      8714 non-null   float64\n",
      " 24  Infissi_esterni_in_vetro_/_legno           8714 non-null   float64\n",
      " 25  Esposizione_doppia                         8714 non-null   float64\n",
      " 26  Balcone                                    8714 non-null   float64\n",
      " 27  Impianto_tv_centralizzato                  8714 non-null   float64\n",
      " 28  Infissi_esterni_in_doppio_vetro_/_PVC      8714 non-null   float64\n",
      " 29  Esposizione_esterna                        8714 non-null   float64\n",
      " 30  Terrazza                                   8714 non-null   float64\n",
      " 31  Cancello_elettrico                         8714 non-null   float64\n",
      " 32  Cantina                                    8714 non-null   float64\n",
      " 33  Giardino_privato                           8714 non-null   float64\n",
      " 34  Caminetto                                  8714 non-null   float64\n",
      " 35  Portiere_intera_giornata                   8714 non-null   float64\n",
      " 36  Infissi_esterni_in_doppio_vetro_/_legno    8714 non-null   float64\n",
      " 37  Armadio_a_muro                             8714 non-null   float64\n",
      " 38  Impianto_di_allarme                        8714 non-null   float64\n",
      " 39  Mansarda                                   8714 non-null   float64\n",
      " 40  Infissi_esterni_in_doppio_vetro_/_metallo  8714 non-null   float64\n",
      " 41  Solo_Cucina_Arredata                       8714 non-null   float64\n",
      " 42  Esposizione_interna                        8714 non-null   float64\n",
      " 43  Infissi_esterni_in_vetro_/_PVC             8714 non-null   float64\n",
      " 44  Giardino_comune                            8714 non-null   float64\n",
      " 45  Taverna                                    8714 non-null   float64\n",
      " 46  Impianto_tv_con_parabola_satellitare       8714 non-null   float64\n",
      " 47  Arredato                                   8714 non-null   float64\n",
      " 48  Infissi_esterni_in_triplo_vetro_/_PVC      8714 non-null   float64\n",
      " 49  Infissi_esterni_in_triplo_vetro_/_legno    8714 non-null   float64\n",
      " 50  Infissi_esterni_in_vetro_/_metallo         8714 non-null   float64\n",
      " 51  Portiere_mezza_giornata                    8714 non-null   float64\n",
      " 52  Cablato                                    8714 non-null   float64\n",
      " 53  Idromassaggio                              8714 non-null   float64\n",
      " 54  Reception                                  8714 non-null   float64\n",
      " 55  Piscina                                    8714 non-null   float64\n",
      " 56  Infissi_esterni_in_triplo_vetro_/_metallo  8714 non-null   float64\n",
      "dtypes: float64(48), object(9)\n",
      "memory usage: 3.8+ MB\n"
     ]
    }
   ],
   "source": [
    "df = pd.read_csv(path_processed+'data_clean.csv')\n",
    "df.info()"
   ]
  },
  {
   "cell_type": "markdown",
   "metadata": {},
   "source": [
    "### 1. Feature selection and splitting data"
   ]
  },
  {
   "cell_type": "code",
   "execution_count": 9,
   "metadata": {},
   "outputs": [],
   "source": [
    "target = 'Prezzo_EUR'\n",
    "\n",
    "X = df.drop(columns=['Prezzo_per_m2']+[target])\n",
    "y = df[target].values\n",
    "\n",
    "X_train, X_test, y_train, y_test = train_test_split(X, y, test_size=0.2, random_state=0)"
   ]
  },
  {
   "cell_type": "markdown",
   "metadata": {},
   "source": [
    "### 2. Pre-processing pipeline"
   ]
  },
  {
   "cell_type": "code",
   "execution_count": 15,
   "metadata": {},
   "outputs": [],
   "source": [
    "cat_features = ['Tipologia', 'Zona', 'Stato', 'Tipo_proprietà', 'Riscaldamento_A_C', 'Tipo_riscaldamento',\n",
    "                'Alimentazione_riscaldamento', 'Classe_energetica', 'Piano']\n",
    "num_features = ['Superficie_m2', 'Num_bagni', 'Num_tot_locali', 'Anno_costruzione']\n",
    "\n",
    "# cat_features = ['Tipologia', 'Zona', 'Tipo_proprietà', 'Tipo_riscaldamento', 'Classe_energetica']\n",
    "# num_features = ['Superficie_m2', 'Num_tot_locali']\n",
    "\n",
    "cat_transformer = Pipeline([\n",
    "    ('imputing', SimpleImputer(strategy='most_frequent')),\n",
    "    ('oh_encoding', OneHotEncoder(handle_unknown='ignore'))\n",
    "])\n",
    "\n",
    "num_transformer = Pipeline([\n",
    "    ('scaling', StandardScaler()),\n",
    "    ('imputing', SimpleImputer(strategy='mean'))\n",
    "])\n",
    "\n",
    "preprocessing_pipeline = ColumnTransformer([\n",
    "    ('categoricals', cat_transformer, cat_features),\n",
    "    ('numericals', num_transformer, num_features)\n",
    "],\n",
    "    remainder='passthrough'\n",
    ")"
   ]
  },
  {
   "cell_type": "markdown",
   "metadata": {},
   "source": [
    "### 3. Modeling"
   ]
  },
  {
   "cell_type": "markdown",
   "metadata": {},
   "source": [
    "#### 3.1 First model (benchmarking)"
   ]
  },
  {
   "cell_type": "code",
   "execution_count": 16,
   "metadata": {},
   "outputs": [
    {
     "name": "stdout",
     "output_type": "stream",
     "text": [
      "Training set score: 135810.07034591644\n",
      "Mean cross validation score: 3639530827.4302\n"
     ]
    }
   ],
   "source": [
    "pipe = Pipeline([\n",
    "    ('preprocessing', preprocessing_pipeline),\n",
    "    ('model', LinearRegression())\n",
    "])\n",
    "\n",
    "pipe.fit(X_train, y_train)\n",
    "y_train_pred = pipe.predict(X_train)\n",
    "\n",
    "# Train set score\n",
    "print('Training set score: {}'.format(mean_absolute_error(y_train, y_train_pred)))\n",
    "\n",
    "# Cross validation score\n",
    "scores = cross_val_score(pipe, X_train, y_train, scoring='neg_mean_absolute_error', cv=10)\n",
    "print('Mean cross validation score: {}'.format(np.mean(-scores)))"
   ]
  },
  {
   "cell_type": "markdown",
   "metadata": {},
   "source": [
    "The performance of this model is better on the training set compared to the previous pipeline (notebook 3.1) but terrible with the test set."
   ]
  },
  {
   "cell_type": "markdown",
   "metadata": {},
   "source": [
    "#### 3.2 Other models"
   ]
  },
  {
   "cell_type": "code",
   "execution_count": 17,
   "metadata": {},
   "outputs": [
    {
     "name": "stdout",
     "output_type": "stream",
     "text": [
      "Training set score: 135767.89612546202\n",
      "Mean cross validation score: 144091.57258373205\n"
     ]
    }
   ],
   "source": [
    "pipe = Pipeline([\n",
    "    ('preprocessing', preprocessing_pipeline),\n",
    "    ('model', Ridge())\n",
    "])\n",
    "\n",
    "pipe.fit(X_train, y_train)\n",
    "y_train_pred = pipe.predict(X_train)\n",
    "\n",
    "# Train set score\n",
    "print('Training set score: {}'.format(mean_absolute_error(y_train, y_train_pred)))\n",
    "\n",
    "# Cross validation score\n",
    "scores = cross_val_score(pipe, X_train, y_train, scoring='neg_mean_absolute_error', cv=10)\n",
    "print('Mean cross validation score: {}'.format(np.mean(-scores)))"
   ]
  },
  {
   "cell_type": "markdown",
   "metadata": {},
   "source": [
    "This model performs better on the training set but a little worse on the test set. Generally though there's isn't much of a difference."
   ]
  },
  {
   "cell_type": "code",
   "execution_count": 18,
   "metadata": {},
   "outputs": [
    {
     "name": "stdout",
     "output_type": "stream",
     "text": [
      "Training set score: 36525.38813032678\n",
      "Mean cross validation score: 99136.71497637955\n"
     ]
    }
   ],
   "source": [
    "pipe = Pipeline([\n",
    "    ('preprocessing', preprocessing_pipeline),\n",
    "    ('model', RandomForestRegressor(random_state=0))\n",
    "])\n",
    "\n",
    "pipe.fit(X_train, y_train)\n",
    "y_train_pred = pipe.predict(X_train)\n",
    "\n",
    "# Train set score\n",
    "print('Training set score: {}'.format(mean_absolute_error(y_train, y_train_pred)))\n",
    "\n",
    "# Cross validation score\n",
    "scores = cross_val_score(pipe, X_train, y_train, scoring='neg_mean_absolute_error', cv=10)\n",
    "print('Mean cross validation score: {}'.format(np.mean(-scores)))"
   ]
  },
  {
   "cell_type": "markdown",
   "metadata": {},
   "source": [
    "This model performs better on the training and test sets compared to the previous preprocessing pipeline."
   ]
  }
 ],
 "metadata": {
  "kernelspec": {
   "display_name": "Python 3",
   "language": "python",
   "name": "python3"
  },
  "language_info": {
   "codemirror_mode": {
    "name": "ipython",
    "version": 3
   },
   "file_extension": ".py",
   "mimetype": "text/x-python",
   "name": "python",
   "nbconvert_exporter": "python",
   "pygments_lexer": "ipython3",
   "version": "3.8.5"
  }
 },
 "nbformat": 4,
 "nbformat_minor": 4
}
