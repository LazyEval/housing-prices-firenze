{
 "cells": [
  {
   "cell_type": "code",
   "execution_count": 34,
   "metadata": {},
   "outputs": [
    {
     "name": "stdout",
     "output_type": "stream",
     "text": [
      "The autoreload extension is already loaded. To reload it, use:\n",
      "  %reload_ext autoreload\n"
     ]
    }
   ],
   "source": [
    "import numpy as np\n",
    "import pandas as pd\n",
    "import re\n",
    "import matplotlib.pyplot as plt\n",
    "import seaborn as sns\n",
    "from scipy import stats\n",
    "\n",
    "# Import estimators and transformers\n",
    "from sklearn.model_selection import train_test_split\n",
    "from sklearn.pipeline import Pipeline\n",
    "from sklearn.preprocessing import StandardScaler, OneHotEncoder\n",
    "from sklearn.experimental import enable_iterative_imputer\n",
    "from sklearn.impute import IterativeImputer, SimpleImputer\n",
    "from sklearn.compose import ColumnTransformer\n",
    "from src.features import CustomEncoder\n",
    "from sklearn.decomposition import PCA\n",
    "\n",
    "# Import predictors\n",
    "from sklearn.linear_model import LinearRegression, Ridge, Lasso\n",
    "from sklearn.ensemble import RandomForestRegressor, ExtraTreesRegressor\n",
    "from sklearn.neighbors import KNeighborsRegressor\n",
    "from sklearn.ensemble import GradientBoostingRegressor, AdaBoostRegressor\n",
    "from sklearn.model_selection import GridSearchCV\n",
    "\n",
    "# Import metrics\n",
    "from sklearn.metrics import mean_absolute_error\n",
    "from sklearn.model_selection import cross_val_score\n",
    "\n",
    "pd.set_option('display.max_columns', None)\n",
    "pd.set_option('display.float_format', lambda x: '%.3f' % x)\n",
    "\n",
    "%load_ext autoreload\n",
    "%autoreload 2\n",
    "\n",
    "path_processed = '/home/matteo@COPPET/Documents/data_science/projects/housing_prices_firenze/data/processed/'"
   ]
  },
  {
   "cell_type": "code",
   "execution_count": 2,
   "metadata": {
    "scrolled": true
   },
   "outputs": [
    {
     "name": "stdout",
     "output_type": "stream",
     "text": [
      "<class 'pandas.core.frame.DataFrame'>\n",
      "RangeIndex: 8714 entries, 0 to 8713\n",
      "Data columns (total 57 columns):\n",
      " #   Column                                     Non-Null Count  Dtype  \n",
      "---  ------                                     --------------  -----  \n",
      " 0   Tipologia                                  8714 non-null   object \n",
      " 1   Tipo_proprietà                             8277 non-null   object \n",
      " 2   Zona                                       8714 non-null   object \n",
      " 3   Anno_costruzione                           6334 non-null   float64\n",
      " 4   Stato                                      8483 non-null   object \n",
      " 5   Prezzo_EUR                                 8714 non-null   float64\n",
      " 6   Superficie_m2                              8714 non-null   float64\n",
      " 7   Prezzo_per_m2                              8714 non-null   float64\n",
      " 8   Riscaldamento_A_C                          8714 non-null   object \n",
      " 9   Tipo_riscaldamento                         6760 non-null   object \n",
      " 10  Alimentazione_riscaldamento                6439 non-null   object \n",
      " 11  Classe_energetica                          7505 non-null   object \n",
      " 12  Ascensore                                  8714 non-null   float64\n",
      " 13  Accesso_disabili                           8714 non-null   float64\n",
      " 14  Piano                                      8560 non-null   object \n",
      " 15  Posti_garage                               8714 non-null   float64\n",
      " 16  Posti_esterni                              8714 non-null   float64\n",
      " 17  Num_bagni                                  8609 non-null   float64\n",
      " 18  Num_tot_locali                             8693 non-null   float64\n",
      " 19  Fibra_ottica                               8714 non-null   float64\n",
      " 20  VideoCitofono                              8714 non-null   float64\n",
      " 21  Porta_blindata                             8714 non-null   float64\n",
      " 22  Impianto_tv_singolo                        8714 non-null   float64\n",
      " 23  Parzialmente_Arredato                      8714 non-null   float64\n",
      " 24  Infissi_esterni_in_vetro_/_legno           8714 non-null   float64\n",
      " 25  Esposizione_doppia                         8714 non-null   float64\n",
      " 26  Balcone                                    8714 non-null   float64\n",
      " 27  Impianto_tv_centralizzato                  8714 non-null   float64\n",
      " 28  Infissi_esterni_in_doppio_vetro_/_PVC      8714 non-null   float64\n",
      " 29  Esposizione_esterna                        8714 non-null   float64\n",
      " 30  Terrazza                                   8714 non-null   float64\n",
      " 31  Cancello_elettrico                         8714 non-null   float64\n",
      " 32  Cantina                                    8714 non-null   float64\n",
      " 33  Giardino_privato                           8714 non-null   float64\n",
      " 34  Caminetto                                  8714 non-null   float64\n",
      " 35  Portiere_intera_giornata                   8714 non-null   float64\n",
      " 36  Infissi_esterni_in_doppio_vetro_/_legno    8714 non-null   float64\n",
      " 37  Armadio_a_muro                             8714 non-null   float64\n",
      " 38  Impianto_di_allarme                        8714 non-null   float64\n",
      " 39  Mansarda                                   8714 non-null   float64\n",
      " 40  Infissi_esterni_in_doppio_vetro_/_metallo  8714 non-null   float64\n",
      " 41  Solo_Cucina_Arredata                       8714 non-null   float64\n",
      " 42  Esposizione_interna                        8714 non-null   float64\n",
      " 43  Infissi_esterni_in_vetro_/_PVC             8714 non-null   float64\n",
      " 44  Giardino_comune                            8714 non-null   float64\n",
      " 45  Taverna                                    8714 non-null   float64\n",
      " 46  Impianto_tv_con_parabola_satellitare       8714 non-null   float64\n",
      " 47  Arredato                                   8714 non-null   float64\n",
      " 48  Infissi_esterni_in_triplo_vetro_/_PVC      8714 non-null   float64\n",
      " 49  Infissi_esterni_in_triplo_vetro_/_legno    8714 non-null   float64\n",
      " 50  Infissi_esterni_in_vetro_/_metallo         8714 non-null   float64\n",
      " 51  Portiere_mezza_giornata                    8714 non-null   float64\n",
      " 52  Cablato                                    8714 non-null   float64\n",
      " 53  Idromassaggio                              8714 non-null   float64\n",
      " 54  Reception                                  8714 non-null   float64\n",
      " 55  Piscina                                    8714 non-null   float64\n",
      " 56  Infissi_esterni_in_triplo_vetro_/_metallo  8714 non-null   float64\n",
      "dtypes: float64(48), object(9)\n",
      "memory usage: 3.8+ MB\n"
     ]
    }
   ],
   "source": [
    "df = pd.read_csv(path_processed+'data_clean.csv')\n",
    "df.info()"
   ]
  },
  {
   "cell_type": "code",
   "execution_count": 3,
   "metadata": {},
   "outputs": [
    {
     "data": {
      "text/plain": [
       "count   8714.000\n",
       "mean     118.759\n",
       "std      180.692\n",
       "min        5.000\n",
       "25%       65.000\n",
       "50%       90.000\n",
       "75%      129.000\n",
       "max     8150.000\n",
       "Name: Superficie_m2, dtype: float64"
      ]
     },
     "execution_count": 3,
     "metadata": {},
     "output_type": "execute_result"
    }
   ],
   "source": [
    "df['Superficie_m2'].describe()"
   ]
  },
  {
   "cell_type": "markdown",
   "metadata": {},
   "source": [
    "### 1. Outliers"
   ]
  },
  {
   "cell_type": "code",
   "execution_count": 4,
   "metadata": {},
   "outputs": [],
   "source": [
    "# Remove all rows containing outliers in either Price or Square meters by using z statistic\n",
    "df = df.loc[(np.abs(stats.zscore(df[['Prezzo_EUR', 'Superficie_m2']])) < 3).all(axis=1)]"
   ]
  },
  {
   "cell_type": "code",
   "execution_count": 5,
   "metadata": {},
   "outputs": [
    {
     "name": "stdout",
     "output_type": "stream",
     "text": [
      "<class 'pandas.core.frame.DataFrame'>\n",
      "Int64Index: 8604 entries, 0 to 8713\n",
      "Data columns (total 57 columns):\n",
      " #   Column                                     Non-Null Count  Dtype  \n",
      "---  ------                                     --------------  -----  \n",
      " 0   Tipologia                                  8604 non-null   object \n",
      " 1   Tipo_proprietà                             8174 non-null   object \n",
      " 2   Zona                                       8604 non-null   object \n",
      " 3   Anno_costruzione                           6265 non-null   float64\n",
      " 4   Stato                                      8378 non-null   object \n",
      " 5   Prezzo_EUR                                 8604 non-null   float64\n",
      " 6   Superficie_m2                              8604 non-null   float64\n",
      " 7   Prezzo_per_m2                              8604 non-null   float64\n",
      " 8   Riscaldamento_A_C                          8604 non-null   object \n",
      " 9   Tipo_riscaldamento                         6684 non-null   object \n",
      " 10  Alimentazione_riscaldamento                6370 non-null   object \n",
      " 11  Classe_energetica                          7405 non-null   object \n",
      " 12  Ascensore                                  8604 non-null   float64\n",
      " 13  Accesso_disabili                           8604 non-null   float64\n",
      " 14  Piano                                      8468 non-null   object \n",
      " 15  Posti_garage                               8604 non-null   float64\n",
      " 16  Posti_esterni                              8604 non-null   float64\n",
      " 17  Num_bagni                                  8505 non-null   float64\n",
      " 18  Num_tot_locali                             8583 non-null   float64\n",
      " 19  Fibra_ottica                               8604 non-null   float64\n",
      " 20  VideoCitofono                              8604 non-null   float64\n",
      " 21  Porta_blindata                             8604 non-null   float64\n",
      " 22  Impianto_tv_singolo                        8604 non-null   float64\n",
      " 23  Parzialmente_Arredato                      8604 non-null   float64\n",
      " 24  Infissi_esterni_in_vetro_/_legno           8604 non-null   float64\n",
      " 25  Esposizione_doppia                         8604 non-null   float64\n",
      " 26  Balcone                                    8604 non-null   float64\n",
      " 27  Impianto_tv_centralizzato                  8604 non-null   float64\n",
      " 28  Infissi_esterni_in_doppio_vetro_/_PVC      8604 non-null   float64\n",
      " 29  Esposizione_esterna                        8604 non-null   float64\n",
      " 30  Terrazza                                   8604 non-null   float64\n",
      " 31  Cancello_elettrico                         8604 non-null   float64\n",
      " 32  Cantina                                    8604 non-null   float64\n",
      " 33  Giardino_privato                           8604 non-null   float64\n",
      " 34  Caminetto                                  8604 non-null   float64\n",
      " 35  Portiere_intera_giornata                   8604 non-null   float64\n",
      " 36  Infissi_esterni_in_doppio_vetro_/_legno    8604 non-null   float64\n",
      " 37  Armadio_a_muro                             8604 non-null   float64\n",
      " 38  Impianto_di_allarme                        8604 non-null   float64\n",
      " 39  Mansarda                                   8604 non-null   float64\n",
      " 40  Infissi_esterni_in_doppio_vetro_/_metallo  8604 non-null   float64\n",
      " 41  Solo_Cucina_Arredata                       8604 non-null   float64\n",
      " 42  Esposizione_interna                        8604 non-null   float64\n",
      " 43  Infissi_esterni_in_vetro_/_PVC             8604 non-null   float64\n",
      " 44  Giardino_comune                            8604 non-null   float64\n",
      " 45  Taverna                                    8604 non-null   float64\n",
      " 46  Impianto_tv_con_parabola_satellitare       8604 non-null   float64\n",
      " 47  Arredato                                   8604 non-null   float64\n",
      " 48  Infissi_esterni_in_triplo_vetro_/_PVC      8604 non-null   float64\n",
      " 49  Infissi_esterni_in_triplo_vetro_/_legno    8604 non-null   float64\n",
      " 50  Infissi_esterni_in_vetro_/_metallo         8604 non-null   float64\n",
      " 51  Portiere_mezza_giornata                    8604 non-null   float64\n",
      " 52  Cablato                                    8604 non-null   float64\n",
      " 53  Idromassaggio                              8604 non-null   float64\n",
      " 54  Reception                                  8604 non-null   float64\n",
      " 55  Piscina                                    8604 non-null   float64\n",
      " 56  Infissi_esterni_in_triplo_vetro_/_metallo  8604 non-null   float64\n",
      "dtypes: float64(48), object(9)\n",
      "memory usage: 3.8+ MB\n"
     ]
    }
   ],
   "source": [
    "df.info()"
   ]
  },
  {
   "cell_type": "markdown",
   "metadata": {},
   "source": [
    "### 1. Feature selection and splitting data"
   ]
  },
  {
   "cell_type": "code",
   "execution_count": 6,
   "metadata": {},
   "outputs": [],
   "source": [
    "target = 'Prezzo_EUR'\n",
    "#drop_cols = ['Prezzo_per_m2', 'Anno_costruzione', 'Tipo_riscaldamento', 'Alimentazione_riscaldamento',\n",
    "#             'Classe_energetica'] + [target]\n",
    "\n",
    "drop_cols = ['Prezzo_per_m2'] + [target]\n",
    "\n",
    "X = df.drop(columns=drop_cols)\n",
    "y = df[target].values\n",
    "\n",
    "X_train, X_test, y_train, y_test = train_test_split(X, y, test_size=0.2, random_state=0)"
   ]
  },
  {
   "cell_type": "markdown",
   "metadata": {},
   "source": [
    "### 2. Pre-processing pipeline"
   ]
  },
  {
   "cell_type": "code",
   "execution_count": 7,
   "metadata": {},
   "outputs": [],
   "source": [
    "cat_features = ['Tipologia', 'Zona', 'Stato', 'Tipo_proprietà', 'Riscaldamento_A_C', 'Tipo_riscaldamento',\n",
    "                'Alimentazione_riscaldamento', 'Classe_energetica', 'Piano']\n",
    "num_features = ['Superficie_m2', 'Num_bagni', 'Num_tot_locali', 'Anno_costruzione']\n",
    "\n",
    "# cat_features = ['Tipologia', 'Zona', 'Tipo_proprietà', 'Tipo_riscaldamento', 'Classe_energetica']\n",
    "# num_features = ['Superficie_m2', 'Num_tot_locali']\n",
    "\n",
    "cat_transformer = Pipeline([\n",
    "    ('imputing', SimpleImputer(strategy='most_frequent')),\n",
    "    ('oh_encoding', OneHotEncoder(handle_unknown='ignore'))\n",
    "])\n",
    "\n",
    "num_transformer = Pipeline([\n",
    "    ('scaling', StandardScaler()),\n",
    "    ('imputing', SimpleImputer(strategy='mean'))\n",
    "])\n",
    "\n",
    "preprocessing_pipeline = ColumnTransformer([\n",
    "    ('categoricals', cat_transformer, cat_features),\n",
    "    ('numericals', num_transformer, num_features)\n",
    "],\n",
    "    remainder='passthrough'\n",
    ")"
   ]
  },
  {
   "cell_type": "markdown",
   "metadata": {},
   "source": [
    "### 3. Modeling"
   ]
  },
  {
   "cell_type": "markdown",
   "metadata": {},
   "source": [
    "#### 3.1 First model (benchmarking)"
   ]
  },
  {
   "cell_type": "code",
   "execution_count": 8,
   "metadata": {},
   "outputs": [
    {
     "name": "stdout",
     "output_type": "stream",
     "text": [
      "Training set score: 87982.93664249642\n",
      "Mean cross validation score: 12629211369340.676\n"
     ]
    }
   ],
   "source": [
    "pipe = Pipeline([\n",
    "    ('preprocessing', preprocessing_pipeline),\n",
    "    ('model', LinearRegression())\n",
    "])\n",
    "\n",
    "pipe.fit(X_train, y_train)\n",
    "y_train_pred = pipe.predict(X_train)\n",
    "\n",
    "# Train set score\n",
    "print('Training set score: {}'.format(mean_absolute_error(y_train, y_train_pred)))\n",
    "\n",
    "# Cross validation score\n",
    "scores = cross_val_score(pipe, X_train, y_train, scoring='neg_mean_absolute_error', cv=10)\n",
    "print('Mean cross validation score: {}'.format(np.mean(-scores)))"
   ]
  },
  {
   "cell_type": "markdown",
   "metadata": {},
   "source": [
    "#### 3.2 Other models"
   ]
  },
  {
   "cell_type": "code",
   "execution_count": 9,
   "metadata": {},
   "outputs": [
    {
     "name": "stdout",
     "output_type": "stream",
     "text": [
      "Training set score: 87950.88673779272\n",
      "Mean cross validation score: 90305.777493052\n"
     ]
    }
   ],
   "source": [
    "pipe = Pipeline([\n",
    "    ('preprocessing', preprocessing_pipeline),\n",
    "    ('model', Ridge())\n",
    "])\n",
    "\n",
    "pipe.fit(X_train, y_train)\n",
    "y_train_pred = pipe.predict(X_train)\n",
    "\n",
    "# Train set score\n",
    "print('Training set score: {}'.format(mean_absolute_error(y_train, y_train_pred)))\n",
    "\n",
    "# Cross validation score\n",
    "scores = cross_val_score(pipe, X_train, y_train, scoring='neg_mean_absolute_error', cv=10)\n",
    "print('Mean cross validation score: {}'.format(np.mean(-scores)))"
   ]
  },
  {
   "cell_type": "markdown",
   "metadata": {},
   "source": [
    "#### 3.3 Ensemble models"
   ]
  },
  {
   "cell_type": "code",
   "execution_count": null,
   "metadata": {},
   "outputs": [],
   "source": [
    "# Random Forest\n",
    "pipe = Pipeline([\n",
    "    ('preprocessing', preprocessing_pipeline),\n",
    "    ('model', RandomForestRegressor(random_state=0))\n",
    "])\n",
    "\n",
    "pipe.fit(X_train, y_train)\n",
    "y_train_pred = pipe.predict(X_train)\n",
    "\n",
    "# Train set score\n",
    "print('Training set score: {}'.format(mean_absolute_error(y_train, y_train_pred)))\n",
    "\n",
    "# Cross validation score\n",
    "scores = cross_val_score(pipe, X_train, y_train, scoring='neg_mean_absolute_error', cv=10)\n",
    "print('Mean cross validation score: {}'.format(np.mean(-scores)))"
   ]
  },
  {
   "cell_type": "code",
   "execution_count": 30,
   "metadata": {},
   "outputs": [
    {
     "name": "stdout",
     "output_type": "stream",
     "text": [
      "Training set score: 42.45241900334157\n",
      "Mean cross validation score: 70487.8029873806\n"
     ]
    }
   ],
   "source": [
    "# Extra-Trees\n",
    "pipe = Pipeline([\n",
    "    ('preprocessing', preprocessing_pipeline),\n",
    "    ('model', ExtraTreesRegressor(random_state=0))\n",
    "])\n",
    "\n",
    "pipe.fit(X_train, y_train)\n",
    "y_train_pred = pipe.predict(X_train)\n",
    "\n",
    "# Train set score\n",
    "print('Training set score: {}'.format(mean_absolute_error(y_train, y_train_pred)))\n",
    "\n",
    "# Cross validation score\n",
    "scores = cross_val_score(pipe, X_train, y_train, scoring='neg_mean_absolute_error', cv=10)\n",
    "print('Mean cross validation score: {}'.format(np.mean(-scores)))"
   ]
  },
  {
   "cell_type": "code",
   "execution_count": 35,
   "metadata": {},
   "outputs": [
    {
     "name": "stdout",
     "output_type": "stream",
     "text": [
      "Training set score: 71161.0089714164\n",
      "Mean cross validation score: 77680.25982218122\n"
     ]
    }
   ],
   "source": [
    "# Gradient boosting\n",
    "pipe = Pipeline([\n",
    "    ('preprocessing', preprocessing_pipeline),\n",
    "    ('model', GradientBoostingRegressor(random_state=0))\n",
    "])\n",
    "\n",
    "pipe.fit(X_train, y_train)\n",
    "y_train_pred = pipe.predict(X_train)\n",
    "\n",
    "# Train set score\n",
    "print('Training set score: {}'.format(mean_absolute_error(y_train, y_train_pred)))\n",
    "\n",
    "# Cross validation score\n",
    "scores = cross_val_score(pipe, X_train, y_train, scoring='neg_mean_absolute_error', cv=10)\n",
    "print('Mean cross validation score: {}'.format(np.mean(-scores)))"
   ]
  },
  {
   "cell_type": "code",
   "execution_count": 36,
   "metadata": {},
   "outputs": [
    {
     "name": "stdout",
     "output_type": "stream",
     "text": [
      "Training set score: 210330.44407089966\n",
      "Mean cross validation score: 239306.44272788297\n"
     ]
    }
   ],
   "source": [
    "# AdaBoost\n",
    "pipe = Pipeline([\n",
    "    ('preprocessing', preprocessing_pipeline),\n",
    "    ('model', AdaBoostRegressor(random_state=0))\n",
    "])\n",
    "\n",
    "pipe.fit(X_train, y_train)\n",
    "y_train_pred = pipe.predict(X_train)\n",
    "\n",
    "# Train set score\n",
    "print('Training set score: {}'.format(mean_absolute_error(y_train, y_train_pred)))\n",
    "\n",
    "# Cross validation score\n",
    "scores = cross_val_score(pipe, X_train, y_train, scoring='neg_mean_absolute_error', cv=10)\n",
    "print('Mean cross validation score: {}'.format(np.mean(-scores)))"
   ]
  },
  {
   "cell_type": "markdown",
   "metadata": {},
   "source": [
    "The results are much better when removing outliers from the data!"
   ]
  },
  {
   "cell_type": "markdown",
   "metadata": {},
   "source": [
    "### 4. Hyperparameter tuning"
   ]
  },
  {
   "cell_type": "code",
   "execution_count": 31,
   "metadata": {
    "scrolled": true
   },
   "outputs": [
    {
     "name": "stdout",
     "output_type": "stream",
     "text": [
      "105679.36074126922 {'model__max_features': 2, 'model__min_samples_leaf': 1, 'model__min_samples_split': 2, 'model__n_estimators': 100}\n",
      "105149.81891998144 {'model__max_features': 2, 'model__min_samples_leaf': 1, 'model__min_samples_split': 2, 'model__n_estimators': 200}\n",
      "105026.92910200488 {'model__max_features': 2, 'model__min_samples_leaf': 1, 'model__min_samples_split': 2, 'model__n_estimators': 300}\n",
      "104881.33492112563 {'model__max_features': 2, 'model__min_samples_leaf': 1, 'model__min_samples_split': 2, 'model__n_estimators': 400}\n",
      "112304.25508193478 {'model__max_features': 2, 'model__min_samples_leaf': 1, 'model__min_samples_split': 4, 'model__n_estimators': 100}\n",
      "111887.96711604143 {'model__max_features': 2, 'model__min_samples_leaf': 1, 'model__min_samples_split': 4, 'model__n_estimators': 200}\n",
      "111995.22402172655 {'model__max_features': 2, 'model__min_samples_leaf': 1, 'model__min_samples_split': 4, 'model__n_estimators': 300}\n",
      "112018.1265625401 {'model__max_features': 2, 'model__min_samples_leaf': 1, 'model__min_samples_split': 4, 'model__n_estimators': 400}\n",
      "116726.85301449915 {'model__max_features': 2, 'model__min_samples_leaf': 1, 'model__min_samples_split': 6, 'model__n_estimators': 100}\n",
      "116057.40291597179 {'model__max_features': 2, 'model__min_samples_leaf': 1, 'model__min_samples_split': 6, 'model__n_estimators': 200}\n",
      "116247.68475164492 {'model__max_features': 2, 'model__min_samples_leaf': 1, 'model__min_samples_split': 6, 'model__n_estimators': 300}\n",
      "116182.59233334467 {'model__max_features': 2, 'model__min_samples_leaf': 1, 'model__min_samples_split': 6, 'model__n_estimators': 400}\n",
      "146778.76304091577 {'model__max_features': 2, 'model__min_samples_leaf': 2, 'model__min_samples_split': 2, 'model__n_estimators': 100}\n",
      "145482.7186391815 {'model__max_features': 2, 'model__min_samples_leaf': 2, 'model__min_samples_split': 2, 'model__n_estimators': 200}\n",
      "145970.43073910553 {'model__max_features': 2, 'model__min_samples_leaf': 2, 'model__min_samples_split': 2, 'model__n_estimators': 300}\n",
      "146083.71149844822 {'model__max_features': 2, 'model__min_samples_leaf': 2, 'model__min_samples_split': 2, 'model__n_estimators': 400}\n",
      "146778.76304091577 {'model__max_features': 2, 'model__min_samples_leaf': 2, 'model__min_samples_split': 4, 'model__n_estimators': 100}\n",
      "145482.7186391815 {'model__max_features': 2, 'model__min_samples_leaf': 2, 'model__min_samples_split': 4, 'model__n_estimators': 200}\n",
      "145970.43073910553 {'model__max_features': 2, 'model__min_samples_leaf': 2, 'model__min_samples_split': 4, 'model__n_estimators': 300}\n",
      "146083.71149844822 {'model__max_features': 2, 'model__min_samples_leaf': 2, 'model__min_samples_split': 4, 'model__n_estimators': 400}\n",
      "146194.2453808966 {'model__max_features': 2, 'model__min_samples_leaf': 2, 'model__min_samples_split': 6, 'model__n_estimators': 100}\n",
      "145123.3374521052 {'model__max_features': 2, 'model__min_samples_leaf': 2, 'model__min_samples_split': 6, 'model__n_estimators': 200}\n",
      "145593.5068130165 {'model__max_features': 2, 'model__min_samples_leaf': 2, 'model__min_samples_split': 6, 'model__n_estimators': 300}\n",
      "145680.08999463805 {'model__max_features': 2, 'model__min_samples_leaf': 2, 'model__min_samples_split': 6, 'model__n_estimators': 400}\n",
      "162197.8852611184 {'model__max_features': 2, 'model__min_samples_leaf': 4, 'model__min_samples_split': 2, 'model__n_estimators': 100}\n",
      "160975.67777332227 {'model__max_features': 2, 'model__min_samples_leaf': 4, 'model__min_samples_split': 2, 'model__n_estimators': 200}\n",
      "161449.08248785947 {'model__max_features': 2, 'model__min_samples_leaf': 4, 'model__min_samples_split': 2, 'model__n_estimators': 300}\n",
      "161486.737916313 {'model__max_features': 2, 'model__min_samples_leaf': 4, 'model__min_samples_split': 2, 'model__n_estimators': 400}\n",
      "162197.8852611184 {'model__max_features': 2, 'model__min_samples_leaf': 4, 'model__min_samples_split': 4, 'model__n_estimators': 100}\n",
      "160975.67777332227 {'model__max_features': 2, 'model__min_samples_leaf': 4, 'model__min_samples_split': 4, 'model__n_estimators': 200}\n",
      "161449.08248785947 {'model__max_features': 2, 'model__min_samples_leaf': 4, 'model__min_samples_split': 4, 'model__n_estimators': 300}\n",
      "161486.737916313 {'model__max_features': 2, 'model__min_samples_leaf': 4, 'model__min_samples_split': 4, 'model__n_estimators': 400}\n",
      "162197.8852611184 {'model__max_features': 2, 'model__min_samples_leaf': 4, 'model__min_samples_split': 6, 'model__n_estimators': 100}\n",
      "160975.67777332227 {'model__max_features': 2, 'model__min_samples_leaf': 4, 'model__min_samples_split': 6, 'model__n_estimators': 200}\n",
      "161449.08248785947 {'model__max_features': 2, 'model__min_samples_leaf': 4, 'model__min_samples_split': 6, 'model__n_estimators': 300}\n",
      "161486.737916313 {'model__max_features': 2, 'model__min_samples_leaf': 4, 'model__min_samples_split': 6, 'model__n_estimators': 400}\n",
      "96638.78579754123 {'model__max_features': 4, 'model__min_samples_leaf': 1, 'model__min_samples_split': 2, 'model__n_estimators': 100}\n",
      "96646.23107541501 {'model__max_features': 4, 'model__min_samples_leaf': 1, 'model__min_samples_split': 2, 'model__n_estimators': 200}\n",
      "96422.27210250117 {'model__max_features': 4, 'model__min_samples_leaf': 1, 'model__min_samples_split': 2, 'model__n_estimators': 300}\n",
      "96335.47934055541 {'model__max_features': 4, 'model__min_samples_leaf': 1, 'model__min_samples_split': 2, 'model__n_estimators': 400}\n",
      "101002.02240539184 {'model__max_features': 4, 'model__min_samples_leaf': 1, 'model__min_samples_split': 4, 'model__n_estimators': 100}\n",
      "100878.0763426364 {'model__max_features': 4, 'model__min_samples_leaf': 1, 'model__min_samples_split': 4, 'model__n_estimators': 200}\n",
      "100894.11624713815 {'model__max_features': 4, 'model__min_samples_leaf': 1, 'model__min_samples_split': 4, 'model__n_estimators': 300}\n",
      "100802.36076472136 {'model__max_features': 4, 'model__min_samples_leaf': 1, 'model__min_samples_split': 4, 'model__n_estimators': 400}\n",
      "103795.38415429622 {'model__max_features': 4, 'model__min_samples_leaf': 1, 'model__min_samples_split': 6, 'model__n_estimators': 100}\n",
      "103999.37979421634 {'model__max_features': 4, 'model__min_samples_leaf': 1, 'model__min_samples_split': 6, 'model__n_estimators': 200}\n",
      "103675.63687547218 {'model__max_features': 4, 'model__min_samples_leaf': 1, 'model__min_samples_split': 6, 'model__n_estimators': 300}\n",
      "103790.02531531967 {'model__max_features': 4, 'model__min_samples_leaf': 1, 'model__min_samples_split': 6, 'model__n_estimators': 400}\n",
      "116123.32927929945 {'model__max_features': 4, 'model__min_samples_leaf': 2, 'model__min_samples_split': 2, 'model__n_estimators': 100}\n",
      "116511.27206868157 {'model__max_features': 4, 'model__min_samples_leaf': 2, 'model__min_samples_split': 2, 'model__n_estimators': 200}\n",
      "116396.66001605292 {'model__max_features': 4, 'model__min_samples_leaf': 2, 'model__min_samples_split': 2, 'model__n_estimators': 300}\n",
      "116385.72570236921 {'model__max_features': 4, 'model__min_samples_leaf': 2, 'model__min_samples_split': 2, 'model__n_estimators': 400}\n",
      "116123.32927929945 {'model__max_features': 4, 'model__min_samples_leaf': 2, 'model__min_samples_split': 4, 'model__n_estimators': 100}\n",
      "116511.27206868157 {'model__max_features': 4, 'model__min_samples_leaf': 2, 'model__min_samples_split': 4, 'model__n_estimators': 200}\n",
      "116396.66001605292 {'model__max_features': 4, 'model__min_samples_leaf': 2, 'model__min_samples_split': 4, 'model__n_estimators': 300}\n",
      "116385.72570236921 {'model__max_features': 4, 'model__min_samples_leaf': 2, 'model__min_samples_split': 4, 'model__n_estimators': 400}\n",
      "116910.4670834962 {'model__max_features': 4, 'model__min_samples_leaf': 2, 'model__min_samples_split': 6, 'model__n_estimators': 100}\n",
      "117298.09122638118 {'model__max_features': 4, 'model__min_samples_leaf': 2, 'model__min_samples_split': 6, 'model__n_estimators': 200}\n",
      "116979.32343721937 {'model__max_features': 4, 'model__min_samples_leaf': 2, 'model__min_samples_split': 6, 'model__n_estimators': 300}\n",
      "117069.49445810067 {'model__max_features': 4, 'model__min_samples_leaf': 2, 'model__min_samples_split': 6, 'model__n_estimators': 400}\n",
      "126917.47612519053 {'model__max_features': 4, 'model__min_samples_leaf': 4, 'model__min_samples_split': 2, 'model__n_estimators': 100}\n",
      "127128.23621540668 {'model__max_features': 4, 'model__min_samples_leaf': 4, 'model__min_samples_split': 2, 'model__n_estimators': 200}\n",
      "127043.56029614512 {'model__max_features': 4, 'model__min_samples_leaf': 4, 'model__min_samples_split': 2, 'model__n_estimators': 300}\n",
      "127247.86422744335 {'model__max_features': 4, 'model__min_samples_leaf': 4, 'model__min_samples_split': 2, 'model__n_estimators': 400}\n",
      "126917.47612519053 {'model__max_features': 4, 'model__min_samples_leaf': 4, 'model__min_samples_split': 4, 'model__n_estimators': 100}\n",
      "127128.23621540668 {'model__max_features': 4, 'model__min_samples_leaf': 4, 'model__min_samples_split': 4, 'model__n_estimators': 200}\n",
      "127043.56029614512 {'model__max_features': 4, 'model__min_samples_leaf': 4, 'model__min_samples_split': 4, 'model__n_estimators': 300}\n",
      "127247.86422744335 {'model__max_features': 4, 'model__min_samples_leaf': 4, 'model__min_samples_split': 4, 'model__n_estimators': 400}\n",
      "126917.47612519053 {'model__max_features': 4, 'model__min_samples_leaf': 4, 'model__min_samples_split': 6, 'model__n_estimators': 100}\n",
      "127128.23621540668 {'model__max_features': 4, 'model__min_samples_leaf': 4, 'model__min_samples_split': 6, 'model__n_estimators': 200}\n",
      "127043.56029614512 {'model__max_features': 4, 'model__min_samples_leaf': 4, 'model__min_samples_split': 6, 'model__n_estimators': 300}\n",
      "127247.86422744335 {'model__max_features': 4, 'model__min_samples_leaf': 4, 'model__min_samples_split': 6, 'model__n_estimators': 400}\n",
      "87248.2571359805 {'model__max_features': 8, 'model__min_samples_leaf': 1, 'model__min_samples_split': 2, 'model__n_estimators': 100}\n",
      "87229.05035374235 {'model__max_features': 8, 'model__min_samples_leaf': 1, 'model__min_samples_split': 2, 'model__n_estimators': 200}\n",
      "87010.66146243578 {'model__max_features': 8, 'model__min_samples_leaf': 1, 'model__min_samples_split': 2, 'model__n_estimators': 300}\n",
      "86844.38079416788 {'model__max_features': 8, 'model__min_samples_leaf': 1, 'model__min_samples_split': 2, 'model__n_estimators': 400}\n",
      "89463.26098661174 {'model__max_features': 8, 'model__min_samples_leaf': 1, 'model__min_samples_split': 4, 'model__n_estimators': 100}\n",
      "89755.73300600795 {'model__max_features': 8, 'model__min_samples_leaf': 1, 'model__min_samples_split': 4, 'model__n_estimators': 200}\n",
      "89868.3844917557 {'model__max_features': 8, 'model__min_samples_leaf': 1, 'model__min_samples_split': 4, 'model__n_estimators': 300}\n",
      "89630.34793892365 {'model__max_features': 8, 'model__min_samples_leaf': 1, 'model__min_samples_split': 4, 'model__n_estimators': 400}\n",
      "91354.47319968631 {'model__max_features': 8, 'model__min_samples_leaf': 1, 'model__min_samples_split': 6, 'model__n_estimators': 100}\n",
      "91187.64908043863 {'model__max_features': 8, 'model__min_samples_leaf': 1, 'model__min_samples_split': 6, 'model__n_estimators': 200}\n",
      "91136.24019574407 {'model__max_features': 8, 'model__min_samples_leaf': 1, 'model__min_samples_split': 6, 'model__n_estimators': 300}\n",
      "91029.85404445199 {'model__max_features': 8, 'model__min_samples_leaf': 1, 'model__min_samples_split': 6, 'model__n_estimators': 400}\n",
      "95555.57320573035 {'model__max_features': 8, 'model__min_samples_leaf': 2, 'model__min_samples_split': 2, 'model__n_estimators': 100}\n",
      "95812.21207333133 {'model__max_features': 8, 'model__min_samples_leaf': 2, 'model__min_samples_split': 2, 'model__n_estimators': 200}\n",
      "95843.29639634334 {'model__max_features': 8, 'model__min_samples_leaf': 2, 'model__min_samples_split': 2, 'model__n_estimators': 300}\n",
      "95653.94168752906 {'model__max_features': 8, 'model__min_samples_leaf': 2, 'model__min_samples_split': 2, 'model__n_estimators': 400}\n",
      "95555.57320573035 {'model__max_features': 8, 'model__min_samples_leaf': 2, 'model__min_samples_split': 4, 'model__n_estimators': 100}\n",
      "95812.21207333133 {'model__max_features': 8, 'model__min_samples_leaf': 2, 'model__min_samples_split': 4, 'model__n_estimators': 200}\n",
      "95843.29639634334 {'model__max_features': 8, 'model__min_samples_leaf': 2, 'model__min_samples_split': 4, 'model__n_estimators': 300}\n",
      "95653.94168752906 {'model__max_features': 8, 'model__min_samples_leaf': 2, 'model__min_samples_split': 4, 'model__n_estimators': 400}\n",
      "95891.45034788878 {'model__max_features': 8, 'model__min_samples_leaf': 2, 'model__min_samples_split': 6, 'model__n_estimators': 100}\n",
      "96315.59762389617 {'model__max_features': 8, 'model__min_samples_leaf': 2, 'model__min_samples_split': 6, 'model__n_estimators': 200}\n",
      "96499.29606408003 {'model__max_features': 8, 'model__min_samples_leaf': 2, 'model__min_samples_split': 6, 'model__n_estimators': 300}\n",
      "96492.3209863463 {'model__max_features': 8, 'model__min_samples_leaf': 2, 'model__min_samples_split': 6, 'model__n_estimators': 400}\n",
      "103487.47745222009 {'model__max_features': 8, 'model__min_samples_leaf': 4, 'model__min_samples_split': 2, 'model__n_estimators': 100}\n",
      "103814.00964636265 {'model__max_features': 8, 'model__min_samples_leaf': 4, 'model__min_samples_split': 2, 'model__n_estimators': 200}\n",
      "103700.2761344588 {'model__max_features': 8, 'model__min_samples_leaf': 4, 'model__min_samples_split': 2, 'model__n_estimators': 300}\n",
      "103444.13996886066 {'model__max_features': 8, 'model__min_samples_leaf': 4, 'model__min_samples_split': 2, 'model__n_estimators': 400}\n",
      "103487.47745222009 {'model__max_features': 8, 'model__min_samples_leaf': 4, 'model__min_samples_split': 4, 'model__n_estimators': 100}\n",
      "103814.00964636265 {'model__max_features': 8, 'model__min_samples_leaf': 4, 'model__min_samples_split': 4, 'model__n_estimators': 200}\n",
      "103700.2761344588 {'model__max_features': 8, 'model__min_samples_leaf': 4, 'model__min_samples_split': 4, 'model__n_estimators': 300}\n",
      "103444.13996886066 {'model__max_features': 8, 'model__min_samples_leaf': 4, 'model__min_samples_split': 4, 'model__n_estimators': 400}\n",
      "103487.47745222009 {'model__max_features': 8, 'model__min_samples_leaf': 4, 'model__min_samples_split': 6, 'model__n_estimators': 100}\n",
      "103814.00964636265 {'model__max_features': 8, 'model__min_samples_leaf': 4, 'model__min_samples_split': 6, 'model__n_estimators': 200}\n",
      "103700.2761344588 {'model__max_features': 8, 'model__min_samples_leaf': 4, 'model__min_samples_split': 6, 'model__n_estimators': 300}\n",
      "103444.13996886066 {'model__max_features': 8, 'model__min_samples_leaf': 4, 'model__min_samples_split': 6, 'model__n_estimators': 400}\n"
     ]
    }
   ],
   "source": [
    "pipe = Pipeline([\n",
    "    ('preprocessin# Extra-Trees\n",
    "pipe = Pipeline([\n",
    "    ('preprocessing', preprocessing_pipeline),\n",
    "    ('model', ExtraTreesRegressor(random_state=0))\n",
    "])\n",
    "\n",
    "pipe.fit(X_train, y_train)\n",
    "y_train_pred = pipe.predict(X_train)\n",
    "\n",
    "# Train set score\n",
    "print('Training set score: {}'.format(mean_absolute_error(y_train, y_train_pred)))\n",
    "\n",
    "# Cross validation score\n",
    "scores = cross_val_score(pipe, X_train, y_train, scoring='neg_mean_absolute_error', cv=10)\n",
    "print('Mean cross validation score: {}'.format(np.mean(-scores)))g', preprocessing_pipeline),\n",
    "    ('model', ExtraTreesRegressor(random_state=0))\n",
    "])\n",
    "\n",
    "# Number of trees in random forest\n",
    "n_estimators = [int(x) for x in np.linspace(start = 10, stop = 500, num = 4)]\n",
    "# Number of features to consider at every split\n",
    "max_features = [2, 3, 4]\n",
    "# Maximum number of levels in tree\n",
    "max_depth = [int(x) for x in np.linspace(10, 100, num = 5)]\n",
    "max_depth.append(None)\n",
    "# Split criterion\n",
    "criterion = ['mse', 'mae']\n",
    "# Minimum number of samples required to split a node\n",
    "min_samples_split = [2, 5, 10]\n",
    "# Minimum number of samples required at each leaf node\n",
    "min_samples_leaf = [1, 2, 4]\n",
    "# Method of selecting samples for training each tree\n",
    "bootstrap = [True, False]\n",
    "# Create the random grid\n",
    "#param_grid = {'n_estimators': n_estimators,\n",
    "#               'max_features': max_features,\n",
    "#               'max_depth': max_depth,\n",
    "#               'criterion': criterion,\n",
    "#               'min_samples_split': min_samples_split,\n",
    "#               'min_samples_leaf': min_samples_leaf,\n",
    "#               'bootstrap': bootstrap}\n",
    "\n",
    "param_grid = {\n",
    "    'model__n_estimators': [100, 200, 300, 400],\n",
    "    'model__max_features': [2, 4, 8],\n",
    "    'model__min_samples_split': [2, 4, 6],\n",
    "    'model__min_samples_leaf': [1, 2, 4]\n",
    "}\n",
    "\n",
    "\n",
    "grid_search = GridSearchCV(pipe, param_grid, cv=5, scoring='neg_mean_absolute_error')\n",
    "grid_search.fit(X_train, y_train)\n",
    "\n",
    "cvres = grid_search.cv_results_\n",
    "for mean_score, params in zip(cvres[\"mean_test_score\"], cvres[\"params\"]):\n",
    "    print(-mean_score, params)"
   ]
  },
  {
   "cell_type": "code",
   "execution_count": 32,
   "metadata": {},
   "outputs": [
    {
     "data": {
      "text/plain": [
       "{'model__max_features': 8,\n",
       " 'model__min_samples_leaf': 1,\n",
       " 'model__min_samples_split': 2,\n",
       " 'model__n_estimators': 400}"
      ]
     },
     "execution_count": 32,
     "metadata": {},
     "output_type": "execute_result"
    }
   ],
   "source": [
    "grid_search.best_params_"
   ]
  },
  {
   "cell_type": "code",
   "execution_count": 33,
   "metadata": {},
   "outputs": [
    {
     "name": "stdout",
     "output_type": "stream",
     "text": [
      "Training set score: 97.43123153663613\n",
      "Mean cross validation score: 86277.59267109421\n"
     ]
    }
   ],
   "source": [
    "pipe = grid_search.best_estimator_\n",
    "\n",
    "pipe.fit(X_train, y_train)\n",
    "y_train_pred = pipe.predict(X_train)\n",
    "\n",
    "# Train set score\n",
    "print('Training set score: {}'.format(mean_absolute_error(y_train, y_train_pred)))\n",
    "\n",
    "# Cross validation score\n",
    "scores = cross_val_score(pipe, X_train, y_train, scoring='neg_mean_absolute_error', cv=10)\n",
    "print('Mean cross validation score: {}'.format(np.mean(-scores)))"
   ]
  }
 ],
 "metadata": {
  "kernelspec": {
   "display_name": "Python 3",
   "language": "python",
   "name": "python3"
  },
  "language_info": {
   "codemirror_mode": {
    "name": "ipython",
    "version": 3
   },
   "file_extension": ".py",
   "mimetype": "text/x-python",
   "name": "python",
   "nbconvert_exporter": "python",
   "pygments_lexer": "ipython3",
   "version": "3.8.5"
  }
 },
 "nbformat": 4,
 "nbformat_minor": 4
}
