{
 "cells": [
  {
   "cell_type": "code",
   "execution_count": 1,
   "metadata": {},
   "outputs": [],
   "source": [
    "import numpy as np\n",
    "import pandas as pd\n",
    "import re\n",
    "import matplotlib.pyplot as plt\n",
    "import seaborn as sns\n",
    "from scipy import stats\n",
    "\n",
    "# Import estimators and transformers\n",
    "from sklearn.model_selection import train_test_split\n",
    "from sklearn.pipeline import Pipeline\n",
    "from sklearn.preprocessing import StandardScaler, OneHotEncoder\n",
    "from sklearn.experimental import enable_iterative_imputer\n",
    "from sklearn.impute import IterativeImputer, SimpleImputer\n",
    "from sklearn.compose import ColumnTransformer\n",
    "from src.features import CustomEncoder\n",
    "from sklearn.decomposition import PCA\n",
    "\n",
    "# Import predictors\n",
    "from sklearn.linear_model import LinearRegression, Ridge, ElasticNet\n",
    "from sklearn.tree import DecisionTreeRegressor\n",
    "from sklearn.ensemble import RandomForestRegressor, ExtraTreesRegressor\n",
    "from sklearn.neighbors import KNeighborsRegressor\n",
    "from sklearn.ensemble import GradientBoostingRegressor, AdaBoostRegressor\n",
    "from sklearn.model_selection import GridSearchCV\n",
    "\n",
    "# Import metrics\n",
    "from sklearn.metrics import mean_absolute_error\n",
    "from sklearn.model_selection import cross_val_score\n",
    "\n",
    "pd.set_option('display.max_columns', None)\n",
    "pd.set_option('display.float_format', lambda x: '%.3f' % x)\n",
    "\n",
    "%load_ext autoreload\n",
    "%autoreload 2\n",
    "\n",
    "path_processed = '/home/matteo@COPPET/Documents/data_science/projects/housing_prices_firenze/data/processed/'"
   ]
  },
  {
   "cell_type": "code",
   "execution_count": 2,
   "metadata": {
    "collapsed": true
   },
   "outputs": [
    {
     "name": "stdout",
     "output_type": "stream",
     "text": [
      "<class 'pandas.core.frame.DataFrame'>\n",
      "RangeIndex: 8714 entries, 0 to 8713\n",
      "Data columns (total 57 columns):\n",
      " #   Column                                     Non-Null Count  Dtype  \n",
      "---  ------                                     --------------  -----  \n",
      " 0   Tipologia                                  8714 non-null   object \n",
      " 1   Tipo_proprietà                             8277 non-null   object \n",
      " 2   Zona                                       8714 non-null   object \n",
      " 3   Anno_costruzione                           6334 non-null   float64\n",
      " 4   Stato                                      8483 non-null   object \n",
      " 5   Prezzo_EUR                                 8714 non-null   float64\n",
      " 6   Superficie_m2                              8714 non-null   float64\n",
      " 7   Prezzo_per_m2                              8714 non-null   float64\n",
      " 8   Riscaldamento_A_C                          8714 non-null   object \n",
      " 9   Tipo_riscaldamento                         6760 non-null   object \n",
      " 10  Alimentazione_riscaldamento                6439 non-null   object \n",
      " 11  Classe_energetica                          7505 non-null   object \n",
      " 12  Ascensore                                  8714 non-null   float64\n",
      " 13  Accesso_disabili                           8714 non-null   float64\n",
      " 14  Piano                                      8560 non-null   object \n",
      " 15  Posti_garage                               8714 non-null   float64\n",
      " 16  Posti_esterni                              8714 non-null   float64\n",
      " 17  Num_bagni                                  8609 non-null   float64\n",
      " 18  Num_tot_locali                             8693 non-null   float64\n",
      " 19  Fibra_ottica                               8714 non-null   float64\n",
      " 20  VideoCitofono                              8714 non-null   float64\n",
      " 21  Porta_blindata                             8714 non-null   float64\n",
      " 22  Impianto_tv_singolo                        8714 non-null   float64\n",
      " 23  Parzialmente_Arredato                      8714 non-null   float64\n",
      " 24  Infissi_esterni_in_vetro_/_legno           8714 non-null   float64\n",
      " 25  Esposizione_doppia                         8714 non-null   float64\n",
      " 26  Balcone                                    8714 non-null   float64\n",
      " 27  Impianto_tv_centralizzato                  8714 non-null   float64\n",
      " 28  Infissi_esterni_in_doppio_vetro_/_PVC      8714 non-null   float64\n",
      " 29  Esposizione_esterna                        8714 non-null   float64\n",
      " 30  Terrazza                                   8714 non-null   float64\n",
      " 31  Cancello_elettrico                         8714 non-null   float64\n",
      " 32  Cantina                                    8714 non-null   float64\n",
      " 33  Giardino_privato                           8714 non-null   float64\n",
      " 34  Caminetto                                  8714 non-null   float64\n",
      " 35  Portiere_intera_giornata                   8714 non-null   float64\n",
      " 36  Infissi_esterni_in_doppio_vetro_/_legno    8714 non-null   float64\n",
      " 37  Armadio_a_muro                             8714 non-null   float64\n",
      " 38  Impianto_di_allarme                        8714 non-null   float64\n",
      " 39  Mansarda                                   8714 non-null   float64\n",
      " 40  Infissi_esterni_in_doppio_vetro_/_metallo  8714 non-null   float64\n",
      " 41  Solo_Cucina_Arredata                       8714 non-null   float64\n",
      " 42  Esposizione_interna                        8714 non-null   float64\n",
      " 43  Infissi_esterni_in_vetro_/_PVC             8714 non-null   float64\n",
      " 44  Giardino_comune                            8714 non-null   float64\n",
      " 45  Taverna                                    8714 non-null   float64\n",
      " 46  Impianto_tv_con_parabola_satellitare       8714 non-null   float64\n",
      " 47  Arredato                                   8714 non-null   float64\n",
      " 48  Infissi_esterni_in_triplo_vetro_/_PVC      8714 non-null   float64\n",
      " 49  Infissi_esterni_in_triplo_vetro_/_legno    8714 non-null   float64\n",
      " 50  Infissi_esterni_in_vetro_/_metallo         8714 non-null   float64\n",
      " 51  Portiere_mezza_giornata                    8714 non-null   float64\n",
      " 52  Cablato                                    8714 non-null   float64\n",
      " 53  Idromassaggio                              8714 non-null   float64\n",
      " 54  Reception                                  8714 non-null   float64\n",
      " 55  Piscina                                    8714 non-null   float64\n",
      " 56  Infissi_esterni_in_triplo_vetro_/_metallo  8714 non-null   float64\n",
      "dtypes: float64(48), object(9)\n",
      "memory usage: 3.8+ MB\n"
     ]
    }
   ],
   "source": [
    "df = pd.read_csv(path_processed+'data_clean.csv')\n",
    "df.info()"
   ]
  },
  {
   "cell_type": "code",
   "execution_count": 3,
   "metadata": {},
   "outputs": [
    {
     "data": {
      "text/plain": [
       "count   8714.000\n",
       "mean     118.759\n",
       "std      180.692\n",
       "min        5.000\n",
       "25%       65.000\n",
       "50%       90.000\n",
       "75%      129.000\n",
       "max     8150.000\n",
       "Name: Superficie_m2, dtype: float64"
      ]
     },
     "execution_count": 3,
     "metadata": {},
     "output_type": "execute_result"
    }
   ],
   "source": [
    "df['Superficie_m2'].describe()"
   ]
  },
  {
   "cell_type": "markdown",
   "metadata": {},
   "source": [
    "### 1. Outliers"
   ]
  },
  {
   "cell_type": "code",
   "execution_count": 4,
   "metadata": {},
   "outputs": [],
   "source": [
    "# Remove all rows containing outliers in either Price or Square meters by using z statistic\n",
    "df = df.loc[(np.abs(stats.zscore(df[['Prezzo_EUR', 'Superficie_m2']])) < 3).all(axis=1)]"
   ]
  },
  {
   "cell_type": "code",
   "execution_count": 5,
   "metadata": {
    "collapsed": true
   },
   "outputs": [
    {
     "name": "stdout",
     "output_type": "stream",
     "text": [
      "<class 'pandas.core.frame.DataFrame'>\n",
      "Int64Index: 8604 entries, 0 to 8713\n",
      "Data columns (total 57 columns):\n",
      " #   Column                                     Non-Null Count  Dtype  \n",
      "---  ------                                     --------------  -----  \n",
      " 0   Tipologia                                  8604 non-null   object \n",
      " 1   Tipo_proprietà                             8174 non-null   object \n",
      " 2   Zona                                       8604 non-null   object \n",
      " 3   Anno_costruzione                           6265 non-null   float64\n",
      " 4   Stato                                      8378 non-null   object \n",
      " 5   Prezzo_EUR                                 8604 non-null   float64\n",
      " 6   Superficie_m2                              8604 non-null   float64\n",
      " 7   Prezzo_per_m2                              8604 non-null   float64\n",
      " 8   Riscaldamento_A_C                          8604 non-null   object \n",
      " 9   Tipo_riscaldamento                         6684 non-null   object \n",
      " 10  Alimentazione_riscaldamento                6370 non-null   object \n",
      " 11  Classe_energetica                          7405 non-null   object \n",
      " 12  Ascensore                                  8604 non-null   float64\n",
      " 13  Accesso_disabili                           8604 non-null   float64\n",
      " 14  Piano                                      8468 non-null   object \n",
      " 15  Posti_garage                               8604 non-null   float64\n",
      " 16  Posti_esterni                              8604 non-null   float64\n",
      " 17  Num_bagni                                  8505 non-null   float64\n",
      " 18  Num_tot_locali                             8583 non-null   float64\n",
      " 19  Fibra_ottica                               8604 non-null   float64\n",
      " 20  VideoCitofono                              8604 non-null   float64\n",
      " 21  Porta_blindata                             8604 non-null   float64\n",
      " 22  Impianto_tv_singolo                        8604 non-null   float64\n",
      " 23  Parzialmente_Arredato                      8604 non-null   float64\n",
      " 24  Infissi_esterni_in_vetro_/_legno           8604 non-null   float64\n",
      " 25  Esposizione_doppia                         8604 non-null   float64\n",
      " 26  Balcone                                    8604 non-null   float64\n",
      " 27  Impianto_tv_centralizzato                  8604 non-null   float64\n",
      " 28  Infissi_esterni_in_doppio_vetro_/_PVC      8604 non-null   float64\n",
      " 29  Esposizione_esterna                        8604 non-null   float64\n",
      " 30  Terrazza                                   8604 non-null   float64\n",
      " 31  Cancello_elettrico                         8604 non-null   float64\n",
      " 32  Cantina                                    8604 non-null   float64\n",
      " 33  Giardino_privato                           8604 non-null   float64\n",
      " 34  Caminetto                                  8604 non-null   float64\n",
      " 35  Portiere_intera_giornata                   8604 non-null   float64\n",
      " 36  Infissi_esterni_in_doppio_vetro_/_legno    8604 non-null   float64\n",
      " 37  Armadio_a_muro                             8604 non-null   float64\n",
      " 38  Impianto_di_allarme                        8604 non-null   float64\n",
      " 39  Mansarda                                   8604 non-null   float64\n",
      " 40  Infissi_esterni_in_doppio_vetro_/_metallo  8604 non-null   float64\n",
      " 41  Solo_Cucina_Arredata                       8604 non-null   float64\n",
      " 42  Esposizione_interna                        8604 non-null   float64\n",
      " 43  Infissi_esterni_in_vetro_/_PVC             8604 non-null   float64\n",
      " 44  Giardino_comune                            8604 non-null   float64\n",
      " 45  Taverna                                    8604 non-null   float64\n",
      " 46  Impianto_tv_con_parabola_satellitare       8604 non-null   float64\n",
      " 47  Arredato                                   8604 non-null   float64\n",
      " 48  Infissi_esterni_in_triplo_vetro_/_PVC      8604 non-null   float64\n",
      " 49  Infissi_esterni_in_triplo_vetro_/_legno    8604 non-null   float64\n",
      " 50  Infissi_esterni_in_vetro_/_metallo         8604 non-null   float64\n",
      " 51  Portiere_mezza_giornata                    8604 non-null   float64\n",
      " 52  Cablato                                    8604 non-null   float64\n",
      " 53  Idromassaggio                              8604 non-null   float64\n",
      " 54  Reception                                  8604 non-null   float64\n",
      " 55  Piscina                                    8604 non-null   float64\n",
      " 56  Infissi_esterni_in_triplo_vetro_/_metallo  8604 non-null   float64\n",
      "dtypes: float64(48), object(9)\n",
      "memory usage: 3.8+ MB\n"
     ]
    }
   ],
   "source": [
    "df.info()"
   ]
  },
  {
   "cell_type": "markdown",
   "metadata": {},
   "source": [
    "### 1. Feature selection and splitting data"
   ]
  },
  {
   "cell_type": "code",
   "execution_count": 6,
   "metadata": {},
   "outputs": [],
   "source": [
    "target = 'Prezzo_EUR'\n",
    "#drop_cols = ['Prezzo_per_m2', 'Anno_costruzione', 'Tipo_riscaldamento', 'Alimentazione_riscaldamento',\n",
    "#             'Classe_energetica'] + [target]\n",
    "\n",
    "drop_cols = ['Prezzo_per_m2'] + [target]\n",
    "\n",
    "X = df.drop(columns=drop_cols)\n",
    "y = df[target].values\n",
    "\n",
    "X_train, X_test, y_train, y_test = train_test_split(X, y, test_size=0.2, random_state=0)"
   ]
  },
  {
   "cell_type": "markdown",
   "metadata": {},
   "source": [
    "### 2. Pre-processing pipeline"
   ]
  },
  {
   "cell_type": "code",
   "execution_count": 7,
   "metadata": {},
   "outputs": [],
   "source": [
    "cat_features = ['Tipologia', 'Zona', 'Stato', 'Tipo_proprietà', 'Riscaldamento_A_C', 'Tipo_riscaldamento',\n",
    "                'Alimentazione_riscaldamento', 'Classe_energetica', 'Piano']\n",
    "num_features = ['Superficie_m2', 'Num_bagni', 'Num_tot_locali', 'Anno_costruzione']\n",
    "\n",
    "# cat_features = ['Tipologia', 'Zona', 'Tipo_proprietà', 'Tipo_riscaldamento', 'Classe_energetica']\n",
    "# num_features = ['Superficie_m2', 'Num_tot_locali']\n",
    "\n",
    "cat_transformer = Pipeline([\n",
    "    ('imputing', SimpleImputer(strategy='most_frequent')),\n",
    "    ('oh_encoding', OneHotEncoder(handle_unknown='ignore'))\n",
    "])\n",
    "\n",
    "num_transformer = Pipeline([\n",
    "    ('scaling', StandardScaler()),\n",
    "    ('imputing', SimpleImputer(strategy='mean'))\n",
    "])\n",
    "\n",
    "preprocessing_pipeline = ColumnTransformer([\n",
    "    ('categoricals', cat_transformer, cat_features),\n",
    "    ('numericals', num_transformer, num_features)\n",
    "],\n",
    "    remainder='passthrough'\n",
    ")"
   ]
  },
  {
   "cell_type": "markdown",
   "metadata": {},
   "source": [
    "### 3. Modeling"
   ]
  },
  {
   "cell_type": "markdown",
   "metadata": {},
   "source": [
    "#### 3.1 First model (benchmarking)"
   ]
  },
  {
   "cell_type": "code",
   "execution_count": 10,
   "metadata": {},
   "outputs": [
    {
     "name": "stdout",
     "output_type": "stream",
     "text": [
      "Mean cross validation score: 12629211369340.676\n"
     ]
    }
   ],
   "source": [
    "pipe = Pipeline([\n",
    "    ('preprocessing', preprocessing_pipeline),\n",
    "    ('model', LinearRegression())\n",
    "])\n",
    "\n",
    "pipe.fit(X_train, y_train)\n",
    "y_train_pred = pipe.predict(X_train)\n",
    "\n",
    "# Train set score\n",
    "print('Training set score: {}'.format(mean_absolute_error(y_train, y_train_pred)))\n",
    "\n",
    "# Cross validation score\n",
    "scores = cross_val_score(pipe, X_train, y_train, scoring='neg_mean_absolute_error', cv=10)\n",
    "print('Mean cross validation score: {}'.format(np.mean(-scores)))"
   ]
  },
  {
   "cell_type": "markdown",
   "metadata": {},
   "source": [
    "#### 3.2 Other models"
   ]
  },
  {
   "cell_type": "code",
   "execution_count": null,
   "metadata": {},
   "outputs": [],
   "source": [
    "pipe = Pipeline([\n",
    "    ('preprocessing', preprocessing_pipeline),\n",
    "    ('model', Ridge())\n",
    "])\n",
    "\n",
    "pipe.fit(X_train, y_train)\n",
    "y_train_pred = pipe.predict(X_train)\n",
    "\n",
    "# Train set score\n",
    "print('Training set score: {}'.format(mean_absolute_error(y_train, y_train_pred)))\n",
    "\n",
    "# Cross validation score\n",
    "scores = cross_val_score(pipe, X_train, y_train, scoring='neg_mean_absolute_error', cv=10)\n",
    "print('Mean cross validation score: {}'.format(np.mean(-scores)))"
   ]
  },
  {
   "cell_type": "markdown",
   "metadata": {},
   "source": [
    "#### 3.3 Ensemble models"
   ]
  },
  {
   "cell_type": "code",
   "execution_count": null,
   "metadata": {},
   "outputs": [],
   "source": [
    "# Random Forest\n",
    "pipe = Pipeline([\n",
    "    ('preprocessing', preprocessing_pipeline),\n",
    "    ('model', RandomForestRegressor(random_state=0))\n",
    "])\n",
    "\n",
    "pipe.fit(X_train, y_train)\n",
    "y_train_pred = pipe.predict(X_train)\n",
    "\n",
    "# Train set score\n",
    "print('Training set score: {}'.format(mean_absolute_error(y_train, y_train_pred)))\n",
    "\n",
    "# Cross validation score\n",
    "scores = cross_val_score(pipe, X_train, y_train, scoring='neg_mean_absolute_error', cv=10)\n",
    "print('Mean cross validation score: {}'.format(np.mean(-scores)))"
   ]
  },
  {
   "cell_type": "code",
   "execution_count": null,
   "metadata": {},
   "outputs": [],
   "source": [
    "# Extra-Trees\n",
    "pipe = Pipeline([\n",
    "    ('preprocessing', preprocessing_pipeline),\n",
    "    ('model', ExtraTreesRegressor(random_state=0))\n",
    "])\n",
    "\n",
    "pipe.fit(X_train, y_train)\n",
    "y_train_pred = pipe.predict(X_train)\n",
    "\n",
    "# Train set score\n",
    "print('Training set score: {}'.format(mean_absolute_error(y_train, y_train_pred)))\n",
    "\n",
    "# Cross validation score\n",
    "scores = cross_val_score(pipe, X_train, y_train, scoring='neg_mean_absolute_error', cv=10)\n",
    "print('Mean cross validation score: {}'.format(np.mean(-scores)))"
   ]
  },
  {
   "cell_type": "code",
   "execution_count": null,
   "metadata": {},
   "outputs": [],
   "source": [
    "# Gradient boosting\n",
    "pipe = Pipeline([\n",
    "    ('preprocessing', preprocessing_pipeline),\n",
    "    ('model', GradientBoostingRegressor(random_state=0))\n",
    "])\n",
    "\n",
    "pipe.fit(X_train, y_train)\n",
    "y_train_pred = pipe.predict(X_train)\n",
    "\n",
    "# Train set score\n",
    "print('Training set score: {}'.format(mean_absolute_error(y_train, y_train_pred)))\n",
    "\n",
    "# Cross validation score\n",
    "scores = cross_val_score(pipe, X_train, y_train, scoring='neg_mean_absolute_error', cv=10)\n",
    "print('Mean cross validation score: {}'.format(np.mean(-scores)))"
   ]
  },
  {
   "cell_type": "code",
   "execution_count": null,
   "metadata": {},
   "outputs": [],
   "source": [
    "# AdaBoost\n",
    "pipe = Pipeline([\n",
    "    ('preprocessing', preprocessing_pipeline),\n",
    "    ('model', AdaBoostRegressor(random_state=0))\n",
    "])\n",
    "\n",
    "pipe.fit(X_train, y_train)\n",
    "y_train_pred = pipe.predict(X_train)\n",
    "\n",
    "# Train set score\n",
    "print('Training set score: {}'.format(mean_absolute_error(y_train, y_train_pred)))\n",
    "\n",
    "# Cross validation score\n",
    "scores = cross_val_score(pipe, X_train, y_train, scoring='neg_mean_absolute_error', cv=10)\n",
    "print('Mean cross validation score: {}'.format(np.mean(-scores)))"
   ]
  },
  {
   "cell_type": "markdown",
   "metadata": {},
   "source": [
    "The results are much better when removing outliers from the data!"
   ]
  },
  {
   "cell_type": "code",
   "execution_count": 39,
   "metadata": {},
   "outputs": [
    {
     "name": "stdout",
     "output_type": "stream",
     "text": [
      "Ridge: 90305.777493 (5526.444194)\n",
      "EN: 101034.409445 (7545.714853)\n",
      "CART: 97169.365674 (5453.815347)\n",
      "RDMF: 72588.243853 (4973.938333)\n",
      "EXTR: 70487.802987 (5056.759080)\n",
      "GBOO: 77680.259822 (5136.652204)\n",
      "ADA: 239306.442728 (19927.691292)\n"
     ]
    }
   ],
   "source": [
    "# Test Options and Evaluation Metrics\n",
    "num_folds = 10\n",
    "scoring = \"neg_mean_absolute_error\"\n",
    "\n",
    "# Spot Check Algorithms\n",
    "models = []\n",
    "models.append(('Ridge', Ridge()))\n",
    "models.append(('EN', ElasticNet()))\n",
    "models.append(('CART', DecisionTreeRegressor()))\n",
    "models.append(('RDMF', RandomForestRegressor(random_state=0)))\n",
    "models.append(('EXTR', ExtraTreesRegressor(random_state=0)))\n",
    "models.append(('GBOO', GradientBoostingRegressor(random_state=0)))\n",
    "models.append(('ADA', AdaBoostRegressor(random_state=0)))\n",
    "\n",
    "train_results = []\n",
    "test_results = []\n",
    "names = []\n",
    "for name, model in models:\n",
    "    #kfold = KFold(n_splits=num_folds, random_state=seed)\n",
    "    pipe = Pipeline([\n",
    "        ('preprocessing', preprocessing_pipeline),\n",
    "        ('model', model)\n",
    "    ])\n",
    "    # Train score\n",
    "    pipe.fit(X_train, y_train)\n",
    "    y_train_pred = pipe.predict(X_train)\n",
    "    train_res = mean_absolute_error(y_train, y_train_pred)\n",
    "    train_results.append(train_res)\n",
    "\n",
    "    # Test score\n",
    "    cv_results = cross_val_score(pipe, X_train, y_train, scoring=scoring, cv=num_folds)\n",
    "    test_results.append(-cv_results)\n",
    "    names.append(name)\n",
    "    msg = \"%s: %f (%f)\" %(name, np.mean(-cv_results),   np.std(-cv_results))\n",
    "    print(msg)"
   ]
  },
  {
   "cell_type": "code",
   "execution_count": 42,
   "metadata": {},
   "outputs": [
    {
     "data": {
      "image/png": "[encoded data removed]",
      "text/plain": [
       "<Figure size 720x720 with 1 Axes>"
      ]
     },
     "metadata": {
      "needs_background": "light"
     },
     "output_type": "display_data"
    }
   ],
   "source": [
    "# Compare Algorithms\n",
    "fig = plt.figure(figsize=(10, 10))\n",
    "fig.suptitle('Algorithm Comparison')\n",
    "ax = fig.add_subplot(111)\n",
    "plt.boxplot(test_results)\n",
    "#plt.scatter(x=names[:-1], y=train_results[:-1])\n",
    "ax.set_xticklabels(names)\n",
    "plt.show()"
   ]
  },
  {
   "cell_type": "markdown",
   "metadata": {},
   "source": [
    "### 4. Hyperparameter tuning"
   ]
  },
  {
   "cell_type": "code",
   "execution_count": null,
   "metadata": {
    "scrolled": true
   },
   "outputs": [],
   "source": [
    "pipe = Pipeline([\n",
    "    ('preprocessin# Extra-Trees\n",
    "pipe = Pipeline([\n",
    "    ('preprocessing', preprocessing_pipeline),\n",
    "    ('model', ExtraTreesRegressor(random_state=0))\n",
    "])\n",
    "\n",
    "pipe.fit(X_train, y_train)\n",
    "y_train_pred = pipe.predict(X_train)\n",
    "\n",
    "# Train set score\n",
    "print('Training set score: {}'.format(mean_absolute_error(y_train, y_train_pred)))\n",
    "\n",
    "# Cross validation score\n",
    "scores = cross_val_score(pipe, X_train, y_train, scoring='neg_mean_absolute_error', cv=10)\n",
    "print('Mean cross validation score: {}'.format(np.mean(-scores)))g', preprocessing_pipeline),\n",
    "    ('model', ExtraTreesRegressor(random_state=0))\n",
    "])\n",
    "\n",
    "# Number of trees in random forest\n",
    "n_estimators = [int(x) for x in np.linspace(start = 10, stop = 500, num = 4)]\n",
    "# Number of features to consider at every split\n",
    "max_features = [2, 3, 4]\n",
    "# Maximum number of levels in tree\n",
    "max_depth = [int(x) for x in np.linspace(10, 100, num = 5)]\n",
    "max_depth.append(None)\n",
    "# Split criterion\n",
    "criterion = ['mse', 'mae']\n",
    "# Minimum number of samples required to split a node\n",
    "min_samples_split = [2, 5, 10]\n",
    "# Minimum number of samples required at each leaf node\n",
    "min_samples_leaf = [1, 2, 4]\n",
    "# Method of selecting samples for training each tree\n",
    "bootstrap = [True, False]\n",
    "# Create the random grid\n",
    "#param_grid = {'n_estimators': n_estimators,\n",
    "#               'max_features': max_features,\n",
    "#               'max_depth': max_depth,\n",
    "#               'criterion': criterion,\n",
    "#               'min_samples_split': min_samples_split,\n",
    "#               'min_samples_leaf': min_samples_leaf,\n",
    "#               'bootstrap': bootstrap}\n",
    "\n",
    "param_grid = {\n",
    "    'model__n_estimators': [100, 200, 300, 400],\n",
    "    'model__max_features': [2, 4, 8],\n",
    "    'model__min_samples_split': [2, 4, 6],\n",
    "    'model__min_samples_leaf': [1, 2, 4]\n",
    "}\n",
    "\n",
    "\n",
    "grid_search = GridSearchCV(pipe, param_grid, cv=5, scoring='neg_mean_absolute_error')\n",
    "grid_search.fit(X_train, y_train)\n",
    "\n",
    "cvres = grid_search.cv_results_\n",
    "for mean_score, params in zip(cvres[\"mean_test_score\"], cvres[\"params\"]):\n",
    "    print(-mean_score, params)"
   ]
  },
  {
   "cell_type": "code",
   "execution_count": null,
   "metadata": {},
   "outputs": [],
   "source": [
    "grid_search.best_params_"
   ]
  },
  {
   "cell_type": "code",
   "execution_count": null,
   "metadata": {},
   "outputs": [],
   "source": [
    "pipe = grid_search.best_estimator_\n",
    "\n",
    "pipe.fit(X_train, y_train)\n",
    "y_train_pred = pipe.predict(X_train)\n",
    "\n",
    "# Train set score\n",
    "print('Training set score: {}'.format(mean_absolute_error(y_train, y_train_pred)))\n",
    "\n",
    "# Cross validation score\n",
    "scores = cross_val_score(pipe, X_train, y_train, scoring='neg_mean_absolute_error', cv=10)\n",
    "print('Mean cross validation score: {}'.format(np.mean(-scores)))"
   ]
  }
 ],
 "metadata": {
  "kernelspec": {
   "display_name": "Python 3",
   "language": "python",
   "name": "python3"
  },
  "language_info": {
   "codemirror_mode": {
    "name": "ipython",
    "version": 3
   },
   "file_extension": ".py",
   "mimetype": "text/x-python",
   "name": "python",
   "nbconvert_exporter": "python",
   "pygments_lexer": "ipython3",
   "version": "3.8.5"
  }
 },
 "nbformat": 4,
 "nbformat_minor": 4
}
