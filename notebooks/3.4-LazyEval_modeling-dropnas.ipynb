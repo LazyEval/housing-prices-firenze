{
 "cells": [
  {
   "cell_type": "code",
   "execution_count": 1,
   "metadata": {},
   "outputs": [],
   "source": [
    "import numpy as np\n",
    "import pandas as pd\n",
    "import re\n",
    "import matplotlib.pyplot as plt\n",
    "import seaborn as sns\n",
    "\n",
    "# Import estimators and transformers\n",
    "from sklearn.model_selection import train_test_split\n",
    "from sklearn.pipeline import Pipeline\n",
    "from sklearn.preprocessing import StandardScaler, OneHotEncoder\n",
    "from sklearn.experimental import enable_iterative_imputer\n",
    "from sklearn.impute import IterativeImputer, SimpleImputer\n",
    "from sklearn.compose import ColumnTransformer\n",
    "from src.features import CustomEncoder\n",
    "from sklearn.decomposition import PCA\n",
    "\n",
    "# Import predictors\n",
    "from sklearn.linear_model import LinearRegression, Ridge, Lasso\n",
    "from sklearn.ensemble import RandomForestRegressor\n",
    "from sklearn.neighbors import KNeighborsRegressor\n",
    "from sklearn.model_selection import GridSearchCV\n",
    "\n",
    "# Import metrics\n",
    "from sklearn.metrics import mean_absolute_error\n",
    "from sklearn.model_selection import cross_val_score\n",
    "\n",
    "pd.set_option('display.max_columns', None)\n",
    "pd.set_option('display.float_format', lambda x: '%.3f' % x)\n",
    "\n",
    "%load_ext autoreload\n",
    "%autoreload 2\n",
    "\n",
    "path_processed = '/home/matteo@COPPET/Documents/data_science/projects/housing_prices_firenze/data/processed/'"
   ]
  },
  {
   "cell_type": "code",
   "execution_count": 2,
   "metadata": {},
   "outputs": [],
   "source": [
    "df = pd.read_csv(path_processed+'data_clean.csv')"
   ]
  },
  {
   "cell_type": "markdown",
   "metadata": {},
   "source": [
    "### 1. Feature selection and splitting data"
   ]
  },
  {
   "cell_type": "code",
   "execution_count": 4,
   "metadata": {},
   "outputs": [],
   "source": [
    "target = 'Prezzo_EUR'\n",
    "drop_cols = ['Prezzo_per_m2', 'Anno_costruzione', 'Tipo_riscaldamento', 'Alimentazione_riscaldamento',\n",
    "             'Classe_energetica'] + [target]\n",
    "\n",
    "X = df.drop(columns=drop_cols)\n",
    "y = df[target].values\n",
    "\n",
    "X_train, X_test, y_train, y_test = train_test_split(X, y, test_size=0.2, random_state=0)"
   ]
  },
  {
   "cell_type": "markdown",
   "metadata": {},
   "source": [
    "### 2. Pre-processing pipeline"
   ]
  },
  {
   "cell_type": "code",
   "execution_count": 5,
   "metadata": {},
   "outputs": [],
   "source": [
    "cat_features = ['Tipologia', 'Zona', 'Stato', 'Tipo_proprietà', 'Riscaldamento_A_C', 'Piano']\n",
    "num_features = ['Superficie_m2', 'Num_bagni', 'Num_tot_locali']\n",
    "\n",
    "# cat_features = ['Tipologia', 'Zona', 'Tipo_proprietà', 'Tipo_riscaldamento', 'Classe_energetica']\n",
    "# num_features = ['Superficie_m2', 'Num_tot_locali']\n",
    "\n",
    "cat_transformer = Pipeline([\n",
    "    ('imputing', SimpleImputer(strategy='most_frequent')),\n",
    "    ('oh_encoding', OneHotEncoder(handle_unknown='ignore'))\n",
    "])\n",
    "\n",
    "num_transformer = Pipeline([\n",
    "    ('scaling', StandardScaler()),\n",
    "    ('imputing', SimpleImputer(strategy='mean'))\n",
    "])\n",
    "\n",
    "preprocessing_pipeline = ColumnTransformer([\n",
    "    ('categoricals', cat_transformer, cat_features),\n",
    "    ('numericals', num_transformer, num_features)\n",
    "],\n",
    "    remainder='passthrough'\n",
    ")"
   ]
  },
  {
   "cell_type": "markdown",
   "metadata": {},
   "source": [
    "### 3. Modeling"
   ]
  },
  {
   "cell_type": "markdown",
   "metadata": {},
   "source": [
    "#### 3.1 First model (benchmarking)"
   ]
  },
  {
   "cell_type": "code",
   "execution_count": 7,
   "metadata": {},
   "outputs": [
    {
     "name": "stdout",
     "output_type": "stream",
     "text": [
      "Training set score: 134833.75986228662\n",
      "Mean cross validation score: 13255542670473.53\n"
     ]
    }
   ],
   "source": [
    "pipe = Pipeline([\n",
    "    ('preprocessing', preprocessing_pipeline),\n",
    "    ('model', LinearRegression())\n",
    "])\n",
    "\n",
    "pipe.fit(X_train, y_train)\n",
    "y_train_pred = pipe.predict(X_train)\n",
    "\n",
    "# Train set score\n",
    "print('Training set score: {}'.format(mean_absolute_error(y_train, y_train_pred)))\n",
    "\n",
    "# Cross validation score\n",
    "scores = cross_val_score(pipe, X_train, y_train, scoring='neg_mean_absolute_error', cv=10)\n",
    "print('Mean cross validation score: {}'.format(np.mean(-scores)))"
   ]
  },
  {
   "cell_type": "markdown",
   "metadata": {},
   "source": [
    "#### 3.2 Other models"
   ]
  },
  {
   "cell_type": "code",
   "execution_count": 8,
   "metadata": {},
   "outputs": [
    {
     "name": "stdout",
     "output_type": "stream",
     "text": [
      "Training set score: 134760.16481154386\n",
      "Mean cross validation score: 142635.27057315363\n"
     ]
    }
   ],
   "source": [
    "pipe = Pipeline([\n",
    "    ('preprocessing', preprocessing_pipeline),\n",
    "    ('model', Ridge())\n",
    "])\n",
    "\n",
    "pipe.fit(X_train, y_train)\n",
    "y_train_pred = pipe.predict(X_train)\n",
    "\n",
    "# Train set score\n",
    "print('Training set score: {}'.format(mean_absolute_error(y_train, y_train_pred)))\n",
    "\n",
    "# Cross validation score\n",
    "scores = cross_val_score(pipe, X_train, y_train, scoring='neg_mean_absolute_error', cv=10)\n",
    "print('Mean cross validation score: {}'.format(np.mean(-scores)))"
   ]
  },
  {
   "cell_type": "code",
   "execution_count": 9,
   "metadata": {},
   "outputs": [
    {
     "name": "stdout",
     "output_type": "stream",
     "text": [
      "Training set score: 36356.276877881835\n",
      "Mean cross validation score: 98677.69355130232\n"
     ]
    }
   ],
   "source": [
    "pipe = Pipeline([\n",
    "    ('preprocessing', preprocessing_pipeline),\n",
    "    ('model', RandomForestRegressor(random_state=0))\n",
    "])\n",
    "\n",
    "pipe.fit(X_train, y_train)\n",
    "y_train_pred = pipe.predict(X_train)\n",
    "\n",
    "# Train set score\n",
    "print('Training set score: {}'.format(mean_absolute_error(y_train, y_train_pred)))\n",
    "\n",
    "# Cross validation score\n",
    "scores = cross_val_score(pipe, X_train, y_train, scoring='neg_mean_absolute_error', cv=10)\n",
    "print('Mean cross validation score: {}'.format(np.mean(-scores)))"
   ]
  }
 ],
 "metadata": {
  "kernelspec": {
   "display_name": "Python 3",
   "language": "python",
   "name": "python3"
  },
  "language_info": {
   "codemirror_mode": {
    "name": "ipython",
    "version": 3
   },
   "file_extension": ".py",
   "mimetype": "text/x-python",
   "name": "python",
   "nbconvert_exporter": "python",
   "pygments_lexer": "ipython3",
   "version": "3.8.5"
  }
 },
 "nbformat": 4,
 "nbformat_minor": 4
}
